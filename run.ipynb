{
 "cells": [
  {
   "cell_type": "code",
   "execution_count": 18,
   "id": "ae2c6064-dbc4-4612-8437-c69912af5523",
   "metadata": {
    "tags": []
   },
   "outputs": [
    {
     "name": "stdout",
     "output_type": "stream",
     "text": [
      "The autoreload extension is already loaded. To reload it, use:\n",
      "  %reload_ext autoreload\n"
     ]
    }
   ],
   "source": [
    "# Useful starting lines\n",
    "%matplotlib inline\n",
    "import numpy as np\n",
    "import matplotlib.pyplot as plt\n",
    "import datetime\n",
    "\n",
    "import sys\n",
    "\n",
    "sys.path.append('../')\n",
    "\n",
    "from implementations import *\n",
    "\n",
    "%load_ext autoreload\n",
    "%autoreload 2"
   ]
  },
  {
   "cell_type": "markdown",
   "id": "e5cd2435",
   "metadata": {
    "pycharm": {
     "name": "#%% md\n"
    }
   },
   "source": [
    "# **Load and clean the training data**\n",
    "\n",
    "We load the training data."
   ]
  },
  {
   "cell_type": "code",
   "execution_count": null,
   "id": "4a7461e7-4811-40bc-93e6-3f85cd555509",
   "metadata": {
    "tags": []
   },
   "outputs": [],
   "source": [
    "x_train, x_test, y_train, train_ids, test_ids = load_csv_data(\"data\")\n",
    "\n",
    "print(f\"The data has {x_train.shape[0]} samples and {x_train.shape[1]} features !\")"
   ]
  },
  {
   "cell_type": "markdown",
   "id": "f4997b35",
   "metadata": {
    "pycharm": {
     "name": "#%% md\n"
    }
   },
   "source": [
    "We then clean the data by :\n",
    "- preprocessing of all the features of the data\n",
    "- removing the nan values by the median of the rest of the feature for continuous values\n",
    "- removing the nan values by the -1 for categorical features\n"
   ]
  },
  {
   "cell_type": "code",
   "execution_count": 3,
   "id": "5d9d1417",
   "metadata": {
    "collapsed": false,
    "jupyter": {
     "outputs_hidden": false
    },
    "pycharm": {
     "name": "#%%\n"
    },
    "tags": []
   },
   "outputs": [
    {
     "name": "stdout",
     "output_type": "stream",
     "text": [
      "The data has now 321 features !\n"
     ]
    }
   ],
   "source": [
    "xt_feat = x_train\n",
    "xt_feat = preprocessing(xt_feat)\n",
    "xt_feat = gen_clean(xt_feat, [], np.arange(321))\n",
    "print(f\"The data has now {xt_feat.shape[1]} features !\")"
   ]
  },
  {
   "cell_type": "markdown",
   "id": "8d2a42c2-ca14-48ee-9a04-9b482d09e80f",
   "metadata": {
    "pycharm": {
     "name": "#%% md\n"
    },
    "tags": []
   },
   "source": [
    "# **PCA algorithm**"
   ]
  },
  {
   "cell_type": "code",
   "execution_count": 4,
   "id": "4939118e",
   "metadata": {
    "collapsed": false,
    "jupyter": {
     "outputs_hidden": false
    },
    "pycharm": {
     "name": "#%%\n"
    },
    "tags": []
   },
   "outputs": [
    {
     "name": "stdout",
     "output_type": "stream",
     "text": [
      "We can keep the 125 first most influent features given by pca_indices\n"
     ]
    }
   ],
   "source": [
    "pca_indices, idx = pca(xt_feat)\n",
    "print(f\"We can keep the {idx} first most influent features given by pca_indices\")"
   ]
  },
  {
   "cell_type": "code",
   "execution_count": 5,
   "id": "91cfbff4",
   "metadata": {
    "collapsed": false,
    "jupyter": {
     "outputs_hidden": false
    },
    "pycharm": {
     "name": "#%%\n"
    },
    "tags": []
   },
   "outputs": [
    {
     "name": "stdout",
     "output_type": "stream",
     "text": [
      "The data has now 125 features\n"
     ]
    }
   ],
   "source": [
    "x_train_pca = xt_feat[:, pca_indices]\n",
    "x_train_pca = x_train_pca[:, :idx]\n",
    "\n",
    "print(f\"The data has now {x_train_pca.shape[1]} features\")"
   ]
  },
  {
   "cell_type": "markdown",
   "id": "6d99ed00",
   "metadata": {
    "pycharm": {
     "name": "#%% md\n"
    }
   },
   "source": [
    "# Ridge regression\n",
    "\n",
    "We find the Ridge regression solutions using the normal equations.\n",
    "\n",
    "First, we separate our data in a training set (80%) and testing set (20%)."
   ]
  },
  {
   "cell_type": "code",
   "execution_count": 6,
   "id": "552bbddb",
   "metadata": {
    "collapsed": false,
    "jupyter": {
     "outputs_hidden": false
    },
    "pycharm": {
     "name": "#%%\n"
    },
    "tags": []
   },
   "outputs": [
    {
     "name": "stdout",
     "output_type": "stream",
     "text": [
      "tx_tr shape : (262508, 125) ; tx_te shape : (65627, 125)\n",
      "       y_tr : (262508,)     ;        y_te : (65627,)\n"
     ]
    }
   ],
   "source": [
    "tx_tr, tx_te, y_tr, y_te = cross(x_train_pca, y_train, 0.8)\n",
    "\n",
    "print(f\"tx_tr shape : {tx_tr.shape} ; tx_te shape : {tx_te.shape}\")\n",
    "print(f\"       y_tr : {y_tr.shape}     ;        y_te : {y_te.shape}\")"
   ]
  },
  {
   "cell_type": "markdown",
   "id": "a1bb51a4",
   "metadata": {
    "pycharm": {
     "name": "#%% md\n"
    }
   },
   "source": [
    "Now we build our models for linear regression"
   ]
  },
  {
   "cell_type": "code",
   "execution_count": 7,
   "id": "b498db17",
   "metadata": {
    "collapsed": false,
    "jupyter": {
     "outputs_hidden": false
    },
    "pycharm": {
     "name": "#%%\n"
    },
    "tags": []
   },
   "outputs": [
    {
     "name": "stdout",
     "output_type": "stream",
     "text": [
      "The data has now 126 features !\n"
     ]
    }
   ],
   "source": [
    "y, tx = build_model_data(tx_tr, y_tr)\n",
    "y_test, tx_test = build_model_data(tx_te, y_te)\n",
    "print(f\"The data has now {tx.shape[1]} features !\")"
   ]
  },
  {
   "cell_type": "markdown",
   "id": "241e39bd",
   "metadata": {
    "pycharm": {
     "name": "#%% md\n"
    }
   },
   "source": [
    "## Linear regression using ridge regression\n",
    "\n",
    "Here we train our model using ridge regression with normal equations"
   ]
  },
  {
   "cell_type": "code",
   "execution_count": null,
   "id": "bc496db6-9144-427d-8674-c15dc2bdac37",
   "metadata": {
    "tags": []
   },
   "outputs": [],
   "source": [
    "start_time = datetime.datetime.now()\n",
    "\n",
    "degrees = np.arange(2, 5)\n",
    "lambdas = np.logspace(-4, 0, 30)\n",
    "\n",
    "best_degree, best_lambda, best_rmse = best_degree_selection(y, tx, degrees, 4, lambdas)\n",
    "\n",
    "end_time = datetime.datetime.now()\n",
    "\n",
    "print(\n",
    "    \"The best rmse of %.3f is obtained for a degree of %.f and a lambda of %.5f.\"\n",
    "    % (best_rmse, best_degree, best_lambda)\n",
    ")\n",
    "\n",
    "print(f\"Execution time {(end_time - start_time).total_seconds()} seconds\")"
   ]
  },
  {
   "cell_type": "code",
   "execution_count": 8,
   "id": "62bdfa7b-88b1-401b-862f-bac075a0fd9b",
   "metadata": {
    "tags": []
   },
   "outputs": [],
   "source": [
    "best_degree = 2\n",
    "best_lambda = 0.01610\n",
    "\n",
    "tx_tr = build_poly(tx, best_degree)\n",
    "tx_te_poly = build_poly(tx_test, best_degree)\n",
    "\n",
    "w, loss = ridge_regression(y, tx_tr, best_lambda)"
   ]
  },
  {
   "cell_type": "code",
   "execution_count": null,
   "id": "cda08809-fc6c-4398-97f1-65f3163941d7",
   "metadata": {
    "tags": []
   },
   "outputs": [],
   "source": [
    "print(tx_tr.shape)\n",
    "print(tx_te_poly.shape)"
   ]
  },
  {
   "cell_type": "markdown",
   "id": "8d3d0519-3954-4ab7-8109-79add902483b",
   "metadata": {
    "pycharm": {
     "name": "#%% md\n"
    },
    "tags": []
   },
   "source": [
    "# Computation of metrics\n",
    "\n",
    "We first compute some metrics on the training data (60% of the total data)"
   ]
  },
  {
   "cell_type": "code",
   "execution_count": 10,
   "id": "40b537ee-84d0-4b0a-9a76-4a092d7b00b6",
   "metadata": {
    "pycharm": {
     "is_executing": true
    },
    "tags": []
   },
   "outputs": [
    {
     "data": {
      "image/png": "[encoded data removed]",
      "text/plain": [
       "<Figure size 800x600 with 1 Axes>"
      ]
     },
     "metadata": {},
     "output_type": "display_data"
    }
   ],
   "source": [
    "best_thresh = best_threshold(y, tx_tr, w)"
   ]
  },
  {
   "cell_type": "code",
   "execution_count": 11,
   "id": "3f26f2b0-3280-4d9e-8b81-5b40a182c569",
   "metadata": {
    "tags": []
   },
   "outputs": [
    {
     "data": {
      "text/plain": [
       "-0.5757575757575757"
      ]
     },
     "execution_count": 11,
     "metadata": {},
     "output_type": "execute_result"
    }
   ],
   "source": [
    "best_thresh"
   ]
  },
  {
   "cell_type": "code",
   "execution_count": 12,
   "id": "a2b4d4d8-34a4-486c-9762-cd64635930d8",
   "metadata": {
    "pycharm": {
     "is_executing": true
    },
    "tags": []
   },
   "outputs": [
    {
     "name": "stdout",
     "output_type": "stream",
     "text": [
      "Accuracy: 86.66631112194676%\n",
      "Precision: 33.525403069422126%\n",
      "Recall : 52.37147308291501%\n",
      "F1-score : 40.880991791372495%\n"
     ]
    }
   ],
   "source": [
    "pred_data = np.dot(tx_tr, w)\n",
    "\n",
    "pred_data[pred_data > best_thresh] = 1\n",
    "pred_data[pred_data < best_thresh] = -1\n",
    "\n",
    "correctly_classified_data = np.sum(pred_data == y)\n",
    "\n",
    "tp = np.sum((pred_data == 1) & (y == 1))\n",
    "fp = np.sum((pred_data == 1) & (y == -1))\n",
    "\n",
    "tn = np.sum((pred_data == -1) & (y == -1))\n",
    "fn = np.sum((pred_data == -1) & (y == 1))\n",
    "\n",
    "accuracy_data = (tp + tn)/(tp + fp + tn + fn)\n",
    "\n",
    "print(f\"Accuracy: {accuracy_data*100}%\")\n",
    "print(f\"Precision: {tp/(tp + fp)*100}%\")\n",
    "print(f\"Recall : {tp/(tp + fn)*100}%\")\n",
    "print(f\"F1-score : {tp/(tp + 0.5*(fn + fp))*100}%\")"
   ]
  },
  {
   "cell_type": "code",
   "execution_count": 14,
   "id": "6918c191-c6f7-4ebc-8b78-bd9ef6e76870",
   "metadata": {
    "tags": []
   },
   "outputs": [
    {
     "name": "stdout",
     "output_type": "stream",
     "text": [
      "Accuracy: 86.68231063434257%\n",
      "Precision: 34.20907991645598%\n",
      "Recall : 53.04244077041077%\n",
      "F1-score : 41.593156909917134%\n"
     ]
    }
   ],
   "source": [
    "pred_test = np.dot(tx_te_poly, w)\n",
    "\n",
    "pred_test[pred_test > best_thresh] = 1\n",
    "pred_test[pred_test < best_thresh] = -1\n",
    "\n",
    "correctly_classified_test = np.sum(pred_test == y_test)\n",
    "\n",
    "tp = np.sum((pred_test == 1) & (y_test == 1))\n",
    "fp = np.sum((pred_test == 1) & (y_test == -1))\n",
    "\n",
    "tn = np.sum((pred_test == -1) & (y_test == -1))\n",
    "fn = np.sum((pred_test == -1) & (y_test == 1))\n",
    "\n",
    "accuracy_test = (tp + tn)/(tp + fp + tn + fn)\n",
    "\n",
    "print(f\"Accuracy: {accuracy_test*100}%\")\n",
    "print(f\"Precision: {tp/(tp + fp)*100}%\")\n",
    "print(f\"Recall : {tp/(tp + fn)*100}%\")\n",
    "print(f\"F1-score : {tp/(tp + 0.5*(fn + fp))*100}%\")"
   ]
  },
  {
   "cell_type": "markdown",
   "id": "b2134834-18d1-4314-b2ee-24cf050be2b2",
   "metadata": {
    "pycharm": {
     "name": "#%% md\n"
    }
   },
   "source": [
    "# **Prediction on test data**"
   ]
  },
  {
   "cell_type": "code",
   "execution_count": 15,
   "id": "e24515be-1ba3-45d3-ac7b-2ae0a686c57c",
   "metadata": {
    "tags": []
   },
   "outputs": [
    {
     "name": "stdout",
     "output_type": "stream",
     "text": [
      "Execution time 5.311021 seconds\n",
      "The data has 109379 samples and 253 features !\n"
     ]
    }
   ],
   "source": [
    "start_time = datetime.datetime.now()\n",
    "\n",
    "tx_test = x_test\n",
    "tx_test = preprocessing(x_test)\n",
    "tx_test = gen_clean(tx_test, [], np.arange(321))\n",
    "\n",
    "tx_test = tx_test[:, pca_indices]\n",
    "tx_test = tx_test[:, :idx]\n",
    "tx_test = np.c_[np.ones(tx_test.shape[0]), tx_test]\n",
    "\n",
    "tx_test = build_poly(tx_test, best_degree)\n",
    "\n",
    "end_time = datetime.datetime.now()\n",
    "print(f\"Execution time {(end_time - start_time).total_seconds()} seconds\")\n",
    "print(f\"The data has {tx_test.shape[0]} samples and {tx_test.shape[1]} features !\")"
   ]
  },
  {
   "cell_type": "code",
   "execution_count": 16,
   "id": "3e46937c-03d9-495e-847b-136279b844a2",
   "metadata": {
    "pycharm": {
     "is_executing": true
    },
    "tags": []
   },
   "outputs": [],
   "source": [
    "pred_te = np.dot(tx_test, w)\n",
    "\n",
    "pred_te[pred_te > best_thresh] = 1\n",
    "pred_te[pred_te < best_thresh] = -1\n",
    "\n",
    "indices_one = np.where(pred_te == 1)"
   ]
  },
  {
   "cell_type": "code",
   "execution_count": 17,
   "id": "2b858cc1-51da-4754-b33a-1db1aa8b1b42",
   "metadata": {
    "pycharm": {
     "is_executing": true,
     "name": "#%%\n"
    },
    "tags": []
   },
   "outputs": [],
   "source": [
    "create_csv_submission(test_ids, pred_te, \"data/ridge_reg.csv\")"
   ]
  }
 ],
 "metadata": {
  "kernelspec": {
   "display_name": "Python 3 (ipykernel)",
   "language": "python",
   "name": "python3"
  },
  "language_info": {
   "codemirror_mode": {
    "name": "ipython",
    "version": 3
   },
   "file_extension": ".py",
   "mimetype": "text/x-python",
   "name": "python",
   "nbconvert_exporter": "python",
   "pygments_lexer": "ipython3",
   "version": "3.9.18"
  }
 },
 "nbformat": 4,
 "nbformat_minor": 5
}
