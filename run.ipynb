{
 "cells": [
  {
   "cell_type": "code",
   "execution_count": 20,
   "id": "ae2c6064-dbc4-4612-8437-c69912af5523",
   "metadata": {},
   "outputs": [
    {
     "name": "stdout",
     "output_type": "stream",
     "text": [
      "The autoreload extension is already loaded. To reload it, use:\n",
      "  %reload_ext autoreload\n"
     ]
    }
   ],
   "source": [
    "# Useful starting lines\n",
    "%matplotlib inline\n",
    "import numpy as np\n",
    "import matplotlib.pyplot as plt\n",
    "import datetime\n",
    "from implementations import *\n",
    "\n",
    "%load_ext autoreload\n",
    "%autoreload 2"
   ]
  },
  {
   "cell_type": "code",
   "execution_count": 21,
   "id": "4a7461e7-4811-40bc-93e6-3f85cd555509",
   "metadata": {
    "tags": []
   },
   "outputs": [
    {
     "name": "stdout",
     "output_type": "stream",
     "text": [
      "The data has 328135 samples and 321 features !\n"
     ]
    }
   ],
   "source": [
    "x_train, x_test, y_train, train_ids, test_ids = load_csv_data(\"data\")\n",
    "\n",
    "print(f\"The data has {x_train.shape[0]} samples and {x_train.shape[1]} features !\")"
   ]
  },
  {
   "cell_type": "code",
   "execution_count": 22,
   "id": "cda08809-fc6c-4398-97f1-65f3163941d7",
   "metadata": {
    "tags": []
   },
   "outputs": [],
   "source": [
    "import pandas as pd"
   ]
  },
  {
   "cell_type": "code",
   "execution_count": 23,
   "id": "8d3d0519-3954-4ab7-8109-79add902483b",
   "metadata": {
    "tags": []
   },
   "outputs": [
    {
     "data": {
      "text/html": [
       "<div>\n",
       "<style scoped>\n",
       "    .dataframe tbody tr th:only-of-type {\n",
       "        vertical-align: middle;\n",
       "    }\n",
       "\n",
       "    .dataframe tbody tr th {\n",
       "        vertical-align: top;\n",
       "    }\n",
       "\n",
       "    .dataframe thead th {\n",
       "        text-align: right;\n",
       "    }\n",
       "</style>\n",
       "<table border=\"1\" class=\"dataframe\">\n",
       "  <thead>\n",
       "    <tr style=\"text-align: right;\">\n",
       "      <th></th>\n",
       "      <th>0</th>\n",
       "      <th>1</th>\n",
       "      <th>2</th>\n",
       "      <th>3</th>\n",
       "      <th>4</th>\n",
       "      <th>5</th>\n",
       "      <th>6</th>\n",
       "      <th>7</th>\n",
       "      <th>8</th>\n",
       "      <th>9</th>\n",
       "      <th>...</th>\n",
       "      <th>311</th>\n",
       "      <th>312</th>\n",
       "      <th>313</th>\n",
       "      <th>314</th>\n",
       "      <th>315</th>\n",
       "      <th>316</th>\n",
       "      <th>317</th>\n",
       "      <th>318</th>\n",
       "      <th>319</th>\n",
       "      <th>320</th>\n",
       "    </tr>\n",
       "  </thead>\n",
       "  <tbody>\n",
       "    <tr>\n",
       "      <th>0</th>\n",
       "      <td>53.0</td>\n",
       "      <td>11.0</td>\n",
       "      <td>11162015.0</td>\n",
       "      <td>11.0</td>\n",
       "      <td>16.0</td>\n",
       "      <td>2015.0</td>\n",
       "      <td>1100.0</td>\n",
       "      <td>2.015016e+09</td>\n",
       "      <td>2.015016e+09</td>\n",
       "      <td>NaN</td>\n",
       "      <td>...</td>\n",
       "      <td>1.0</td>\n",
       "      <td>1.0</td>\n",
       "      <td>3.0</td>\n",
       "      <td>3.0</td>\n",
       "      <td>4.0</td>\n",
       "      <td>1.0</td>\n",
       "      <td>1.0</td>\n",
       "      <td>NaN</td>\n",
       "      <td>NaN</td>\n",
       "      <td>2.0</td>\n",
       "    </tr>\n",
       "    <tr>\n",
       "      <th>1</th>\n",
       "      <td>33.0</td>\n",
       "      <td>12.0</td>\n",
       "      <td>12152015.0</td>\n",
       "      <td>12.0</td>\n",
       "      <td>15.0</td>\n",
       "      <td>2015.0</td>\n",
       "      <td>1200.0</td>\n",
       "      <td>2.015004e+09</td>\n",
       "      <td>2.015004e+09</td>\n",
       "      <td>1.0</td>\n",
       "      <td>...</td>\n",
       "      <td>9.0</td>\n",
       "      <td>9.0</td>\n",
       "      <td>3.0</td>\n",
       "      <td>3.0</td>\n",
       "      <td>4.0</td>\n",
       "      <td>9.0</td>\n",
       "      <td>9.0</td>\n",
       "      <td>NaN</td>\n",
       "      <td>NaN</td>\n",
       "      <td>NaN</td>\n",
       "    </tr>\n",
       "  </tbody>\n",
       "</table>\n",
       "<p>2 rows × 321 columns</p>\n",
       "</div>"
      ],
      "text/plain": [
       "    0     1           2     3     4       5       6             7    \\\n",
       "0  53.0  11.0  11162015.0  11.0  16.0  2015.0  1100.0  2.015016e+09   \n",
       "1  33.0  12.0  12152015.0  12.0  15.0  2015.0  1200.0  2.015004e+09   \n",
       "\n",
       "            8    9    ...  311  312  313  314  315  316  317  318  319  320  \n",
       "0  2.015016e+09  NaN  ...  1.0  1.0  3.0  3.0  4.0  1.0  1.0  NaN  NaN  2.0  \n",
       "1  2.015004e+09  1.0  ...  9.0  9.0  3.0  3.0  4.0  9.0  9.0  NaN  NaN  NaN  \n",
       "\n",
       "[2 rows x 321 columns]"
      ]
     },
     "execution_count": 23,
     "metadata": {},
     "output_type": "execute_result"
    }
   ],
   "source": [
    "df = pd.DataFrame(x_train)\n",
    "df.head(2)"
   ]
  },
  {
   "cell_type": "code",
   "execution_count": 24,
   "id": "40b537ee-84d0-4b0a-9a76-4a092d7b00b6",
   "metadata": {
    "tags": []
   },
   "outputs": [
    {
     "data": {
      "text/html": [
       "<div>\n",
       "<style scoped>\n",
       "    .dataframe tbody tr th:only-of-type {\n",
       "        vertical-align: middle;\n",
       "    }\n",
       "\n",
       "    .dataframe tbody tr th {\n",
       "        vertical-align: top;\n",
       "    }\n",
       "\n",
       "    .dataframe thead th {\n",
       "        text-align: right;\n",
       "    }\n",
       "</style>\n",
       "<table border=\"1\" class=\"dataframe\">\n",
       "  <thead>\n",
       "    <tr style=\"text-align: right;\">\n",
       "      <th></th>\n",
       "      <th>0</th>\n",
       "    </tr>\n",
       "  </thead>\n",
       "  <tbody>\n",
       "    <tr>\n",
       "      <th>0</th>\n",
       "      <td>-1</td>\n",
       "    </tr>\n",
       "    <tr>\n",
       "      <th>1</th>\n",
       "      <td>-1</td>\n",
       "    </tr>\n",
       "  </tbody>\n",
       "</table>\n",
       "</div>"
      ],
      "text/plain": [
       "   0\n",
       "0 -1\n",
       "1 -1"
      ]
     },
     "execution_count": 24,
     "metadata": {},
     "output_type": "execute_result"
    }
   ],
   "source": [
    "df2 = pd.DataFrame(y_train)\n",
    "df2.head(2)"
   ]
  },
  {
   "cell_type": "code",
   "execution_count": 34,
   "id": "a2b4d4d8-34a4-486c-9762-cd64635930d8",
   "metadata": {
    "tags": []
   },
   "outputs": [
    {
     "data": {
      "text/html": [
       "<div>\n",
       "<style scoped>\n",
       "    .dataframe tbody tr th:only-of-type {\n",
       "        vertical-align: middle;\n",
       "    }\n",
       "\n",
       "    .dataframe tbody tr th {\n",
       "        vertical-align: top;\n",
       "    }\n",
       "\n",
       "    .dataframe thead th {\n",
       "        text-align: right;\n",
       "    }\n",
       "</style>\n",
       "<table border=\"1\" class=\"dataframe\">\n",
       "  <thead>\n",
       "    <tr style=\"text-align: right;\">\n",
       "      <th></th>\n",
       "      <th>0_x</th>\n",
       "      <th>0_y</th>\n",
       "      <th>1</th>\n",
       "      <th>2</th>\n",
       "      <th>3</th>\n",
       "      <th>4</th>\n",
       "      <th>5</th>\n",
       "      <th>6</th>\n",
       "      <th>7</th>\n",
       "      <th>8</th>\n",
       "      <th>...</th>\n",
       "      <th>311</th>\n",
       "      <th>312</th>\n",
       "      <th>313</th>\n",
       "      <th>314</th>\n",
       "      <th>315</th>\n",
       "      <th>316</th>\n",
       "      <th>317</th>\n",
       "      <th>318</th>\n",
       "      <th>319</th>\n",
       "      <th>320</th>\n",
       "    </tr>\n",
       "  </thead>\n",
       "  <tbody>\n",
       "    <tr>\n",
       "      <th>0</th>\n",
       "      <td>-1</td>\n",
       "      <td>53.0</td>\n",
       "      <td>11.0</td>\n",
       "      <td>11162015.0</td>\n",
       "      <td>11.0</td>\n",
       "      <td>16.0</td>\n",
       "      <td>2015.0</td>\n",
       "      <td>1100.0</td>\n",
       "      <td>2.015016e+09</td>\n",
       "      <td>2.015016e+09</td>\n",
       "      <td>...</td>\n",
       "      <td>1.0</td>\n",
       "      <td>1.0</td>\n",
       "      <td>3.0</td>\n",
       "      <td>3.0</td>\n",
       "      <td>4.0</td>\n",
       "      <td>1.0</td>\n",
       "      <td>1.0</td>\n",
       "      <td>NaN</td>\n",
       "      <td>NaN</td>\n",
       "      <td>2.0</td>\n",
       "    </tr>\n",
       "    <tr>\n",
       "      <th>1</th>\n",
       "      <td>-1</td>\n",
       "      <td>33.0</td>\n",
       "      <td>12.0</td>\n",
       "      <td>12152015.0</td>\n",
       "      <td>12.0</td>\n",
       "      <td>15.0</td>\n",
       "      <td>2015.0</td>\n",
       "      <td>1200.0</td>\n",
       "      <td>2.015004e+09</td>\n",
       "      <td>2.015004e+09</td>\n",
       "      <td>...</td>\n",
       "      <td>9.0</td>\n",
       "      <td>9.0</td>\n",
       "      <td>3.0</td>\n",
       "      <td>3.0</td>\n",
       "      <td>4.0</td>\n",
       "      <td>9.0</td>\n",
       "      <td>9.0</td>\n",
       "      <td>NaN</td>\n",
       "      <td>NaN</td>\n",
       "      <td>NaN</td>\n",
       "    </tr>\n",
       "    <tr>\n",
       "      <th>2</th>\n",
       "      <td>-1</td>\n",
       "      <td>20.0</td>\n",
       "      <td>10.0</td>\n",
       "      <td>10202015.0</td>\n",
       "      <td>10.0</td>\n",
       "      <td>20.0</td>\n",
       "      <td>2015.0</td>\n",
       "      <td>1100.0</td>\n",
       "      <td>2.015006e+09</td>\n",
       "      <td>2.015006e+09</td>\n",
       "      <td>...</td>\n",
       "      <td>4.0</td>\n",
       "      <td>2.0</td>\n",
       "      <td>2.0</td>\n",
       "      <td>2.0</td>\n",
       "      <td>3.0</td>\n",
       "      <td>1.0</td>\n",
       "      <td>1.0</td>\n",
       "      <td>1.0</td>\n",
       "      <td>2.0</td>\n",
       "      <td>2.0</td>\n",
       "    </tr>\n",
       "    <tr>\n",
       "      <th>3</th>\n",
       "      <td>-1</td>\n",
       "      <td>42.0</td>\n",
       "      <td>6.0</td>\n",
       "      <td>6182015.0</td>\n",
       "      <td>6.0</td>\n",
       "      <td>18.0</td>\n",
       "      <td>2015.0</td>\n",
       "      <td>1100.0</td>\n",
       "      <td>2.015005e+09</td>\n",
       "      <td>2.015005e+09</td>\n",
       "      <td>...</td>\n",
       "      <td>2.0</td>\n",
       "      <td>2.0</td>\n",
       "      <td>2.0</td>\n",
       "      <td>2.0</td>\n",
       "      <td>3.0</td>\n",
       "      <td>1.0</td>\n",
       "      <td>1.0</td>\n",
       "      <td>2.0</td>\n",
       "      <td>2.0</td>\n",
       "      <td>2.0</td>\n",
       "    </tr>\n",
       "    <tr>\n",
       "      <th>4</th>\n",
       "      <td>-1</td>\n",
       "      <td>24.0</td>\n",
       "      <td>11.0</td>\n",
       "      <td>11062015.0</td>\n",
       "      <td>11.0</td>\n",
       "      <td>6.0</td>\n",
       "      <td>2015.0</td>\n",
       "      <td>1100.0</td>\n",
       "      <td>2.015005e+09</td>\n",
       "      <td>2.015005e+09</td>\n",
       "      <td>...</td>\n",
       "      <td>9.0</td>\n",
       "      <td>9.0</td>\n",
       "      <td>3.0</td>\n",
       "      <td>3.0</td>\n",
       "      <td>4.0</td>\n",
       "      <td>1.0</td>\n",
       "      <td>1.0</td>\n",
       "      <td>9.0</td>\n",
       "      <td>9.0</td>\n",
       "      <td>2.0</td>\n",
       "    </tr>\n",
       "  </tbody>\n",
       "</table>\n",
       "<p>5 rows × 322 columns</p>\n",
       "</div>"
      ],
      "text/plain": [
       "   0_x   0_y     1           2     3     4       5       6             7  \\\n",
       "0   -1  53.0  11.0  11162015.0  11.0  16.0  2015.0  1100.0  2.015016e+09   \n",
       "1   -1  33.0  12.0  12152015.0  12.0  15.0  2015.0  1200.0  2.015004e+09   \n",
       "2   -1  20.0  10.0  10202015.0  10.0  20.0  2015.0  1100.0  2.015006e+09   \n",
       "3   -1  42.0   6.0   6182015.0   6.0  18.0  2015.0  1100.0  2.015005e+09   \n",
       "4   -1  24.0  11.0  11062015.0  11.0   6.0  2015.0  1100.0  2.015005e+09   \n",
       "\n",
       "              8  ...  311  312  313  314  315  316  317  318  319  320  \n",
       "0  2.015016e+09  ...  1.0  1.0  3.0  3.0  4.0  1.0  1.0  NaN  NaN  2.0  \n",
       "1  2.015004e+09  ...  9.0  9.0  3.0  3.0  4.0  9.0  9.0  NaN  NaN  NaN  \n",
       "2  2.015006e+09  ...  4.0  2.0  2.0  2.0  3.0  1.0  1.0  1.0  2.0  2.0  \n",
       "3  2.015005e+09  ...  2.0  2.0  2.0  2.0  3.0  1.0  1.0  2.0  2.0  2.0  \n",
       "4  2.015005e+09  ...  9.0  9.0  3.0  3.0  4.0  1.0  1.0  9.0  9.0  2.0  \n",
       "\n",
       "[5 rows x 322 columns]"
      ]
     },
     "execution_count": 34,
     "metadata": {},
     "output_type": "execute_result"
    }
   ],
   "source": [
    "df3 = pd.merge(df2, df, left_index=True, right_index=True)\n",
    "df3.head()"
   ]
  },
  {
   "cell_type": "code",
   "execution_count": 37,
   "id": "6918c191-c6f7-4ebc-8b78-bd9ef6e76870",
   "metadata": {
    "tags": []
   },
   "outputs": [],
   "source": [
    "corr = df3.corr()['0_x'].sort_values(ascending=False) "
   ]
  },
  {
   "cell_type": "code",
   "execution_count": 39,
   "id": "9df13f43-796a-45ba-8240-894ae99b4eae",
   "metadata": {
    "tags": []
   },
   "outputs": [
    {
     "data": {
      "text/plain": [
       "0_x    1.000000\n",
       "26     0.244269\n",
       "248    0.224547\n",
       "246    0.219007\n",
       "58     0.207186\n",
       "249    0.206873\n",
       "231    0.196424\n",
       "247    0.185245\n",
       "230    0.171599\n",
       "232    0.171319\n",
       "162    0.119826\n",
       "59     0.114094\n",
       "173    0.111703\n",
       "190    0.110889\n",
       "234    0.110768\n",
       "289    0.109304\n",
       "61     0.108637\n",
       "223    0.095326\n",
       "77     0.087310\n",
       "127    0.080705\n",
       "Name: 0_x, dtype: float64"
      ]
     },
     "execution_count": 39,
     "metadata": {},
     "output_type": "execute_result"
    }
   ],
   "source": [
    "corr.head(20)"
   ]
  },
  {
   "cell_type": "code",
   "execution_count": 42,
   "id": "c9c44f75-6453-4203-bdd3-79ce0754cd2f",
   "metadata": {
    "tags": []
   },
   "outputs": [
    {
     "data": {
      "text/plain": [
       "27    -0.097377\n",
       "158   -0.098124\n",
       "213   -0.098230\n",
       "39    -0.101266\n",
       "103   -0.103427\n",
       "138   -0.104475\n",
       "38    -0.113903\n",
       "65    -0.114686\n",
       "147   -0.117878\n",
       "45    -0.121990\n",
       "69    -0.134324\n",
       "66    -0.134772\n",
       "144   -0.143087\n",
       "48    -0.161344\n",
       "238   -0.168366\n",
       "34    -0.204504\n",
       "157   -0.227662\n",
       "14    -0.232173\n",
       "9           NaN\n",
       "11          NaN\n",
       "12          NaN\n",
       "18          NaN\n",
       "19          NaN\n",
       "22          NaN\n",
       "155         NaN\n",
       "Name: 0_x, dtype: float64"
      ]
     },
     "execution_count": 42,
     "metadata": {},
     "output_type": "execute_result"
    }
   ],
   "source": [
    "corr.tail(25)"
   ]
  },
  {
   "cell_type": "code",
   "execution_count": null,
   "id": "b2134834-18d1-4314-b2ee-24cf050be2b2",
   "metadata": {},
   "outputs": [],
   "source": [
    "corr_idx = [26, 248, 246, 58, 249, 231, 247, 230, 232, 162, 59, 173, 190, 234, 289, \n",
    "           39, 103, 138, 38, 65, 147, 45, 69, 66, 144, 48, 238, 34, 157, 14]\n",
    "\n",
    "x_train = x_train[:, corr_idx]"
   ]
  },
  {
   "cell_type": "code",
   "execution_count": 1,
   "id": "bc62c360-665c-4281-897d-e7981c0ad9fd",
   "metadata": {
    "tags": []
   },
   "outputs": [],
   "source": [
    "import pandas as pd\n",
    "import pandas as pd\n",
    "import numpy as np\n",
    "import matplotlib.pyplot as plt\n",
    "%matplotlib inline\n",
    "import seaborn as sns\n",
    "import math\n",
    "from statsmodels.stats import diagnostic\n",
    "from scipy import stats\n",
    "import statsmodels.api as sm\n",
    "import statsmodels.formula.api as smf"
   ]
  },
  {
   "cell_type": "code",
   "execution_count": 16,
   "id": "94dd7281-4fdc-48c2-9cac-8dfb95348875",
   "metadata": {
    "tags": []
   },
   "outputs": [],
   "source": [
    "data_folder = './data/'\n",
    "df_x = pd.read_csv(data_folder + 'x_train.csv')"
   ]
  },
  {
   "cell_type": "code",
   "execution_count": 21,
   "id": "41d01efc-a061-4eb2-ab75-5a2e93a1d075",
   "metadata": {
    "tags": []
   },
   "outputs": [],
   "source": [
    "df_y = pd.read_csv(data_folder + 'y_train.csv')"
   ]
  },
  {
   "cell_type": "code",
   "execution_count": 42,
   "id": "7a1495c7-12cd-44ce-8ca0-fdb8a7e47a83",
   "metadata": {
    "tags": []
   },
   "outputs": [],
   "source": [
    "df = df_y.merge(df_x, on='Id')"
   ]
  },
  {
   "cell_type": "code",
   "execution_count": null,
   "id": "5a0070c0-1a93-4221-a71d-fd42e1764f1b",
   "metadata": {},
   "outputs": [],
   "source": [
    "corr_idx = [26, 248, 246, 58, 249, 231, 247, 230, 232, 162, 59, 173, 190, 234, 289, \n",
    "           39, 103, 138, 38, 65, 147, 45, 69, 66, 144, 48, 238, 34, 157]\n",
    "\n"
   ]
  },
  {
   "cell_type": "code",
   "execution_count": 50,
   "id": "a0662bfe-cd54-4890-bc79-cc65b59f52a3",
   "metadata": {
    "tags": []
   },
   "outputs": [],
   "source": [
    "cat_df = [26, 58, 231, 247, 230, 232, 162, 173, 190, 234, 289, 39, \n",
    "          103, 138, 38, 65, 45, 69, 66, 144, 48, 34, 238, 157]\n",
    "con_df = [248, 246, 249, 59, 147 ]"
   ]
  },
  {
   "cell_type": "code",
   "execution_count": 61,
   "id": "824eb12e-c5aa-4b9f-9201-c57816e57fc7",
   "metadata": {
    "tags": []
   },
   "outputs": [
    {
     "data": {
      "text/html": [
       "<div>\n",
       "<style scoped>\n",
       "    .dataframe tbody tr th:only-of-type {\n",
       "        vertical-align: middle;\n",
       "    }\n",
       "\n",
       "    .dataframe tbody tr th {\n",
       "        vertical-align: top;\n",
       "    }\n",
       "\n",
       "    .dataframe thead th {\n",
       "        text-align: right;\n",
       "    }\n",
       "</style>\n",
       "<table border=\"1\" class=\"dataframe\">\n",
       "  <thead>\n",
       "    <tr style=\"text-align: right;\">\n",
       "      <th></th>\n",
       "      <th>_STATE</th>\n",
       "      <th>FMONTH</th>\n",
       "      <th>IDATE</th>\n",
       "      <th>IMONTH</th>\n",
       "      <th>IDAY</th>\n",
       "      <th>IYEAR</th>\n",
       "      <th>DISPCODE</th>\n",
       "      <th>SEQNO</th>\n",
       "      <th>_PSU</th>\n",
       "      <th>CTELENUM</th>\n",
       "      <th>...</th>\n",
       "      <th>_PAREC1</th>\n",
       "      <th>_PASTAE1</th>\n",
       "      <th>_LMTACT1</th>\n",
       "      <th>_LMTWRK1</th>\n",
       "      <th>_LMTSCL1</th>\n",
       "      <th>_RFSEAT2</th>\n",
       "      <th>_RFSEAT3</th>\n",
       "      <th>_FLSHOT6</th>\n",
       "      <th>_PNEUMO2</th>\n",
       "      <th>_AIDTST3</th>\n",
       "    </tr>\n",
       "  </thead>\n",
       "  <tbody>\n",
       "    <tr>\n",
       "      <th>0</th>\n",
       "      <td>53</td>\n",
       "      <td>11</td>\n",
       "      <td>11162015</td>\n",
       "      <td>11</td>\n",
       "      <td>16</td>\n",
       "      <td>2015</td>\n",
       "      <td>1100</td>\n",
       "      <td>2015015629</td>\n",
       "      <td>2015015629</td>\n",
       "      <td>NaN</td>\n",
       "      <td>...</td>\n",
       "      <td>1</td>\n",
       "      <td>1</td>\n",
       "      <td>3.0</td>\n",
       "      <td>3.0</td>\n",
       "      <td>4.0</td>\n",
       "      <td>1</td>\n",
       "      <td>1</td>\n",
       "      <td>NaN</td>\n",
       "      <td>NaN</td>\n",
       "      <td>2.0</td>\n",
       "    </tr>\n",
       "  </tbody>\n",
       "</table>\n",
       "<p>1 rows × 321 columns</p>\n",
       "</div>"
      ],
      "text/plain": [
       "   _STATE  FMONTH     IDATE  IMONTH  IDAY  IYEAR  DISPCODE       SEQNO  \\\n",
       "0      53      11  11162015      11    16   2015      1100  2015015629   \n",
       "\n",
       "         _PSU  CTELENUM  ...  _PAREC1  _PASTAE1  _LMTACT1  _LMTWRK1  _LMTSCL1  \\\n",
       "0  2015015629       NaN  ...        1         1       3.0       3.0       4.0   \n",
       "\n",
       "   _RFSEAT2  _RFSEAT3  _FLSHOT6  _PNEUMO2  _AIDTST3  \n",
       "0         1         1       NaN       NaN       2.0  \n",
       "\n",
       "[1 rows x 321 columns]"
      ]
     },
     "execution_count": 61,
     "metadata": {},
     "output_type": "execute_result"
    }
   ],
   "source": [
    "df.head(1)"
   ]
  },
  {
   "cell_type": "code",
   "execution_count": 63,
   "id": "13e33c11-dba0-4651-95b2-1528bd5d1629",
   "metadata": {
    "tags": []
   },
   "outputs": [
    {
     "name": "stdout",
     "output_type": "stream",
     "text": [
      "Index(['GENHLTH', 'EMPLOY1', '_HCVU651', '_AGE65YR', '_RFHLTH', '_RFHYPE5',\n",
      "       'ARTTODAY', 'LASTPAP2', 'PCPSADE1', '_RFCHOL', 'ACTIN11_', 'CVDSTRK3',\n",
      "       'PNEUVAC3', 'CDASSIST', 'TOLDHI2', 'QLACTLM2', 'HAVARTH3', 'DIFFWALK'],\n",
      "      dtype='object')\n"
     ]
    }
   ],
   "source": [
    "column_name = df.columns[cat_df]\n",
    "print(column_name)"
   ]
  },
  {
   "cell_type": "code",
   "execution_count": 64,
   "id": "ca4a6a25-3c19-47d4-8be2-8720cfe49f77",
   "metadata": {
    "tags": []
   },
   "outputs": [
    {
     "name": "stdout",
     "output_type": "stream",
     "text": [
      "Index(['_AGE80', '_AGEG5YR', '_AGE_G', 'CHILDREN', 'ASERVIST'], dtype='object')\n"
     ]
    }
   ],
   "source": [
    "column_name = df.columns[con_df]\n",
    "print(column_name)"
   ]
  },
  {
   "cell_type": "code",
   "execution_count": null,
   "id": "478d6a77-099d-4ff3-8fd3-beaba3ff2c22",
   "metadata": {},
   "outputs": [],
   "source": [
    "mod = smf.ols(formula='time ~ C(high_blood_pressure) * C(DEATH_EVENT,  Treatment(reference=0)) + C(diabetes)',\n",
    "              data=df)\n",
    "\n",
    "\n",
    "res = mod.fit()\n",
    "\n",
    "print(res.summary())"
   ]
  }
 ],
 "metadata": {
  "kernelspec": {
   "display_name": "Python 3 (ipykernel)",
   "language": "python",
   "name": "python3"
  },
  "language_info": {
   "codemirror_mode": {
    "name": "ipython",
    "version": 3
   },
   "file_extension": ".py",
   "mimetype": "text/x-python",
   "name": "python",
   "nbconvert_exporter": "python",
   "pygments_lexer": "ipython3",
   "version": "3.11.4"
  }
 },
 "nbformat": 4,
 "nbformat_minor": 5
}
