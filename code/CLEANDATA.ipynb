{
 "cells": [
  {
   "cell_type": "code",
   "execution_count": 1,
   "id": "38cfce00-7596-4f51-aa1c-5750258f0d74",
   "metadata": {
    "tags": []
   },
   "outputs": [],
   "source": [
    "# Useful starting lines\n",
    "%matplotlib inline\n",
    "import numpy as np\n",
    "import matplotlib.pyplot as plt\n",
    "import datetime\n",
    "\n",
    "import sys\n",
    "\n",
    "sys.path.append('../')\n",
    "\n",
    "from implementations import *\n",
    "\n",
    "%load_ext autoreload\n",
    "%autoreload 2"
   ]
  },
  {
   "cell_type": "markdown",
   "id": "927ddbc4-74dd-4b7e-bc8e-39c4775c6340",
   "metadata": {},
   "source": [
    "# **Load the training data**\n",
    "\n",
    "We load the training data."
   ]
  },
  {
   "cell_type": "code",
   "execution_count": 3,
   "id": "274a0894-6252-4b01-9c74-9b10d37bf93b",
   "metadata": {
    "tags": []
   },
   "outputs": [
    {
     "name": "stdout",
     "output_type": "stream",
     "text": [
      "The data has 328135 samples and 321 features !\n"
     ]
    }
   ],
   "source": [
    "x_train, x_test, y_train, train_ids, test_ids = load_csv_data(\"../data\")\n",
    "\n",
    "print(f\"The data has {x_train.shape[0]} samples and {x_train.shape[1]} features !\")"
   ]
  },
  {
   "cell_type": "markdown",
   "id": "b33e46d6-a25c-43dd-9f9b-5aa805201dac",
   "metadata": {
    "tags": []
   },
   "source": [
    "For each feature, we clean the data so the values make more sense"
   ]
  },
  {
   "cell_type": "code",
   "execution_count": 6,
   "id": "d7ab9fa9-e262-4c71-868a-be6bcdcd45ee",
   "metadata": {
    "tags": []
   },
   "outputs": [],
   "source": [
    "def replace(arr, old_values, new_values):\n",
    "    result = arr.copy()\n",
    "\n",
    "    for old_val, new_val in zip(old_values, new_values):\n",
    "        result[result == old_val] = new_val\n",
    "\n",
    "    return result"
   ]
  },
  {
   "cell_type": "code",
   "execution_count": 8,
   "id": "a352fc54-92fe-4156-bfe8-2d2c59b3d904",
   "metadata": {
    "tags": []
   },
   "outputs": [],
   "source": [
    "# Where put district of columbia ? super high PIB\n",
    "\n",
    "new_rank_state = [27,46,20,34,1,16,23,42,0,4,9,38,40,5,19,30,\n",
    "                 33,28,24,43,15,11,14,17,12,22,48,35,32,39,8,37,3,\n",
    "                 12,45,7,29,25,6,44,26,47,18,2,31,50,13,10,41,21,49,51,52]\n",
    "old_states_name =  [1,2,4,5,6,8,9,10,11,12,13,15,16,17,18,19,20,21,22,23,24,25,26,27,28,\n",
    "                    29,30,31,32,33,34,35,36,37,38,39,40,41,42,44,45,46,47,48,49,50,51,53,54,55,56,66,72]\n",
    "\n",
    "ranking_column = replace(x_train[:,0], old_states_name, new_rank_state)"
   ]
  },
  {
   "cell_type": "markdown",
   "id": "8cad0ca3-b06a-4eaa-8c61-ca269eca19c2",
   "metadata": {},
   "source": [
    "Next 5 columns are useless, they are about interview date and index of patient\n",
    "## COLUMNS TO DELETE 2 3 4 5 7 8 9 10 11 12 14 19 20 21 22 23\n",
    "\n",
    "## POSSIBLE MEAN 13 24 25 26 27 28 29 33 37 59 60 62 63 75 77 78 79 80 81 82 83 84 85 86 89 90 92 93 98 110 111 112 113 114"
   ]
  },
  {
   "cell_type": "markdown",
   "id": "dcb427d5-6f7e-4d24-bf33-93639a4f41a7",
   "metadata": {},
   "source": [
    "The 6th column is DISPCODE, so if interview was complete or not, I change value to 1 if complete 0 if not."
   ]
  },
  {
   "cell_type": "code",
   "execution_count": 9,
   "id": "34fc0811-eb7b-4d64-bad5-6d553fe6fc93",
   "metadata": {
    "tags": []
   },
   "outputs": [],
   "source": [
    "cont_data = [13,24,25,26,27,28,29,33,37,59,60,62,63,75,77,78,\n",
    "             79,80,81,82,83,84,85,86,89,90,92,93,98,110,111,112,113,114,143,147,148,149,150,168,195,\n",
    "             206,207,208,209,210,211,212,213,248,250,251,253,262,264,266,267,268,269,270,271,276,277,\n",
    "             285,286,287,288,291,292,293,295,296,297,299,300,301,302,303,304]"
   ]
  },
  {
   "cell_type": "markdown",
   "id": "78fe4890-fffe-418c-8e3a-bfd1b2a47eb5",
   "metadata": {
    "tags": []
   },
   "source": [
    "## Functions to help conversions of differents answers in one single metric parameter : "
   ]
  },
  {
   "cell_type": "code",
   "execution_count": 12,
   "id": "0b32d0b0-b4ac-4a56-92f0-09ef07125e6e",
   "metadata": {
    "tags": []
   },
   "outputs": [],
   "source": [
    "def IntoPounds(x):\n",
    "    if x >= 9000 :\n",
    "        return int((x - 9000) * 2.20462)\n",
    "    else:\n",
    "        return x \n",
    "\n",
    "def IntoInches(x):\n",
    "    if x < 9000:          \n",
    "        return np.floor(x/100)*12 + (x % 100)\n",
    "    else: \n",
    "        return (x - 9000) * 0.393701\n",
    "\n",
    "def WeekToMonth(x):\n",
    "    x_str = str(x)\n",
    "    if x_str[0] == \"1\":       \n",
    "        return (4.25*int(x_str[-2:])).astype(int)\n",
    "    else:\n",
    "        return int(x_str[-2:])\n",
    "    \n",
    "def DayToMonth(x):\n",
    "    x_str = str(x)\n",
    "    if x_str[0] == \"1\":       \n",
    "        return 30 *int(x_str[-2:])\n",
    "    elif x_str[0] == \"2\":\n",
    "        return (4.25*int(x_str[-2:])).astype(int)\n",
    "    else :\n",
    "        return int(x_str[-2:])\n",
    "    \n",
    "def DayToYear(x):\n",
    "    x_str = str(x)\n",
    "    if x_str[0] == \"1\":       \n",
    "        return 365 *int(x_str[-2:])\n",
    "    elif x_str[0] == \"2\":\n",
    "        return 52*int(x_str[-2:])\n",
    "    elif x_str[0] == \"3\":\n",
    "        return 12 * int(x_str[-2:])\n",
    "    else:\n",
    "        return int(x_str[-2:])\n",
    "\n",
    "def HourToMinutes(x):\n",
    "    x_str = str(x)\n",
    "    return int(x_str[0])*60 + int(x_str[-2:])\n",
    "    \n",
    "#def DateType(x):\n",
    "#    x_str = str(x)\n",
    "#    year = x_str[-4:]\n",
    "#    month = x_str[:2] if len(x) == 6 else x_str[0]\n",
    "#    return np.datetime64(year + '-' + month)"
   ]
  },
  {
   "cell_type": "code",
   "execution_count": 13,
   "id": "0758cd4b-3aa9-486e-b0a0-fb2d9563c137",
   "metadata": {
    "collapsed": true,
    "jupyter": {
     "outputs_hidden": true
    },
    "tags": []
   },
   "outputs": [
    {
     "ename": "ValueError",
     "evalue": "invalid literal for int() with base 10: '.0'",
     "output_type": "error",
     "traceback": [
      "\u001B[1;31m---------------------------------------------------------------------------\u001B[0m",
      "\u001B[1;31mValueError\u001B[0m                                Traceback (most recent call last)",
      "Cell \u001B[1;32mIn[13], line 41\u001B[0m\n\u001B[0;32m     39\u001B[0m x_train[:,\u001B[38;5;241m76\u001B[39m] \u001B[38;5;241m=\u001B[39m replace(x_train[:,\u001B[38;5;241m76\u001B[39m],[\u001B[38;5;241m3\u001B[39m,\u001B[38;5;241m7\u001B[39m,\u001B[38;5;241m9\u001B[39m] ,[\u001B[38;5;241m0\u001B[39m,np\u001B[38;5;241m.\u001B[39mnan,np\u001B[38;5;241m.\u001B[39mnan])\n\u001B[0;32m     40\u001B[0m x_train[:,\u001B[38;5;241m77\u001B[39m] \u001B[38;5;241m=\u001B[39m replace(x_train[:,\u001B[38;5;241m77\u001B[39m],[\u001B[38;5;241m777\u001B[39m,\u001B[38;5;241m888\u001B[39m,\u001B[38;5;241m999\u001B[39m] ,[np\u001B[38;5;241m.\u001B[39mnan,\u001B[38;5;241m0\u001B[39m,np\u001B[38;5;241m.\u001B[39mnan])\n\u001B[1;32m---> 41\u001B[0m x_train[:,\u001B[38;5;241m77\u001B[39m] \u001B[38;5;241m=\u001B[39m \u001B[38;5;28;43mlist\u001B[39;49m\u001B[43m(\u001B[49m\u001B[38;5;28;43mmap\u001B[39;49m\u001B[43m(\u001B[49m\u001B[43mWeekToMonth\u001B[49m\u001B[43m,\u001B[49m\u001B[43m(\u001B[49m\u001B[43mx_train\u001B[49m\u001B[43m[\u001B[49m\u001B[43m:\u001B[49m\u001B[43m,\u001B[49m\u001B[43m \u001B[49m\u001B[38;5;241;43m77\u001B[39;49m\u001B[43m]\u001B[49m\u001B[43m)\u001B[49m\u001B[43m)\u001B[49m\u001B[43m)\u001B[49m\n\u001B[0;32m     44\u001B[0m array_5 \u001B[38;5;241m=\u001B[39m [\u001B[38;5;241m78\u001B[39m,\u001B[38;5;241m80\u001B[39m,\u001B[38;5;241m88\u001B[39m,\u001B[38;5;241m91\u001B[39m,\u001B[38;5;241m98\u001B[39m,\u001B[38;5;241m119\u001B[39m]\n\u001B[0;32m     46\u001B[0m \u001B[38;5;28;01mfor\u001B[39;00m i \u001B[38;5;129;01min\u001B[39;00m array_5 :\n",
      "Cell \u001B[1;32mIn[12], line 18\u001B[0m, in \u001B[0;36mWeekToMonth\u001B[1;34m(x)\u001B[0m\n\u001B[0;32m     16\u001B[0m     \u001B[38;5;28;01mreturn\u001B[39;00m (\u001B[38;5;241m4.25\u001B[39m\u001B[38;5;241m*\u001B[39m\u001B[38;5;28mint\u001B[39m(x_str[\u001B[38;5;241m-\u001B[39m\u001B[38;5;241m2\u001B[39m:]))\u001B[38;5;241m.\u001B[39mastype(\u001B[38;5;28mint\u001B[39m)\n\u001B[0;32m     17\u001B[0m \u001B[38;5;28;01melse\u001B[39;00m:\n\u001B[1;32m---> 18\u001B[0m     \u001B[38;5;28;01mreturn\u001B[39;00m \u001B[38;5;28;43mint\u001B[39;49m\u001B[43m(\u001B[49m\u001B[43mx_str\u001B[49m\u001B[43m[\u001B[49m\u001B[38;5;241;43m-\u001B[39;49m\u001B[38;5;241;43m2\u001B[39;49m\u001B[43m:\u001B[49m\u001B[43m]\u001B[49m\u001B[43m)\u001B[49m\n",
      "\u001B[1;31mValueError\u001B[0m: invalid literal for int() with base 10: '.0'"
     ]
    }
   ],
   "source": [
    "x_train[:,6] = replace(x_train[:,6], [1100,1200], [1,0])\n",
    "x_train[:,13] = replace(x_train[:,13], [0,1], [1,2])\n",
    "x_train[:,24] = replace(x_train[:,24], [1,2,7,9], [0,1,np.nan,np.nan])\n",
    "x_train[:,25] = replace(x_train[:,25], [77,99], [np.nan,np.nan])\n",
    "x_train[:,26] = replace(x_train[:,26], [2,3,4,5,7,9], [0.75,0.5,0.25,0,np.nan,np.nan])\n",
    "\n",
    "array_1 = [27,28,29]\n",
    "\n",
    "for i in array_1 : \n",
    "    x_train[:,i] = replace(x_train[:,i], [88,77,99], [np.nan,np.nan,np.nan])\n",
    "\n",
    "x_train[:,31] = replace(x_train[:,31], [3,7,9], [0,np.nan,np.nan])\n",
    "\n",
    "array_2 = [30,32,34,35,36,38,39,40,41,42,43,44,45,46,47,48,53,54,55,56,57,61,64,65,66,67,68,69,70,71,72,73,74,87,95,96,100,103,104,107,108,116,117,118]\n",
    "           \n",
    "for i in array_2:\n",
    "    x_train[:,i] = replace(x_train[:,i], [7,9], [np.nan,np.nan])\n",
    "    \n",
    "\n",
    "x_train[:,33] = replace(x_train[:,33], [1,2,3,4,7,8,9], [6,18,42,60,np.nan,120,np.nan])\n",
    "x_train[:,37] = replace(x_train[:,37], [1,2,3,4,7,9], [6,18,42,60,np.nan,np.nan])\n",
    "x_train[:,49] = replace(x_train[:,49], [98,99], [np.nan,np.nan])\n",
    "\n",
    "array_3 = [51,52,58]\n",
    "\n",
    "for i in array_3 : \n",
    "    x_train[:,i] = replace(x_train[:,i], [9], [np.nan])\n",
    "    \n",
    "x_train[:,59] = replace(x_train[:,59], [88,99], [0,np.nan])\n",
    "x_train[:,60] = replace(x_train[:,60], [1,2,3,4,5,6,7,8,77,99] , [5,12.5,17.5,22.5,30,42.5,62.5,75,np.nan,np.nan])\n",
    "\n",
    "array_4 = [62,63]\n",
    "\n",
    "for i in array_4 :\n",
    "    x_train[:,i] = replace(x_train[:,i], [7777,9999], [np.nan,np.nan])    \n",
    "    x_train[:,i] = list(map(IntoPounds,(x_train[:, i])))\n",
    "\n",
    "x_train[:,75] = replace(x_train[:,75],[1,2,3,4,5,6,7,8,77,99] , [15,60,135,270,1080,2070,3600,np.nan,np.nan,np.nan])\n",
    "x_train[:,76] = replace(x_train[:,76],[3,7,9] ,[0,np.nan,np.nan])\n",
    "x_train[:,77] = replace(x_train[:,77],[777,888,999] ,[np.nan,0,np.nan])\n",
    "x_train[:,77] = list(map(WeekToMonth,(x_train[:, 77])))\n",
    "\n",
    "\n",
    "array_5 = [78,80,88,91,98,119]\n",
    "\n",
    "for i in array_5 :\n",
    "    x_train[:,i] = replace(x_train[:,i], [77,99], [np.nan,np.nan])\n",
    "    \n",
    "x_train[:,79] = replace(x_train[:,79],[77,88,99] ,[np.nan,0,np.nan])\n",
    "\n",
    "array_6 = [81,82,83,84,85,86]\n",
    "\n",
    "for i in array_6 :\n",
    "    x_train[:,i] = replace(x_train[:,i], [300,555,777,999],  [0,0,np.nan,np.nan])\n",
    "    x_train[:,i] = list(map(DayToMonth,(x_train[:, i])))\n",
    "    \n",
    "array_7 = [89,90,92,93] \n",
    "\n",
    "for i in array_7 :\n",
    "    x_train[:,i] = replace(x_train[:,i], [777,999],  [0,0,np.nan,np.nan])\n",
    "\n",
    "x_train[:,89] = list(map(WeekToMonth,(x_train[:, 89])))\n",
    "x_train[:,90] = list(map(HourToMinutes,(x_train[:, 90])))\n",
    "x_train[:,92] = list(map(WeekToMonth,(x_train[:, 92])))\n",
    "\n",
    "array_7 = [94,110,111] \n",
    "\n",
    "for i in array_8 :\n",
    "    x_train[:,i] = replace(x_train[:,i], [777,888,999], [np.nan,0,np.nan])\n",
    "\n",
    "x_train[:,94] = replace(x_train[:,94], [777,888,999], [np.nan,0,np.nan])\n",
    "x_train[:,94] = list(map(WeekToMonth,(x_train[:, 94])))\n",
    "x_train[:,97] = replace(x_train[:,97], [2,3,7,9], [0.5,0,np.nan,np.nan])\n",
    "x_train[:,99] = replace(x_train[:,99], [2,3,4,5,7,8,9], [0.75,0.5,0.25,0,np.nan,np.nan,np.nan])\n",
    "x_train[:,101] = replace(x_train[:,101], [777777, 999999],  [np.nan,np.nan])\n",
    "\n",
    "#x_train[:,101] = list(map(DateType,(x_train[:, 101])))\n",
    "\n",
    "x_train[:,105] = replace(x_train[:,105], [777777, 999999],  [np.nan,np.nan])\n",
    "#x_train[:,105] = list(map(DateType,(x_train[:, 105])))\n",
    "\n",
    "x_train[:,110] = list(map(DayToYear,(x_train[:, 110])))\n",
    "x_train[:,111] = list(map(DayToYear,(x_train[:, 111])))\n",
    "\n",
    "x_train[:,113] = replace(x_train[:,113],[77,88,98,99] ,[np.nan,0,np.nan,np.nan])\n",
    "x_train[:,114] = replace(x_train[:,114],[77,88,99] ,[np.nan,0,np.nan])\n",
    "x_train[:,115] = replace(x_train[:,114],[1,2,3,4,7,8,9] ,[15,180,540,720,np.nan,0,np.nan])\n",
    "\n"
   ]
  },
  {
   "cell_type": "code",
   "execution_count": 14,
   "id": "df891b2a-c8ce-492f-a648-b8b153a268de",
   "metadata": {
    "tags": []
   },
   "outputs": [],
   "source": [
    "def convert_to_days(x):\n",
    "    x = np.where((x >= 101) & (x < 200), x-100,x)\n",
    "    x =  np.where((x >= 201) & (x < 300), x-200,x)\n",
    "    x =  np.where((x >= 301) & (x < 400), x-300,x)\n",
    "    x =  np.where((x >= 401) & (x < 500), x-400,x)\n",
    "\n",
    "    return x\n",
    "\n",
    "def asthme(x) : \n",
    "    if x <= 97:\n",
    "        return 1\n",
    "    else :\n",
    "        return 0 \n",
    "\n",
    "def line191(x) :\n",
    "    if x >= 11: \n",
    "        return \n",
    "\n",
    "#def line252(x): \n",
    "#    if (x >= 1 and x <=650) :"
   ]
  },
  {
   "cell_type": "code",
   "execution_count": 19,
   "id": "28c8c52b-4b42-4ded-b359-e107b27be6ed",
   "metadata": {
    "tags": []
   },
   "outputs": [],
   "source": [
    "nan79 = [120,121,123,124,125,126,129,132,136,137,138,139,\n",
    "         140,141,142,144,151,154,155,156,157,158,159,160,161,162,163,164,165,166,169,\n",
    "         170,171,172,173,174,175,176,177,178,179,180,181,182,183,184,185,186,187,188,189,190,191,\n",
    "         194,196,198,199,201,202,203,204,205,214,261]\n",
    "         \n",
    "for i in nan79 :\n",
    "    x_train[:,i ] = replace(x_train[:,i ],[7,9] ,[np.nan,np.nan])          \n",
    "         \n",
    "nan789 = [192,193]\n",
    "          \n",
    "for i in nan789 :\n",
    "    x_train[:,i ] = replace(x_train[:,i ],[7,8,9] ,[np.nan,np.nan,np.nan])   \n",
    "         \n",
    "nan7799 = [122,130,168,224,240]\n",
    "\n",
    "for i in nan7799 :\n",
    "    x_train[:,i ] = replace(x_train[:,i ],[77,99] ,[np.nan,np.nan])     \n",
    "         \n",
    "x_train[:,127 ] = replace(x_train[:,127 ],[6,7,9] ,[np.nan,np.nan])\n",
    "x_train[:,128 ] = replace(x_train[:,128 ],[6,7] ,[np.nan,np.nan])\n",
    "\n",
    "        \n",
    "nan9 = [131,153,200,223,230,231,232,233,234,235,236,241,242,243,244,255,256,257,258,259,260,263,\n",
    "        265,278,279,298, 305,306,307,308,309,310,311,312,313,314,315,316,317,318,319,320] \n",
    "\n",
    "for i in nan9 :\n",
    "    x_train[:,i ] = replace(x_train[:,i ],[9] ,[np.nan])          \n",
    "         \n",
    "nan7 = [133,134,135,146,152]\n",
    "\n",
    "for i in nan7 :\n",
    "    x_train[:,i ] = replace(x_train[:,i ],[7] ,[np.nan])    \n",
    "\n",
    "nan99900 = [264,287,288,293,294,297]\n",
    "for i in nan99900 :\n",
    "    x_train[:,i ] = replace(x_train[:,i ],[99900] ,[np.nan]) \n",
    "\n",
    "        \n",
    "x_train[:,143] = replace(x_train[:,143],[555,777,999] ,[20,np.nan,np.nan])\n",
    "x_train[:,143] = list(map(convert_to_days,(x_train[:, 143])))\n",
    "        \n",
    "#DEMANDER AHHHHHHHHHHHHHHHHHHHHHHHHHHHHHHHHHHHHHHHHHHHHHHHHHHH        \n",
    "x_train[:,145] = list(map(asthme,(x_train[:, 145])))        \n",
    "\n",
    "n088_98 = [147,148]\n",
    "\n",
    "for i in n088_98 :     \n",
    "    x_train[:,i] = replace(x_train[:,i],[88,98] ,[0,np.nan])              \n",
    "\n",
    "x_train[:,149] = replace(x_train[:,149],[88,98,99] ,[0,np.nan,np.nan])\n",
    "x_train[:,150] = replace(x_train[:,150],[777,888,999] ,[np.nan,0,np.nan])\n",
    "           \n",
    "x_train[:,191] = list(map(line191,(x_train[:, 191])))\n",
    "           \n",
    "           \n",
    "x_train[:,195] = replace(x_train[:,195],[97,98,99] ,[np.nan,0,np.nan])    \n",
    "x_train[:,197] = replace(x_train[:,197],[97,98,99] ,[np.nan,0,np.nan])   \n",
    "    \n",
    "nan088 = [206,207,208,209,210,211,212,213]\n",
    "for i in nan088 : \n",
    "    x_train[:,i] = replace(x_train[:,i],[77,88,99] ,[np.nan,0,np.nan])   \n",
    "\n",
    "x_train[:,225] = replace(x_train[:,225],[7,77,99] ,[np.nan,np.nan,np.nan])  \n",
    "x_train[:,239] = replace(x_train[:,239],[7,77,99] ,[np.nan,np.nan,np.nan])   \n",
    "    \n",
    "x_train[:,246 ] = replace(x_train[:,246 ],[14] ,[np.nan])        \n",
    "x_train[:,247 ] = replace(x_train[:,247 ],[3] ,[np.nan])     \n",
    "x_train[:,262 ] = replace(x_train[:,262 ],[900] ,[np.nan])    "
   ]
  },
  {
   "cell_type": "code",
   "execution_count": null,
   "id": "f5442e01-74f7-42f0-8d77-2339e29be470",
   "metadata": {},
   "outputs": [],
   "source": []
  },
  {
   "cell_type": "code",
   "execution_count": null,
   "id": "e6adbc06-6144-4aec-a4b7-3354330e6ead",
   "metadata": {},
   "outputs": [],
   "source": []
  },
  {
   "cell_type": "code",
   "execution_count": null,
   "id": "8bb81b95-2467-49c7-b15e-b7fea9806068",
   "metadata": {},
   "outputs": [],
   "source": []
  },
  {
   "cell_type": "code",
   "execution_count": null,
   "id": "1cf92570-357d-4048-b36e-3289fa28e813",
   "metadata": {},
   "outputs": [],
   "source": []
  },
  {
   "cell_type": "markdown",
   "id": "878ab50a-2f67-4ebb-9851-fa7b7b380886",
   "metadata": {},
   "source": [
    "We clean the data by removing the nan values by the mean of the rest of the feature"
   ]
  },
  {
   "cell_type": "code",
   "execution_count": null,
   "id": "83dc8496-7e54-4639-97ec-b2895e7d84bc",
   "metadata": {
    "tags": []
   },
   "outputs": [],
   "source": [
    "data = np.ones(x_train.shape)\n",
    "stds = np.array([])\n",
    "for i in range(data.shape[1]):\n",
    "    d, std = standardize_clean(x_train[:, i])\n",
    "    data[:, i] = d\n",
    "    stds = np.append(stds, std)\n",
    "print(stds.shape)"
   ]
  },
  {
   "cell_type": "markdown",
   "id": "7a5f849c-709f-4fd0-8a54-a1f7b0d51a1c",
   "metadata": {
    "tags": []
   },
   "source": [
    "We further clean the data by removing the features where the variance is zero since they are constants for all samples"
   ]
  },
  {
   "cell_type": "code",
   "execution_count": null,
   "id": "207b1a97-b052-47c1-956c-d0fefeeefc9c",
   "metadata": {
    "tags": []
   },
   "outputs": [],
   "source": [
    "indices = np.where(stds != 0)\n",
    "data_var = data[:, indices]\n",
    "data_var = np.squeeze(data_var, axis = 1)\n",
    "print(data_var.shape)"
   ]
  },
  {
   "cell_type": "markdown",
   "id": "693df8b2-ed9b-4548-8468-54e6685eaa16",
   "metadata": {
    "tags": []
   },
   "source": [
    "We also remove the 8 first features as the appear weird in the task of predicting a heart attack"
   ]
  },
  {
   "cell_type": "code",
   "execution_count": null,
   "id": "1d49aa9a-539b-4ab5-9173-2d3b56ea8c9a",
   "metadata": {
    "tags": []
   },
   "outputs": [],
   "source": [
    "data_cleaned = data_var[:, 9:]\n",
    "print(data_cleaned.shape)"
   ]
  },
  {
   "cell_type": "markdown",
   "id": "0022b951-01ae-482a-9a91-bdc6878fa522",
   "metadata": {},
   "source": [
    "We then separe the data to train on 60% of the total and to test it on the remaining 40% "
   ]
  },
  {
   "cell_type": "code",
   "execution_count": null,
   "id": "b8786b70-cd4e-487e-8442-83b524d98912",
   "metadata": {
    "tags": []
   },
   "outputs": [],
   "source": [
    "train_size = np.floor(data_cleaned.shape[0] * 0.6).astype(int)\n",
    "data_cross = data_cleaned[:train_size, :]\n",
    "pred_cross = pred[:train_size]\n",
    "data_test = data_cleaned[train_size:, :]\n",
    "pred_test = pred[train_size:]\n",
    "print(f\"Cross shape : {data_cross.shape} ; Test shape : {data_test.shape}\")"
   ]
  },
  {
   "cell_type": "markdown",
   "id": "7efc066a-74cb-4e6b-9207-61906787dc92",
   "metadata": {},
   "source": [
    "Now we build our models for linear regression"
   ]
  },
  {
   "cell_type": "code",
   "execution_count": null,
   "id": "1c4519d9-76e2-4a60-97fe-9a1890f7cf25",
   "metadata": {
    "tags": []
   },
   "outputs": [],
   "source": [
    "y, tx = build_model_data(data_cross, pred_cross)\n",
    "y_test, tx_test = build_model_data(data_test, pred_test)\n",
    "print(f\"The data has now {tx.shape[1]} features !\")"
   ]
  },
  {
   "cell_type": "markdown",
   "id": "d84cb632-ef6f-4cce-9276-2f95f9f1b903",
   "metadata": {},
   "source": []
  },
  {
   "cell_type": "code",
   "execution_count": null,
   "id": "0ae0c7fd-20c1-403e-a175-9b348f5cc4a7",
   "metadata": {
    "tags": []
   },
   "outputs": [],
   "source": []
  },
  {
   "cell_type": "markdown",
   "id": "c41fde6c-4da2-4e82-bbff-8f67e4f9fd0d",
   "metadata": {},
   "source": []
  },
  {
   "cell_type": "code",
   "execution_count": null,
   "id": "e49f21d6-55c5-4fbf-ac2e-78a14ff9164b",
   "metadata": {
    "tags": []
   },
   "outputs": [],
   "source": []
  },
  {
   "cell_type": "markdown",
   "id": "d56d6c6f-feba-49c0-9223-ca63a8d2d8e5",
   "metadata": {},
   "source": []
  },
  {
   "cell_type": "code",
   "execution_count": null,
   "id": "56741a7a-76d9-48fc-8b0a-71dd68b24923",
   "metadata": {
    "tags": []
   },
   "outputs": [],
   "source": []
  },
  {
   "cell_type": "markdown",
   "id": "94441704-eea1-42f3-8439-3bdac8b04b43",
   "metadata": {
    "tags": []
   },
   "source": []
  },
  {
   "cell_type": "code",
   "execution_count": null,
   "id": "15dfe6db-247e-4671-a14d-6ded5d77eb67",
   "metadata": {
    "tags": []
   },
   "outputs": [],
   "source": []
  },
  {
   "cell_type": "code",
   "execution_count": null,
   "id": "ba0f4e66-4959-4f6f-bfa5-87e091c6f6bf",
   "metadata": {},
   "outputs": [],
   "source": []
  },
  {
   "cell_type": "code",
   "execution_count": null,
   "id": "05fddb54-26cc-4208-b93b-77f0f4413428",
   "metadata": {},
   "outputs": [],
   "source": []
  }
 ],
 "metadata": {
  "kernelspec": {
   "display_name": "Python 3 (ipykernel)",
   "language": "python",
   "name": "python3"
  },
  "language_info": {
   "codemirror_mode": {
    "name": "ipython",
    "version": 3
   },
   "file_extension": ".py",
   "mimetype": "text/x-python",
   "name": "python",
   "nbconvert_exporter": "python",
   "pygments_lexer": "ipython3",
   "version": "3.9.18"
  }
 },
 "nbformat": 4,
 "nbformat_minor": 5
}