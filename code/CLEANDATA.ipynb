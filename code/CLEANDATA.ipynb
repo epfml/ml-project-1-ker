{
 "cells": [
  {
   "cell_type": "code",
   "execution_count": 12,
   "id": "38cfce00-7596-4f51-aa1c-5750258f0d74",
   "metadata": {
    "tags": []
   },
   "outputs": [
    {
     "name": "stdout",
     "output_type": "stream",
     "text": [
      "The autoreload extension is already loaded. To reload it, use:\n",
      "  %reload_ext autoreload\n"
     ]
    }
   ],
   "source": [
    "# Useful starting lines\n",
    "%matplotlib inline\n",
    "import numpy as np\n",
    "import matplotlib.pyplot as plt\n",
    "\n",
    "%load_ext autoreload\n",
    "%autoreload 2"
   ]
  },
  {
   "cell_type": "markdown",
   "id": "927ddbc4-74dd-4b7e-bc8e-39c4775c6340",
   "metadata": {},
   "source": [
    "# **Load the training data**\n",
    "\n",
    "We load the training data."
   ]
  },
  {
   "cell_type": "code",
   "execution_count": 13,
   "id": "274a0894-6252-4b01-9c74-9b10d37bf93b",
   "metadata": {
    "tags": []
   },
   "outputs": [
    {
     "name": "stdout",
     "output_type": "stream",
     "text": [
      "The data has 328135 samples and 321 features !\n"
     ]
    }
   ],
   "source": [
    "import datetime\n",
    "from implementations import *\n",
    "\n",
    "data_load = load_data(\"x_train.csv\")\n",
    "pred = load_data(\"y_train.csv\")\n",
    "print(f\"The data has {data_load.shape[0]} samples and {data_load.shape[1]} features !\")"
   ]
  },
  {
   "cell_type": "markdown",
   "id": "4965fdf4-fe30-488c-8f3d-41e4821cd4b1",
   "metadata": {},
   "source": [
    "The first column is states and I create a new column to classify with the ranking of PIB between them, and replace each state number by their position in the ranking."
   ]
  },
  {
   "cell_type": "code",
   "execution_count": 14,
   "id": "d7ab9fa9-e262-4c71-868a-be6bcdcd45ee",
   "metadata": {
    "tags": []
   },
   "outputs": [],
   "source": [
    "def replace(arr, old_values, new_values):\n",
    "    result = arr.copy()\n",
    "\n",
    "    for old_val, new_val in zip(old_values, new_values):\n",
    "        result[result == old_val] = new_val\n",
    "\n",
    "    return result"
   ]
  },
  {
   "cell_type": "code",
   "execution_count": 17,
   "id": "a352fc54-92fe-4156-bfe8-2d2c59b3d904",
   "metadata": {
    "tags": []
   },
   "outputs": [],
   "source": [
    "# Where put district of columbia ? super high PIB\n",
    "\n",
    "new_rank_state = [27,46,20,34,1,16,23,42,0,4,9,38,40,5,19,30,\n",
    "                 33,28,24,43,15,11,14,17,12,22,48,35,32,39,8,37,3,\n",
    "                 12,45,7,29,25,6,44,26,47,18,2,31,50,13,10,41,21,49,51,52]\n",
    "old_states_name =  [1,2,4,5,6,8,9,10,11,12,13,15,16,17,18,19,20,21,22,23,24,25,26,27,28,\n",
    "                    29,30,31,32,33,34,35,36,37,38,39,40,41,42,44,45,46,47,48,49,50,51,53,54,55,56,66,72]\n",
    "\n",
    "ranking_column = replace(data_load[:,0], old_states_name, new_rank_state)"
   ]
  },
  {
   "cell_type": "markdown",
   "id": "8cad0ca3-b06a-4eaa-8c61-ca269eca19c2",
   "metadata": {},
   "source": [
    "Next 5 columns are useless, they are about interview date and index of patient\n",
    "## COLUMNS TO DELETE 2 3 4 5 7 8 9 10 11 12 14 19 20 21 22 23\n",
    "\n",
    "## POSSIBLE MEAN 13 24 25 26 27 28 29 33 37 59 60 62 63 75 77 78 79 80 81 82 83 84 85 86 89 90 92 93 98 110 111 112 113 114"
   ]
  },
  {
   "cell_type": "markdown",
   "id": "dcb427d5-6f7e-4d24-bf33-93639a4f41a7",
   "metadata": {},
   "source": [
    "The 6th column is DISPCODE, so if interview was complete or not, I change value to 1 if complete 0 if not."
   ]
  },
  {
   "cell_type": "markdown",
   "id": "78fe4890-fffe-418c-8e3a-bfd1b2a47eb5",
   "metadata": {
    "tags": []
   },
   "source": [
    "## Functions to help conversions of differents answers in one single metric parameter : "
   ]
  },
  {
   "cell_type": "code",
   "execution_count": 2,
   "id": "0b32d0b0-b4ac-4a56-92f0-09ef07125e6e",
   "metadata": {
    "tags": []
   },
   "outputs": [],
   "source": [
    "def IntoPounds(x):\n",
    "    if x >= 9000 :\n",
    "        return int((x - 9000) * 2.20462)\n",
    "    else:\n",
    "        return x \n",
    "\n",
    "def IntoInches(x):\n",
    "    if x < 9000:          \n",
    "        return np.floor(x/100)*12 + (x % 100)\n",
    "    else: \n",
    "        return (x - 9000) * 0.393701\n",
    "\n",
    "def WeekToMonth(x):\n",
    "    x_str = str(x)\n",
    "    if x_str[0] == \"1\":       \n",
    "        return (4.25*int(x_str[-2:])).astype(int)\n",
    "    else:\n",
    "        return int(x_str[-2:])\n",
    "    \n",
    "def DayToMonth(x):\n",
    "    x_str = str(x)\n",
    "    if x_str[0] == \"1\":       \n",
    "        return 30 *int(x_str[-2:])\n",
    "    elif x_str[0] == \"2\":\n",
    "        return (4.25*int(x_str[-2:])).astype(int)\n",
    "    else \n",
    "        return int(x_str[-2:])\n",
    "    \n",
    "def DayToYear(x):\n",
    "    x_str = str(x)\n",
    "    if x_str[0] == \"1\":       \n",
    "        return 365 *int(x_str[-2:])\n",
    "    elif x_str[0] == \"2\":\n",
    "        return 52*int(x_str[-2:])\n",
    "    elif x_str[0] == \"3\":\n",
    "        return 12 * int(x_str[-2:])\n",
    "    else\n",
    "        return int(x_str[-2:])\n",
    "\n",
    "def HourToMinutes(x):\n",
    "    x_str = str(x)\n",
    "    return int(x_str[0])*60 + int(x_str[-2:])\n",
    "    \n",
    "#def DateType(x):\n",
    "#    x_str = str(x)\n",
    "#    year = x_str[-4:]\n",
    "#    month = x_str[:2] if len(x) == 6 else x_str[0]\n",
    "#    return np.datetime64(year + '-' + month)"
   ]
  },
  {
   "cell_type": "code",
   "execution_count": 3,
   "id": "0758cd4b-3aa9-486e-b0a0-fb2d9563c137",
   "metadata": {
    "tags": []
   },
   "outputs": [
    {
     "ename": "NameError",
     "evalue": "name 'replace' is not defined",
     "output_type": "error",
     "traceback": [
      "\u001b[1;31m---------------------------------------------------------------------------\u001b[0m",
      "\u001b[1;31mNameError\u001b[0m                                 Traceback (most recent call last)",
      "Cell \u001b[1;32mIn[3], line 1\u001b[0m\n\u001b[1;32m----> 1\u001b[0m data_load[:,\u001b[38;5;241m6\u001b[39m] \u001b[38;5;241m=\u001b[39m \u001b[43mreplace\u001b[49m(data_load[:,\u001b[38;5;241m6\u001b[39m], [\u001b[38;5;241m1100\u001b[39m,\u001b[38;5;241m1200\u001b[39m], [\u001b[38;5;241m1\u001b[39m,\u001b[38;5;241m0\u001b[39m])\n\u001b[0;32m      2\u001b[0m data_load[:,\u001b[38;5;241m13\u001b[39m] \u001b[38;5;241m=\u001b[39m replace(data_load[:,\u001b[38;5;241m13\u001b[39m], [\u001b[38;5;241m0\u001b[39m,\u001b[38;5;241m1\u001b[39m], [\u001b[38;5;241m1\u001b[39m,\u001b[38;5;241m2\u001b[39m])\n\u001b[0;32m      3\u001b[0m data_load[:,\u001b[38;5;241m24\u001b[39m] \u001b[38;5;241m=\u001b[39m replace(data_load[:,\u001b[38;5;241m24\u001b[39m], [\u001b[38;5;241m1\u001b[39m,\u001b[38;5;241m2\u001b[39m,\u001b[38;5;241m7\u001b[39m,\u001b[38;5;241m9\u001b[39m], [\u001b[38;5;241m0\u001b[39m,\u001b[38;5;241m1\u001b[39m,np\u001b[38;5;241m.\u001b[39mnan,np\u001b[38;5;241m.\u001b[39mnan])\n",
      "\u001b[1;31mNameError\u001b[0m: name 'replace' is not defined"
     ]
    }
   ],
   "source": [
    "data_load[:,6] = replace(data_load[:,6], [1100,1200], [1,0])\n",
    "data_load[:,13] = replace(data_load[:,13], [0,1], [1,2])\n",
    "data_load[:,24] = replace(data_load[:,24], [1,2,7,9], [0,1,np.nan,np.nan])\n",
    "data_load[:,25] = replace(data_load[:,25], [77,99], [np.nan,np.nan])\n",
    "data_load[:,26] = replace(data_load[:,26], [2,3,4,5,7,9], [0.75,0.5,0.25,0,np.nan,np.nan])\n",
    "\n",
    "array_1 = [27,28,29]\n",
    "\n",
    "for i in array_1 : \n",
    "    data_load[:,i] = replace(data_load[:,i], [88,77,99], [np.nan,np.nan,np.nan])\n",
    "\n",
    "data_load[:,31] = replace(data_load[:,31], [3,7,9], [0,np.nan,np.nan])\n",
    "\n",
    "array_2 = [30,32,34,35,36,38,39,40,41,42,43,44,45,46,47,48,53,54,55,56,57,61,64,65,66,67,68,69,70,71,72,73,74,87,95,96,100,103,104,107,108,116,117,118]\n",
    "           \n",
    "for i in array_2:\n",
    "    data_load[:,i] = replace(data_load[:,i], [7,9], [np.nan,np.nan])\n",
    "    \n",
    "\n",
    "data_load[:,33] = replace(data_load[:,33], [1,2,3,4,7,8,9], [6,18,42,60,np.nan,120,np.nan])\n",
    "data_load[:,37] = replace(data_load[:,37], [1,2,3,4,7,9], [6,18,42,60,np.nan,np.nan])\n",
    "data_load[:,49] = replace(data_load[:,49], [98,99], [np.nan,np.nan])\n",
    "\n",
    "array_3 = [51,52,58]\n",
    "\n",
    "for i in array_3 : \n",
    "    data_load[:,i] = replace(data_load[:,i], [9], [np.nan])\n",
    "    \n",
    "data_load[:,59] = replace(data_load[:,59], [88,99], [0,np.nan])\n",
    "data_load[:,60] = replace(data_load[:,60], [1,2,3,4,5,6,7,8,77,99] , [5,12.5,17.5,22.5,30,42.5,62.5,75,np.nan,np.nan])\n",
    "\n",
    "array_4 = [62,63]\n",
    "\n",
    "for i in array_4 :\n",
    "    data_load[:,i] = replace(data_load[:,i], [7777,9999], [np.nan,np.nan])    \n",
    "    data_load[:,i] = list(map(IntoPounds,(data_load[:, i])))\n",
    "\n",
    "data_load[:,75] = replace(data_load[:,75],[1,2,3,4,5,6,7,8,77,99] , [15,60,135,270,1080,2070,3600,np.nan,np.nan,np.nan])\n",
    "data_load[:,76] = replace(data_load[:,76],[3,7,9] ,[0,np.nan,np.nan])\n",
    "data_load[:,77] = replace(data_load[:,77],[777,888,999] ,[np.nan,0,np.nan])\n",
    "data_load[:,77] = list(map(WeekToMonth,(data_load[:, 77])))\n",
    "\n",
    "\n",
    "array_5 = [78,80,88,91,98,119]\n",
    "\n",
    "for i in array_5 :\n",
    "    data_load[:,i] = replace(data_load[:,i], [77,99], [np.nan,np.nan])\n",
    "    \n",
    "data_load[:,79] = replace(data_load[:,79],[77,88,99] ,[np.nan,0,np.nan])\n",
    "\n",
    "array_6 = [81,82,83,84,85,86]\n",
    "\n",
    "for i in array_6 :\n",
    "    data_load[:,i] = replace(data_load[:,i], [300,555,777,999],  [0,0,np.nan,np.nan])\n",
    "    data_load[:,i] = list(map(DayToMonth,(data_load[:, i])))\n",
    "    \n",
    "array_7 = [89,90,92,93] \n",
    "\n",
    "for i in array_7 :\n",
    "    data_load[:,i] = replace(data_load[:,i], [777,999],  [0,0,np.nan,np.nan])\n",
    "\n",
    "data_load[:,89] = list(map(WeekToMonth,(data_load[:, 89])))\n",
    "data_load[:,90] = list(map(HourToMinutes,(data_load[:, 90])))\n",
    "data_load[:,92] = list(map(WeekToMonth,(data_load[:, 92])))\n",
    "\n",
    "array_7 = [94,110,111] \n",
    "\n",
    "for i in array_8 :\n",
    "    data_load[:,i] = replace(data_load[:,i], [777,888,999], [np.nan,0,np.nan])\n",
    "\n",
    "data_load[:,94] = replace(data_load[:,94], [777,888,999], [np.nan,0,np.nan])\n",
    "data_load[:,94] = list(map(WeekToMonth,(data_load[:, 94])))\n",
    "data_load[:,97] = replace(data_load[:,97], [2,3,7,9], [0.5,0,np.nan,np.nan])\n",
    "data_load[:,99] = replace(data_load[:,99], [2,3,4,5,7,8,9], [0.75,0.5,0.25,0,np.nan,np.nan,np.nan])\n",
    "data_load[:,101] = replace(data_load[:,101], [777777, 999999],  [np.nan,np.nan])\n",
    "\n",
    "#data_load[:,101] = list(map(DateType,(data_load[:, 101])))\n",
    "\n",
    "data_load[:,105] = replace(data_load[:,105], [777777, 999999],  [np.nan,np.nan])\n",
    "#data_load[:,105] = list(map(DateType,(data_load[:, 105])))\n",
    "\n",
    "data_load[:,110] = list(map(DayToYear,(data_load[:, 110])))\n",
    "data_load[:,111] = list(map(DayToYear,(data_load[:, 111])))\n",
    "\n",
    "data_load[:,113] = replace(data_load[:,113],[77,88,98,99] ,[np.nan,0,np.nan,np.nan])\n",
    "data_load[:,114] = replace(data_load[:,114],[77,88,99] ,[np.nan,0,np.nan])\n",
    "data_load[:,115] = replace(data_load[:,114],[1,2,3,4,7,8,9] ,[15,180,540,720,np.nan,0,np.nan])\n",
    "\n"
   ]
  },
  {
   "cell_type": "markdown",
   "id": "921196e3-f10f-4971-9035-9e7d8c14a5e0",
   "metadata": {},
   "source": [
    "9th to 13th column are bound together, they help getting the answer on the last column CELLFON3, so we can remove the 9th, 10th, 11th and 12th columns.\n",
    "I create a new column to know if the survey is done on a cellphone or fixed phone.\n"
   ]
  },
  {
   "cell_type": "markdown",
   "id": "15c95905-ae29-42c0-a11c-5d9c92b167f0",
   "metadata": {
    "tags": []
   },
   "source": [
    "Column 15,16,17 is super useful and tells us about the number of adults in the household, but they are not logic. Number of household where 1 adult < Number of household where 1 adult men"
   ]
  },
  {
   "cell_type": "markdown",
   "id": "6c5073c5-d763-4738-9af6-f0ae445cf73b",
   "metadata": {
    "tags": []
   },
   "source": [
    "19th column to 24th bound together so only last one useful (24th)\n",
    "We denote the value in the 24th column 0 if the person is a woman and doesnt have a fixed number to receive calls, 1 if she has one.\n",
    "2 if the person is a man and doesnt have a fixed number to receive calls, 3 if he has one.\n"
   ]
  },
  {
   "cell_type": "markdown",
   "id": "5df594b1-a9b3-4f4d-9049-0945fe06fc50",
   "metadata": {
    "tags": []
   },
   "source": [
    "Column 25 is super interesting tells us the number of adults in the household and is similar to column 15 but seems more logic !\n",
    "But the values are extremes we have to change them !\n"
   ]
  },
  {
   "cell_type": "code",
   "execution_count": null,
   "id": "3b4d56f0-d520-490d-a9dd-02226bba7fd5",
   "metadata": {},
   "outputs": [],
   "source": []
  },
  {
   "cell_type": "code",
   "execution_count": null,
   "id": "28c8c52b-4b42-4ded-b359-e107b27be6ed",
   "metadata": {},
   "outputs": [],
   "source": []
  },
  {
   "cell_type": "code",
   "execution_count": null,
   "id": "f5442e01-74f7-42f0-8d77-2339e29be470",
   "metadata": {},
   "outputs": [],
   "source": []
  },
  {
   "cell_type": "code",
   "execution_count": null,
   "id": "e6adbc06-6144-4aec-a4b7-3354330e6ead",
   "metadata": {},
   "outputs": [],
   "source": []
  },
  {
   "cell_type": "code",
   "execution_count": null,
   "id": "8bb81b95-2467-49c7-b15e-b7fea9806068",
   "metadata": {},
   "outputs": [],
   "source": []
  },
  {
   "cell_type": "code",
   "execution_count": null,
   "id": "1cf92570-357d-4048-b36e-3289fa28e813",
   "metadata": {},
   "outputs": [],
   "source": []
  },
  {
   "cell_type": "markdown",
   "id": "878ab50a-2f67-4ebb-9851-fa7b7b380886",
   "metadata": {},
   "source": [
    "We clean the data by removing the nan values by the mean of the rest of the feature"
   ]
  },
  {
   "cell_type": "code",
   "execution_count": null,
   "id": "83dc8496-7e54-4639-97ec-b2895e7d84bc",
   "metadata": {
    "tags": []
   },
   "outputs": [],
   "source": [
    "data = np.ones(data_load.shape)\n",
    "stds = np.array([])\n",
    "for i in range(data.shape[1]):\n",
    "    d, std = standardize_clean(data_load[:, i])\n",
    "    data[:, i] = d\n",
    "    stds = np.append(stds, std)\n",
    "print(stds.shape)"
   ]
  },
  {
   "cell_type": "markdown",
   "id": "7a5f849c-709f-4fd0-8a54-a1f7b0d51a1c",
   "metadata": {
    "tags": []
   },
   "source": [
    "We further clean the data by removing the features where the variance is zero since they are constants for all samples"
   ]
  },
  {
   "cell_type": "code",
   "execution_count": null,
   "id": "207b1a97-b052-47c1-956c-d0fefeeefc9c",
   "metadata": {
    "tags": []
   },
   "outputs": [],
   "source": [
    "indices = np.where(stds != 0)\n",
    "data_var = data[:, indices]\n",
    "data_var = np.squeeze(data_var, axis = 1)\n",
    "print(data_var.shape)"
   ]
  },
  {
   "cell_type": "markdown",
   "id": "693df8b2-ed9b-4548-8468-54e6685eaa16",
   "metadata": {
    "tags": []
   },
   "source": [
    "We also remove the 8 first features as the appear weird in the task of predicting a heart attack"
   ]
  },
  {
   "cell_type": "code",
   "execution_count": null,
   "id": "1d49aa9a-539b-4ab5-9173-2d3b56ea8c9a",
   "metadata": {
    "tags": []
   },
   "outputs": [],
   "source": [
    "data_cleaned = data_var[:, 9:]\n",
    "print(data_cleaned.shape)"
   ]
  },
  {
   "cell_type": "markdown",
   "id": "0022b951-01ae-482a-9a91-bdc6878fa522",
   "metadata": {},
   "source": [
    "We then separe the data to train on 60% of the total and to test it on the remaining 40% "
   ]
  },
  {
   "cell_type": "code",
   "execution_count": null,
   "id": "b8786b70-cd4e-487e-8442-83b524d98912",
   "metadata": {
    "tags": []
   },
   "outputs": [],
   "source": [
    "train_size = np.floor(data_cleaned.shape[0] * 0.6).astype(int)\n",
    "data_cross = data_cleaned[:train_size, :]\n",
    "pred_cross = pred[:train_size]\n",
    "data_test = data_cleaned[train_size:, :]\n",
    "pred_test = pred[train_size:]\n",
    "print(f\"Cross shape : {data_cross.shape} ; Test shape : {data_test.shape}\")"
   ]
  },
  {
   "cell_type": "markdown",
   "id": "7efc066a-74cb-4e6b-9207-61906787dc92",
   "metadata": {},
   "source": [
    "Now we build our models for linear regression"
   ]
  },
  {
   "cell_type": "code",
   "execution_count": null,
   "id": "1c4519d9-76e2-4a60-97fe-9a1890f7cf25",
   "metadata": {
    "tags": []
   },
   "outputs": [],
   "source": [
    "y, tx = build_model_data(data_cross, pred_cross)\n",
    "y_test, tx_test = build_model_data(data_test, pred_test)\n",
    "print(f\"The data has now {tx.shape[1]} features !\")"
   ]
  },
  {
   "cell_type": "markdown",
   "id": "d84cb632-ef6f-4cce-9276-2f95f9f1b903",
   "metadata": {},
   "source": []
  },
  {
   "cell_type": "code",
   "execution_count": null,
   "id": "0ae0c7fd-20c1-403e-a175-9b348f5cc4a7",
   "metadata": {
    "tags": []
   },
   "outputs": [],
   "source": []
  },
  {
   "cell_type": "markdown",
   "id": "c41fde6c-4da2-4e82-bbff-8f67e4f9fd0d",
   "metadata": {},
   "source": []
  },
  {
   "cell_type": "code",
   "execution_count": null,
   "id": "e49f21d6-55c5-4fbf-ac2e-78a14ff9164b",
   "metadata": {
    "tags": []
   },
   "outputs": [],
   "source": []
  },
  {
   "cell_type": "markdown",
   "id": "d56d6c6f-feba-49c0-9223-ca63a8d2d8e5",
   "metadata": {},
   "source": []
  },
  {
   "cell_type": "code",
   "execution_count": null,
   "id": "56741a7a-76d9-48fc-8b0a-71dd68b24923",
   "metadata": {
    "tags": []
   },
   "outputs": [],
   "source": []
  },
  {
   "cell_type": "markdown",
   "id": "94441704-eea1-42f3-8439-3bdac8b04b43",
   "metadata": {
    "tags": []
   },
   "source": []
  },
  {
   "cell_type": "code",
   "execution_count": null,
   "id": "15dfe6db-247e-4671-a14d-6ded5d77eb67",
   "metadata": {
    "tags": []
   },
   "outputs": [],
   "source": []
  },
  {
   "cell_type": "code",
   "execution_count": null,
   "id": "ba0f4e66-4959-4f6f-bfa5-87e091c6f6bf",
   "metadata": {},
   "outputs": [],
   "source": []
  },
  {
   "cell_type": "code",
   "execution_count": null,
   "id": "05fddb54-26cc-4208-b93b-77f0f4413428",
   "metadata": {},
   "outputs": [],
   "source": []
  }
 ],
 "metadata": {
  "kernelspec": {
   "display_name": "Python 3 (ipykernel)",
   "language": "python",
   "name": "python3"
  },
  "language_info": {
   "codemirror_mode": {
    "name": "ipython",
    "version": 3
   },
   "file_extension": ".py",
   "mimetype": "text/x-python",
   "name": "python",
   "nbconvert_exporter": "python",
   "pygments_lexer": "ipython3",
   "version": "3.9.18"
  }
 },
 "nbformat": 4,
 "nbformat_minor": 5
}
