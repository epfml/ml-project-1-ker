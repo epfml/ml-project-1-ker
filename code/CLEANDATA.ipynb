{
 "cells": [
  {
   "cell_type": "code",
   "execution_count": 12,
   "id": "38cfce00-7596-4f51-aa1c-5750258f0d74",
   "metadata": {
    "tags": []
   },
   "outputs": [
    {
     "name": "stdout",
     "output_type": "stream",
     "text": [
      "The autoreload extension is already loaded. To reload it, use:\n",
      "  %reload_ext autoreload\n"
     ]
    }
   ],
   "source": [
    "# Useful starting lines\n",
    "%matplotlib inline\n",
    "import numpy as np\n",
    "import matplotlib.pyplot as plt\n",
    "\n",
    "%load_ext autoreload\n",
    "%autoreload 2"
   ]
  },
  {
   "cell_type": "markdown",
   "id": "927ddbc4-74dd-4b7e-bc8e-39c4775c6340",
   "metadata": {},
   "source": [
    "# **Load the training data**\n",
    "\n",
    "We load the training data."
   ]
  },
  {
   "cell_type": "code",
   "execution_count": 13,
   "id": "274a0894-6252-4b01-9c74-9b10d37bf93b",
   "metadata": {
    "tags": []
   },
   "outputs": [
    {
     "name": "stdout",
     "output_type": "stream",
     "text": [
      "The data has 328135 samples and 321 features !\n"
     ]
    }
   ],
   "source": [
    "import datetime\n",
    "from implementations import *\n",
    "\n",
    "data_load = load_data(\"x_train.csv\")\n",
    "pred = load_data(\"y_train.csv\")\n",
    "print(f\"The data has {data_load.shape[0]} samples and {data_load.shape[1]} features !\")"
   ]
  },
  {
   "cell_type": "markdown",
   "id": "4965fdf4-fe30-488c-8f3d-41e4821cd4b1",
   "metadata": {},
   "source": [
    "The first column is states and I create a new column to classify with the ranking of PIB between them, and replace each state number by their position in the ranking."
   ]
  },
  {
   "cell_type": "code",
   "execution_count": 14,
   "id": "d7ab9fa9-e262-4c71-868a-be6bcdcd45ee",
   "metadata": {
    "tags": []
   },
   "outputs": [],
   "source": [
    "def replace(arr, old_values, new_values):\n",
    "    result = arr.copy()\n",
    "\n",
    "    for old_val, new_val in zip(old_values, new_values):\n",
    "        result[result == old_val] = new_val\n",
    "\n",
    "    return result"
   ]
  },
  {
   "cell_type": "code",
   "execution_count": 17,
   "id": "a352fc54-92fe-4156-bfe8-2d2c59b3d904",
   "metadata": {
    "tags": []
   },
   "outputs": [],
   "source": [
    "# Where put district of columbia ? super high PIB\n",
    "\n",
    "new_rank_state = [27,46,20,34,1,16,23,42,0,4,9,38,40,5,19,30,\n",
    "                 33,28,24,43,15,11,14,17,12,22,48,35,32,39,8,37,3,\n",
    "                 12,45,7,29,25,6,44,26,47,18,2,31,50,13,10,41,21,49,51,52]\n",
    "old_states_name =  [1,2,4,5,6,8,9,10,11,12,13,15,16,17,18,19,20,21,22,23,24,25,26,27,28,\n",
    "                    29,30,31,32,33,34,35,36,37,38,39,40,41,42,44,45,46,47,48,49,50,51,53,54,55,56,66,72]\n",
    "\n",
    "ranking_column = replace(data_load[:,0], old_states_name, new_rank_state)"
   ]
  },
  {
   "cell_type": "markdown",
   "id": "8cad0ca3-b06a-4eaa-8c61-ca269eca19c2",
   "metadata": {},
   "source": [
    "Next 5 columns are useless, they are about interview date and index of patient\n",
    "## COLUMNS TO DELETE 2 3 4 5 7 8 9 10 12 14 19 20 21 22 23\n",
    "\n",
    "## POSSIBLE MEAN 13 24 25 26 27 28 29 33 37 59"
   ]
  },
  {
   "cell_type": "markdown",
   "id": "dcb427d5-6f7e-4d24-bf33-93639a4f41a7",
   "metadata": {},
   "source": [
    "The 6th column is DISPCODE, so if interview was complete or not, I change value to 1 if complete 0 if not."
   ]
  },
  {
   "cell_type": "code",
   "execution_count": 19,
   "id": "0758cd4b-3aa9-486e-b0a0-fb2d9563c137",
   "metadata": {},
   "outputs": [],
   "source": [
    "data_load[:,6] = replace(data_load[:,6], [1100,1200], [1,0])\n",
    "data_load[:,13] = replace(data_load[:,13], [0,1], [1,2])\n",
    "data_load[:,24] = replace(data_load[:,24], [1,2,7,9], [0,1,np.nan,np.nan])\n",
    "data_load[:,25] = replace(data_load[:,25], [77,99], [np.nan,np.nan])\n",
    "data_load[:,26] = replace(data_load[:,26], [2,3,4,5,7,9], [0.75,0.5,0.25,0,np.nan,np.nan])\n",
    "\n",
    "array_1 = [27,28,29]\n",
    "\n",
    "for i in array_1 : \n",
    "    data_load[:,i] = replace(data_load[:,i], [88,77,99], [np.nan,np.nan,np.nan])\n",
    "\n",
    "data_load[:,31] = replace(data_load[:,31], [3,7,9], [0,np.nan,np.nan])\n",
    "\n",
    "array_2 = [30,32,34,35,36,38,39,40,41,42,43,44,45,46,47,48,53,54,55,56,57,61,64,65,66,67,68,69,70,71,72,73,74,76,87,95,96,100]\n",
    "           \n",
    "for i in array_2:\n",
    "    data_load[:,i] = replace(data_load[:,i], [7,9], [np.nan,np.nan])\n",
    "    \n",
    "\n",
    "data_load[:,33] = replace(data_load[:,33], [1,2,3,4,7,8,9], [6,18,42,60,np.nan,120,np.nan])\n",
    "\n",
    "\n",
    "data_load[:,37] = replace(data_load[:,37], [1,2,3,4,7,9], [6,18,42,60,np.nan,np.nan])\n",
    "data_load[:,49] = replace(data_load[:,49], [98,99], [np.nan,np.nan])\n",
    "\n",
    "array_3 = [51,52,58]\n",
    "\n",
    "for i in array_3 : \n",
    "    data_load[:,i] = replace(data_load[:,i], [9], [np.nan])\n",
    "    "
   ]
  },
  {
   "cell_type": "markdown",
   "id": "921196e3-f10f-4971-9035-9e7d8c14a5e0",
   "metadata": {},
   "source": [
    "9th to 13th column are bound together, they help getting the answer on the last column CELLFON3, so we can remove the 9th, 10th, 11th and 12th columns.\n",
    "I create a new column to know if the survey is done on a cellphone or fixed phone.\n"
   ]
  },
  {
   "cell_type": "markdown",
   "id": "15c95905-ae29-42c0-a11c-5d9c92b167f0",
   "metadata": {
    "tags": []
   },
   "source": [
    "Column 15,16,17 is super useful and tells us about the number of adults in the household, but they are not logic. Number of household where 1 adult < Number of household where 1 adult men"
   ]
  },
  {
   "cell_type": "markdown",
   "id": "6c5073c5-d763-4738-9af6-f0ae445cf73b",
   "metadata": {
    "tags": []
   },
   "source": [
    "19th column to 24th bound together so only last one useful (24th)\n",
    "We denote the value in the 24th column 0 if the person is a woman and doesnt have a fixed number to receive calls, 1 if she has one.\n",
    "2 if the person is a man and doesnt have a fixed number to receive calls, 3 if he has one.\n"
   ]
  },
  {
   "cell_type": "markdown",
   "id": "5df594b1-a9b3-4f4d-9049-0945fe06fc50",
   "metadata": {
    "tags": []
   },
   "source": [
    "Column 25 is super interesting tells us the number of adults in the household and is similar to column 15 but seems more logic !\n",
    "But the values are extremes we have to change them !\n"
   ]
  },
  {
   "cell_type": "markdown",
   "id": "52414870-f49c-45cc-93b1-5ed7466e0fb7",
   "metadata": {
    "tags": []
   },
   "source": [
    "Column 30"
   ]
  },
  {
   "cell_type": "code",
   "execution_count": 39,
   "id": "6702abde-1247-4c6a-8a97-b30585f5f314",
   "metadata": {
    "tags": []
   },
   "outputs": [],
   "source": [
    "data_load[:,49] = replace(data_load[:,49], old_edzdzzd, ZEEZEZ)\n",
    "\n",
    "erer = [np.nan]\n",
    "old_rerere = [9]\n",
    "\n",
    "data_load[:,51] = replace(data_load[:,51], old_rerere, erer)\n",
    "data_load[:,52] = replace(data_load[:,52], old_rerere, erer)"
   ]
  },
  {
   "cell_type": "code",
   "execution_count": 41,
   "id": "d6828fad-c45c-4cc4-bf06-3db463680162",
   "metadata": {
    "tags": []
   },
   "outputs": [],
   "source": [
    "YUYU = [np.nan,np.nan]\n",
    "old_ryuu = [88,99]\n",
    "\n",
    "data_load[:,59] = replace(data_load[:,59], old_ryuu, YUYU)\n",
    "\n",
    "oioi = [5,12.5,17.5,22.5,30,42.5,62.5,75,np.nan,np.nan]\n",
    "\n",
    "old_oioi = [1,2,3,4,5,6,7,8,77,99] \n",
    "\n",
    "data_load[:,60] = replace(data_load[:,60], old_rerere, erer)"
   ]
  },
  {
   "cell_type": "code",
   "execution_count": 42,
   "id": "a9918cee-123d-4811-aa2c-95e25b1da4e6",
   "metadata": {
    "tags": []
   },
   "outputs": [],
   "source": [
    "w = [np.nan,np.nan]\n",
    "old_w = [7777,9999]\n",
    "\n",
    "data_load[:,62] = replace(data_load[:,62], old_w, w)"
   ]
  },
  {
   "cell_type": "code",
   "execution_count": 43,
   "id": "6420005c-3769-455c-8384-42201b48af7c",
   "metadata": {
    "tags": []
   },
   "outputs": [
    {
     "name": "stdout",
     "output_type": "stream",
     "text": [
      "[110. 200.  nan ... 320. 250. 150.]\n"
     ]
    }
   ],
   "source": [
    "print(data_load[:, 62])"
   ]
  },
  {
   "cell_type": "code",
   "execution_count": 51,
   "id": "69f2685a-2b23-48ee-a22d-72ad54ad7291",
   "metadata": {},
   "outputs": [
    {
     "name": "stdout",
     "output_type": "stream",
     "text": [
      "[  1469   1747   1767   2151   2269   2284   4233   5266   6405   6775\n",
      "   6783   7134   8372   9317   9532   9821   9900  10154  10897  11447\n",
      "  11454  11825  12121  12588  12827  12889  12981  13009  13251  13894\n",
      "  14195  14208  14439  14842  15187  15558  15869  15892  15901  16507\n",
      "  16695  17692  18044  18079  18423  18994  19887  19928  20842  22777\n",
      "  23525  24595  24811  24949  25139  26481  27377  27427  28719  29275\n",
      "  30026  30303  30974  31039  31560  32096  32514  32552  33390  33510\n",
      "  33572  35813  35911  36459  36655  36992  37294  37322  39068  39407\n",
      "  39652  39906  39973  39992  40349  40678  41688  42071  42524  42662\n",
      "  43192  43247  43451  43928  44796  45062  45351  46130  46233  46395\n",
      "  47438  47544  48852  48954  49235  49970  50038  50271  50481  51322\n",
      "  51403  51664  52190  52392  52872  53676  54134  54639  54644  54651\n",
      "  54711  54786  55475  55881  56270  56517  57805  58186  58529  58774\n",
      "  58900  59661  59979  59985  60737  61166  61347  61636  61942  61987\n",
      "  62085  62604  64018  64471  64818  65880  66452  66618  67397  67689\n",
      "  68832  69145  70956  72037  72493  72692  72892  73743  74341  74827\n",
      "  75014  75979  76083  76162  77316  77507  77762  78062  78199  78400\n",
      "  79443  79667  79959  81057  81302  81519  81693  81946  82086  82385\n",
      "  82489  82562  83205  83580  84171  84270  84712  84843  85194  86856\n",
      "  87293  87670  88284  88286  88466  89437  89488  89865  89995  90312\n",
      "  92075  92172  92809  93446  93857  94406  95257  95797  96021  96074\n",
      "  98250  98816  99288  99614 100937 101134 102529 102681 102798 103024\n",
      " 103225 103475 103959 105149 105199 105496 105799 106089 106805 107036\n",
      " 107815 108438 108788 108815 109121 109437 109764 110115 111431 113354\n",
      " 114280 114406 116236 116749 117209 117328 117390 118459 118899 119375\n",
      " 119659 120113 121053 121458 121767 123131 123497 124305 124798 126132\n",
      " 127790 127797 127829 128390 128681 128735 129249 129330 130250 130684\n",
      " 131427 131999 132045 132095 132524 133280 133452 133512 135662 135728\n",
      " 136794 136932 137119 138300 139111 139128 139318 140419 143039 143368\n",
      " 144200 145075 145200 145408 146391 146838 147158 147362 147552 148281\n",
      " 148591 149072 149512 149837 149971 150090 151172 151332 152211 152809\n",
      " 153870 154584 154607 155486 155594 156289 156537 157124 157350 158498\n",
      " 158553 158644 158857 159042 159226 160718 161283 161632 162472 162784\n",
      " 162832 163436 163636 164721 164846 165158 166197 166595 166661 168411\n",
      " 169895 170494 171140 172390 172439 172880 172922 174512 174722 174892\n",
      " 175958 177137 177347 177477 177932 177974 178403 179079 179108 179733\n",
      " 180043 181661 181738 181998 182424 182566 182629 183672 183767 184498\n",
      " 184568 184596 184719 184889 185200 185394 186040 186435 187514 187889\n",
      " 187941 188292 188822 188867 188952 190923 191248 193376 193542 193638\n",
      " 193870 194194 194553 194768 195218 195520 195841 195926 195983 196334\n",
      " 196347 196410 196558 197177 197286 197522 198295 199300 199953 201017\n",
      " 201282 201801 202979 203058 203468 203494 203747 203814 203854 204164\n",
      " 204511 205684 205772 205993 206961 206995 207277 207701 207704 208380\n",
      " 208545 210364 210385 212118 213166 214424 214755 216183 216190 216512\n",
      " 216920 216996 218451 218869 219203 219358 219766 220128 220302 220431\n",
      " 220484 220595 221241 222419 222458 223795 223800 224192 224585 224850\n",
      " 225066 226061 226256 226916 226924 228879 229565 229998 230104 230511\n",
      " 230970 231202 231602 231784 232302 233264 233541 233650 234068 234084\n",
      " 234968 235346 235731 236422 236615 236993 238729 238820 240472 240547\n",
      " 240653 241091 242909 243049 243552 243720 244226 244883 245930 246205\n",
      " 246628 246659 246718 247189 247587 247967 248061 248596 249648 250890\n",
      " 251659 252522 253347 253952 254246 254697 254909 256046 256551 257032\n",
      " 257366 257869 258447 258602 258903 259237 259889 260469 261203 261907\n",
      " 263134 263569 263713 263848 264569 264573 264811 265104 266175 266336\n",
      " 266532 266880 268092 268306 268702 269412 270872 271366 271655 271834\n",
      " 271954 272607 273014 273297 273478 273557 274139 274266 274326 274641\n",
      " 275786 276232 276775 277004 277567 277752 278037 278222 278490 278742\n",
      " 278817 279072 279913 280096 280725 281212 281671 281691 281759 284067\n",
      " 284265 284350 284539 285098 285531 286155 286346 286511 287477 288083\n",
      " 289051 289537 289967 292747 292858 293213 293891 294506 294539 294990\n",
      " 295166 295207 295285 295365 296407 296846 297102 297307 297421 297511\n",
      " 297525 297573 297922 298437 298604 299461 299497 299509 300117 300670\n",
      " 300858 301268 301498 301608 302120 302342 303189 303618 303651 303853\n",
      " 304630 305501 305688 306692 306762 306780 307296 308230 309274 309276\n",
      " 309500 309592 310411 310491 311105 311125 312053 312473 312532 312533\n",
      " 312680 312814 313604 313678 313717 314673 315116 315544 316228 316688\n",
      " 316931 316944 318111 318347 318511 320678 321699 323431 323571 323865\n",
      " 324995 325053 325403 325945 325963 326067 326496]\n",
      "9050.0\n",
      "9055.0\n"
     ]
    }
   ],
   "source": [
    "indices = np.where(np.logical_and(data_load[:, 62] > 9000, data_load[:, 62] < 9999))\n",
    "result = indices[0]\n",
    "print(result)\n",
    "print(data_load[1469, 62])\n",
    "print(data_load[15558, 62])"
   ]
  },
  {
   "cell_type": "code",
   "execution_count": null,
   "id": "5db9a805-9348-4d97-8c97-c5b11dc7fd0c",
   "metadata": {},
   "outputs": [],
   "source": [
    "indices = np.where(np.logical_and(data_load[:, 63] > 9000, data_load[:, 63] < 9999))\n",
    "result = indices[0]\n",
    "print(result)\n",
    "print(data_load[1469, 62])\n",
    "print(data_load[15558, 62])"
   ]
  },
  {
   "cell_type": "code",
   "execution_count": 66,
   "id": "c9755216-a47f-4a3a-99eb-17790b777ff5",
   "metadata": {
    "tags": []
   },
   "outputs": [],
   "source": [
    "#62 DEMANDER AVIS\n",
    "#D'abord le replace et après :\n",
    "\n",
    "def convert_value(x):\n",
    "    if x >= 9000 :\n",
    "        return int((x - 9000) * 2.20462)\n",
    "    else:\n",
    "        return x \n",
    "\n",
    "data_load[:, 62] = list(map(convert_value,(data_load[:, 62])))"
   ]
  },
  {
   "cell_type": "code",
   "execution_count": 80,
   "id": "58e62915-0f5b-46e1-b2fa-1e10bad69984",
   "metadata": {
    "tags": []
   },
   "outputs": [
    {
     "name": "stdout",
     "output_type": "stream",
     "text": [
      "59.055150000000005\n",
      "65.748067\n"
     ]
    }
   ],
   "source": [
    "indices = np.where(np.logical_and(data_load[:, 63] > 9000, data_load[:, 63] < 9999))\n",
    "result = indices[0][0:10]\n",
    "result\n",
    "print(data_load[171, 63])\n",
    "print(data_load[1767, 63])"
   ]
  },
  {
   "cell_type": "code",
   "execution_count": 79,
   "id": "b4bdc589-c21d-45fb-936f-9d95d5e33124",
   "metadata": {},
   "outputs": [],
   "source": [
    "#63 LA MEME\n",
    "def func(x):\n",
    "    str_x = str(x)\n",
    "    \n",
    "    if x < 9000:          \n",
    "        return np.floor(x/100)*12 + (x % 100)\n",
    "    else: \n",
    "        return (x - 9000) * 0.393701\n",
    "\n",
    "data_load[:, 63] = list(map(func,(data_load[:, 63])))"
   ]
  },
  {
   "cell_type": "code",
   "execution_count": null,
   "id": "9c256bcb-808e-4788-9377-04a1e7cbf934",
   "metadata": {},
   "outputs": [],
   "source": [
    "print(data_load[171, 63])\n",
    "print(data_load[1767, 63])"
   ]
  },
  {
   "cell_type": "code",
   "execution_count": null,
   "id": "53d13545-1d11-46c7-8dcd-dcfb154eac35",
   "metadata": {},
   "outputs": [],
   "source": [
    "###\n",
    "[15,60,135,270,1080,2070,3600,np.nan,np.nan,np.nan]\n",
    "[1,2,3,4,5,6,7,8,77,99]"
   ]
  },
  {
   "cell_type": "code",
   "execution_count": null,
   "id": "c99599bf-2ae8-4f5e-93b6-a065dc80c604",
   "metadata": {},
   "outputs": [],
   "source": [
    "### A MONTRER AUSSI\n",
    "def func3WEEKMONTH(x):\n",
    "    x_str = str(x)\n",
    "    if x_str[0] === \"1\":       \n",
    "        return 4*int(x_str[-2:])\n",
    "    else:\n",
    "        return int(x_str[-2:])\n",
    "\n",
    "data_load[:, 77] = np.vectorize(func3WEEKMONTH)(data_load[:, 77])"
   ]
  },
  {
   "cell_type": "code",
   "execution_count": null,
   "id": "d2f223a8-eee0-420b-88a5-760575ab1809",
   "metadata": {},
   "outputs": [],
   "source": [
    "### A MONTRER AUSSI\n",
    "def func3334(x):\n",
    "    x_str = str(x)\n",
    "    if x_str[0] === \"1\":       \n",
    "        return 30 *int(x_str[-2:])\n",
    "    elif x_str[0] === \"2\":\n",
    "        return (4.25*int(x_str[-2:])).astype(int)\n",
    "    else \n",
    "        return int(x_str[-2:])\n",
    "\n",
    "data_load[:, 81] = np.vectorize(func3334)(data_load[:, 81])\n",
    "data_load[:, 82] = np.vectorize(func3334)(data_load[:, 82])\n",
    "data_load[:, 83] = np.vectorize(func3334)(data_load[:, 83])\n",
    "data_load[:, 84] = np.vectorize(func3334)(data_load[:, 84])\n",
    "data_load[:, 85] = np.vectorize(func3334)(data_load[:, 85])\n",
    "data_load[:, 86] = np.vectorize(func3334)(data_load[:, 86])"
   ]
  },
  {
   "cell_type": "code",
   "execution_count": null,
   "id": "89ee5dfd-ebef-480f-87de-a6e64bbe8bed",
   "metadata": {},
   "outputs": [],
   "source": [
    "####\n",
    "data_load[:, 89] = np.vectorize(func3WEEKMONTH)(data_load[:, 89])"
   ]
  },
  {
   "cell_type": "code",
   "execution_count": null,
   "id": "fdf96070-b185-49d1-b35b-6c8b7aecef71",
   "metadata": {},
   "outputs": [],
   "source": [
    "#### \n",
    "def funcHEUREMIN(x):\n",
    "    x_str = str(x)\n",
    "    return int(x_str[0])*60 + int(x_str[-2:])\n",
    "    \n",
    "\n",
    "data_load[:, 90] = np.vectorize(funcHEUREMIN)(data_load[:, 90])"
   ]
  },
  {
   "cell_type": "code",
   "execution_count": null,
   "id": "83abfaeb-f85b-4a6b-a0b4-c12fb3667add",
   "metadata": {},
   "outputs": [],
   "source": [
    "####\"\n",
    "\n",
    "data_load[:, 92] = np.vectorize(func3WEEKMONTH)(data_load[:, 92])"
   ]
  },
  {
   "cell_type": "code",
   "execution_count": null,
   "id": "9d09c6ff-9020-47c1-b742-7ed7e46ed5eb",
   "metadata": {},
   "outputs": [],
   "source": [
    "data_load[:, 93] = np.vectorize(funcHEUREMIN)(data_load[:, 93])"
   ]
  },
  {
   "cell_type": "code",
   "execution_count": null,
   "id": "d0e7232a-8f4c-4091-8a96-67ea735107d7",
   "metadata": {},
   "outputs": [],
   "source": [
    "data_load[:, 94] = np.vectorize(func3WEEKMONTH)(data_load[:, 94])"
   ]
  },
  {
   "cell_type": "code",
   "execution_count": null,
   "id": "fe50dddd-c43f-4e01-a406-8f0948fcb4c8",
   "metadata": {},
   "outputs": [],
   "source": [
    "####  97 \n",
    "zzzzze = [0.5,0,np.nan,np.nan]\n",
    "old_ezezez = [2,3,7,9]"
   ]
  },
  {
   "cell_type": "code",
   "execution_count": null,
   "id": "bd767528-547a-458e-b22a-2de3e23d88bb",
   "metadata": {},
   "outputs": [],
   "source": [
    "###99 \n",
    "[2,3,4,5,7,8,9] => [0.75,0.5,0.25,0,np.nan,np.nan,np.nan]"
   ]
  },
  {
   "cell_type": "code",
   "execution_count": null,
   "id": "9510f3d9-d0ec-412b-a448-e6dc2474135a",
   "metadata": {},
   "outputs": [],
   "source": []
  },
  {
   "cell_type": "code",
   "execution_count": null,
   "id": "045e4bc0-c55c-49e1-b475-a83a985563b2",
   "metadata": {},
   "outputs": [],
   "source": []
  },
  {
   "cell_type": "code",
   "execution_count": null,
   "id": "5414ed1b-550b-4cd7-bed9-dbc8fa2ee782",
   "metadata": {},
   "outputs": [],
   "source": []
  },
  {
   "cell_type": "code",
   "execution_count": null,
   "id": "5404966c-a86a-411e-8587-adee8500cb33",
   "metadata": {},
   "outputs": [],
   "source": []
  },
  {
   "cell_type": "code",
   "execution_count": null,
   "id": "3b4d56f0-d520-490d-a9dd-02226bba7fd5",
   "metadata": {},
   "outputs": [],
   "source": []
  },
  {
   "cell_type": "code",
   "execution_count": null,
   "id": "28c8c52b-4b42-4ded-b359-e107b27be6ed",
   "metadata": {},
   "outputs": [],
   "source": []
  },
  {
   "cell_type": "code",
   "execution_count": null,
   "id": "f5442e01-74f7-42f0-8d77-2339e29be470",
   "metadata": {},
   "outputs": [],
   "source": []
  },
  {
   "cell_type": "code",
   "execution_count": null,
   "id": "e6adbc06-6144-4aec-a4b7-3354330e6ead",
   "metadata": {},
   "outputs": [],
   "source": []
  },
  {
   "cell_type": "code",
   "execution_count": null,
   "id": "8bb81b95-2467-49c7-b15e-b7fea9806068",
   "metadata": {},
   "outputs": [],
   "source": []
  },
  {
   "cell_type": "code",
   "execution_count": null,
   "id": "1cf92570-357d-4048-b36e-3289fa28e813",
   "metadata": {},
   "outputs": [],
   "source": []
  },
  {
   "cell_type": "markdown",
   "id": "878ab50a-2f67-4ebb-9851-fa7b7b380886",
   "metadata": {},
   "source": [
    "We clean the data by removing the nan values by the mean of the rest of the feature"
   ]
  },
  {
   "cell_type": "code",
   "execution_count": null,
   "id": "83dc8496-7e54-4639-97ec-b2895e7d84bc",
   "metadata": {
    "tags": []
   },
   "outputs": [],
   "source": [
    "data = np.ones(data_load.shape)\n",
    "stds = np.array([])\n",
    "for i in range(data.shape[1]):\n",
    "    d, std = standardize_clean(data_load[:, i])\n",
    "    data[:, i] = d\n",
    "    stds = np.append(stds, std)\n",
    "print(stds.shape)"
   ]
  },
  {
   "cell_type": "markdown",
   "id": "7a5f849c-709f-4fd0-8a54-a1f7b0d51a1c",
   "metadata": {
    "tags": []
   },
   "source": [
    "We further clean the data by removing the features where the variance is zero since they are constants for all samples"
   ]
  },
  {
   "cell_type": "code",
   "execution_count": null,
   "id": "207b1a97-b052-47c1-956c-d0fefeeefc9c",
   "metadata": {
    "tags": []
   },
   "outputs": [],
   "source": [
    "indices = np.where(stds != 0)\n",
    "data_var = data[:, indices]\n",
    "data_var = np.squeeze(data_var, axis = 1)\n",
    "print(data_var.shape)"
   ]
  },
  {
   "cell_type": "markdown",
   "id": "693df8b2-ed9b-4548-8468-54e6685eaa16",
   "metadata": {
    "tags": []
   },
   "source": [
    "We also remove the 8 first features as the appear weird in the task of predicting a heart attack"
   ]
  },
  {
   "cell_type": "code",
   "execution_count": null,
   "id": "1d49aa9a-539b-4ab5-9173-2d3b56ea8c9a",
   "metadata": {
    "tags": []
   },
   "outputs": [],
   "source": [
    "data_cleaned = data_var[:, 9:]\n",
    "print(data_cleaned.shape)"
   ]
  },
  {
   "cell_type": "markdown",
   "id": "0022b951-01ae-482a-9a91-bdc6878fa522",
   "metadata": {},
   "source": [
    "We then separe the data to train on 60% of the total and to test it on the remaining 40% "
   ]
  },
  {
   "cell_type": "code",
   "execution_count": null,
   "id": "b8786b70-cd4e-487e-8442-83b524d98912",
   "metadata": {
    "tags": []
   },
   "outputs": [],
   "source": [
    "train_size = np.floor(data_cleaned.shape[0] * 0.6).astype(int)\n",
    "data_cross = data_cleaned[:train_size, :]\n",
    "pred_cross = pred[:train_size]\n",
    "data_test = data_cleaned[train_size:, :]\n",
    "pred_test = pred[train_size:]\n",
    "print(f\"Cross shape : {data_cross.shape} ; Test shape : {data_test.shape}\")"
   ]
  },
  {
   "cell_type": "markdown",
   "id": "7efc066a-74cb-4e6b-9207-61906787dc92",
   "metadata": {},
   "source": [
    "Now we build our models for linear regression"
   ]
  },
  {
   "cell_type": "code",
   "execution_count": null,
   "id": "1c4519d9-76e2-4a60-97fe-9a1890f7cf25",
   "metadata": {
    "tags": []
   },
   "outputs": [],
   "source": [
    "y, tx = build_model_data(data_cross, pred_cross)\n",
    "y_test, tx_test = build_model_data(data_test, pred_test)\n",
    "print(f\"The data has now {tx.shape[1]} features !\")"
   ]
  },
  {
   "cell_type": "markdown",
   "id": "d84cb632-ef6f-4cce-9276-2f95f9f1b903",
   "metadata": {},
   "source": []
  },
  {
   "cell_type": "code",
   "execution_count": null,
   "id": "0ae0c7fd-20c1-403e-a175-9b348f5cc4a7",
   "metadata": {
    "tags": []
   },
   "outputs": [],
   "source": []
  },
  {
   "cell_type": "markdown",
   "id": "c41fde6c-4da2-4e82-bbff-8f67e4f9fd0d",
   "metadata": {},
   "source": []
  },
  {
   "cell_type": "code",
   "execution_count": null,
   "id": "e49f21d6-55c5-4fbf-ac2e-78a14ff9164b",
   "metadata": {
    "tags": []
   },
   "outputs": [],
   "source": []
  },
  {
   "cell_type": "markdown",
   "id": "d56d6c6f-feba-49c0-9223-ca63a8d2d8e5",
   "metadata": {},
   "source": []
  },
  {
   "cell_type": "code",
   "execution_count": null,
   "id": "56741a7a-76d9-48fc-8b0a-71dd68b24923",
   "metadata": {
    "tags": []
   },
   "outputs": [],
   "source": []
  },
  {
   "cell_type": "markdown",
   "id": "94441704-eea1-42f3-8439-3bdac8b04b43",
   "metadata": {
    "tags": []
   },
   "source": []
  },
  {
   "cell_type": "code",
   "execution_count": null,
   "id": "15dfe6db-247e-4671-a14d-6ded5d77eb67",
   "metadata": {
    "tags": []
   },
   "outputs": [],
   "source": []
  },
  {
   "cell_type": "code",
   "execution_count": null,
   "id": "ba0f4e66-4959-4f6f-bfa5-87e091c6f6bf",
   "metadata": {},
   "outputs": [],
   "source": []
  },
  {
   "cell_type": "code",
   "execution_count": null,
   "id": "05fddb54-26cc-4208-b93b-77f0f4413428",
   "metadata": {},
   "outputs": [],
   "source": []
  }
 ],
 "metadata": {
  "kernelspec": {
   "display_name": "Python 3 (ipykernel)",
   "language": "python",
   "name": "python3"
  },
  "language_info": {
   "codemirror_mode": {
    "name": "ipython",
    "version": 3
   },
   "file_extension": ".py",
   "mimetype": "text/x-python",
   "name": "python",
   "nbconvert_exporter": "python",
   "pygments_lexer": "ipython3",
   "version": "3.9.18"
  }
 },
 "nbformat": 4,
 "nbformat_minor": 5
}
