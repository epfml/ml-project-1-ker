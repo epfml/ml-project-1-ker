{
 "cells": [
  {
   "cell_type": "code",
   "execution_count": 5,
   "id": "597b3519-d9f5-41ef-b50e-4a6713f922cc",
   "metadata": {
    "tags": []
   },
   "outputs": [
    {
     "name": "stdout",
     "output_type": "stream",
     "text": [
      "The autoreload extension is already loaded. To reload it, use:\n",
      "  %reload_ext autoreload\n"
     ]
    }
   ],
   "source": [
    "# Useful starting lines\n",
    "%matplotlib inline\n",
    "import numpy as np\n",
    "import matplotlib.pyplot as plt\n",
    "\n",
    "%load_ext autoreload\n",
    "%autoreload 2"
   ]
  },
  {
   "cell_type": "markdown",
   "id": "ecbd34a3-b2d3-4988-b1f3-807851544ac4",
   "metadata": {
    "tags": []
   },
   "source": [
    "# **Load the training data**\n",
    "\n",
    "We load the training data."
   ]
  },
  {
   "cell_type": "code",
   "execution_count": 6,
   "id": "1c654f63-ff83-43cb-82a6-347760475597",
   "metadata": {
    "tags": []
   },
   "outputs": [
    {
     "name": "stdout",
     "output_type": "stream",
     "text": [
      "The data has 328135 samples and 321 features !\n"
     ]
    }
   ],
   "source": [
    "import datetime\n",
    "from implementations import *\n",
    "\n",
    "data_load = load_data(\"x_train.csv\")\n",
    "pred = load_data(\"y_train.csv\")\n",
    "print(f\"The data has {data_load.shape[0]} samples and {data_load.shape[1]} features !\")"
   ]
  },
  {
   "cell_type": "markdown",
   "id": "464fbaa8-19ef-4c72-a12c-14cabbc9058f",
   "metadata": {
    "tags": []
   },
   "source": [
    "We clean the data by removing the nan values by the mean of the rest of the feature"
   ]
  },
  {
   "cell_type": "code",
   "execution_count": 7,
   "id": "af1fd85a-a5d7-422c-ac39-70b951cbc119",
   "metadata": {
    "tags": []
   },
   "outputs": [
    {
     "name": "stdout",
     "output_type": "stream",
     "text": [
      "(321,)\n"
     ]
    }
   ],
   "source": [
    "data = np.ones(data_load.shape)\n",
    "stds = np.array([])\n",
    "for i in range(data.shape[1]):\n",
    "    d, std = standardize_clean(data_load[:, i])\n",
    "    data[:, i] = d\n",
    "    stds = np.append(stds, std)\n",
    "print(stds.shape)"
   ]
  },
  {
   "cell_type": "markdown",
   "id": "64238353-3305-4541-bcd4-fae3fef8cf5b",
   "metadata": {
    "tags": []
   },
   "source": [
    "We further clean the data by removing the features where the variance is zero since they are constants for all samples"
   ]
  },
  {
   "cell_type": "code",
   "execution_count": 8,
   "id": "ad402bc4-2c58-4df7-9eb1-ef201702240b",
   "metadata": {
    "tags": []
   },
   "outputs": [
    {
     "name": "stdout",
     "output_type": "stream",
     "text": [
      "(328135, 315)\n"
     ]
    }
   ],
   "source": [
    "indices = np.where(stds != 0)\n",
    "data_var = data[:, indices]\n",
    "data_var = np.squeeze(data_var, axis = 1)\n",
    "print(data_var.shape)"
   ]
  },
  {
   "cell_type": "markdown",
   "id": "44f33035-a776-4696-af7e-59ce6530e880",
   "metadata": {},
   "source": [
    "We also remove the 8 first features as the appear weird in the task of predicting a heart attack"
   ]
  },
  {
   "cell_type": "code",
   "execution_count": 9,
   "id": "f021e6c6-8fb8-443c-86ae-53c473291284",
   "metadata": {
    "tags": []
   },
   "outputs": [
    {
     "name": "stdout",
     "output_type": "stream",
     "text": [
      "(328135, 306)\n"
     ]
    }
   ],
   "source": [
    "data_cleaned = data_var[:, 9:]\n",
    "print(data_cleaned.shape)"
   ]
  },
  {
   "cell_type": "code",
   "execution_count": 10,
   "id": "d93d42b9-8949-4ef7-9a03-87788189ac3c",
   "metadata": {
    "tags": []
   },
   "outputs": [
    {
     "name": "stdout",
     "output_type": "stream",
     "text": [
      "Cross shape : (196881, 306) ; Test shape : (131254, 306)\n"
     ]
    }
   ],
   "source": [
    "train_size = np.floor(data_cleaned.shape[0] * 0.6).astype(int)\n",
    "data_cross = data_cleaned[:train_size, :]\n",
    "pred_cross = pred[:train_size]\n",
    "data_test = data_cleaned[train_size:, :]\n",
    "pred_test = pred[train_size:]\n",
    "print(f\"Cross shape : {data_cross.shape} ; Test shape : {data_test.shape}\")"
   ]
  },
  {
   "cell_type": "markdown",
   "id": "4637171d-7552-4946-9741-8dcfc84dc7e7",
   "metadata": {},
   "source": [
    "Now we build our models for linear regression"
   ]
  },
  {
   "cell_type": "code",
   "execution_count": 12,
   "id": "1af13ebb-9521-48cc-b4c1-87822a537f2d",
   "metadata": {
    "tags": []
   },
   "outputs": [
    {
     "name": "stdout",
     "output_type": "stream",
     "text": [
      "The data has now 307 features !\n"
     ]
    }
   ],
   "source": [
    "y, tx = build_model_data(data_cross, pred_cross)\n",
    "y_test, tx_test = build_model_data(data_test, pred_test)\n",
    "print(f\"The data has now {tx.shape[1]} features !\")"
   ]
  },
  {
   "cell_type": "markdown",
   "id": "b13f3d9c-8f9f-4ef5-9900-def4318458c7",
   "metadata": {
    "tags": []
   },
   "source": [
    "## Linear regression using ridge regression\n",
    "\n",
    "Here we train our model using ridge regression with normal equations"
   ]
  },
  {
   "cell_type": "code",
   "execution_count": 13,
   "id": "fa1fbe32-f1ab-4847-8ef2-f6bf8582cbf3",
   "metadata": {
    "tags": []
   },
   "outputs": [
    {
     "ename": "NameError",
     "evalue": "name 'ridge_regression' is not defined",
     "output_type": "error",
     "traceback": [
      "\u001b[1;31m---------------------------------------------------------------------------\u001b[0m",
      "\u001b[1;31mNameError\u001b[0m                                 Traceback (most recent call last)",
      "Cell \u001b[1;32mIn[13], line 8\u001b[0m\n\u001b[0;32m      5\u001b[0m start_time \u001b[38;5;241m=\u001b[39m datetime\u001b[38;5;241m.\u001b[39mdatetime\u001b[38;5;241m.\u001b[39mnow()\n\u001b[0;32m      7\u001b[0m \u001b[38;5;28;01mfor\u001b[39;00m i \u001b[38;5;129;01min\u001b[39;00m lambda_values:\n\u001b[1;32m----> 8\u001b[0m     w \u001b[38;5;241m=\u001b[39m \u001b[43mridge_regression\u001b[49m(y, tx, i)\n\u001b[0;32m     10\u001b[0m     actual_pred \u001b[38;5;241m=\u001b[39m np\u001b[38;5;241m.\u001b[39mdot(tx, w)\n\u001b[0;32m     11\u001b[0m     actual_pred \u001b[38;5;241m=\u001b[39m (actual_pred \u001b[38;5;241m>\u001b[39m \u001b[38;5;241m0.5\u001b[39m)\u001b[38;5;241m.\u001b[39mastype(\u001b[38;5;28mfloat\u001b[39m)\n",
      "\u001b[1;31mNameError\u001b[0m: name 'ridge_regression' is not defined"
     ]
    }
   ],
   "source": [
    "accuracy_RR = []\n",
    "maxAccuracy = 0\n",
    "lambda_values = np.arange(0, 3, 0.01)\n",
    "\n",
    "start_time = datetime.datetime.now()\n",
    "\n",
    "for i in lambda_values:\n",
    "    w = ridge_regression(y, tx, i)\n",
    "    \n",
    "    actual_pred = np.dot(tx, w)\n",
    "    actual_pred = (actual_pred > 0.5).astype(float)\n",
    "    correctly_classified = np.sum(actual_pred == pred)\n",
    "    accuracy = correctly_classified / len(pred)\n",
    "    \n",
    "    if maxAccuracy < accuracy :\n",
    "        maxAccuracy = accuracy\n",
    "        best_lambda = i\n",
    "    \n",
    "    accuracy_RR.append(accuracy)\n",
    "\n",
    "end_time = datetime.datetime.now()\n"
   ]
  },
  {
   "cell_type": "code",
   "execution_count": null,
   "id": "22f26d4b-3a41-42c8-aa47-2c2a8b25016e",
   "metadata": {},
   "outputs": [],
   "source": [
    "plt.plot(lambda_values, accuracy_RR)\n",
    "plt.xlabel('Lambda')\n",
    "plt.ylabel('Accuracy')\n",
    "plt.title('Ridge Regression: Accuracy vs Lambda')\n",
    "\n",
    "print(f\"Execution time {(end_time - start_time).total_seconds()} seconds\")\n",
    "print(\"The best accuracy in Ridge Regression is obtained for lambda =\", format(best_lambda, '.2f'), \"at\", maxAccuracy)\n"
   ]
  }
 ],
 "metadata": {
  "kernelspec": {
   "display_name": "Python 3 (ipykernel)",
   "language": "python",
   "name": "python3"
  },
  "language_info": {
   "codemirror_mode": {
    "name": "ipython",
    "version": 3
   },
   "file_extension": ".py",
   "mimetype": "text/x-python",
   "name": "python",
   "nbconvert_exporter": "python",
   "pygments_lexer": "ipython3",
   "version": "3.9.18"
  }
 },
 "nbformat": 4,
 "nbformat_minor": 5
}
