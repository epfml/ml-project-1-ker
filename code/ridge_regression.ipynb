{
 "cells": [
  {
   "cell_type": "code",
   "execution_count": 2,
   "id": "597b3519-d9f5-41ef-b50e-4a6713f922cc",
   "metadata": {
    "tags": []
   },
   "outputs": [
    {
     "name": "stdout",
     "output_type": "stream",
     "text": [
      "The autoreload extension is already loaded. To reload it, use:\n",
      "  %reload_ext autoreload\n"
     ]
    }
   ],
   "source": [
    "# Useful starting lines\n",
    "%matplotlib inline\n",
    "import numpy as np\n",
    "import matplotlib.pyplot as plt\n",
    "import datetime\n",
    "\n",
    "import sys\n",
    "\n",
    "sys.path.append('../')\n",
    "\n",
    "from implementations import *\n",
    "\n",
    "%load_ext autoreload\n",
    "%autoreload 2"
   ]
  },
  {
   "cell_type": "markdown",
   "id": "ecbd34a3-b2d3-4988-b1f3-807851544ac4",
   "metadata": {
    "tags": []
   },
   "source": [
    "# **Load and clean the training data**\n",
    "\n",
    "We load the training data."
   ]
  },
  {
   "cell_type": "code",
   "execution_count": 3,
   "id": "1c654f63-ff83-43cb-82a6-347760475597",
   "metadata": {
    "tags": []
   },
   "outputs": [
    {
     "name": "stdout",
     "output_type": "stream",
     "text": [
      "The data has 328135 samples and 321 features !\n"
     ]
    }
   ],
   "source": [
    "x_train, x_test, y_train, train_ids, test_ids = load_csv_data(\"../data\")\n",
    "\n",
    "print(f\"The data has {x_train.shape[0]} samples and {x_train.shape[1]} features !\")"
   ]
  },
  {
   "cell_type": "markdown",
   "id": "f34de0cf-afd8-4ad5-b9e0-c811f0b494fb",
   "metadata": {
    "tags": []
   },
   "source": [
    "We then clean the data by : \n",
    "- selecting the best 43 features with human decision and correlation analysis\n",
    "- removing the nan values by the median of the rest of the feature for continuous values\n",
    "- removing the nan values by the -1 for categorical features\n",
    "- removing the features where the variance is zero since they are constants for all samples"
   ]
  },
  {
   "cell_type": "code",
   "execution_count": 4,
   "id": "0935fec8",
   "metadata": {
    "collapsed": false,
    "jupyter": {
     "outputs_hidden": false
    },
    "pycharm": {
     "name": "#%%\n"
    }
   },
   "outputs": [],
   "source": [
    "cont_data = [13, 15, 16, 17, 24 ,25 ,26 ,27 ,28 ,29 ,33 ,37,49 ,59 ,60 ,62 ,63 ,75 ,77 ,78 ,\n",
    "             79 ,80 ,81 ,82 ,83 ,84 ,85 ,86 ,89 ,90 ,92 ,93 ,94, 98 ,110 ,111 ,112 ,113 ,114 ,143\n",
    "            ,147 ,148 ,149 ,150 ,168 ,195 ,197 , 206 ,207 ,208 ,209 ,210 ,211 ,212 ,213 ,219, 220, 221\n",
    "            ,222, 226, 228, 229, 248 ,250 ,251 ,252 ,253 ,262 ,264 ,266,267,268,269,270,271,276,277,285,286,287,288,291,292, 293,294, 295, 296, 297, 299, 300, 301, 302, 303, 304]\n",
    "\n",
    "# Generate a list of all indices from 1 to 320\n",
    "all_indices = list(range(0, 321))\n",
    "\n",
    "# Use a list comprehension to filter out indices not in your array\n",
    "cat_data = [idx for idx in all_indices if idx not in cont_data]"
   ]
  },
  {
   "cell_type": "code",
   "execution_count": 5,
   "id": "c46b008e-29b2-49b6-9a00-7faf9aaac9bf",
   "metadata": {
    "tags": []
   },
   "outputs": [
    {
     "name": "stdout",
     "output_type": "stream",
     "text": [
      "The data has now 321 features !\n"
     ]
    }
   ],
   "source": [
    "xt_feat = x_train\n",
    "xt_feat = preprocessing(xt_feat)\n",
    "xt_feat = gen_clean(xt_feat, cat_data, cont_data)\n",
    "print(f\"The data has now {xt_feat.shape[1]} features !\")"
   ]
  },
  {
   "cell_type": "code",
   "execution_count": 6,
   "id": "cb1ce27a",
   "metadata": {
    "collapsed": false,
    "jupyter": {
     "outputs_hidden": false
    },
    "pycharm": {
     "name": "#%%\n"
    }
   },
   "outputs": [],
   "source": [
    "xt_z = xt_feat.copy()\n",
    "for i in np.array([0, 1, 2, 3, 4, 5, 7, 8, 9, 10, 11, 12, 14, 19, 20, 21, 22, 23, 88, 91, 101, 105]):\n",
    "    xt_z[:, i] = 0"
   ]
  },
  {
   "cell_type": "code",
   "execution_count": null,
   "id": "49e0572b",
   "metadata": {
    "collapsed": false,
    "jupyter": {
     "outputs_hidden": false
    },
    "pycharm": {
     "name": "#%%\n",
     "is_executing": true
    }
   },
   "outputs": [],
   "source": [
    "xt_feat_sep = cat_sep(xt_z, cat_data)\n",
    "print(f\"The data has now {xt_feat_sep.shape[1]} features !\")"
   ]
  },
  {
   "cell_type": "code",
   "execution_count": 8,
   "id": "e2e7e9c2",
   "metadata": {
    "collapsed": false,
    "jupyter": {
     "outputs_hidden": false
    },
    "pycharm": {
     "name": "#%%\n"
    }
   },
   "outputs": [],
   "source": [
    "separated_categories = np.delete(xt_feat_sep, cat_data, axis=1)"
   ]
  },
  {
   "cell_type": "markdown",
   "id": "0da6ae3f-971b-4319-b3fd-6a474645dc29",
   "metadata": {},
   "source": [
    "# PCA algorithm implementation"
   ]
  },
  {
   "cell_type": "code",
   "execution_count": 9,
   "id": "ee4c6377-557b-4720-b709-e7d6c10a244b",
   "metadata": {
    "tags": []
   },
   "outputs": [
    {
     "name": "stdout",
     "output_type": "stream",
     "text": [
      "We can keep the 138 first most influent features given by pca_indices\n"
     ]
    }
   ],
   "source": [
    "pca_indices, idx = pca(separated_categories)\n",
    "print(f\"We can keep the {idx} first most influent features given by pca_indices\")"
   ]
  },
  {
   "cell_type": "code",
   "execution_count": 11,
   "id": "25f1a433-364f-452b-a7be-d5966307924a",
   "metadata": {
    "tags": []
   },
   "outputs": [
    {
     "name": "stdout",
     "output_type": "stream",
     "text": [
      "The data has now 138 features\n"
     ]
    }
   ],
   "source": [
    "x_train_pca = separated_categories[:, pca_indices]\n",
    "x_train_pca = separated_categories[:, :idx]\n",
    "\n",
    "print(f\"The data has now {x_train_pca.shape[1]} features\")"
   ]
  },
  {
   "cell_type": "markdown",
   "id": "77c72b15-5138-4306-820f-f1a8f05e471f",
   "metadata": {
    "tags": []
   },
   "source": [
    "# Ridge regression"
   ]
  },
  {
   "cell_type": "markdown",
   "id": "f866f3dd-1c9e-47b5-8c3a-7aa9ea4a5a80",
   "metadata": {
    "tags": []
   },
   "source": [
    "We find the Ridge regression solutions using the normal equations.\n",
    "\n",
    "First, we separate our data in a training set (70%) and testing set (30%)."
   ]
  },
  {
   "cell_type": "code",
   "execution_count": 12,
   "id": "d93d42b9-8949-4ef7-9a03-87788189ac3c",
   "metadata": {
    "tags": []
   },
   "outputs": [
    {
     "name": "stdout",
     "output_type": "stream",
     "text": [
      "tx_tr shape : (262508, 138) ; tx_te shape : (65627, 138)\n",
      "       y_tr : (262508,)     ;        y_te : (65627,)\n"
     ]
    }
   ],
   "source": [
    "tx_tr, tx_te, y_tr, y_te = cross(x_train_pca, y_train, 0.8)\n",
    "\n",
    "print(f\"tx_tr shape : {tx_tr.shape} ; tx_te shape : {tx_te.shape}\")\n",
    "print(f\"       y_tr : {y_tr.shape}     ;        y_te : {y_te.shape}\")"
   ]
  },
  {
   "cell_type": "markdown",
   "id": "4637171d-7552-4946-9741-8dcfc84dc7e7",
   "metadata": {},
   "source": [
    "Now we build our models for linear regression"
   ]
  },
  {
   "cell_type": "code",
   "execution_count": 13,
   "id": "1af13ebb-9521-48cc-b4c1-87822a537f2d",
   "metadata": {
    "tags": []
   },
   "outputs": [
    {
     "name": "stdout",
     "output_type": "stream",
     "text": [
      "The data has now 139 features !\n"
     ]
    }
   ],
   "source": [
    "y, tx = build_model_data(tx_tr, y_tr)\n",
    "y_test, tx_test = build_model_data(tx_te, y_te)\n",
    "print(f\"The data has now {tx.shape[1]} features !\")"
   ]
  },
  {
   "cell_type": "markdown",
   "id": "b13f3d9c-8f9f-4ef5-9900-def4318458c7",
   "metadata": {
    "tags": []
   },
   "source": [
    "## Linear regression using ridge regression\n",
    "\n",
    "Here we train our model using ridge regression with normal equations"
   ]
  },
  {
   "cell_type": "code",
   "execution_count": 14,
   "id": "fa1fbe32-f1ab-4847-8ef2-f6bf8582cbf3",
   "metadata": {
    "tags": []
   },
   "outputs": [
    {
     "name": "stdout",
     "output_type": "stream",
     "text": [
      "Degree 2 done !\n",
      "Degree 3 done !\n",
      "Degree 4 done !\n",
      "Degree 5 done !\n",
      "Degree 6 done !\n",
      "Degree 7 done !\n",
      "The best rmse of 0.817 is obtained for a degree of 2 and a lambda of 0.07880.\n",
      "Execution time 8178.622334 seconds\n"
     ]
    }
   ],
   "source": [
    "start_time = datetime.datetime.now()\n",
    "\n",
    "degrees = np.arange(2, 8)\n",
    "lambdas = np.logspace(-4, 0, 30)\n",
    "\n",
    "best_degree, best_lambda, best_rmse = best_degree_selection(y, tx, degrees, 4, lambdas)\n",
    "\n",
    "end_time = datetime.datetime.now()\n",
    "\n",
    "print(\n",
    "    \"The best rmse of %.3f is obtained for a degree of %.f and a lambda of %.5f.\"\n",
    "    % (best_rmse, best_degree, best_lambda)\n",
    ")\n",
    "\n",
    "print(f\"Execution time {(end_time - start_time).total_seconds()} seconds\")"
   ]
  },
  {
   "cell_type": "code",
   "execution_count": 21,
   "id": "38bddf91-ab0e-4d7d-849e-5ab4a4deb515",
   "metadata": {
    "tags": []
   },
   "outputs": [],
   "source": [
    "best_degree = 2\n",
    "best_lambda = 0.07880\n",
    "\n",
    "tx_tr = build_poly(tx, best_degree)\n",
    "tx_te_poly = build_poly(tx_test, best_degree)\n",
    "\n",
    "w, loss = ridge_regression(y, tx_tr, best_lambda)"
   ]
  },
  {
   "cell_type": "code",
   "execution_count": null,
   "id": "376b83ee",
   "metadata": {
    "collapsed": false,
    "jupyter": {
     "outputs_hidden": false
    },
    "pycharm": {
     "name": "#%%\n"
    }
   },
   "outputs": [],
   "source": [
    "best_degree = 2\n",
    "best_lambda = 0.01610\n",
    "\n",
    "tx_tr = build_poly(tx, best_degree)\n",
    "tx_te_poly = build_poly(tx_test, best_degree)\n",
    "\n",
    "w, loss = ridge_regression(y, tx_tr, best_lambda)"
   ]
  },
  {
   "cell_type": "code",
   "execution_count": 22,
   "id": "80d53d04-e034-44cc-8944-2549f0e288fa",
   "metadata": {
    "tags": []
   },
   "outputs": [
    {
     "name": "stdout",
     "output_type": "stream",
     "text": [
      "(262508, 279)\n",
      "(65627, 279)\n"
     ]
    }
   ],
   "source": [
    "print(tx_tr.shape)\n",
    "print(tx_te_poly.shape)"
   ]
  },
  {
   "cell_type": "markdown",
   "id": "e3db5bb5-d9fb-450c-ae3b-9a76dddb2cc3",
   "metadata": {},
   "source": [
    "# Computation of metrics\n",
    "\n",
    "We first compute some metrics on the training data (60% of the total data)\n",
    "\n"
   ]
  },
  {
   "cell_type": "code",
   "execution_count": 18,
   "id": "615cde76-aa52-476f-a2b1-2b6e5e595235",
   "metadata": {
    "tags": []
   },
   "outputs": [],
   "source": [
    "best_thresh = best_threshold(y, tx_tr, w)"
   ]
  },
  {
   "cell_type": "code",
   "execution_count": 23,
   "id": "952b615d-3cc8-403a-9396-fcc229589211",
   "metadata": {
    "tags": []
   },
   "outputs": [
    {
     "name": "stdout",
     "output_type": "stream",
     "text": [
      "Accuracy: 86.16118365916468%\n",
      "Precision: 32.78197447251889%\n",
      "Recall : 54.46165830015579%\n",
      "F1-score : 40.92816026537449%\n"
     ]
    }
   ],
   "source": [
    "pred_data = np.dot(tx_tr, w)\n",
    "\n",
    "pred_data[pred_data > best_thresh] = 1\n",
    "pred_data[pred_data < best_thresh] = -1\n",
    "\n",
    "correctly_classified_data = np.sum(pred_data == y)\n",
    "\n",
    "tp = np.sum((pred_data == 1) & (y == 1))\n",
    "fp = np.sum((pred_data == 1) & (y == -1))\n",
    "\n",
    "tn = np.sum((pred_data == -1) & (y == -1))\n",
    "fn = np.sum((pred_data == -1) & (y == 1))\n",
    "\n",
    "accuracy_data = (tp + tn)/(tp + fp + tn + fn)\n",
    "\n",
    "print(f\"Accuracy: {accuracy_data*100}%\")\n",
    "print(f\"Precision: {tp/(tp + fp)*100}%\")\n",
    "print(f\"Recall : {tp/(tp + fn)*100}%\")\n",
    "print(f\"F1-score : {tp/(tp + 0.5*(fn + fp))*100}%\")"
   ]
  },
  {
   "cell_type": "markdown",
   "id": "509c193f-9520-478f-b06e-131cb186d075",
   "metadata": {
    "tags": []
   },
   "source": [
    "Now we compute some metrics for our test data (40% of the total data)"
   ]
  },
  {
   "cell_type": "code",
   "execution_count": 20,
   "id": "9ac991bb-ded9-4564-9b44-de130c0dad75",
   "metadata": {
    "tags": []
   },
   "outputs": [
    {
     "name": "stdout",
     "output_type": "stream",
     "text": [
      "Accuracy: 86.16727871150593%\n",
      "Precision: 33.39882121807465%\n",
      "Recall : 55.05369013124254%\n",
      "F1-score : 41.57549234135667%\n"
     ]
    }
   ],
   "source": [
    "pred_test = np.dot(tx_te_poly, w)\n",
    "\n",
    "pred_test[pred_test > best_thresh] = 1\n",
    "pred_test[pred_test < best_thresh] = -1\n",
    "\n",
    "correctly_classified_test = np.sum(pred_test == y_test)\n",
    "\n",
    "tp = np.sum((pred_test == 1) & (y_test == 1))\n",
    "fp = np.sum((pred_test == 1) & (y_test == -1))\n",
    "\n",
    "tn = np.sum((pred_test == -1) & (y_test == -1))\n",
    "fn = np.sum((pred_test == -1) & (y_test == 1))\n",
    "\n",
    "accuracy_test = (tp + tn)/(tp + fp + tn + fn)\n",
    "\n",
    "print(f\"Accuracy: {accuracy_test*100}%\")\n",
    "print(f\"Precision: {tp/(tp + fp)*100}%\")\n",
    "print(f\"Recall : {tp/(tp + fn)*100}%\")\n",
    "print(f\"F1-score : {tp/(tp + 0.5*(fn + fp))*100}%\")"
   ]
  },
  {
   "cell_type": "markdown",
   "id": "35954cb8-0835-44e2-bd5b-d8f1a4940bb5",
   "metadata": {},
   "source": [
    "# **Prediction on test data**"
   ]
  },
  {
   "cell_type": "code",
   "execution_count": 22,
   "id": "bd87a85b-60b9-4579-9995-50117c164d40",
   "metadata": {
    "tags": []
   },
   "outputs": [
    {
     "name": "stdout",
     "output_type": "stream",
     "text": [
      "Execution time 3.531589 seconds\n",
      "The data has 109379 samples and 259 features !\n"
     ]
    }
   ],
   "source": [
    "start_time = datetime.datetime.now()\n",
    "\n",
    "tx_test = x_test\n",
    "tx_test = preprocessing(x_test)\n",
    "tx_test = gen_clean(tx_test, [], np.arange(321))\n",
    "\n",
    "tx_test = tx_test[:, pca_indices]\n",
    "tx_test = tx_test[:, :idx]\n",
    "tx_test = np.c_[np.ones(tx_test.shape[0]), tx_test]\n",
    "\n",
    "tx_test = build_poly(tx_test, best_degree)\n",
    "\n",
    "end_time = datetime.datetime.now()\n",
    "print(f\"Execution time {(end_time - start_time).total_seconds()} seconds\")\n",
    "print(f\"The data has {tx_test.shape[0]} samples and {tx_test.shape[1]} features !\")"
   ]
  },
  {
   "cell_type": "code",
   "execution_count": 23,
   "id": "f2538641-7e2e-4460-8633-193e9d439064",
   "metadata": {
    "tags": []
   },
   "outputs": [],
   "source": [
    "pred_te = np.dot(tx_test, w)\n",
    "\n",
    "pred_te[pred_te > best_thresh] = 1\n",
    "pred_te[pred_te < best_thresh] = -1\n",
    "\n",
    "indices_one = np.where(pred_te == 1)"
   ]
  },
  {
   "cell_type": "code",
   "execution_count": 24,
   "id": "8c56f961-1a96-43f5-9fc5-3470349e6b7c",
   "metadata": {
    "tags": []
   },
   "outputs": [],
   "source": [
    "create_csv_submission(test_ids, pred_te, \"../data/ridge_reg.csv\")"
   ]
  }
 ],
 "metadata": {
  "kernelspec": {
   "display_name": "Python 3 (ipykernel)",
   "language": "python",
   "name": "python3"
  },
  "language_info": {
   "codemirror_mode": {
    "name": "ipython",
    "version": 3
   },
   "file_extension": ".py",
   "mimetype": "text/x-python",
   "name": "python",
   "nbconvert_exporter": "python",
   "pygments_lexer": "ipython3",
   "version": "3.11.4"
  }
 },
 "nbformat": 4,
 "nbformat_minor": 5
}