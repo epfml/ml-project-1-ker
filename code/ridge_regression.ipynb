{
 "cells": [
  {
   "cell_type": "code",
   "execution_count": 1,
   "id": "597b3519-d9f5-41ef-b50e-4a6713f922cc",
   "metadata": {
    "tags": []
   },
   "outputs": [],
   "source": [
    "# Useful starting lines\n",
    "%matplotlib inline\n",
    "import numpy as np\n",
    "import matplotlib.pyplot as plt\n",
    "import datetime\n",
    "from implementations import *\n",
    "\n",
    "%load_ext autoreload\n",
    "%autoreload 2"
   ]
  },
  {
   "cell_type": "markdown",
   "id": "ecbd34a3-b2d3-4988-b1f3-807851544ac4",
   "metadata": {
    "tags": []
   },
   "source": [
    "# **Load and clean the training data**\n",
    "\n",
    "We load the training data."
   ]
  },
  {
   "cell_type": "code",
   "execution_count": 6,
   "id": "1c654f63-ff83-43cb-82a6-347760475597",
   "metadata": {
    "tags": []
   },
   "outputs": [
    {
     "name": "stdout",
     "output_type": "stream",
     "text": [
      "The data has 328135 samples and 321 features !\n"
     ]
    }
   ],
   "source": [
    "x_train, x_test, y_train, train_ids, test_ids = load_csv_data(\"../data\")\n",
    "\n",
    "print(f\"The data has {x_train.shape[0]} samples and {x_train.shape[1]} features !\")"
   ]
  },
  {
   "cell_type": "markdown",
   "id": "464fbaa8-19ef-4c72-a12c-14cabbc9058f",
   "metadata": {
    "tags": []
   },
   "source": [
    "For each feature, we clean the data so the values make more sense"
   ]
  },
  {
   "cell_type": "code",
   "execution_count": null,
   "id": "f99e3427-7234-4755-9190-6724954f3132",
   "metadata": {},
   "outputs": [],
   "source": [
    "#TODO : clean the data by calling the associated function in the implementations.py\n",
    "x_train[:,6] = replace(x_train[:,6], [1100,1200], [1,0])\n",
    "x_train[:,13] = replace(x_train[:,13], [0,1], [1,2])\n",
    "x_train[:,24] = replace(x_train[:,24], [1,2,7,9], [0,1,np.nan,np.nan])\n",
    "x_train[:,25] = replace(x_train[:,25], [77,99], [np.nan,np.nan])\n",
    "x_train[:,26] = replace(x_train[:,26], [2,3,4,5,7,9], [0.75,0.5,0.25,0,np.nan,np.nan])\n",
    "\n",
    "array_1 = [27,28,29]\n",
    "\n",
    "for i in array_1 : \n",
    "    x_train[:,i] = replace(x_train[:,i], [88,77,99], [np.nan,np.nan,np.nan])\n",
    "\n",
    "x_train[:,31] = replace(x_train[:,31], [3,7,9], [0,np.nan,np.nan])\n",
    "\n",
    "array_2 = [30,32,34,35,36,38,39,40,41,42,43,44,45,46,47,48,53,54,55,56,57,61,64,65,66,67,68,69,70,71,72,73,74,87,95,96,100,103,104,107,108,116,117,118]\n",
    "           \n",
    "for i in array_2:\n",
    "    x_train[:,i] = replace(x_train[:,i], [7,9], [np.nan,np.nan])\n",
    "    \n",
    "\n",
    "x_train[:,33] = replace(x_train[:,33], [1,2,3,4,7,8,9], [6,18,42,60,np.nan,120,np.nan])\n",
    "x_train[:,37] = replace(x_train[:,37], [1,2,3,4,7,9], [6,18,42,60,np.nan,np.nan])\n",
    "x_train[:,49] = replace(x_train[:,49], [98,99], [np.nan,np.nan])\n",
    "\n",
    "array_3 = [51,52,58]\n",
    "\n",
    "for i in array_3 : \n",
    "    x_train[:,i] = replace(x_train[:,i], [9], [np.nan])\n",
    "    \n",
    "x_train[:,59] = replace(x_train[:,59], [88,99], [0,np.nan])\n",
    "x_train[:,60] = replace(x_train[:,60], [1,2,3,4,5,6,7,8,77,99] , [5,12.5,17.5,22.5,30,42.5,62.5,75,np.nan,np.nan])\n",
    "\n",
    "x_train[:,62] = replace(x_train[:,62], [7777,9999], [np.nan,np.nan])    \n",
    "x_train[:,62] = list(map(IntoPounds,(x_train[:, 62])))\n",
    "\n",
    "x_train[:,63] = replace(x_train[:,63], [7777,9999], [np.nan,np.nan])    \n",
    "x_train[:,63] = list(map(IntoInches,(x_train[:, 63])))\n",
    "\n",
    "x_train[:,75] = replace(x_train[:,75],[1,2,3,4,5,6,7,8,77,99] , [15,60,135,270,1080,2070,3600,np.nan,np.nan,np.nan])\n",
    "x_train[:,76] = replace(x_train[:,76],[3,7,9] ,[0,np.nan,np.nan])\n",
    "x_train[:,77] = replace(x_train[:,77],[777,888,999] ,[np.nan,0,np.nan])\n",
    "x_train[:,77] = list(map(WeekToMonth,(x_train[:, 77])))\n",
    "\n",
    "\n",
    "array_5 = [78,80,88,91,98,119]\n",
    "\n",
    "for i in array_5 :\n",
    "    x_train[:,i] = replace(x_train[:,i], [77,99], [np.nan,np.nan])\n",
    "    \n",
    "x_train[:,79] = replace(x_train[:,79],[77,88,99] ,[np.nan,0,np.nan])\n",
    "\n",
    "array_6 = [81,82,83,84,85,86]\n",
    "\n",
    "for i in array_6 :\n",
    "    x_train[:,i] = replace(x_train[:,i], [300,555,777,999], [0,0,np.nan,np.nan])\n",
    "    x_train[:,i] = list(map(DayToMonth,(x_train[:, i])))\n",
    "    \n",
    "array_7 = [89,90,92,93] \n",
    "\n",
    "for i in array_7 :\n",
    "    x_train[:,i] = replace(x_train[:,i], [777,999],  [0,0,np.nan,np.nan])\n",
    "\n",
    "x_train[:,89] = list(map(WeekToMonth,(x_train[:, 89])))\n",
    "x_train[:,90] = list(map(HourToMinutes,(x_train[:, 90])))\n",
    "x_train[:,92] = list(map(HourToMinutes,(x_train[:, 92])))\n",
    "\n",
    "array_8 = [94,110,111] \n",
    "\n",
    "for i in array_8 :\n",
    "    x_train[:,i] = replace(x_train[:,i], [777,888,999], [np.nan,0,np.nan])\n",
    "\n",
    "x_train[:,94] = replace(x_train[:,94], [777,888,999], [np.nan,0,np.nan])\n",
    "x_train[:,94] = list(map(WeekToMonth,(x_train[:, 94])))\n",
    "x_train[:,97] = replace(x_train[:,97], [2,3,7,9], [0.5,0,np.nan,np.nan])\n",
    "x_train[:,99] = replace(x_train[:,99], [2,3,4,5,7,8,9], [0.75,0.5,0.25,0,np.nan,np.nan,np.nan])\n",
    "x_train[:,101] = replace(x_train[:,101], [777777, 999999],  [np.nan,np.nan])\n",
    "\n",
    "#x_train[:,101] = list(map(DateType,(x_train[:, 101])))\n",
    "\n",
    "x_train[:,105] = replace(x_train[:,105], [777777, 999999],  [np.nan,np.nan])\n",
    "#x_train[:,105] = list(map(DateType,(x_train[:, 105])))\n",
    "\n",
    "x_train[:,110] = list(map(DayToYear,(x_train[:, 110])))\n",
    "x_train[:,111] = list(map(DayToYear,(x_train[:, 111])))\n",
    "\n",
    "x_train[:,113] = replace(x_train[:,113],[77,88,98,99] ,[np.nan,0,np.nan,np.nan])\n",
    "x_train[:,114] = replace(x_train[:,114],[77,88,99] ,[np.nan,0,np.nan])\n",
    "x_train[:,115] = replace(x_train[:,114],[1,2,3,4,7,8,9] ,[15,180,540,720,np.nan,0,np.nan])"
   ]
  },
  {
   "cell_type": "code",
   "execution_count": null,
   "id": "2c45591a-1eb8-4e1e-b7c1-600d53bcd6b4",
   "metadata": {},
   "outputs": [],
   "source": [
    "x_train[:, 240] = replace(x_train[:, 240], [np.nan, 77, 99], [-1, -1, -1])\n",
    "x_train[:, 246] = replace(x_train[:, 246], [np.nan, 14], [-1, -1])\n",
    "x_train[:, 247] = replace(x_train[:, 247], [np.nan, 3], [-1, -1])\n",
    "x_train[:, 252] = replace(x_train[:, 252], [np.nan, 99999], [np.nan, np.nan])\n",
    "x_train[:, 261] = replace(x_train[:, 261], [np.nan, 7, 9], [-1, -1, -1])\n",
    "x_train[:, 262] = replace(x_train[:, 262], [np.nan, 900], [-1, -1])\n",
    "x_train[:, 298] = replace(x_train[:, 298], [np.nan, 9], [1, 1])\n",
    "\n",
    "rep_one = [241, 242, 243, 244, 255, 256, 257, 258, 259, 260, 263, 265, 278, 279, 284, \n",
    "          305, 306, 307, 308, 309, 310, 311, 312, 313, 314, 315, 316, 317, 318, 319, 320]\n",
    "\n",
    "for i in rep_one : \n",
    "    x_train[:, i] = replace(x_train[:, i], [np.nan, 9], [-1, -1])\n",
    "    \n",
    "rep_two = [245, 249, 254, 289, 290, 291, 292]\n",
    "\n",
    "for i in rep_two : \n",
    "    x_train[:, i] = replace(x_train[:, i], [np.nan], [-1])\n",
    "    \n",
    "\n",
    "x_train[:, 264] = replace(x_train[:, 264], [np.nan, 99900], [-1, -1])\n",
    "x_train[:, 287] = replace(x_train[:, 287], [np.nan, 99900], [-1, -1])\n",
    "x_train[:, 288] = replace(x_train[:, 288], [np.nan, 99900], [-1, -1])\n",
    "\n",
    "x_train[:, 272] = replace(x_train[:, 272], [np.nan], [0])\n",
    "x_train[:, 273] = replace(x_train[:, 273], [np.nan], [0])\n",
    "\n",
    "x_train[:, 274] = replace(x_train[:, 274], [np.nan], [1])\n",
    "x_train[:, 275] = replace(x_train[:, 275], [np.nan], [1])\n",
    "x_train[:, 280] = replace(x_train[:, 280], [np.nan], [1])\n",
    "x_train[:, 281] = replace(x_train[:, 281], [np.nan], [1])\n",
    "\n",
    "x_train[:, 282] = replace(x_train[:, 282], [np.nan], [2])\n",
    "x_train[:, 283] = replace(x_train[:, 283], [np.nan], [2])\n",
    "\n",
    "x_train[:, 293] = replace(x_train[:, 293], [np.nan, 99000], [np.nan, np.nan])\n",
    "x_train[:, 294] = replace(x_train[:, 294], [np.nan, 99000], [np.nan, np.nan])\n",
    "x_train[:, 297] = replace(x_train[:, 297], [np.nan, 99000], [np.nan, np.nan])"
   ]
  },
  {
   "cell_type": "markdown",
   "id": "f34de0cf-afd8-4ad5-b9e0-c811f0b494fb",
   "metadata": {
    "tags": []
   },
   "source": [
    "We then clean the data by : \n",
    "- removing the nan values by the mean of the rest of the feature\n",
    "- removing the features where the variance is zero since they are constants for all samples\n",
    "- remove the 8 first features as the appear weird in the task of predicting a heart attack"
   ]
  },
  {
   "cell_type": "code",
   "execution_count": 8,
   "id": "ad402bc4-2c58-4df7-9eb1-ef201702240b",
   "metadata": {
    "tags": []
   },
   "outputs": [
    {
     "name": "stdout",
     "output_type": "stream",
     "text": [
      "(328135, 315)\n"
     ]
    }
   ],
   "source": [
    "x_train, zero_var_features = gen_clean(x_train)\n",
    "print(f\"The data has now {x_train.shape[1]} features !\")"
   ]
  },
  {
   "cell_type": "markdown",
   "id": "44f33035-a776-4696-af7e-59ce6530e880",
   "metadata": {},
   "source": [
    "# PCA algorithm"
   ]
  },
  {
   "cell_type": "code",
   "execution_count": 3,
   "id": "f021e6c6-8fb8-443c-86ae-53c473291284",
   "metadata": {
    "tags": []
   },
   "outputs": [
    {
     "ename": "NameError",
     "evalue": "name 'x_train' is not defined",
     "output_type": "error",
     "traceback": [
      "\u001b[1;31m---------------------------------------------------------------------------\u001b[0m",
      "\u001b[1;31mNameError\u001b[0m                                 Traceback (most recent call last)",
      "Cell \u001b[1;32mIn[3], line 1\u001b[0m\n\u001b[1;32m----> 1\u001b[0m pca_indices, idx \u001b[38;5;241m=\u001b[39m pca(\u001b[43mx_train\u001b[49m)\n\u001b[0;32m      2\u001b[0m \u001b[38;5;28mprint\u001b[39m(\u001b[38;5;124mf\u001b[39m\u001b[38;5;124m\"\u001b[39m\u001b[38;5;124mWe can keep the \u001b[39m\u001b[38;5;132;01m{\u001b[39;00midx\u001b[38;5;132;01m}\u001b[39;00m\u001b[38;5;124m first most influent features given by pca_indices\u001b[39m\u001b[38;5;124m\"\u001b[39m)\n",
      "\u001b[1;31mNameError\u001b[0m: name 'x_train' is not defined"
     ]
    }
   ],
   "source": [
    "pca_indices, idx = pca(x_train)\n",
    "print(f\"We can keep the {idx} first most influent features given by pca_indices\")"
   ]
  },
  {
   "cell_type": "code",
   "execution_count": 10,
   "id": "d93d42b9-8949-4ef7-9a03-87788189ac3c",
   "metadata": {
    "tags": []
   },
   "outputs": [
    {
     "name": "stdout",
     "output_type": "stream",
     "text": [
      "Cross shape : (196881, 306) ; Test shape : (131254, 306)\n"
     ]
    }
   ],
   "source": [
    "train_size = np.floor(data_cleaned.shape[0] * 0.6).astype(int)\n",
    "data_cross = data_cleaned[:train_size, :]\n",
    "pred_cross = pred[:train_size]\n",
    "data_test = data_cleaned[train_size:, :]\n",
    "pred_test = pred[train_size:]\n",
    "print(f\"Cross shape : {data_cross.shape} ; Test shape : {data_test.shape}\")"
   ]
  },
  {
   "cell_type": "markdown",
   "id": "4637171d-7552-4946-9741-8dcfc84dc7e7",
   "metadata": {},
   "source": [
    "Now we build our models for linear regression"
   ]
  },
  {
   "cell_type": "code",
   "execution_count": 12,
   "id": "1af13ebb-9521-48cc-b4c1-87822a537f2d",
   "metadata": {
    "tags": []
   },
   "outputs": [
    {
     "name": "stdout",
     "output_type": "stream",
     "text": [
      "The data has now 307 features !\n"
     ]
    }
   ],
   "source": [
    "y, tx = build_model_data(data_cross, pred_cross)\n",
    "y_test, tx_test = build_model_data(data_test, pred_test)\n",
    "print(f\"The data has now {tx.shape[1]} features !\")"
   ]
  },
  {
   "cell_type": "markdown",
   "id": "b13f3d9c-8f9f-4ef5-9900-def4318458c7",
   "metadata": {
    "tags": []
   },
   "source": [
    "## Linear regression using ridge regression\n",
    "\n",
    "Here we train our model using ridge regression with normal equations"
   ]
  },
  {
   "cell_type": "code",
   "execution_count": 13,
   "id": "fa1fbe32-f1ab-4847-8ef2-f6bf8582cbf3",
   "metadata": {
    "tags": []
   },
   "outputs": [
    {
     "ename": "NameError",
     "evalue": "name 'ridge_regression' is not defined",
     "output_type": "error",
     "traceback": [
      "\u001b[1;31m---------------------------------------------------------------------------\u001b[0m",
      "\u001b[1;31mNameError\u001b[0m                                 Traceback (most recent call last)",
      "Cell \u001b[1;32mIn[13], line 8\u001b[0m\n\u001b[0;32m      5\u001b[0m start_time \u001b[38;5;241m=\u001b[39m datetime\u001b[38;5;241m.\u001b[39mdatetime\u001b[38;5;241m.\u001b[39mnow()\n\u001b[0;32m      7\u001b[0m \u001b[38;5;28;01mfor\u001b[39;00m i \u001b[38;5;129;01min\u001b[39;00m lambda_values:\n\u001b[1;32m----> 8\u001b[0m     w \u001b[38;5;241m=\u001b[39m \u001b[43mridge_regression\u001b[49m(y, tx, i)\n\u001b[0;32m     10\u001b[0m     actual_pred \u001b[38;5;241m=\u001b[39m np\u001b[38;5;241m.\u001b[39mdot(tx, w)\n\u001b[0;32m     11\u001b[0m     actual_pred \u001b[38;5;241m=\u001b[39m (actual_pred \u001b[38;5;241m>\u001b[39m \u001b[38;5;241m0.5\u001b[39m)\u001b[38;5;241m.\u001b[39mastype(\u001b[38;5;28mfloat\u001b[39m)\n",
      "\u001b[1;31mNameError\u001b[0m: name 'ridge_regression' is not defined"
     ]
    }
   ],
   "source": [
    "accuracy_RR = []\n",
    "maxAccuracy = 0\n",
    "lambda_values = np.arange(0, 3, 0.01)\n",
    "\n",
    "start_time = datetime.datetime.now()\n",
    "\n",
    "for i in lambda_values:\n",
    "    w = ridge_regression(y, tx, i)\n",
    "    \n",
    "    actual_pred = np.dot(tx, w)\n",
    "    actual_pred = (actual_pred > 0.5).astype(float)\n",
    "    correctly_classified = np.sum(actual_pred == pred)\n",
    "    accuracy = correctly_classified / len(pred)\n",
    "    \n",
    "    if maxAccuracy < accuracy :\n",
    "        maxAccuracy = accuracy\n",
    "        best_lambda = i\n",
    "    \n",
    "    accuracy_RR.append(accuracy)\n",
    "\n",
    "end_time = datetime.datetime.now()\n"
   ]
  },
  {
   "cell_type": "code",
   "execution_count": null,
   "id": "22f26d4b-3a41-42c8-aa47-2c2a8b25016e",
   "metadata": {},
   "outputs": [],
   "source": [
    "plt.plot(lambda_values, accuracy_RR)\n",
    "plt.xlabel('Lambda')\n",
    "plt.ylabel('Accuracy')\n",
    "plt.title('Ridge Regression: Accuracy vs Lambda')\n",
    "\n",
    "print(f\"Execution time {(end_time - start_time).total_seconds()} seconds\")\n",
    "print(\"The best accuracy in Ridge Regression is obtained for lambda =\", format(best_lambda, '.2f'), \"at\", maxAccuracy)\n"
   ]
  }
 ],
 "metadata": {
  "kernelspec": {
   "display_name": "Python 3 (ipykernel)",
   "language": "python",
   "name": "python3"
  },
  "language_info": {
   "codemirror_mode": {
    "name": "ipython",
    "version": 3
   },
   "file_extension": ".py",
   "mimetype": "text/x-python",
   "name": "python",
   "nbconvert_exporter": "python",
   "pygments_lexer": "ipython3",
   "version": "3.9.18"
  }
 },
 "nbformat": 4,
 "nbformat_minor": 5
}
