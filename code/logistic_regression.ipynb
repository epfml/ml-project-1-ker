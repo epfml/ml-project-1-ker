{
 "cells": [
  {
   "cell_type": "code",
   "execution_count": 3,
   "id": "597b3519-d9f5-41ef-b50e-4a6713f922cc",
   "metadata": {
    "tags": []
   },
   "outputs": [
    {
     "name": "stdout",
     "output_type": "stream",
     "text": [
      "The autoreload extension is already loaded. To reload it, use:\n",
      "  %reload_ext autoreload\n"
     ]
    }
   ],
   "source": [
    "# Useful starting lines\n",
    "%matplotlib inline\n",
    "import numpy as np\n",
    "import matplotlib.pyplot as plt\n",
    "import datetime\n",
    "from implementations import *\n",
    "\n",
    "%load_ext autoreload\n",
    "%autoreload 2"
   ]
  },
  {
   "cell_type": "markdown",
   "id": "ecbd34a3-b2d3-4988-b1f3-807851544ac4",
   "metadata": {
    "tags": []
   },
   "source": [
    "# **Load and clean the training data**\n",
    "\n",
    "We load the training data."
   ]
  },
  {
   "cell_type": "code",
   "execution_count": 4,
   "id": "1c654f63-ff83-43cb-82a6-347760475597",
   "metadata": {
    "tags": []
   },
   "outputs": [
    {
     "name": "stdout",
     "output_type": "stream",
     "text": [
      "The data has 328135 samples and 321 features !\n"
     ]
    }
   ],
   "source": [
    "x_train, x_test, y_train, train_ids, test_ids = load_csv_data(\"../data\")\n",
    "\n",
    "print(f\"The data has {x_train.shape[0]} samples and {x_train.shape[1]} features !\")"
   ]
  },
  {
   "cell_type": "markdown",
   "id": "464fbaa8-19ef-4c72-a12c-14cabbc9058f",
   "metadata": {
    "tags": []
   },
   "source": [
    "For each feature, we clean the data so the values make more sense"
   ]
  },
  {
   "cell_type": "code",
   "execution_count": 5,
   "id": "f99e3427-7234-4755-9190-6724954f3132",
   "metadata": {},
   "outputs": [],
   "source": [
    "#TODO : clean the data by calling the associated function in the implementations.py\n",
    "x_train[:,6] = replace(x_train[:,6], [1100,1200], [1,0])\n",
    "x_train[:,13] = replace(x_train[:,13], [0,1], [1,2])\n",
    "x_train[:,24] = replace(x_train[:,24], [1,2,7,9], [0,1,np.nan,np.nan])\n",
    "x_train[:,25] = replace(x_train[:,25], [77,99], [np.nan,np.nan])\n",
    "x_train[:,26] = replace(x_train[:,26], [2,3,4,5,7,9], [0.75,0.5,0.25,0,np.nan,np.nan])\n",
    "\n",
    "array_1 = [27,28,29]\n",
    "\n",
    "for i in array_1 : \n",
    "    x_train[:,i] = replace(x_train[:,i], [88,77,99], [np.nan,np.nan,np.nan])\n",
    "\n",
    "x_train[:,31] = replace(x_train[:,31], [3,7,9], [0,np.nan,np.nan])\n",
    "\n",
    "array_2 = [30,32,34,35,36,38,39,40,41,42,43,44,45,46,47,48,53,54,55,56,57,61,64,65,66,67,68,69,70,71,72,73,74,87,95,96,100,103,104,107,108,116,117,118]\n",
    "           \n",
    "for i in array_2:\n",
    "    x_train[:,i] = replace(x_train[:,i], [7,9], [np.nan,np.nan])\n",
    "    \n",
    "\n",
    "x_train[:,33] = replace(x_train[:,33], [1,2,3,4,7,8,9], [6,18,42,60,np.nan,120,np.nan])\n",
    "x_train[:,37] = replace(x_train[:,37], [1,2,3,4,7,9], [6,18,42,60,np.nan,np.nan])\n",
    "x_train[:,49] = replace(x_train[:,49], [98,99], [np.nan,np.nan])\n",
    "\n",
    "array_3 = [51,52,58]\n",
    "\n",
    "for i in array_3 : \n",
    "    x_train[:,i] = replace(x_train[:,i], [9], [np.nan])\n",
    "    \n",
    "x_train[:,59] = replace(x_train[:,59], [88,99], [0,np.nan])\n",
    "x_train[:,60] = replace(x_train[:,60], [1,2,3,4,5,6,7,8,77,99] , [5,12.5,17.5,22.5,30,42.5,62.5,75,np.nan,np.nan])\n",
    "\n",
    "x_train[:,62] = replace(x_train[:,62], [7777,9999], [np.nan,np.nan])    \n",
    "x_train[:,62] = list(map(IntoPounds,(x_train[:, 62])))\n",
    "\n",
    "x_train[:,63] = replace(x_train[:,63], [7777,9999], [np.nan,np.nan])    \n",
    "x_train[:,63] = list(map(IntoInches,(x_train[:, 63])))\n",
    "\n",
    "x_train[:,75] = replace(x_train[:,75],[1,2,3,4,5,6,7,8,77,99] , [15,60,135,270,1080,2070,3600,np.nan,np.nan,np.nan])\n",
    "x_train[:,76] = replace(x_train[:,76],[3,7,9] ,[0,np.nan,np.nan])\n",
    "x_train[:,77] = replace(x_train[:,77],[777,888,999] ,[np.nan,0,np.nan])\n",
    "x_train[:,77] = list(map(WeekToMonth,(x_train[:, 77])))\n",
    "\n",
    "\n",
    "array_5 = [78,80,88,91,98,119]\n",
    "\n",
    "for i in array_5 :\n",
    "    x_train[:,i] = replace(x_train[:,i], [77,99], [np.nan,np.nan])\n",
    "    \n",
    "x_train[:,79] = replace(x_train[:,79],[77,88,99] ,[np.nan,0,np.nan])\n",
    "\n",
    "array_6 = [81,82,83,84,85,86]\n",
    "\n",
    "for i in array_6 :\n",
    "    x_train[:,i] = replace(x_train[:,i], [300,555,777,999], [0,0,np.nan,np.nan])\n",
    "    x_train[:,i] = list(map(DayToMonth,(x_train[:, i])))\n",
    "    \n",
    "array_7 = [89,90,92,93] \n",
    "\n",
    "for i in array_7 :\n",
    "    x_train[:,i] = replace(x_train[:,i], [777,999],  [0,0,np.nan,np.nan])\n",
    "\n",
    "x_train[:,89] = list(map(WeekToMonth,(x_train[:, 89])))\n",
    "x_train[:,90] = list(map(HourToMinutes,(x_train[:, 90])))\n",
    "x_train[:,92] = list(map(HourToMinutes,(x_train[:, 92])))\n",
    "\n",
    "array_8 = [94,110,111] \n",
    "\n",
    "for i in array_8 :\n",
    "    x_train[:,i] = replace(x_train[:,i], [777,888,999], [np.nan,0,np.nan])\n",
    "\n",
    "x_train[:,94] = replace(x_train[:,94], [777,888,999], [np.nan,0,np.nan])\n",
    "x_train[:,94] = list(map(WeekToMonth,(x_train[:, 94])))\n",
    "x_train[:,97] = replace(x_train[:,97], [2,3,7,9], [0.5,0,np.nan,np.nan])\n",
    "x_train[:,99] = replace(x_train[:,99], [2,3,4,5,7,8,9], [0.75,0.5,0.25,0,np.nan,np.nan,np.nan])\n",
    "x_train[:,101] = replace(x_train[:,101], [777777, 999999],  [np.nan,np.nan])\n",
    "\n",
    "#x_train[:,101] = list(map(DateType,(x_train[:, 101])))\n",
    "\n",
    "x_train[:,105] = replace(x_train[:,105], [777777, 999999],  [np.nan,np.nan])\n",
    "#x_train[:,105] = list(map(DateType,(x_train[:, 105])))\n",
    "\n",
    "x_train[:,110] = list(map(DayToYear,(x_train[:, 110])))\n",
    "x_train[:,111] = list(map(DayToYear,(x_train[:, 111])))\n",
    "\n",
    "x_train[:,113] = replace(x_train[:,113],[77,88,98,99] ,[np.nan,0,np.nan,np.nan])\n",
    "x_train[:,114] = replace(x_train[:,114],[77,88,99] ,[np.nan,0,np.nan])\n",
    "x_train[:,115] = replace(x_train[:,114],[1,2,3,4,7,8,9] ,[15,180,540,720,np.nan,0,np.nan])"
   ]
  },
  {
   "cell_type": "code",
   "execution_count": 6,
   "id": "ace2ec59",
   "metadata": {},
   "outputs": [
    {
     "name": "stdout",
     "output_type": "stream",
     "text": [
      "[ 1.  3.  5.  1.  8. 28. 12.]\n",
      "[nan nan nan ... nan nan nan]\n"
     ]
    },
    {
     "data": {
      "text/plain": [
       "array([1.0000e+00, 2.0000e+00, 3.0000e+00, 4.0000e+00, 5.0000e+00,\n",
       "       6.0000e+00, 7.0000e+00, 8.0000e+00, 1.0000e+01, 1.1000e+01,\n",
       "       1.2000e+01, 1.4000e+01, 1.5000e+01, 1.7000e+01, 2.0000e+01,\n",
       "       2.1000e+01, 2.4000e+01, 2.5000e+01, 2.8000e+01, 2.9000e+01,\n",
       "       3.0000e+01, 3.1000e+01, 3.5000e+01, 3.6000e+01, 4.0000e+01,\n",
       "       4.2000e+01, 4.8000e+01, 4.9000e+01, 5.6000e+01, 6.0000e+01,\n",
       "       6.5000e+01, 7.0000e+01, 7.2000e+01, 8.4000e+01, 9.0000e+01,\n",
       "       9.6000e+01, 9.9000e+01, 1.0500e+02, 1.0800e+02, 1.2000e+02,\n",
       "       1.3200e+02, 1.4000e+02, 1.4400e+02, 1.5600e+02, 1.8000e+02,\n",
       "       2.0400e+02, 2.1000e+02, 2.1600e+02, 2.2800e+02, 2.4000e+02,\n",
       "       2.8800e+02, 3.2400e+02, 3.6000e+02, 3.6500e+02, 3.8400e+02,\n",
       "       5.5500e+02, 7.3000e+02, 7.6800e+02, 7.7700e+02, 9.9900e+02,\n",
       "       1.0950e+03, 1.1880e+03, 1.4600e+03, 1.8250e+03, 2.1900e+03,\n",
       "       2.5550e+03, 2.9200e+03, 3.2850e+03, 3.6500e+03, 4.0150e+03,\n",
       "       4.3800e+03, 4.7450e+03, 5.1100e+03, 5.4750e+03, 5.8400e+03,\n",
       "       6.2050e+03, 6.5700e+03, 6.9350e+03, 7.3000e+03, 7.6650e+03,\n",
       "       8.0300e+03, 8.3950e+03, 8.7600e+03, 9.1250e+03, 9.4900e+03,\n",
       "       9.8550e+03, 1.0220e+04, 1.0585e+04, 1.0950e+04, 1.1315e+04,\n",
       "       1.1680e+04, 1.2045e+04, 1.2410e+04, 1.2775e+04, 1.3140e+04,\n",
       "       1.3505e+04, 1.3870e+04, 1.4235e+04, 1.4600e+04, 1.4965e+04,\n",
       "       1.5330e+04, 1.5695e+04, 1.6060e+04, 1.6425e+04, 1.6790e+04,\n",
       "       1.7155e+04, 1.7520e+04, 1.7885e+04, 1.8250e+04, 1.8615e+04,\n",
       "       1.8980e+04, 1.9345e+04, 1.9710e+04, 2.0075e+04, 2.0805e+04,\n",
       "       2.1170e+04, 2.1535e+04, 2.1900e+04, 2.2630e+04, 2.2995e+04,\n",
       "       2.3725e+04, 2.4090e+04, 2.4455e+04, 2.5550e+04, 2.6280e+04,\n",
       "       2.7010e+04, 2.9200e+04, 3.0295e+04, 3.6135e+04,        nan])"
      ]
     },
     "execution_count": 6,
     "metadata": {},
     "output_type": "execute_result"
    }
   ],
   "source": [
    "#data_copy = x_train\n",
    "#Replace nan by mean of the col\n",
    "\n",
    "def nan_to_mean(x):\n",
    "    nan_indices = np.isnan(x)\n",
    "    non_nan_indices = ~nan_indices  # Invert the nan_indices to get non-NaN indices\n",
    "    mean_x = np.mean(x[non_nan_indices])\n",
    "    x[nan_indices] = mean_x\n",
    "\n",
    "def nan_to_zero(x):\n",
    "    nan_indices = np.isnan(x)\n",
    "    non_nan_indices = ~nan_indices  # Invert the nan_indices to get non-NaN indices\n",
    "    mean_x = np.mean(x[non_nan_indices])\n",
    "    x[nan_indices] = 0\n",
    "\n",
    "\n",
    "# Replacing all the columns that have  [7,9,np.nan] =>  [np.nan,np.nan,np.mean(data[:, col_number])]\n",
    "\n",
    "cols = [120,121,137,138,139,140,162,166,171,173,175,178,180,183,188,204,205]\n",
    "\n",
    "#put 7,9 to nan\n",
    "old = [7,9]\n",
    "new = [np.nan,np.nan]\n",
    "\n",
    "for col in cols: \n",
    "    x_train[:,col] = replace(x_train[:,col], old,new)\n",
    "    nan_to_mean(x_train[:,col])\n",
    "\n",
    "\n",
    "np.unique(x_train[:,137])\n",
    "# Replacing all the columns that have   [np.nan,7,9] => [0,0,0] \n",
    "cols = [123,124,126,136,141,142,144]\n",
    "my_list = [i for i in range(155, 162)]\n",
    "cols.extend(my_list)\n",
    "my_list = [163,164,165,169,170,172,174,176,177,179,181,182,184,185,186,187,189,191,194,196,198,199,201,202,203,214,215]\n",
    "cols.extend(my_list)\n",
    "\n",
    "old = [np.nan,7,9]\n",
    "new = [0,0,0]\n",
    "\n",
    "for col in cols: \n",
    "    x_train[:,col] = replace(x_train[:,col], old,new)\n",
    "\n",
    "for col in cols: \n",
    "    nan_to_zero(x_train[:,col])\n",
    "\n",
    "# Replacing all the columns that have [np.nan,77,99] => [0,0,0]\n",
    "cols = [122,224,225,239]\n",
    "\n",
    "old = [77,99]\n",
    "new = [0,0]\n",
    "\n",
    "for col in cols: \n",
    "    x_train[:,col] = replace(x_train[:,col], old,new)\n",
    "    nan_to_zero(x_train[:,col])\n",
    "# Replacing all the columns that have  [88,77,99,np.nan] => [0,np.nan,np.nan,np.mean(data[:,mean])]\n",
    "\n",
    "cols = []\n",
    "my_list = [i for i in range(206, 214)]\n",
    "cols.extend(my_list)\n",
    "\n",
    "old = [88,77,99]\n",
    "new = [0,np.nan,np.nan]\n",
    "\n",
    "for col in cols: \n",
    "    x_train[:,col] = replace(x_train[:,col], old,new)\n",
    "    nan_to_mean(x_train[:,col])\n",
    "cols = [133,134,135,146]\n",
    "old = [7]\n",
    "new = [0]\n",
    "\n",
    "for col in cols: \n",
    "    x_train[:,col] = replace(x_train[:,col], old,new)\n",
    "    nan_to_zero(x_train[:,col])\n",
    "cols = []\n",
    "my_list = [i for i in range(216, 223)]\n",
    "cols.extend(my_list)\n",
    "my_list = [i for i in range(226, 230)]\n",
    "cols.extend(my_list)\n",
    "cols.extend([238])\n",
    "\n",
    "\n",
    "for col in cols: \n",
    "    nan_to_zero(x_train[:,col])\n",
    "\n",
    "# [np.nan,9] => [0,0]\n",
    "cols = [200,223]\n",
    "my_list = [i for i in range(230, 238)]\n",
    "cols.extend(my_list)\n",
    "\n",
    "old = [9]\n",
    "new = [0]\n",
    "\n",
    "for col in cols: \n",
    "\n",
    "    x_train[:,col] = replace(x_train[:,col], old,new)\n",
    "    nan_to_zero(x_train[:,col])\n",
    "\n",
    "cols = [125]\n",
    "\n",
    "old = [7,8]\n",
    "new = [np.nan,np.nan]\n",
    "\n",
    "for col in cols: \n",
    "    x_train[:,col] = replace(x_train[:,col], old,new)\n",
    "    nan_to_mean(x_train[:,col])\n",
    "\n",
    "\n",
    "##########################\n",
    "cols = [127]\n",
    "\n",
    "old = [7,8]\n",
    "new = [0,0]\n",
    "\n",
    "for col in cols: \n",
    "    x_train[:,col] = replace(x_train[:,col], old,new)\n",
    "    nan_to_zero(x_train[:,col])\n",
    "\n",
    "########################\n",
    "cols = [128]\n",
    "\n",
    "old = [7]\n",
    "new = [np.nan]\n",
    "for col in cols: \n",
    "    x_train[:,col] = replace(x_train[:,col], old,new)\n",
    "    nan_to_mean(x_train[:,col])\n",
    "\n",
    "\n",
    "#####################\n",
    "cols = [129]\n",
    "\n",
    "old = [5,7,9]\n",
    "new = [0,np.nan,np.nan]\n",
    "\n",
    "for col in cols: \n",
    "    x_train[:,col] = replace(x_train[:,col], old,new)\n",
    "    nan_to_mean(x_train[:,col])\n",
    "\n",
    "##########################\n",
    "\n",
    "cols = [130]\n",
    "\n",
    "old = [8,77,99]\n",
    "new = [0,0,0]\n",
    "for col in cols: \n",
    "    x_train[:,col] = replace(x_train[:,col], old,new)\n",
    "    nan_to_zero(x_train[:,col])\n",
    "\n",
    "#########################\n",
    "cols = [131]\n",
    "\n",
    "old = [5,8,9]\n",
    "new = [0,np.nan,np.nan]\n",
    "\n",
    "for col in cols: \n",
    "    x_train[:,col] = replace(x_train[:,col], old,new)\n",
    "    nan_to_mean(x_train[:,col])\n",
    "\n",
    "###############################\n",
    "\n",
    "cols = [132]\n",
    "\n",
    "old = [7,8,9]\n",
    "new = [0,0,0]\n",
    "\n",
    "for col in cols: \n",
    "    x_train[:,col] = replace(x_train[:,col], old,new)\n",
    "    nan_to_zero(x_train[:,col])\n",
    "\n",
    "########################################\n",
    "\n",
    "cols = [132]\n",
    "\n",
    "old = [7,8,9]\n",
    "new = [0,0,0]\n",
    "\n",
    "for col in cols: \n",
    "    x_train[:,col] = replace(x_train[:,col], old,new)\n",
    "    nan_to_zero(x_train[:,col])\n",
    "\n",
    "\n",
    "############################################                    \n",
    "\n",
    "cols = [145]\n",
    "\n",
    "old = [97,98,99]\n",
    "new = [5,np.nan,np.nan]\n",
    "\n",
    "\n",
    "for col in cols: \n",
    "    x_train[:,col] = replace(x_train[:,col], old,new)\n",
    "    nan_to_mean(x_train[:,col])\n",
    "\n",
    "########################################\n",
    "\n",
    "cols = [147,148]\n",
    "\n",
    "old = [88,98]\n",
    "new = [0, np.nan]\n",
    "\n",
    "for col in cols: \n",
    "    x_train[:,col] = replace(x_train[:,col], old,new)\n",
    "    nan_to_mean(x_train[:,col])\n",
    "\n",
    "####################################\n",
    "\n",
    "cols =[149]\n",
    "\n",
    "old = [88,98,99]\n",
    "new = [0, np.nan, np.nan]\n",
    "for col in cols: \n",
    "    x_train[:,col] = replace(x_train[:,col], old,new)\n",
    "    nan_to_mean(x_train[:,col])\n",
    "\n",
    "##############################\n",
    "cols = [150]\n",
    "\n",
    "old =  [888,777,999]\n",
    "new =  [0,np.nan,np.nan]\n",
    "for col in cols: \n",
    "    x_train[:,col] = replace(x_train[:,col], old,new)\n",
    "    nan_to_mean(x_train[:,col])\n",
    "######################################\n",
    "cols = [151,153,154]\n",
    "\n",
    "old = [8,7,9]\n",
    "new = [0,np.nan,np.nan]\n",
    "for col in cols: \n",
    "    x_train[:,col] = replace(x_train[:,col], old,new)\n",
    "    nan_to_mean(x_train[:,col])\n",
    "\n",
    "###################################\n",
    "\n",
    "cols = [152]\n",
    "\n",
    "old = [8,7]\n",
    "new =  [0,np.nan]\n",
    "for col in cols: \n",
    "    x_train[:,col] = replace(x_train[:,col], old,new)\n",
    "    nan_to_mean(x_train[:,col])\n",
    "\n",
    "###########################\n",
    "\n",
    "cols = [167]\n",
    "old = [3,7,9]\n",
    "new = [0,0,0]\n",
    "for col in cols: \n",
    "    x_train[:,col] = replace(x_train[:,col], old,new)\n",
    "    nan_to_zero(x_train[:,col])\n",
    "\n",
    "#######################\n",
    "cols = [168]\n",
    "old = [77,99]\n",
    "new = [np.nan,np.nan]\n",
    "for col in cols: \n",
    "    x_train[:,col] = replace(x_train[:,col], old,new)\n",
    "    nan_to_mean(x_train[:,col])\n",
    "\n",
    "######################\n",
    "cols = [190]\n",
    "old = [4,9]\n",
    "new = [0,0]\n",
    "for col in cols: \n",
    "    x_train[:,col] = replace(x_train[:,col], old,new)\n",
    "    nan_to_zero(x_train[:,col])\n",
    "\n",
    "################\n",
    "cols = [192,193]\n",
    "old = [7,9,8]\n",
    "new = [np.nan,np.nan,np.nan]\n",
    "for col in cols: \n",
    "    x_train[:,col] = replace(x_train[:,col], old,new)\n",
    "    nan_to_mean(x_train[:,col])\n",
    "\n",
    "####################\n",
    "cols = [195,197]\n",
    "old = [97,98,99]\n",
    "new = [np.nan,0,np.nan]\n",
    "for col in cols: \n",
    "    x_train[:,col] = replace(x_train[:,col], old,new)\n",
    "    nan_to_mean(x_train[:,col])\n",
    "\n",
    "####################### \n",
    "\n",
    "\n",
    "# For col 143 LONGWTCH format time in days \n",
    "def convert_to_days(x):\n",
    "    x = np.where((x >= 100) & (x < 200), x-100,x)\n",
    "    x =  np.where((x >= 200) & (x < 300), (x-200)*7,x)\n",
    "    x =  np.where((x >= 300) & (x < 400), (x-300)*12,x)\n",
    "    x =  np.where((x >= 400) & (x < 500), (x-400)*365,x)\n",
    "\n",
    "    return x\n",
    "x = np.array([1,3,5,101.0,108.0,204.0,301])\n",
    "x= convert_to_days(x)\n",
    "print(x)\n",
    "old = [555,777,999]\n",
    "new = [0,0,0]\n",
    "\n",
    "for col in cols: \n",
    "    x_train[:,col] = replace(x_train[:,col], old,new)\n",
    "    nan_to_zero(x_train[:,col])\n",
    "\n",
    "x_train[:,143] = convert_to_days(x_train[:,143])\n",
    "\n",
    "\n",
    "print(x_train[:,143])\n",
    "np.unique(x_train[:,143])\n",
    "\n"
   ]
  },
  {
   "cell_type": "code",
   "execution_count": 7,
   "id": "2c45591a-1eb8-4e1e-b7c1-600d53bcd6b4",
   "metadata": {},
   "outputs": [],
   "source": [
    "x_train[:, 240] = replace(x_train[:, 240], [np.nan, 77, 99], [-1, -1, -1])\n",
    "x_train[:, 246] = replace(x_train[:, 246], [np.nan, 14], [-1, -1])\n",
    "x_train[:, 247] = replace(x_train[:, 247], [np.nan, 3], [-1, -1])\n",
    "x_train[:, 252] = replace(x_train[:, 252], [np.nan, 99999], [np.nan, np.nan])\n",
    "x_train[:, 261] = replace(x_train[:, 261], [np.nan, 7, 9], [-1, -1, -1])\n",
    "x_train[:, 262] = replace(x_train[:, 262], [np.nan, 900], [-1, -1])\n",
    "x_train[:, 298] = replace(x_train[:, 298], [np.nan, 9], [1, 1])\n",
    "\n",
    "rep_one = [241, 242, 243, 244, 255, 256, 257, 258, 259, 260, 263, 265, 278, 279, 284, \n",
    "          305, 306, 307, 308, 309, 310, 311, 312, 313, 314, 315, 316, 317, 318, 319, 320]\n",
    "\n",
    "for i in rep_one : \n",
    "    x_train[:, i] = replace(x_train[:, i], [np.nan, 9], [-1, -1])\n",
    "    \n",
    "rep_two = [245, 249, 254, 289, 290, 291, 292]\n",
    "\n",
    "for i in rep_two : \n",
    "    x_train[:, i] = replace(x_train[:, i], [np.nan], [-1])\n",
    "    \n",
    "\n",
    "x_train[:, 264] = replace(x_train[:, 264], [np.nan, 99900], [-1, -1])\n",
    "x_train[:, 287] = replace(x_train[:, 287], [np.nan, 99900], [-1, -1])\n",
    "x_train[:, 288] = replace(x_train[:, 288], [np.nan, 99900], [-1, -1])\n",
    "\n",
    "x_train[:, 272] = replace(x_train[:, 272], [np.nan], [0])\n",
    "x_train[:, 273] = replace(x_train[:, 273], [np.nan], [0])\n",
    "\n",
    "x_train[:, 274] = replace(x_train[:, 274], [np.nan], [1])\n",
    "x_train[:, 275] = replace(x_train[:, 275], [np.nan], [1])\n",
    "x_train[:, 280] = replace(x_train[:, 280], [np.nan], [1])\n",
    "x_train[:, 281] = replace(x_train[:, 281], [np.nan], [1])\n",
    "\n",
    "x_train[:, 282] = replace(x_train[:, 282], [np.nan], [2])\n",
    "x_train[:, 283] = replace(x_train[:, 283], [np.nan], [2])\n",
    "\n",
    "x_train[:, 293] = replace(x_train[:, 293], [np.nan, 99000], [np.nan, np.nan])\n",
    "x_train[:, 294] = replace(x_train[:, 294], [np.nan, 99000], [np.nan, np.nan])\n",
    "x_train[:, 297] = replace(x_train[:, 297], [np.nan, 99000], [np.nan, np.nan])"
   ]
  },
  {
   "cell_type": "markdown",
   "id": "f34de0cf-afd8-4ad5-b9e0-c811f0b494fb",
   "metadata": {
    "tags": []
   },
   "source": [
    "We then clean the data by : \n",
    "- removing the nan values by the mean of the rest of the feature\n",
    "- removing the features where the variance is zero since they are constants for all samples\n",
    "- remove the 8 first features as the appear weird in the task of predicting a heart attack"
   ]
  },
  {
   "cell_type": "code",
   "execution_count": 8,
   "id": "ad402bc4-2c58-4df7-9eb1-ef201702240b",
   "metadata": {
    "tags": []
   },
   "outputs": [
    {
     "name": "stdout",
     "output_type": "stream",
     "text": [
      "The data has now 305 features !\n"
     ]
    }
   ],
   "source": [
    "x_train, zero_var_features = gen_clean(x_train)\n",
    "print(f\"The data has now {x_train.shape[1]} features !\")"
   ]
  },
  {
   "cell_type": "markdown",
   "id": "44f33035-a776-4696-af7e-59ce6530e880",
   "metadata": {},
   "source": [
    "# PCA algorithm"
   ]
  },
  {
   "cell_type": "code",
   "execution_count": 9,
   "id": "f021e6c6-8fb8-443c-86ae-53c473291284",
   "metadata": {
    "tags": []
   },
   "outputs": [
    {
     "name": "stdout",
     "output_type": "stream",
     "text": [
      "We can keep the 166 first most influent features given by pca_indices\n"
     ]
    }
   ],
   "source": [
    "pca_indices, idx = pca(x_train)\n",
    "print(f\"We can keep the {idx} first most influent features given by pca_indices\")"
   ]
  },
  {
   "cell_type": "code",
   "execution_count": 10,
   "id": "c8447e89-f417-40d3-ba06-f143a9c15f69",
   "metadata": {
    "tags": []
   },
   "outputs": [
    {
     "name": "stdout",
     "output_type": "stream",
     "text": [
      "The data has now 167 features\n"
     ]
    }
   ],
   "source": [
    "x_train_pca = x_train[:, pca_indices]\n",
    "x_train_pca = x_train_pca[:, :(idx + 1)]\n",
    "print(f\"The data has now {x_train_pca.shape[1]} features\")"
   ]
  },
  {
   "cell_type": "markdown",
   "id": "77c72b15-5138-4306-820f-f1a8f05e471f",
   "metadata": {
    "tags": []
   },
   "source": [
    "# Ridge regression"
   ]
  },
  {
   "cell_type": "markdown",
   "id": "f866f3dd-1c9e-47b5-8c3a-7aa9ea4a5a80",
   "metadata": {
    "tags": []
   },
   "source": [
    "We find the Ridge regression solutions using the normal equations.\n",
    "\n",
    "First, we separate our data in a training set (70%) and testing set (30%)."
   ]
  },
  {
   "cell_type": "code",
   "execution_count": 11,
   "id": "d93d42b9-8949-4ef7-9a03-87788189ac3c",
   "metadata": {
    "tags": []
   },
   "outputs": [
    {
     "name": "stdout",
     "output_type": "stream",
     "text": [
      "tx_tr shape : (229694, 167) ; tx_te shape : (98441, 167)\n",
      "       y_tr : (229694,)     ;        y_te : (98441,)\n"
     ]
    }
   ],
   "source": [
    "tx_tr, tx_te, y_tr, y_te = cross(x_train_pca, y_train, 0.7)\n",
    "\n",
    "print(f\"tx_tr shape : {tx_tr.shape} ; tx_te shape : {tx_te.shape}\")\n",
    "print(f\"       y_tr : {y_tr.shape}     ;        y_te : {y_te.shape}\")"
   ]
  },
  {
   "cell_type": "markdown",
   "id": "4637171d-7552-4946-9741-8dcfc84dc7e7",
   "metadata": {},
   "source": [
    "Now we build our models for linear regression"
   ]
  },
  {
   "cell_type": "code",
   "execution_count": 12,
   "id": "1af13ebb-9521-48cc-b4c1-87822a537f2d",
   "metadata": {
    "tags": []
   },
   "outputs": [
    {
     "name": "stdout",
     "output_type": "stream",
     "text": [
      "The data has now 168 features !\n"
     ]
    }
   ],
   "source": [
    "y, tx = build_model_data(tx_tr, y_tr)\n",
    "y_test, tx_test = build_model_data(tx_te, y_te)\n",
    "print(f\"The data has now {tx.shape[1]} features !\")"
   ]
  },
  {
   "cell_type": "markdown",
   "id": "b13f3d9c-8f9f-4ef5-9900-def4318458c7",
   "metadata": {
    "tags": []
   },
   "source": [
    "## Linear regression using ridge regression\n",
    "\n",
    "Here we train our model using ridge regression with normal equations"
   ]
  },
  {
   "cell_type": "code",
   "execution_count": 29,
   "id": "fa1fbe32-f1ab-4847-8ef2-f6bf8582cbf3",
   "metadata": {
    "tags": []
   },
   "outputs": [
    {
     "name": "stdout",
     "output_type": "stream",
     "text": [
      "We get the best lambda = 1e-05 and best rmse = 0.5490037571997695 best degree = 2\n"
     ]
    }
   ],
   "source": [
    "start_time = datetime.datetime.now()\n",
    "\n",
    "degree = range(10)\n",
    "lambdas = np.logspace(-5, 0, 15)\n",
    "\n",
    "\n",
    "best_degree, best_lambda, best_rmse = ridge_regression_demo(tx, tx_test, y, y_test,lambdas,degree)\n",
    "\n",
    "print(\"We get the best lambda =\",best_lambda,\"and best rmse =\",best_rmse, \"best degree =\",best_degree)\n",
    "\n",
    "best_weight = ridge_regression(y, tx_tr, best_lambda)\n",
    "\n",
    "end_time = datetime.datetime.now()\n"
   ]
  },
  {
   "cell_type": "code",
   "execution_count": 30,
   "id": "85b7144a-63cc-40d8-b100-946a3be4a744",
   "metadata": {
    "tags": []
   },
   "outputs": [],
   "source": [
    "best_weight = ridge_regression(y, build_poly(tx, best_degree), best_lambda)"
   ]
  },
  {
   "cell_type": "markdown",
   "id": "7af586ed",
   "metadata": {},
   "source": [
    "# Log reg"
   ]
  },
  {
   "cell_type": "code",
   "execution_count": 55,
   "id": "ad2367c1",
   "metadata": {},
   "outputs": [
    {
     "name": "stderr",
     "output_type": "stream",
     "text": [
      "c:\\Users\\ricca\\OneDrive\\Documenti\\GitHub\\ml-project-1-ker\\code\\implementations.py:461: RuntimeWarning: overflow encountered in exp\n",
      "  def sigmoid(t):\n"
     ]
    },
    {
     "name": "stdout",
     "output_type": "stream",
     "text": [
      "Execution time 201.257308 seconds\n",
      "2\n",
      "0.21620689655172412\n",
      "-9.424653348096644\n",
      "[-0.8145490859877772, -9.424653348096644, nan, nan, nan, nan, nan, nan, nan, nan, nan, nan, nan, nan, nan, nan, nan, nan, nan, nan, nan, nan, nan, nan, nan, nan, nan, nan, nan, nan]\n"
     ]
    },
    {
     "data": {
      "image/png": "[encoded data removed]",
      "text/plain": [
       "<Figure size 640x480 with 1 Axes>"
      ]
     },
     "metadata": {},
     "output_type": "display_data"
    }
   ],
   "source": [
    "initial_w = np.zeros(tx.shape[1])\n",
    "max_iters = 100\n",
    "\n",
    "start_time = datetime.datetime.now()\n",
    "w =[]\n",
    "loss = []\n",
    "for i in range(1,300,10) : \n",
    "\n",
    "    w_i, loss_i = logistic_gradient_descent(y, tx, initial_w, gamma=i*0.01,max_iters=max_iters)\n",
    "    w.append(w_i)\n",
    "    loss.append(loss_i)\n",
    "\n",
    "end_time = datetime.datetime.now()\n",
    "print(f\"Execution time {(end_time - start_time).total_seconds()} seconds\")\n",
    "gamma = np.linspace(1, 300, 30)  # Example: gamma values ranging from 0 to 1\n",
    "gamma = gamma*0.01\n",
    "\n",
    "plt.plot(gamma, loss, label='Loss', marker='o', linestyle='-')\n",
    "min_ind = np.argmin(loss)\n",
    "\n",
    "print(min_ind)\n",
    "min_gamma = gamma[min_ind]\n",
    "print(min_gamma)\n",
    "\n",
    "\n",
    "print(min(loss))\n",
    "print(loss)\n",
    "# Add labels and title\n",
    "plt.xlabel('Gamma')\n",
    "plt.ylabel('Loss')\n",
    "plt.title('Loss vs. Gamma')\n",
    "\n",
    "# Add a legend\n",
    "plt.legend()\n",
    "\n",
    "# Show the plot (if you're using a Jupyter Notebook, this step may be optional)\n",
    "plt.show()"
   ]
  },
  {
   "cell_type": "code",
   "execution_count": 24,
   "id": "3d85db21",
   "metadata": {},
   "outputs": [
    {
     "name": "stdout",
     "output_type": "stream",
     "text": [
      "[1. 1. 1. ... 1. 1. 1.]\n",
      "(229694, 168)\n"
     ]
    }
   ],
   "source": [
    "print(tx.T[:][0])\n",
    "print(tx.shape)"
   ]
  },
  {
   "cell_type": "code",
   "execution_count": 45,
   "id": "d04548d5",
   "metadata": {},
   "outputs": [
    {
     "name": "stdout",
     "output_type": "stream",
     "text": [
      "[0.01 0.12 0.23 0.34 0.45 0.56 0.67 0.78 0.89 1.  ]\n"
     ]
    }
   ],
   "source": [
    "print(gamma)"
   ]
  },
  {
   "cell_type": "code",
   "execution_count": 13,
   "id": "721d878d",
   "metadata": {},
   "outputs": [
    {
     "name": "stdout",
     "output_type": "stream",
     "text": [
      "pred [0.5 0.5 0.5 ... 0.5 0.5 0.5]\n",
      "pred [0.27862656 0.3497902  0.27493253 ... 0.3116496  0.27063626 0.34456127]\n",
      "pred [0.15141779 0.23969304 0.16274027 ... 0.1863852  0.15720813 0.24087775]\n",
      "pred [0.08329378 0.16221679 0.0975319  ... 0.11092151 0.09191432 0.16779431]\n",
      "pred [0.04613458 0.10954505 0.05827871 ... 0.06624043 0.05331608 0.11666194]\n",
      "pred [0.02562124 0.07412679 0.03465995 ... 0.03972483 0.03065013 0.08123973]\n",
      "pred [0.01424762 0.05030794 0.02054839 ... 0.02391412 0.01749422 0.05677213]\n",
      "pred [0.00793211 0.03423364 0.01216453 ... 0.01444394 0.00993361 0.03983263]\n",
      "pred [0.00442188 0.02334468 0.00719966 ... 0.00874896 0.00562051 0.02805245]\n",
      "pred [0.00246864 0.01594504 0.00426343 ... 0.00531231 0.00317271 0.01982011]\n",
      "pred [0.00138024 0.01090436 0.00252706 ... 0.00323222 0.00178834 0.01404113]\n",
      "pred [0.00077282 0.00746433 0.00149955 ... 0.00196998 0.00100715 0.00996866]\n",
      "pred [0.0004333  0.00511341 0.00089087 ... 0.00120236 0.00056694 0.00708961]\n",
      "pred [0.00024323 0.00350506 0.00052986 ... 0.00073471 0.00031908 0.00504897]\n",
      "pred [0.00013668 0.00240379 0.00031547 ... 0.00044938 0.00017957 0.0035996 ]\n",
      "pred [7.68818224e-05 1.64921986e-03 1.88001233e-04 ... 2.75070331e-04\n",
      " 1.01068761e-04 2.56848718e-03]\n",
      "pred [4.32803748e-05 1.13190412e-03 1.12133429e-04 ... 1.68482737e-04\n",
      " 5.68922188e-05 1.83397055e-03]\n",
      "pred [2.43821209e-05 7.77081186e-04 6.69321873e-05 ... 1.03251159e-04\n",
      " 3.20305136e-05 1.31019572e-03]\n",
      "pred [1.37443718e-05 5.33616187e-04 3.99781021e-05 ... 6.33026317e-05\n",
      " 1.80367362e-05 9.36393823e-04]\n",
      "pred [7.75204725e-06 3.66505920e-04 2.38925418e-05 ... 3.88242448e-05\n",
      " 1.01586981e-05 6.69451721e-04]\n",
      "pred [4.37437457e-06 2.51772710e-04 1.42864855e-05 ... 2.38183693e-05\n",
      " 5.72274175e-06 4.78725080e-04]\n",
      "pred [2.46943556e-06 1.72981819e-04 8.54643440e-06 ... 1.46159530e-05\n",
      " 3.22443983e-06 3.42399799e-04]\n",
      "pred [1.39456691e-06 1.18863012e-04 5.11467569e-06 ... 8.97079080e-06\n",
      " 1.81712732e-06 2.44929165e-04]\n",
      "pred [7.87810573e-07 8.16844360e-05 3.06199803e-06 ... 5.50691542e-06\n",
      " 1.02422103e-06 1.75222759e-04]\n",
      "pred [4.45172735e-07 5.61398616e-05 1.83369920e-06 ... 3.38102499e-06\n",
      " 5.77397984e-07 1.25363214e-04]\n",
      "pred [2.51620132e-07 3.85866428e-05 1.09843069e-06 ... 2.07606505e-06\n",
      " 3.25556221e-07 8.96950564e-05]\n",
      "pred [1.42252528e-07 2.65235331e-05 6.58150974e-07 ... 1.27490590e-06\n",
      " 1.83586970e-07 6.41766418e-05]\n",
      "pred [8.04380839e-08 1.82326718e-05 3.94434881e-07 ... 7.82984689e-07\n",
      " 1.03542563e-07 4.59185930e-05]\n",
      "pred [4.54926571e-08 1.25340171e-05 2.36435158e-07 ... 4.80906721e-07\n",
      " 5.84054586e-08 3.28547116e-05]\n",
      "pred [2.57330166e-08 8.61684492e-06 1.41751292e-07 ... 2.95390310e-07\n",
      " 3.29489737e-08 2.35071387e-05]\n",
      "pred [1.45580390e-08 5.92409118e-06 8.49987515e-08 ... 1.81449421e-07\n",
      " 1.85900666e-08 1.68186583e-05]\n",
      "pred [8.23704991e-09 4.07294424e-06 5.09755422e-08 ... 1.11464251e-07\n",
      " 1.04898067e-08 1.20328797e-05]\n",
      "pred [4.66113604e-09 2.80031312e-06 3.05751758e-08 ... 6.84752342e-08\n",
      " 5.91968511e-09 8.60859455e-06]\n",
      "pred [2.63790042e-09 1.92537139e-06 1.83412349e-08 ... 4.20675287e-08\n",
      " 3.34096249e-09 6.15853871e-06]\n",
      "pred [1.49302610e-09 1.32382578e-06 1.10036296e-08 ... 2.58448499e-08\n",
      " 1.88574929e-09 4.40559473e-06]\n",
      "pred [8.45113667e-10 9.10236737e-07 6.60217346e-09 ... 1.58786233e-08\n",
      " 1.06446975e-09 3.15146070e-06]\n",
      "pred [4.78407893e-10 6.25869883e-07 3.96166470e-09 ... 9.75578024e-09\n",
      " 6.00921230e-10 2.25423421e-06]\n",
      "pred [2.70840851e-10 4.30347236e-07 2.37741474e-09 ... 5.99404805e-09\n",
      " 3.39261521e-10 1.61237293e-06]\n",
      "pred [1.53341634e-10 2.95909201e-07 1.42680824e-09 ... 3.68286981e-09\n",
      " 1.91550207e-10 1.15321688e-06]\n",
      "pred [8.68228090e-11 2.03470629e-07 8.56361171e-10 ... 2.26286934e-09\n",
      " 1.08158305e-10 8.24774784e-07]\n",
      "pred [4.91624361e-11 1.39909820e-07 5.14015913e-10 ... 1.39039662e-09\n",
      " 6.10751766e-11 5.89845989e-07]\n",
      "pred [2.78392149e-11 9.62049367e-08 3.08547602e-10 ... 8.54325369e-10\n",
      " 3.44901989e-11 4.21813850e-07]\n",
      "pred [1.57653273e-11 6.61528792e-08 1.85221666e-10 ... 5.24943565e-10\n",
      " 1.94783148e-11 3.01635285e-07]\n",
      "pred [8.92832496e-12 4.54885377e-08 1.11194566e-10 ... 3.22556699e-10\n",
      " 1.10009572e-11 2.15686406e-07]\n",
      "pred [5.05657766e-12 3.12792751e-08 6.67568514e-11 ... 1.98199766e-10\n",
      " 6.21343514e-12 1.54220816e-07]\n",
      "pred [2.86392679e-12 2.15086201e-08 4.00799444e-11 ... 1.21787684e-10\n",
      " 3.50957184e-12 1.10266380e-07]\n",
      "pred [1.62212618e-12 1.47900387e-08 2.40644518e-11 ... 7.48352761e-11\n",
      " 1.98242388e-12 7.88357994e-08]\n",
      "pred [9.18806167e-13 1.01701351e-08 1.44491122e-11 ... 4.59845299e-11\n",
      " 1.11984506e-12 5.63617455e-08]\n",
      "pred [5.20449819e-13 6.99333884e-09 8.67603953e-12 ... 2.82565543e-11\n",
      " 6.32612060e-13 4.02927004e-08]\n",
      "pred [2.94814431e-13 4.80886587e-09 5.20973918e-12 ... 1.73631462e-11\n",
      " 3.57383292e-13 2.88037933e-08]\n",
      "pred [1.67006288e-13 3.30674599e-09 3.12840926e-12 ... 1.06693792e-11\n",
      " 2.01905182e-13 2.05899253e-08]\n",
      "pred [9.46085693e-14 2.27383494e-09 1.87863912e-12 ... 6.55618420e-12\n",
      " 1.14071294e-13 1.47177708e-08]\n",
      "pred [5.35970769e-14 1.56356821e-09 1.12817001e-12 ... 4.02869317e-12\n",
      " 6.44496032e-14 1.05199066e-08]\n",
      "pred [3.03643630e-14 1.07516325e-09 6.77511016e-13 ... 2.47558642e-12\n",
      " 3.64148422e-14 7.51908044e-09]\n",
      "pred [1.72028019e-14 7.39318491e-10 4.06881632e-13 ... 1.52122225e-12\n",
      " 2.05754951e-14 5.37404102e-09]\n",
      "pred [9.74643287e-15 5.08379713e-10 2.44359410e-13 ... 9.34776442e-13\n",
      " 1.16261319e-14 3.84079412e-09]\n",
      "pred [5.52208737e-15 3.49578135e-10 1.46756958e-13 ... 5.74411619e-13\n",
      " 6.56950616e-15 2.74489212e-09]\n",
      "pred [3.12875485e-15 2.40380727e-10 8.81406856e-14 ... 3.52970903e-13\n",
      " 3.71229268e-15 1.96161660e-09]\n",
      "pred [1.77276073e-15 1.65292938e-10 5.29372911e-14 ... 2.16897580e-13\n",
      " 2.09779576e-15 1.40180613e-09]\n",
      "pred [1.00447400e-15 1.13660136e-10 3.17946527e-14 ... 1.33281694e-13\n",
      " 1.18548275e-15 1.00172185e-09]\n",
      "pred [5.69163395e-16 7.81557994e-11 1.90964697e-14 ... 8.19004333e-14\n",
      " 6.69943026e-16 7.15800616e-10]\n",
      "pred [3.22511060e-16 5.37419441e-11 1.14698649e-14 ... 5.03270759e-14\n",
      " 3.78608780e-16 5.11473442e-10]\n",
      "pred [1.82751682e-16 3.69542697e-11 6.88920862e-15 ... 3.09255131e-14\n",
      " 2.13970191e-16 3.65460599e-10]\n",
      "pred [1.03558803e-16 2.54106005e-11 4.13795559e-15 ... 1.90034201e-14\n",
      " 1.20927555e-16 2.61122826e-10]\n",
      "pred [5.86842130e-17 1.74728706e-11 2.48546373e-15 ... 1.16774010e-14\n",
      " 6.83449326e-17 1.86567614e-10]\n",
      "pred [3.32555360e-17 1.20146906e-11 1.49291071e-15 ... 7.17563144e-15\n",
      " 3.86274533e-17 1.33295396e-10]\n",
      "pred [1.88458100e-17 8.26151901e-12 8.96736267e-16 ... 4.40933908e-15\n",
      " 2.18320350e-17 9.52317666e-11]\n",
      "pred [1.06800591e-17 5.68075661e-12 5.38641560e-16 ... 2.70948195e-15\n",
      " 1.23395819e-17 6.80356668e-11]\n",
      "pred [6.05257673e-18 3.90617238e-12 3.23548169e-16 ... 1.66493916e-15\n",
      " 6.97452213e-18 4.86048795e-11]\n",
      "pred [3.43016152e-18 2.68593539e-12 1.94348751e-16 ... 1.02308041e-15\n",
      " 3.94217575e-18 3.47225663e-11]\n",
      "pred [1.94400011e-18 1.84687984e-12 1.16742248e-16 ... 6.28666655e-16\n",
      " 2.22825431e-18 2.48046311e-11]\n",
      "pred [1.10175564e-18 1.26993250e-12 7.01257671e-17 ... 3.86304974e-16\n",
      " 1.25950682e-18 1.77191556e-11]\n",
      "pred [6.24426618e-19 8.73215706e-13 4.21240651e-17 ... 2.37377395e-16\n",
      " 7.11939427e-19 1.26573516e-11]\n",
      "pred [3.53903218e-19 6.00428561e-13 2.53038039e-17 ... 1.45863816e-16\n",
      " 4.02431615e-19 9.04133378e-12]\n",
      "pred [2.00583151e-19 4.12857373e-13 1.52000165e-17 ... 8.96303126e-17\n",
      " 2.27482212e-19 6.45821147e-12]\n",
      "pred [1.13687073e-19 2.83881860e-13 9.13071637e-18 ... 5.50758681e-17\n",
      " 1.28590502e-19 4.61298851e-12]\n",
      "pred [6.44368479e-20 1.95197446e-13 5.48489138e-18 ... 3.38428454e-17\n",
      " 7.26902617e-20 3.29490642e-12]\n",
      "pred [3.65227884e-20 1.34217614e-13 3.29483333e-18 ... 2.07955997e-17\n",
      " 4.10912428e-20 2.35339397e-12]\n",
      "pred [2.07014079e-20 9.22876931e-14 1.97925145e-18 ... 1.27783585e-17\n",
      " 2.32288569e-20 1.68088213e-12]\n",
      "pred [1.17338906e-20 6.34566234e-14 1.18896882e-18 ... 7.85195335e-18\n",
      " 1.31314216e-20 1.20052493e-12]\n",
      "pred [6.65105086e-21 4.36323920e-14 7.14236113e-19 ... 4.82480056e-18\n",
      " 7.42336512e-21 8.57425955e-13]\n",
      "pred [3.77002713e-21 3.00012937e-14 4.29056887e-19 ... 2.96469499e-18\n",
      " 4.19657425e-21 6.12369853e-13]\n",
      "pred [2.13700012e-21 2.06286042e-14 2.57744599e-19 ... 1.82171176e-18\n",
      " 2.37243246e-21 4.37343747e-13]\n",
      "pred [1.21135205e-21 1.41839961e-14 1.54833806e-19 ... 1.11938190e-18\n",
      " 1.34121225e-21 3.12337539e-13]\n",
      "pred [6.86660195e-22 9.75273160e-15 9.30129524e-20 ... 6.87821700e-19\n",
      " 7.58238316e-22 2.23057992e-13]\n",
      "pred [3.89241311e-22 6.70583479e-15 5.58756259e-20 ... 4.22641783e-19\n",
      " 4.28665340e-22 1.59295653e-13]\n",
      "pred [2.20648738e-22 4.61082183e-15 3.35662339e-20 ... 2.59697605e-19\n",
      " 2.42345693e-22 1.13758218e-13]\n",
      "pred [1.25080424e-22 3.17031744e-15 2.01643393e-20 ... 1.59574104e-19\n",
      " 1.37011307e-22 8.12371224e-14]\n",
      "pred [7.09059242e-23 2.17984734e-15 1.21134113e-20 ... 9.80518599e-20\n",
      " 7.74607248e-23 5.80122031e-14]\n",
      "pred [4.01958204e-23 1.49881606e-15 7.27695921e-21 ... 6.02487729e-20\n",
      " 4.37935983e-23 4.14264225e-14]\n",
      "pred [2.27868546e-23 1.03055109e-15 4.37153906e-21 ... 3.70202650e-20\n",
      " 2.47595939e-23 2.95820941e-14]\n",
      "pred [1.29179289e-23 7.08581247e-16 2.62615083e-21 ... 2.27472965e-20\n",
      " 1.39984551e-23 2.11238935e-14]\n",
      "pred [7.32329186e-24 4.87201618e-16 1.57763228e-21 ... 1.39771620e-20\n",
      " 7.91444196e-24 1.50838690e-14]\n",
      "pred [4.15168753e-24 3.34986061e-16 9.47747536e-22 ... 8.58829903e-21\n",
      " 4.47470065e-24 1.07707370e-14]\n",
      "pred [2.35368187e-24 2.30326391e-16 5.69351209e-22 ... 5.27708712e-21\n",
      " 2.52994497e-24 7.69081059e-15]\n",
      "pred [1.33436786e-24 1.58365153e-16 3.42033373e-22 ... 3.24250251e-21\n",
      " 1.43041307e-24 5.49152526e-15]\n",
      "pred [7.56498407e-25 1.08886618e-16 2.05474211e-22 ... 1.99234861e-21\n",
      " 8.08751462e-25 3.92110228e-15]\n",
      "pred [4.28889114e-25 7.48666435e-17 1.23437386e-22 ... 1.22419132e-21\n",
      " 4.57269058e-25 2.79974067e-15]\n",
      "pred [2.43156855e-25 5.14755727e-17 7.41543484e-23 ... 7.52198078e-22\n",
      " 2.58542292e-25 1.99904249e-15]\n",
      "pred [1.37858145e-25 3.53926425e-17 4.45478759e-23 ... 4.62183147e-22\n",
      " 1.46182147e-25 1.42731871e-15]\n",
      "return lossnan\n",
      "nan\n"
     ]
    },
    {
     "name": "stderr",
     "output_type": "stream",
     "text": [
      "c:\\Users\\ricca\\OneDrive\\Documenti\\GitHub\\ml-project-1-ker\\code\\implementations.py:479: RuntimeWarning: divide by zero encountered in log\n",
      "  pred = sigmoid(tx.dot(w))\n"
     ]
    }
   ],
   "source": [
    "initial_w = np.zeros(tx.shape[1])\n",
    "max_iters = 100\n",
    "#gamma = min_gamma \n",
    "\n",
    "w, loss = logistic_gradient_descent(y,tx,initial_w= np.zeros(tx.shape[1]),gamma=0.5,max_iters=max_iters)\n",
    "\n",
    "end_time = datetime.datetime.now()\n",
    "print(loss)"
   ]
  },
  {
   "cell_type": "markdown",
   "id": "e3db5bb5-d9fb-450c-ae3b-9a76dddb2cc3",
   "metadata": {},
   "source": [
    "### Computation of metrics\n",
    "\n",
    "We first compute some metrics on the training data (60% of the total data)\n",
    "\n"
   ]
  },
  {
   "cell_type": "code",
   "execution_count": 60,
   "id": "952b615d-3cc8-403a-9396-fcc229589211",
   "metadata": {
    "tags": []
   },
   "outputs": [
    {
     "name": "stdout",
     "output_type": "stream",
     "text": [
      "Accuracy: 90.88482938169913%\n",
      "Precision: 46.6672753834916%\n",
      "Recall : 25.293215222447667%\n",
      "F1-score : 32.80593087069546%\n"
     ]
    }
   ],
   "source": [
    "pred_data = np.dot(tx,w)\n",
    "\n",
    "pred_data[pred_data > 0] = 1\n",
    "pred_data[pred_data < 0] = -1\n",
    "\n",
    "correctly_classified_data = np.sum(pred_data == y)\n",
    "\n",
    "tp = np.sum((pred_data == 1) & (y == 1))\n",
    "fp = np.sum((pred_data == 1) & (y == -1))\n",
    "\n",
    "tn = np.sum((pred_data == -1) & (y == -1))\n",
    "fn = np.sum((pred_data == -1) & (y == 1))\n",
    "\n",
    "accuracy_data = (tp + tn)/(tp + fp + tn + fn)\n",
    "\n",
    "print(f\"Accuracy: {accuracy_data*100}%\")\n",
    "print(f\"Precision: {tp/(tp + fp)*100}%\")\n",
    "print(f\"Recall : {tp/(tp + fn)*100}%\")\n",
    "print(f\"F1-score : {tp/(tp + 0.5*(fn + fp))*100}%\")"
   ]
  },
  {
   "cell_type": "markdown",
   "id": "509c193f-9520-478f-b06e-131cb186d075",
   "metadata": {
    "tags": []
   },
   "source": [
    "Now we compute some metrics for our test data (40% of the total data)"
   ]
  },
  {
   "cell_type": "code",
   "execution_count": 61,
   "id": "9ac991bb-ded9-4564-9b44-de130c0dad75",
   "metadata": {
    "tags": []
   },
   "outputs": [
    {
     "name": "stdout",
     "output_type": "stream",
     "text": [
      "Accuracy: 90.66445891447668%\n",
      "Precision: 45.58762024257633%\n",
      "Recall : 24.863138686131386%\n",
      "F1-score : 32.17712177121771%\n"
     ]
    }
   ],
   "source": [
    "pred_test = np.dot(tx_test,w)\n",
    "\n",
    "pred_test[pred_test > 0] = 1\n",
    "pred_test[pred_test < 0] = -1\n",
    "\n",
    "correctly_classified_test = np.sum(pred_test == y_test)\n",
    "\n",
    "tp = np.sum((pred_test == 1) & (y_test == 1))\n",
    "fp = np.sum((pred_test == 1) & (y_test == -1))\n",
    "\n",
    "tn = np.sum((pred_test == -1) & (y_test == -1))\n",
    "fn = np.sum((pred_test == -1) & (y_test == 1))\n",
    "\n",
    "accuracy_test = (tp + tn)/(tp + fp + tn + fn)\n",
    "\n",
    "print(f\"Accuracy: {accuracy_test*100}%\")\n",
    "print(f\"Precision: {tp/(tp + fp)*100}%\")\n",
    "print(f\"Recall : {tp/(tp + fn)*100}%\")\n",
    "print(f\"F1-score : {tp/(tp + 0.5*(fn + fp))*100}%\")"
   ]
  },
  {
   "cell_type": "markdown",
   "id": "f956e2bb-b52d-40fa-ae5e-764d58726ce7",
   "metadata": {
    "tags": []
   },
   "source": [
    "### Feature analysis"
   ]
  },
  {
   "cell_type": "code",
   "execution_count": 62,
   "id": "15f1b800-5139-4f6f-8238-6cbe08cc41b0",
   "metadata": {},
   "outputs": [
    {
     "data": {
      "image/png": "[encoded data removed]",
      "text/plain": [
       "<Figure size 1000x600 with 1 Axes>"
      ]
     },
     "metadata": {},
     "output_type": "display_data"
    }
   ],
   "source": [
    "plt.figure(figsize=(10, 6))\n",
    "plt.bar(range(len(w)), np.abs(w))\n",
    "plt.yscale('log')\n",
    "plt.xlabel('Feature Index')\n",
    "plt.ylabel('Weight Value')\n",
    "plt.title('Feature Weights for Analysis')\n",
    "plt.show()"
   ]
  },
  {
   "cell_type": "code",
   "execution_count": null,
   "id": "f9d5ca2d-d7ab-4804-b38b-c3e1353dc897",
   "metadata": {},
   "outputs": [],
   "source": []
  }
 ],
 "metadata": {
  "kernelspec": {
   "display_name": "Python 3 (ipykernel)",
   "language": "python",
   "name": "python3"
  },
  "language_info": {
   "codemirror_mode": {
    "name": "ipython",
    "version": 3
   },
   "file_extension": ".py",
   "mimetype": "text/x-python",
   "name": "python",
   "nbconvert_exporter": "python",
   "pygments_lexer": "ipython3",
   "version": "3.11.3"
  }
 },
 "nbformat": 4,
 "nbformat_minor": 5
}
