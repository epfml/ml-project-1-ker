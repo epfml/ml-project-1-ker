{
 "cells": [
  {
   "cell_type": "code",
   "execution_count": 12,
   "id": "f9eaa210-01f2-4c89-9794-aa7a12ff4a93",
   "metadata": {
    "tags": []
   },
   "outputs": [],
   "source": [
    "# Useful starting lines\n",
    "%matplotlib inline\n",
    "import numpy as np\n",
    "import matplotlib.pyplot as plt\n",
    "\n",
    "%load_ext autoreload\n",
    "%autoreload 2"
   ]
  },
  {
   "cell_type": "markdown",
   "id": "b92cd241-c7ec-4d13-81ae-7e5cc7a942a1",
   "metadata": {},
   "source": [
    "# **Load the training data**\n",
    "\n",
    "We load the training data."
   ]
  },
  {
   "cell_type": "code",
   "execution_count": 1,
   "id": "6e5bfc1f-bd3a-461c-8c26-9bcb7a50feda",
   "metadata": {
    "tags": []
   },
   "outputs": [
    {
     "name": "stdout",
     "output_type": "stream",
     "text": [
      "The data has 328135 samples and 321 features !\n"
     ]
    }
   ],
   "source": [
    "import datetime\n",
    "from implementations import *\n",
    "\n",
    "data_load = load_data(\"x_train.csv\")\n",
    "pred = load_data(\"y_train.csv\")\n",
    "print(f\"The data has {data_load.shape[0]} samples and {data_load.shape[1]} features !\")"
   ]
  },
  {
   "cell_type": "markdown",
   "id": "6b5e4d8e-7dfa-487b-bd7c-1bf45080cc77",
   "metadata": {},
   "source": [
    "We clean the data by removing the nan values by the mean of the rest of the feature"
   ]
  },
  {
   "cell_type": "code",
   "execution_count": 2,
   "id": "c191444d-74c6-43ca-8dda-c258d82bd99d",
   "metadata": {
    "tags": []
   },
   "outputs": [
    {
     "name": "stdout",
     "output_type": "stream",
     "text": [
      "(321,)\n"
     ]
    }
   ],
   "source": [
    "data = np.ones(data_load.shape)\n",
    "stds = np.array([])\n",
    "for i in range(data.shape[1]):\n",
    "    d, std = standardize_clean(data_load[:, i])\n",
    "    data[:, i] = d\n",
    "    stds = np.append(stds, std)\n",
    "print(stds.shape)"
   ]
  },
  {
   "cell_type": "markdown",
   "id": "695cbf10-4bed-4c12-8eca-a17dcf95ad3c",
   "metadata": {},
   "source": [
    "We further clean the data by removing the features where the variance is zero since they are constants for all samples"
   ]
  },
  {
   "cell_type": "code",
   "execution_count": 3,
   "id": "5b8ddd7e-59cf-4d32-8264-7d5bfb6c3320",
   "metadata": {
    "tags": []
   },
   "outputs": [
    {
     "name": "stdout",
     "output_type": "stream",
     "text": [
      "(328135, 315)\n"
     ]
    }
   ],
   "source": [
    "indices = np.where(stds != 0)\n",
    "data_var = data[:, indices]\n",
    "data_var = np.squeeze(data_var, axis = 1)\n",
    "print(data_var.shape)"
   ]
  },
  {
   "cell_type": "markdown",
   "id": "4942263e-1446-4a15-a49c-7a6143582de3",
   "metadata": {
    "tags": []
   },
   "source": [
    "We also remove the 8 first features as the appear weird in the task of predicting a heart attack"
   ]
  },
  {
   "cell_type": "code",
   "execution_count": 5,
   "id": "3ed69a95-e342-44fe-9c33-cc042def12b4",
   "metadata": {
    "tags": []
   },
   "outputs": [
    {
     "name": "stdout",
     "output_type": "stream",
     "text": [
      "(328135, 306)\n"
     ]
    }
   ],
   "source": [
    "data_cleaned = data_var[:, 9:]\n",
    "print(data_cleaned.shape)"
   ]
  },
  {
   "cell_type": "markdown",
   "id": "b259566a-1e38-4cd1-8d2c-b08abb724363",
   "metadata": {},
   "source": [
    "We then separe the data to train on 60% of the total and to test it on the remaining 40% "
   ]
  },
  {
   "cell_type": "code",
   "execution_count": 6,
   "id": "b316d4c7-fed8-43fb-8f7a-b6578a7908d1",
   "metadata": {
    "tags": []
   },
   "outputs": [
    {
     "name": "stdout",
     "output_type": "stream",
     "text": [
      "Cross shape : (196881, 306) ; Test shape : (131254, 306)\n"
     ]
    }
   ],
   "source": [
    "train_size = np.floor(data_cleaned.shape[0] * 0.6).astype(int)\n",
    "data_cross = data_cleaned[:train_size, :]\n",
    "pred_cross = pred[:train_size]\n",
    "data_test = data_cleaned[train_size:, :]\n",
    "pred_test = pred[train_size:]\n",
    "print(f\"Cross shape : {data_cross.shape} ; Test shape : {data_test.shape}\")"
   ]
  },
  {
   "cell_type": "markdown",
   "id": "c73f1821-11ad-4f45-9d16-19cdb2d73f34",
   "metadata": {},
   "source": [
    "Now we build our models for linear regression"
   ]
  },
  {
   "cell_type": "code",
   "execution_count": 7,
   "id": "c87581bd-90a3-4a8f-8d07-177a08e16c31",
   "metadata": {
    "tags": []
   },
   "outputs": [
    {
     "name": "stdout",
     "output_type": "stream",
     "text": [
      "The data has now 307 features !\n"
     ]
    }
   ],
   "source": [
    "y, tx = build_model_data(data_cross, pred_cross)\n",
    "y_test, tx_test = build_model_data(data_test, pred_test)\n",
    "print(f\"The data has now {tx.shape[1]} features !\")"
   ]
  },
  {
   "cell_type": "markdown",
   "id": "d78973d9-59f4-47ba-af06-e034532bfd60",
   "metadata": {},
   "source": [
    "## Least-squares\n",
    "\n",
    "Here we train our model using the least-squares equations"
   ]
  },
  {
   "cell_type": "code",
   "execution_count": 8,
   "id": "97f70747-7d33-4fe9-9c26-13c6dcdaa4e8",
   "metadata": {
    "tags": []
   },
   "outputs": [
    {
     "name": "stdout",
     "output_type": "stream",
     "text": [
      "Execution time 0.168606 seconds with loss : 0.03381118428465108\n"
     ]
    }
   ],
   "source": [
    "start_time = datetime.datetime.now()\n",
    "w, loss = least_squares(y, tx)\n",
    "end_time = datetime.datetime.now()\n",
    "print(f\"Execution time {(end_time - start_time).total_seconds()} seconds with loss : {loss}\")"
   ]
  },
  {
   "cell_type": "markdown",
   "id": "c2a3c36d-c7ca-4941-af2f-1eac2a3a76d4",
   "metadata": {},
   "source": [
    "### Computation of metrics\n",
    "\n",
    "We first compute some metrics on the training data (60% of the total data)"
   ]
  },
  {
   "cell_type": "code",
   "execution_count": 9,
   "id": "0a8b64d3-d0d6-4eb8-8b6f-94b89ac9e538",
   "metadata": {
    "tags": []
   },
   "outputs": [
    {
     "name": "stdout",
     "output_type": "stream",
     "text": [
      "Accuracy: 91.2886464412513%\n",
      "True positive rate: 67.11711711711712%\n",
      "True negative rate: 91.3159326550018%\n"
     ]
    }
   ],
   "source": [
    "pred_data = np.dot(tx, w)\n",
    "pred_data = (pred_data > 0.49).astype(float)\n",
    "correctly_classified_data = np.sum(pred_data == y)\n",
    "\n",
    "tp = np.sum((pred_data == 1) & (y == 1))\n",
    "fp = np.sum((pred_data == 1) & (y == 0))\n",
    "\n",
    "tn = np.sum((pred_data == 0) & (y == 0))\n",
    "fn = np.sum((pred_data == 0) & (y == 1))\n",
    "\n",
    "accuracy_data = (tp + tn)/(tp + fp + tn + fn)\n",
    "\n",
    "print(f\"Accuracy: {accuracy_data*100}%\")\n",
    "print(f\"True positive rate: {tp/(tp + fp)*100}%\")\n",
    "print(f\"True negative rate: {tn/(tn + fn)*100}%\")"
   ]
  },
  {
   "cell_type": "markdown",
   "id": "bfb17361-7460-4008-87df-c1556e6d7195",
   "metadata": {},
   "source": [
    "Now we compute some metrics for our test data (40% of the total data)"
   ]
  },
  {
   "cell_type": "code",
   "execution_count": 10,
   "id": "f9219f59-3540-41fa-98ee-e1f49b4c3ec7",
   "metadata": {
    "tags": []
   },
   "outputs": [
    {
     "name": "stdout",
     "output_type": "stream",
     "text": [
      "Accuracy: 91.09131912170297%\n",
      "True positive rate: 66.08187134502924%\n",
      "True negative rate: 91.12394437112364%\n"
     ]
    }
   ],
   "source": [
    "pred_test = np.dot(tx_test, w)\n",
    "pred_test = (pred_test > 0.49).astype(float)\n",
    "correctly_classified_test = np.sum(pred_test == y_test)\n",
    "\n",
    "tp = np.sum((pred_test == 1) & (y_test == 1))\n",
    "fp = np.sum((pred_test == 1) & (y_test == 0))\n",
    "\n",
    "tn = np.sum((pred_test == 0) & (y_test == 0))\n",
    "fn = np.sum((pred_test == 0) & (y_test == 1))\n",
    "\n",
    "accuracy_test = (tp + tn)/(tp + fp + tn + fn)\n",
    "\n",
    "print(f\"Accuracy: {accuracy_test*100}%\")\n",
    "print(f\"True positive rate: {tp/(tp + fp)*100}%\")\n",
    "print(f\"True negative rate: {tn/(tn + fn)*100}%\")"
   ]
  },
  {
   "cell_type": "markdown",
   "id": "fb943ee3-0802-443a-a8c0-e4adc8f02359",
   "metadata": {
    "tags": []
   },
   "source": [
    "### Feature analysis"
   ]
  },
  {
   "cell_type": "code",
   "execution_count": 13,
   "id": "2d79cc21-b214-4ae4-af6a-64f77464e7df",
   "metadata": {
    "tags": []
   },
   "outputs": [
    {
     "data": {
      "image/png": "[encoded data removed]",
      "text/plain": [
       "<Figure size 1000x600 with 1 Axes>"
      ]
     },
     "metadata": {},
     "output_type": "display_data"
    }
   ],
   "source": [
    "plt.figure(figsize=(10, 6))\n",
    "plt.bar(range(len(w)), np.abs(w))\n",
    "plt.xlabel('Feature Index')\n",
    "plt.ylabel('Weight Value')\n",
    "plt.title('Feature Weights for Analysis')\n",
    "plt.show()"
   ]
  },
  {
   "cell_type": "code",
   "execution_count": null,
   "id": "227a08c4-8a82-4f55-9a43-dbed0c31b8ab",
   "metadata": {},
   "outputs": [],
   "source": []
  }
 ],
 "metadata": {
  "kernelspec": {
   "display_name": "Python 3 (ipykernel)",
   "language": "python",
   "name": "python3"
  },
  "language_info": {
   "codemirror_mode": {
    "name": "ipython",
    "version": 3
   },
   "file_extension": ".py",
   "mimetype": "text/x-python",
   "name": "python",
   "nbconvert_exporter": "python",
   "pygments_lexer": "ipython3",
   "version": "3.11.4"
  }
 },
 "nbformat": 4,
 "nbformat_minor": 5
}
