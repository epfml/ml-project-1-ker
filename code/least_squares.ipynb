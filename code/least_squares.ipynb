{
 "cells": [
  {
   "cell_type": "code",
   "execution_count": 4,
   "id": "f9eaa210-01f2-4c89-9794-aa7a12ff4a93",
   "metadata": {
    "tags": []
   },
   "outputs": [
    {
     "name": "stdout",
     "output_type": "stream",
     "text": [
      "The autoreload extension is already loaded. To reload it, use:\n",
      "  %reload_ext autoreload\n"
     ]
    }
   ],
   "source": [
    "# Useful starting lines\n",
    "%matplotlib inline\n",
    "import numpy as np\n",
    "import matplotlib.pyplot as plt\n",
    "\n",
    "%load_ext autoreload\n",
    "%autoreload 2"
   ]
  },
  {
   "cell_type": "markdown",
   "id": "b92cd241-c7ec-4d13-81ae-7e5cc7a942a1",
   "metadata": {},
   "source": [
    "# **Load the training data**"
   ]
  },
  {
   "cell_type": "code",
   "execution_count": 1,
   "id": "6e5bfc1f-bd3a-461c-8c26-9bcb7a50feda",
   "metadata": {
    "tags": []
   },
   "outputs": [],
   "source": [
    "import datetime\n",
    "from implementations import *\n",
    "\n",
    "data, pred, ids = load_data(\"train.csv\")\n",
    "for i in range(data.shape[1]):\n",
    "    data[:, i] = standardize_clean(data[:, i])\n",
    "y, tx = build_model_data(data, pred)"
   ]
  },
  {
   "cell_type": "markdown",
   "id": "d78973d9-59f4-47ba-af06-e034532bfd60",
   "metadata": {},
   "source": [
    "## Linear regression using stochastic gradient descent\n",
    "\n",
    "Here we train our model using SGD with MSE"
   ]
  },
  {
   "cell_type": "code",
   "execution_count": 2,
   "id": "97f70747-7d33-4fe9-9c26-13c6dcdaa4e8",
   "metadata": {
    "tags": []
   },
   "outputs": [
    {
     "name": "stdout",
     "output_type": "stream",
     "text": [
      "Execution time 0.02706 seconds with loss : 0.0848613996223339\n"
     ]
    }
   ],
   "source": [
    "start_time = datetime.datetime.now()\n",
    "w, loss = least_squares(y, tx)\n",
    "end_time = datetime.datetime.now()\n",
    "print(f\"Execution time {(end_time - start_time).total_seconds()} seconds with loss : {loss}\")"
   ]
  },
  {
   "cell_type": "markdown",
   "id": "fb943ee3-0802-443a-a8c0-e4adc8f02359",
   "metadata": {
    "tags": []
   },
   "source": [
    "### Compute the accuracy"
   ]
  },
  {
   "cell_type": "code",
   "execution_count": 3,
   "id": "2d79cc21-b214-4ae4-af6a-64f77464e7df",
   "metadata": {
    "tags": []
   },
   "outputs": [
    {
     "name": "stdout",
     "output_type": "stream",
     "text": [
      "Accuracy: 74.49719999999999%\n"
     ]
    }
   ],
   "source": [
    "actual_pred = np.dot(tx, w)\n",
    "actual_pred = (actual_pred > 0.5).astype(float)\n",
    "correctly_classified = np.sum(actual_pred == pred)\n",
    "accuracy = correctly_classified / len(pred)\n",
    "print(f\"Accuracy: {accuracy*100}%\")"
   ]
  },
  {
   "cell_type": "markdown",
   "id": "ddb4f481-c254-490f-8e54-894ee9a99ea4",
   "metadata": {},
   "source": [
    "# **Load the testing data**"
   ]
  },
  {
   "cell_type": "code",
   "execution_count": 11,
   "id": "4847d4ce-25d2-43a5-a721-0327f598b00a",
   "metadata": {
    "tags": []
   },
   "outputs": [],
   "source": [
    "test_data, test_pred, test_ids = load_data(\"test.csv\")\n",
    "for i in range(test_data.shape[1]):\n",
    "    test_data[:, i] = standardize(test_data[:, i])[0]\n",
    "test_y, test_tx = build_model_data(test_data, test_pred)"
   ]
  },
  {
   "cell_type": "markdown",
   "id": "60141ad0-afab-4cd8-8975-97a6de63eb4e",
   "metadata": {},
   "source": [
    "### Predict the label with our trained model"
   ]
  },
  {
   "cell_type": "code",
   "execution_count": 12,
   "id": "68300794-4fd8-4556-bf94-30d960dbf5e6",
   "metadata": {
    "tags": []
   },
   "outputs": [],
   "source": [
    "test_y = np.dot(test_tx, w)\n",
    "test_y = (test_y > 0.5).astype(float)"
   ]
  }
 ],
 "metadata": {
  "kernelspec": {
   "display_name": "Python 3 (ipykernel)",
   "language": "python",
   "name": "python3"
  },
  "language_info": {
   "codemirror_mode": {
    "name": "ipython",
    "version": 3
   },
   "file_extension": ".py",
   "mimetype": "text/x-python",
   "name": "python",
   "nbconvert_exporter": "python",
   "pygments_lexer": "ipython3",
   "version": "3.11.4"
  }
 },
 "nbformat": 4,
 "nbformat_minor": 5
}
