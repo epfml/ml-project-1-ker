{
 "cells": [
  {
   "cell_type": "code",
   "execution_count": 2,
   "id": "2804969e-b4b0-41e4-8851-4f1535076355",
   "metadata": {
    "tags": []
   },
   "outputs": [
    {
     "name": "stdout",
     "output_type": "stream",
     "text": [
      "The autoreload extension is already loaded. To reload it, use:\n",
      "  %reload_ext autoreload\n"
     ]
    }
   ],
   "source": [
    "# Useful starting lines\n",
    "%matplotlib inline\n",
    "import numpy as np\n",
    "import matplotlib.pyplot as plt\n",
    "import datetime\n",
    "\n",
    "import sys\n",
    "\n",
    "sys.path.append('../')\n",
    "\n",
    "from implementations import *\n",
    "\n",
    "%load_ext autoreload\n",
    "%autoreload 2"
   ]
  },
  {
   "cell_type": "markdown",
   "id": "e6d5c6d5-ff23-4548-b0cc-605ad0951aa5",
   "metadata": {},
   "source": [
    "# **Load and clean the training data**\n",
    "\n",
    "We load the training data."
   ]
  },
  {
   "cell_type": "code",
   "execution_count": 3,
   "id": "122f5c21-3d35-4ffa-be0a-ceb554346465",
   "metadata": {
    "tags": []
   },
   "outputs": [
    {
     "name": "stdout",
     "output_type": "stream",
     "text": [
      "The data has 328135 samples and 321 features !\n"
     ]
    }
   ],
   "source": [
    "x_train, x_test, y_train, train_ids, test_ids = load_csv_data(\"../data\")\n",
    "\n",
    "print(f\"The data has {x_train.shape[0]} samples and {x_train.shape[1]} features !\")"
   ]
  },
  {
   "cell_type": "markdown",
   "id": "b72a59af-6d28-4d6d-9f2a-748284176c28",
   "metadata": {},
   "source": [
    "We then clean the data by : \n",
    "- selecting the best 43 features with human decision and correlation analysis\n",
    "- removing the nan values by the median of the rest of the feature for continuous values\n",
    "- removing the nan values by the -1 for categorical features\n",
    "- removing the features where the variance is zero since they are constants for all samples"
   ]
  },
  {
   "cell_type": "code",
   "execution_count": 4,
   "id": "19d4ae66-b516-4139-a8f2-2512e785e3bc",
   "metadata": {
    "tags": []
   },
   "outputs": [],
   "source": [
    "feat = [20, 26, 27, 29, 33, 34, 35, 36, 37, 38, 39, 42, 43, 44, 45, 47, 48, 50, 57, 58, 61, 66, 69, 70, \n",
    "        71, 95, 100, 103, 108, 109, 138, 144, 157, 230, 231, 232, 234, 238, 248, 253, 257, 258, 304]\n",
    "\n",
    "feat_cat = [20, 26, 33, 34, 35, 36, 37, 38, 39, 42, 43, 44, 45, 47, 48, 50, 57, 58, 61, 66, 69, \n",
    "            70, 71, 95, 100, 103, 108, 109, 138, 144, 157, 230, 231, 232, 234, 238, 257, 258]\n",
    "\n",
    "feat_con = [27, 29, 248, 253, 304]"
   ]
  },
  {
   "cell_type": "code",
   "execution_count": 5,
   "id": "2fde2355-642a-43af-801c-d8dc2dbe6f54",
   "metadata": {
    "tags": []
   },
   "outputs": [
    {
     "name": "stdout",
     "output_type": "stream",
     "text": [
      "The data has now 43 features !\n"
     ]
    }
   ],
   "source": [
    "xt_feat = gen_clean(x_train, feat_cat, feat_con)\n",
    "xt_feat = x_train[:, feat]\n",
    "print(f\"The data has now {xt_feat.shape[1]} features !\")"
   ]
  },
  {
   "cell_type": "markdown",
   "id": "8528a1e6-524f-4810-9e74-fab4643346dd",
   "metadata": {},
   "source": [
    "# Linear regression using stochastic gradient descent\n",
    "\n",
    "We train our model using linear regression using SGD with mean-square error.\n",
    "\n",
    "First, we separate our data in a training set(70%) and testing set(30%)."
   ]
  },
  {
   "cell_type": "code",
   "execution_count": 6,
   "id": "d70178b3-4a8b-4784-bf84-6b59ac3dacde",
   "metadata": {
    "tags": []
   },
   "outputs": [
    {
     "name": "stdout",
     "output_type": "stream",
     "text": [
      "tx_tr shape : (229694, 43) ; tx_te shape : (98441, 43)\n",
      "       y_tr : (229694,)     ;        y_te : (98441,)\n"
     ]
    }
   ],
   "source": [
    "tx_tr, tx_te, y_tr, y_te = cross(xt_feat, y_train, 0.7)\n",
    "\n",
    "print(f\"tx_tr shape : {tx_tr.shape} ; tx_te shape : {tx_te.shape}\")\n",
    "print(f\"       y_tr : {y_tr.shape}     ;        y_te : {y_te.shape}\")"
   ]
  },
  {
   "cell_type": "markdown",
   "id": "a0779560-bcd8-4c8e-a440-7a6c831df032",
   "metadata": {},
   "source": [
    "Now we build our models for linear regression using SGD"
   ]
  },
  {
   "cell_type": "code",
   "execution_count": 7,
   "id": "4e8245c8-0473-432d-804d-a33d2aa8b190",
   "metadata": {
    "tags": []
   },
   "outputs": [
    {
     "name": "stdout",
     "output_type": "stream",
     "text": [
      "The data has now 44 features !\n"
     ]
    }
   ],
   "source": [
    "y, tx = build_model_data(tx_tr, y_tr)\n",
    "y_test, tx_test = build_model_data(tx_te, y_te)\n",
    "print(f\"The data has now {tx.shape[1]} features !\")"
   ]
  },
  {
   "cell_type": "markdown",
   "id": "3ad76574-befc-4279-b387-98b2b18822a8",
   "metadata": {},
   "source": [
    "## Training \n",
    "\n",
    "Here we train our model using SGD with MSE"
   ]
  },
  {
   "cell_type": "code",
   "execution_count": 16,
   "id": "bd671ffe-d060-4087-8049-2504a03fce9f",
   "metadata": {
    "tags": []
   },
   "outputs": [
    {
     "name": "stdout",
     "output_type": "stream",
     "text": [
      "Execution time 12.082826 seconds\n"
     ]
    }
   ],
   "source": [
    "initial_w = np.zeros(tx.shape[1])\n",
    "max_iters = 100\n",
    "gamma = 6e-7\n",
    "\n",
    "start_time = datetime.datetime.now()\n",
    "w, loss = mean_squared_error_sgd(y, tx, initial_w, max_iters, gamma)\n",
    "end_time = datetime.datetime.now()\n",
    "print(f\"Execution time {(end_time - start_time).total_seconds()} seconds\")"
   ]
  },
  {
   "cell_type": "markdown",
   "id": "6a50a196-c27e-42e0-b245-ca55a7a82ba9",
   "metadata": {},
   "source": [
    "### Computation of metrics\n",
    "\n",
    "We first compute some metrics on the training data (60% of the total data)"
   ]
  },
  {
   "cell_type": "code",
   "execution_count": 17,
   "id": "c8caf34b-65d1-4bc8-a682-a226626d8b53",
   "metadata": {
    "tags": []
   },
   "outputs": [
    {
     "name": "stdout",
     "output_type": "stream",
     "text": [
      "Accuracy: 81.6769266937752%\n",
      "Precision: 11.271594449164542%\n",
      "Recall : 15.756915920225664%\n",
      "F1-score : 13.142090599525332%\n"
     ]
    }
   ],
   "source": [
    "pred_data = np.dot(tx, w)\n",
    "\n",
    "pred_data[pred_data > 0] = 1\n",
    "pred_data[pred_data < 0] = -1\n",
    "\n",
    "correctly_classified_data = np.sum(pred_data == y)\n",
    "\n",
    "tp = np.sum((pred_data == 1) & (y == 1))\n",
    "fp = np.sum((pred_data == 1) & (y == -1))\n",
    "\n",
    "tn = np.sum((pred_data == -1) & (y == -1))\n",
    "fn = np.sum((pred_data == -1) & (y == 1))\n",
    "\n",
    "accuracy_data = (tp + tn)/(tp + fp + tn + fn)\n",
    "\n",
    "print(f\"Accuracy: {accuracy_data*100}%\")\n",
    "print(f\"Precision: {tp/(tp + fp)*100}%\")\n",
    "print(f\"Recall : {tp/(tp + fn)*100}%\")\n",
    "print(f\"F1-score : {tp/(tp + 0.5*(fn + fp))*100}%\")"
   ]
  },
  {
   "cell_type": "markdown",
   "id": "f4f5dea0-18a8-4df9-be75-271fdec36923",
   "metadata": {},
   "source": [
    "Now we compute some metrics for our test data (40% of the total data)"
   ]
  },
  {
   "cell_type": "code",
   "execution_count": 18,
   "id": "12e0ac7d-077c-4d10-9fb2-ea0fad434b4f",
   "metadata": {
    "tags": []
   },
   "outputs": [
    {
     "name": "stdout",
     "output_type": "stream",
     "text": [
      "Accuracy: 81.9363882934956%\n",
      "Precision: 11.727241847826086%\n",
      "Recall : 15.750456204379562%\n",
      "F1-score : 13.444314641744548%\n"
     ]
    }
   ],
   "source": [
    "pred_test = np.dot(tx_test, w)\n",
    "\n",
    "pred_test[pred_test > 0] = 1\n",
    "pred_test[pred_test < 0] = -1\n",
    "\n",
    "correctly_classified_test = np.sum(pred_test == y_test)\n",
    "\n",
    "tp = np.sum((pred_test == 1) & (y_test == 1))\n",
    "fp = np.sum((pred_test == 1) & (y_test == -1))\n",
    "\n",
    "tn = np.sum((pred_test == -1) & (y_test == -1))\n",
    "fn = np.sum((pred_test == -1) & (y_test == 1))\n",
    "\n",
    "accuracy_test = (tp + tn)/(tp + fp + tn + fn)\n",
    "\n",
    "print(f\"Accuracy: {accuracy_test*100}%\")\n",
    "print(f\"Precision: {tp/(tp + fp)*100}%\")\n",
    "print(f\"Recall : {tp/(tp + fn)*100}%\")\n",
    "print(f\"F1-score : {tp/(tp + 0.5*(fn + fp))*100}%\")"
   ]
  },
  {
   "cell_type": "markdown",
   "id": "1beeb38f-76e5-47e0-a81b-e816daf673d4",
   "metadata": {},
   "source": [
    "### Feature analysis"
   ]
  },
  {
   "cell_type": "code",
   "execution_count": 19,
   "id": "0f8b7102-06ad-4b7d-ad55-90aaeb3e7a89",
   "metadata": {
    "tags": []
   },
   "outputs": [
    {
     "data": {
      "image/png": "[encoded data removed]",
      "text/plain": [
       "<Figure size 1000x1000 with 1 Axes>"
      ]
     },
     "metadata": {},
     "output_type": "display_data"
    }
   ],
   "source": [
    "plt.figure(figsize=(10, 10))\n",
    "plt.bar(range(len(w)), np.abs(w))\n",
    "plt.yscale('log')\n",
    "plt.xlabel('Feature Index')\n",
    "plt.ylabel('Weight Value')\n",
    "plt.title('Feature Weights for Analysis')\n",
    "plt.show()"
   ]
  },
  {
   "cell_type": "markdown",
   "id": "40d7fb00-7b20-4af7-a5da-d94da53ae980",
   "metadata": {},
   "source": [
    "# Prediction on test data"
   ]
  },
  {
   "cell_type": "code",
   "execution_count": 20,
   "id": "63e483fd-5a01-4703-8f04-bdc8e51989cf",
   "metadata": {
    "tags": []
   },
   "outputs": [
    {
     "name": "stdout",
     "output_type": "stream",
     "text": [
      "Execution time 0.412713 seconds\n",
      "The data has 109379 samples and 43 features !\n"
     ]
    }
   ],
   "source": [
    "start_time = datetime.datetime.now()\n",
    "\n",
    "tx_test = gen_clean(x_test, feat_cat, feat_con)\n",
    "tx_test = tx_test[:, feat]\n",
    "tx_te = np.c_[np.ones(tx_test.shape[0]), tx_test]\n",
    "\n",
    "end_time = datetime.datetime.now()\n",
    "print(f\"Execution time {(end_time - start_time).total_seconds()} seconds\")\n",
    "print(f\"The data has {tx_test.shape[0]} samples and {tx_test.shape[1]} features !\")"
   ]
  },
  {
   "cell_type": "code",
   "execution_count": 21,
   "id": "fc0f256b-6ef1-4fd1-964b-2c8cbc0c7696",
   "metadata": {
    "tags": []
   },
   "outputs": [],
   "source": [
    "pred_te = np.dot(tx_te, w)\n",
    "\n",
    "pred_te[pred_te > 0] = 1\n",
    "pred_te[pred_te < 0] = -1\n",
    "\n",
    "indices_one = np.where(pred_te == 1)"
   ]
  },
  {
   "cell_type": "code",
   "execution_count": 22,
   "id": "b0548600-a0f1-4cde-ac48-8b8499dc9a99",
   "metadata": {
    "tags": []
   },
   "outputs": [],
   "source": [
    "create_csv_submission(test_ids, pred_te, \"../data/sgd_reg.csv\")"
   ]
  }
 ],
 "metadata": {
  "kernelspec": {
   "display_name": "Python 3 (ipykernel)",
   "language": "python",
   "name": "python3"
  },
  "language_info": {
   "codemirror_mode": {
    "name": "ipython",
    "version": 3
   },
   "file_extension": ".py",
   "mimetype": "text/x-python",
   "name": "python",
   "nbconvert_exporter": "python",
   "pygments_lexer": "ipython3",
   "version": "3.11.4"
  }
 },
 "nbformat": 4,
 "nbformat_minor": 5
}
