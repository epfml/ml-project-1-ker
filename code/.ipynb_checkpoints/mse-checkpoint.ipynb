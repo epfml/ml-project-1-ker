{
 "cells": [
  {
   "cell_type": "code",
   "execution_count": 17,
   "id": "38cfce00-7596-4f51-aa1c-5750258f0d74",
   "metadata": {
    "tags": []
   },
   "outputs": [
    {
     "name": "stdout",
     "output_type": "stream",
     "text": [
      "The autoreload extension is already loaded. To reload it, use:\n",
      "  %reload_ext autoreload\n"
     ]
    }
   ],
   "source": [
    "# Useful starting lines\n",
    "%matplotlib inline\n",
    "import numpy as np\n",
    "import matplotlib.pyplot as plt\n",
    "\n",
    "%load_ext autoreload\n",
    "%autoreload 2"
   ]
  },
  {
   "cell_type": "markdown",
   "id": "927ddbc4-74dd-4b7e-bc8e-39c4775c6340",
   "metadata": {},
   "source": [
    "# **Load the training data**\n",
    "\n",
    "We load the training data."
   ]
  },
  {
   "cell_type": "code",
   "execution_count": 18,
   "id": "274a0894-6252-4b01-9c74-9b10d37bf93b",
   "metadata": {
    "tags": []
   },
   "outputs": [
    {
     "name": "stdout",
     "output_type": "stream",
     "text": [
      "The data has 328135 samples and 321 features !\n"
     ]
    }
   ],
   "source": [
    "import datetime\n",
    "from implementations import *\n",
    "\n",
    "data_load = load_data(\"x_train.csv\")\n",
    "pred = load_data(\"y_train.csv\")\n",
    "print(f\"The data has {data_load.shape[0]} samples and {data_load.shape[1]} features !\")"
   ]
  },
  {
   "cell_type": "markdown",
   "id": "878ab50a-2f67-4ebb-9851-fa7b7b380886",
   "metadata": {},
   "source": [
    "We clean the data by removing the nan values by the mean of the rest of the feature"
   ]
  },
  {
   "cell_type": "code",
   "execution_count": 19,
   "id": "83dc8496-7e54-4639-97ec-b2895e7d84bc",
   "metadata": {
    "tags": []
   },
   "outputs": [
    {
     "name": "stdout",
     "output_type": "stream",
     "text": [
      "(321,)\n"
     ]
    }
   ],
   "source": [
    "data = np.ones(data_load.shape)\n",
    "stds = np.array([])\n",
    "for i in range(data.shape[1]):\n",
    "    d, std = standardize_clean(data_load[:, i])\n",
    "    data[:, i] = d\n",
    "    stds = np.append(stds, std)\n",
    "print(stds.shape)"
   ]
  },
  {
   "cell_type": "markdown",
   "id": "7a5f849c-709f-4fd0-8a54-a1f7b0d51a1c",
   "metadata": {
    "tags": []
   },
   "source": [
    "We further clean the data by removing the features where the variance is zero since they are constants for all samples"
   ]
  },
  {
   "cell_type": "code",
   "execution_count": 20,
   "id": "207b1a97-b052-47c1-956c-d0fefeeefc9c",
   "metadata": {
    "tags": []
   },
   "outputs": [
    {
     "name": "stdout",
     "output_type": "stream",
     "text": [
      "(328135, 315)\n"
     ]
    }
   ],
   "source": [
    "indices = np.where(stds != 0)\n",
    "data_var = data[:, indices]\n",
    "data_var = np.squeeze(data_var, axis = 1)\n",
    "print(data_var.shape)"
   ]
  },
  {
   "cell_type": "markdown",
   "id": "693df8b2-ed9b-4548-8468-54e6685eaa16",
   "metadata": {
    "tags": []
   },
   "source": [
    "We also remove the 8 first features as the appear weird in the task of predicting a heart attack"
   ]
  },
  {
   "cell_type": "code",
   "execution_count": 21,
   "id": "1d49aa9a-539b-4ab5-9173-2d3b56ea8c9a",
   "metadata": {
    "tags": []
   },
   "outputs": [
    {
     "name": "stdout",
     "output_type": "stream",
     "text": [
      "(328135, 306)\n"
     ]
    }
   ],
   "source": [
    "data_cleaned = data_var[:, 9:]\n",
    "print(data_cleaned.shape)"
   ]
  },
  {
   "cell_type": "markdown",
   "id": "0022b951-01ae-482a-9a91-bdc6878fa522",
   "metadata": {},
   "source": [
    "We then separe the data to train on 60% of the total and to test it on the remaining 40% "
   ]
  },
  {
   "cell_type": "code",
   "execution_count": 22,
   "id": "b8786b70-cd4e-487e-8442-83b524d98912",
   "metadata": {
    "tags": []
   },
   "outputs": [
    {
     "name": "stdout",
     "output_type": "stream",
     "text": [
      "Cross shape : (196881, 306) ; Test shape : (131254, 306)\n"
     ]
    }
   ],
   "source": [
    "train_size = np.floor(data_cleaned.shape[0] * 0.6).astype(int)\n",
    "data_cross = data_cleaned[:train_size, :]\n",
    "pred_cross = pred[:train_size]\n",
    "data_test = data_cleaned[train_size:, :]\n",
    "pred_test = pred[train_size:]\n",
    "print(f\"Cross shape : {data_cross.shape} ; Test shape : {data_test.shape}\")"
   ]
  },
  {
   "cell_type": "markdown",
   "id": "7efc066a-74cb-4e6b-9207-61906787dc92",
   "metadata": {},
   "source": [
    "Now we build our models for linear regression"
   ]
  },
  {
   "cell_type": "code",
   "execution_count": 23,
   "id": "1c4519d9-76e2-4a60-97fe-9a1890f7cf25",
   "metadata": {
    "tags": []
   },
   "outputs": [
    {
     "name": "stdout",
     "output_type": "stream",
     "text": [
      "The data has now 307 features !\n"
     ]
    }
   ],
   "source": [
    "y, tx = build_model_data(data_cross, pred_cross)\n",
    "y_test, tx_test = build_model_data(data_test, pred_test)\n",
    "print(f\"The data has now {tx.shape[1]} features !\")"
   ]
  },
  {
   "cell_type": "markdown",
   "id": "d84cb632-ef6f-4cce-9276-2f95f9f1b903",
   "metadata": {},
   "source": [
    "## Linear regression using gradient descent\n",
    "\n",
    "Here we train our model using GD with MSE"
   ]
  },
  {
   "cell_type": "code",
   "execution_count": 8,
   "id": "0ae0c7fd-20c1-403e-a175-9b348f5cc4a7",
   "metadata": {
    "tags": []
   },
   "outputs": [
    {
     "name": "stdout",
     "output_type": "stream",
     "text": [
      "Execution time 8.996087 seconds\n"
     ]
    }
   ],
   "source": [
    "initial_w = np.zeros(tx.shape[1])\n",
    "max_iters = 100\n",
    "gamma = 0.09\n",
    "\n",
    "start_time = datetime.datetime.now()\n",
    "w, loss = mean_squared_error_gd(y, tx, initial_w, max_iters, gamma)\n",
    "end_time = datetime.datetime.now()\n",
    "print(f\"Execution time {(end_time - start_time).total_seconds()} seconds\")"
   ]
  },
  {
   "cell_type": "markdown",
   "id": "c41fde6c-4da2-4e82-bbff-8f67e4f9fd0d",
   "metadata": {},
   "source": [
    "### Computation of metrics\n",
    "\n",
    "We first compute some metrics on the training data (60% of the total data)"
   ]
  },
  {
   "cell_type": "code",
   "execution_count": 9,
   "id": "e49f21d6-55c5-4fbf-ac2e-78a14ff9164b",
   "metadata": {
    "tags": []
   },
   "outputs": [
    {
     "name": "stdout",
     "output_type": "stream",
     "text": [
      "Accuracy: 91.26426623188627%\n",
      "True positive rate: 67.07317073170732%\n",
      "True negative rate: 91.27434590622919%\n"
     ]
    }
   ],
   "source": [
    "pred_data = np.dot(tx, w)\n",
    "pred_data = (pred_data > 0.49).astype(float)\n",
    "correctly_classified_data = np.sum(pred_data == y)\n",
    "\n",
    "tp = np.sum((pred_data == 1) & (y == 1))\n",
    "fp = np.sum((pred_data == 1) & (y == 0))\n",
    "\n",
    "tn = np.sum((pred_data == 0) & (y == 0))\n",
    "fn = np.sum((pred_data == 0) & (y == 1))\n",
    "\n",
    "accuracy_data = (tp + tn)/(tp + fp + tn + fn)\n",
    "\n",
    "print(f\"Accuracy: {accuracy_data*100}%\")\n",
    "print(f\"True positive rate: {tp/(tp + fp)*100}%\")\n",
    "print(f\"True negative rate: {tn/(tn + fn)*100}%\")"
   ]
  },
  {
   "cell_type": "markdown",
   "id": "d56d6c6f-feba-49c0-9223-ca63a8d2d8e5",
   "metadata": {},
   "source": [
    "Now we compute some metrics for our test data (40% of the total data)"
   ]
  },
  {
   "cell_type": "code",
   "execution_count": 10,
   "id": "56741a7a-76d9-48fc-8b0a-71dd68b24923",
   "metadata": {
    "tags": []
   },
   "outputs": [
    {
     "name": "stdout",
     "output_type": "stream",
     "text": [
      "Accuracy: 91.06160574153931%\n",
      "True positive rate: 66.0%\n",
      "True negative rate: 91.07115636718393%\n"
     ]
    }
   ],
   "source": [
    "pred_test = np.dot(tx_test, w)\n",
    "pred_test = (pred_test > 0.49).astype(float)\n",
    "correctly_classified_test = np.sum(pred_test == y_test)\n",
    "\n",
    "tp = np.sum((pred_test == 1) & (y_test == 1))\n",
    "fp = np.sum((pred_test == 1) & (y_test == 0))\n",
    "\n",
    "tn = np.sum((pred_test == 0) & (y_test == 0))\n",
    "fn = np.sum((pred_test == 0) & (y_test == 1))\n",
    "\n",
    "accuracy_test = (tp + tn)/(tp + fp + tn + fn)\n",
    "\n",
    "print(f\"Accuracy: {accuracy_test*100}%\")\n",
    "print(f\"True positive rate: {tp/(tp + fp)*100}%\")\n",
    "print(f\"True negative rate: {tn/(tn + fn)*100}%\")"
   ]
  },
  {
   "cell_type": "markdown",
   "id": "94441704-eea1-42f3-8439-3bdac8b04b43",
   "metadata": {
    "tags": []
   },
   "source": [
    "### Feature analysis"
   ]
  },
  {
   "cell_type": "code",
   "execution_count": 11,
   "id": "15dfe6db-247e-4671-a14d-6ded5d77eb67",
   "metadata": {
    "tags": []
   },
   "outputs": [
    {
     "data": {
      "image/png": "[encoded data removed]",
      "text/plain": [
       "<Figure size 1000x1000 with 1 Axes>"
      ]
     },
     "metadata": {},
     "output_type": "display_data"
    }
   ],
   "source": [
    "plt.figure(figsize=(10, 10))\n",
    "plt.bar(range(len(w)), np.abs(w))\n",
    "plt.yscale('log')\n",
    "plt.xlabel('Feature Index')\n",
    "plt.ylabel('Weight Value')\n",
    "plt.title('Feature Weights for Analysis')\n",
    "plt.show()"
   ]
  },
  {
   "cell_type": "markdown",
   "id": "41da9cb0-b695-4e90-88bb-ff6b638601a7",
   "metadata": {},
   "source": [
    "# Prediction on test data"
   ]
  },
  {
   "cell_type": "code",
   "execution_count": 45,
   "id": "05fddb54-26cc-4208-b93b-77f0f4413428",
   "metadata": {
    "tags": []
   },
   "outputs": [
    {
     "name": "stdout",
     "output_type": "stream",
     "text": [
      "Execution time 23.174797 seconds\n"
     ]
    }
   ],
   "source": [
    "start_time = datetime.datetime.now()\n",
    "x_te_load = load_data(\"x_test.csv\")\n",
    "data_te = np.ones(x_te_load.shape)\n",
    "stds = np.array([])\n",
    "\n",
    "for i in range(data_te.shape[1]):\n",
    "    d, _ = standardize_clean(x_te_load[:, i])\n",
    "    data_te[:, i] = d\n",
    "    \n",
    "data_var_te = data_te[:, indices]\n",
    "data_var_te = np.squeeze(data_var_te, axis = 1)\n",
    "data_cleaned_te = data_var_te[:, 9:]\n",
    "end_time = datetime.datetime.now()\n",
    "print(f\"Execution time {(end_time - start_time).total_seconds()} seconds\")"
   ]
  },
  {
   "cell_type": "code",
   "execution_count": 46,
   "id": "fa75846c-b7fe-4653-be48-c35cbbeb3182",
   "metadata": {
    "tags": []
   },
   "outputs": [
    {
     "name": "stdout",
     "output_type": "stream",
     "text": [
      "(109379, 307)\n"
     ]
    }
   ],
   "source": [
    "tx_te = np.c_[np.ones(data_cleaned_te.shape[0]), data_cleaned_te]\n",
    "print(tx_te.shape)"
   ]
  },
  {
   "cell_type": "code",
   "execution_count": 47,
   "id": "942c2d86-3ad3-480d-a273-a1f9d602d376",
   "metadata": {
    "tags": []
   },
   "outputs": [
    {
     "name": "stdout",
     "output_type": "stream",
     "text": [
      "(109379,)\n"
     ]
    }
   ],
   "source": [
    "y_te = np.dot(tx_te, w)\n",
    "print(y_te.shape)"
   ]
  },
  {
   "cell_type": "code",
   "execution_count": 48,
   "id": "6e9be53f-59f0-435a-a947-3220f591ed51",
   "metadata": {
    "tags": []
   },
   "outputs": [
    {
     "name": "stdout",
     "output_type": "stream",
     "text": [
      "(array([  3319,   3977,   4268,   5318,   6412,   7225,   7891,  12597,\n",
      "        14173,  14264,  15174,  16740,  18300,  22547,  26545,  27709,\n",
      "        30049,  30250,  37162,  37611,  38010,  41037,  41534,  43064,\n",
      "        43658,  44268,  49372,  50172,  51450,  52404,  52959,  53908,\n",
      "        55557,  58082,  60210,  62025,  62615,  63353,  71567,  74775,\n",
      "        74954,  76932,  77421,  85061,  85071,  87416,  87577,  88686,\n",
      "        89972,  91459,  95063,  95599,  98421,  99089, 103828, 104037,\n",
      "       104615, 105100, 105227]),)\n"
     ]
    }
   ],
   "source": [
    "pred_te = (y_te > 0.49).astype(float)\n",
    "indices_one = np.where(pred_te == 1)\n",
    "print(indices_one)"
   ]
  },
  {
   "cell_type": "code",
   "execution_count": 49,
   "id": "acdc5625-0f08-4c54-8bbf-543514ae44c4",
   "metadata": {
    "tags": []
   },
   "outputs": [],
   "source": [
    "create_csv_submission(pred_te, \"../data/prediction.csv\")"
   ]
  }
 ],
 "metadata": {
  "kernelspec": {
   "display_name": "Python 3 (ipykernel)",
   "language": "python",
   "name": "python3"
  },
  "language_info": {
   "codemirror_mode": {
    "name": "ipython",
    "version": 3
   },
   "file_extension": ".py",
   "mimetype": "text/x-python",
   "name": "python",
   "nbconvert_exporter": "python",
   "pygments_lexer": "ipython3",
   "version": "3.11.4"
  }
 },
 "nbformat": 4,
 "nbformat_minor": 5
}
