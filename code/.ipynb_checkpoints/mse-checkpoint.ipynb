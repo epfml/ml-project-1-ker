{
 "cells": [
  {
   "cell_type": "code",
   "execution_count": 5,
   "id": "38cfce00-7596-4f51-aa1c-5750258f0d74",
   "metadata": {
    "tags": []
   },
   "outputs": [
    {
     "name": "stdout",
     "output_type": "stream",
     "text": [
      "The autoreload extension is already loaded. To reload it, use:\n",
      "  %reload_ext autoreload\n"
     ]
    }
   ],
   "source": [
    "# Useful starting lines\n",
    "%matplotlib inline\n",
    "import numpy as np\n",
    "import matplotlib.pyplot as plt\n",
    "\n",
    "%load_ext autoreload\n",
    "%autoreload 2"
   ]
  },
  {
   "cell_type": "markdown",
   "id": "927ddbc4-74dd-4b7e-bc8e-39c4775c6340",
   "metadata": {},
   "source": [
    "# **Load the training data**\n",
    "\n",
    "We load the training data."
   ]
  },
  {
   "cell_type": "code",
   "execution_count": 35,
   "id": "274a0894-6252-4b01-9c74-9b10d37bf93b",
   "metadata": {
    "tags": []
   },
   "outputs": [
    {
     "name": "stdout",
     "output_type": "stream",
     "text": [
      "The data has 328135 samples and 321 features !\n"
     ]
    }
   ],
   "source": [
    "import datetime\n",
    "from implementations import *\n",
    "\n",
    "data_load = load_data(\"x_train.csv\")\n",
    "pred = load_data(\"y_train.csv\")\n",
    "print(f\"The data has {data_load.shape[0]} samples and {data_load.shape[1]} features !\")"
   ]
  },
  {
   "cell_type": "markdown",
   "id": "878ab50a-2f67-4ebb-9851-fa7b7b380886",
   "metadata": {},
   "source": [
    "We clean the data by removing the nan values by the mean of the rest of the feature"
   ]
  },
  {
   "cell_type": "code",
   "execution_count": 36,
   "id": "83dc8496-7e54-4639-97ec-b2895e7d84bc",
   "metadata": {
    "tags": []
   },
   "outputs": [
    {
     "name": "stdout",
     "output_type": "stream",
     "text": [
      "(321,)\n"
     ]
    }
   ],
   "source": [
    "data = np.ones(data_load.shape)\n",
    "stds = np.array([])\n",
    "for i in range(data.shape[1]):\n",
    "    d, std = standardize_clean(data_load[:, i])\n",
    "    data[:, i] = d\n",
    "    stds = np.append(stds, std)\n",
    "print(stds.shape)"
   ]
  },
  {
   "cell_type": "markdown",
   "id": "7a5f849c-709f-4fd0-8a54-a1f7b0d51a1c",
   "metadata": {
    "tags": []
   },
   "source": [
    "We further clean the data by removing the features where the variance is zero since they are constants for all samples"
   ]
  },
  {
   "cell_type": "code",
   "execution_count": 41,
   "id": "207b1a97-b052-47c1-956c-d0fefeeefc9c",
   "metadata": {
    "tags": []
   },
   "outputs": [
    {
     "name": "stdout",
     "output_type": "stream",
     "text": [
      "(328135, 315)\n"
     ]
    }
   ],
   "source": [
    "indices = np.where(stds != 0)\n",
    "data_var = data[:, indices]\n",
    "data_var = np.squeeze(data_var, axis = 1)\n",
    "print(data_var.shape)"
   ]
  },
  {
   "cell_type": "markdown",
   "id": "7efc066a-74cb-4e6b-9207-61906787dc92",
   "metadata": {},
   "source": [
    "Now we build our model for linear regression"
   ]
  },
  {
   "cell_type": "code",
   "execution_count": 43,
   "id": "1c4519d9-76e2-4a60-97fe-9a1890f7cf25",
   "metadata": {
    "tags": []
   },
   "outputs": [
    {
     "name": "stdout",
     "output_type": "stream",
     "text": [
      "The data has now 316 features !\n"
     ]
    }
   ],
   "source": [
    "y, tx = build_model_data(data_var, pred)\n",
    "print(f\"The data has now {tx.shape[1]} features !\")"
   ]
  },
  {
   "cell_type": "markdown",
   "id": "d84cb632-ef6f-4cce-9276-2f95f9f1b903",
   "metadata": {},
   "source": [
    "## Linear regression using gradient descent\n",
    "\n",
    "Here we train our model using GD with MSE"
   ]
  },
  {
   "cell_type": "code",
   "execution_count": 53,
   "id": "0ae0c7fd-20c1-403e-a175-9b348f5cc4a7",
   "metadata": {
    "tags": []
   },
   "outputs": [
    {
     "name": "stdout",
     "output_type": "stream",
     "text": [
      "Execution time 151.991291 seconds\n"
     ]
    }
   ],
   "source": [
    "initial_w = np.zeros(tx.shape[1])\n",
    "max_iters = 1000\n",
    "gamma = 0.09\n",
    "\n",
    "start_time = datetime.datetime.now()\n",
    "w, loss = mean_squared_error_gd(y, tx, initial_w, max_iters, gamma)\n",
    "end_time = datetime.datetime.now()\n",
    "print(f\"Execution time {(end_time - start_time).total_seconds()} seconds\")"
   ]
  },
  {
   "cell_type": "markdown",
   "id": "c41fde6c-4da2-4e82-bbff-8f67e4f9fd0d",
   "metadata": {},
   "source": [
    "### Compute the accuracy"
   ]
  },
  {
   "cell_type": "code",
   "execution_count": 54,
   "id": "e49f21d6-55c5-4fbf-ac2e-78a14ff9164b",
   "metadata": {
    "tags": []
   },
   "outputs": [
    {
     "name": "stdout",
     "output_type": "stream",
     "text": [
      "Accuracy: 91.19325887211056%\n"
     ]
    }
   ],
   "source": [
    "actual_pred = np.dot(tx, w)\n",
    "actual_pred = (actual_pred > 0.5).astype(float)\n",
    "correctly_classified = np.sum(actual_pred == y)\n",
    "accuracy = correctly_classified / len(pred)\n",
    "print(f\"Accuracy: {accuracy*100}%\")"
   ]
  },
  {
   "cell_type": "markdown",
   "id": "94441704-eea1-42f3-8439-3bdac8b04b43",
   "metadata": {
    "tags": []
   },
   "source": [
    "### Feature analysis"
   ]
  },
  {
   "cell_type": "code",
   "execution_count": 47,
   "id": "15dfe6db-247e-4671-a14d-6ded5d77eb67",
   "metadata": {},
   "outputs": [
    {
     "data": {
      "image/png": "[encoded data removed]",
      "text/plain": [
       "<Figure size 1000x600 with 1 Axes>"
      ]
     },
     "metadata": {},
     "output_type": "display_data"
    }
   ],
   "source": [
    "plt.figure(figsize=(10, 6))\n",
    "plt.bar(range(len(w)), np.abs(w))\n",
    "plt.xlabel('Feature Index')\n",
    "plt.ylabel('Weight Value')\n",
    "plt.title('Feature Weights for Analysis')\n",
    "plt.show()"
   ]
  },
  {
   "cell_type": "markdown",
   "id": "f2cdcd97-83df-4c8d-824c-b13264c9645f",
   "metadata": {},
   "source": [
    "**We select only the most influent features and train back our parameters to see if we get better accuracy**"
   ]
  },
  {
   "cell_type": "code",
   "execution_count": 40,
   "id": "a625d579-91c6-4991-b05b-fd4a66699871",
   "metadata": {
    "tags": []
   },
   "outputs": [
    {
     "name": "stdout",
     "output_type": "stream",
     "text": [
      "(250000, 20)\n"
     ]
    }
   ],
   "source": [
    "filter_data = tx[:, w > 0.0000005]\n",
    "y, tx_filtered = build_model_data(filter_data, pred)\n",
    "print(tx_filtered.shape)"
   ]
  },
  {
   "cell_type": "code",
   "execution_count": 41,
   "id": "33bc9307-3602-4ff4-a8e6-07dd58c4b687",
   "metadata": {
    "tags": []
   },
   "outputs": [
    {
     "name": "stdout",
     "output_type": "stream",
     "text": [
      "0.32866599999999996\n",
      "0.19939506057513406\n",
      "0.14243091245745024\n",
      "0.11711205890526255\n",
      "0.10572267536412154\n",
      "0.10050831804222163\n",
      "0.09805735220584022\n",
      "0.09685942724034335\n",
      "0.09624044829418126\n",
      "0.09589620507176555\n",
      "0.09568727783974129\n",
      "0.09554838010385294\n",
      "0.09544802170502222\n",
      "0.0953704043964553\n",
      "0.0953071996875951\n",
      "0.09525375438489142\n",
      "0.0952073011688739\n",
      "0.09516609023497014\n",
      "0.09512895224054246\n",
      "0.09509506838007376\n",
      "0.09506384318814826\n",
      "0.09503483034031715\n",
      "0.09500768707127663\n",
      "0.09498214482665382\n",
      "0.09495798959205756\n",
      "0.09493504826583535\n",
      "0.09491317896444298\n",
      "0.09489226397666763\n",
      "0.09487220455304728\n",
      "0.09485291699601404\n",
      "0.0948343296890631\n",
      "0.09481638081415125\n",
      "0.09479901657996076\n",
      "0.09478218983355724\n",
      "0.09476585896259519\n",
      "0.0947499870196714\n",
      "0.09473454101793796\n",
      "0.09471949135977954\n",
      "0.0947048113696566\n",
      "0.09469047690908897\n",
      "0.09467646605687143\n",
      "0.09466275884145711\n",
      "0.09464933701534843\n",
      "0.09463618386354292\n",
      "0.09462328403977423\n",
      "0.09461062342558856\n",
      "0.09459818900830491\n",
      "0.09458596877469373\n",
      "0.09457395161782155\n",
      "0.09456212725499336\n",
      "0.09455048615510785\n",
      "0.09453901947404332\n",
      "0.09452771899693674\n",
      "0.09451657708641266\n",
      "0.09450558663597612\n",
      "0.09449474102791224\n",
      "0.09448403409513813\n",
      "0.09447346008653794\n",
      "0.09446301363538243\n",
      "0.09445268973049108\n",
      "0.09444248368984344\n",
      "0.09443239113638592\n",
      "0.09442240797581299\n",
      "0.09441253037613143\n",
      "0.09440275474883744\n",
      "0.0943930777315592\n",
      "0.09438349617203234\n",
      "0.09437400711329196\n",
      "0.09436460777997648\n",
      "0.09435529556565046\n",
      "0.09434606802106152\n",
      "0.09433692284325708\n",
      "0.09432785786549057\n",
      "0.09431887104785745\n",
      "0.0943099604686023\n",
      "0.09430112431604709\n",
      "0.09429236088109315\n",
      "0.0942836685502538\n",
      "0.09427504579917852\n",
      "0.09426649118663193\n",
      "0.09425800334889528\n",
      "0.09424958099455862\n",
      "0.0942412228996764\n",
      "0.09423292790325986\n",
      "0.09422469490308266\n",
      "0.09421652285177624\n",
      "0.09420841075319639\n",
      "0.09420035765903984\n",
      "0.09419236266569456\n",
      "0.09418442491130678\n",
      "0.09417654357304965\n",
      "0.09416871786457975\n",
      "0.09416094703366765\n",
      "0.09415323035999124\n",
      "0.0941455671530797\n",
      "0.09413795675039854\n",
      "0.09413039851556484\n",
      "0.09412289183668465\n",
      "0.09411543612480366\n",
      "0.0941080308124632\n",
      "Execution time 0.589963 seconds with loss = 0.0941080308124632\n"
     ]
    }
   ],
   "source": [
    "initial_w = np.zeros(tx_filtered.shape[1])\n",
    "max_iters = 100\n",
    "gamma = 0.17\n",
    "\n",
    "start_time = datetime.datetime.now()\n",
    "w_filtered, loss_filtered = mean_squared_error_gd(y, tx_filtered, initial_w, max_iters, gamma)\n",
    "end_time = datetime.datetime.now()\n",
    "print(f\"Execution time {(end_time - start_time).total_seconds()} seconds with loss = {loss_filtered}\")"
   ]
  },
  {
   "cell_type": "code",
   "execution_count": 42,
   "id": "fa81e703-63d1-4a47-b742-3d2defae4fa3",
   "metadata": {
    "tags": []
   },
   "outputs": [
    {
     "name": "stdout",
     "output_type": "stream",
     "text": [
      "Accuracy: 71.4924%\n"
     ]
    }
   ],
   "source": [
    "actual_pred = np.dot(tx_filtered, w_filtered)\n",
    "actual_pred = (actual_pred > 0.5).astype(float)\n",
    "correctly_classified = np.sum(actual_pred == pred)\n",
    "accuracy = correctly_classified / len(pred)\n",
    "print(f\"Accuracy: {accuracy*100}%\")"
   ]
  },
  {
   "cell_type": "markdown",
   "id": "10e09890-38d6-4865-8f63-6a66c8c4acbd",
   "metadata": {},
   "source": [
    "### Results\n",
    "\n",
    "We see that the accuracy is less precise but the complexity is better by a factor of 2"
   ]
  },
  {
   "cell_type": "markdown",
   "id": "e4b4ee55-bf89-436d-bad5-27654e44fabd",
   "metadata": {},
   "source": [
    "# **Load and clean the training data**\n",
    "\n",
    "We clean the data by replacing the outlier values by the mean of the feature"
   ]
  },
  {
   "cell_type": "code",
   "execution_count": 44,
   "id": "a80b663d-984b-4a07-8bc5-2e534682acc9",
   "metadata": {
    "tags": []
   },
   "outputs": [],
   "source": [
    "data_clean, pred_clean, ids_clean = load_data(\"train.csv\")\n",
    "for i in range(data_clean.shape[1]):\n",
    "    data_clean[:, i] = standardize_clean(data_clean[:, i])\n",
    "y_clean, tx_clean = build_model_data(data_clean, pred_clean)"
   ]
  },
  {
   "cell_type": "markdown",
   "id": "2f42d12a-6f85-400d-bcf4-2814564e18f0",
   "metadata": {},
   "source": [
    "### Linear regression using gradient descent\n",
    "\n",
    "Here we train our model using GD with MSE"
   ]
  },
  {
   "cell_type": "code",
   "execution_count": 45,
   "id": "8c914458-3cd0-4377-b025-d332c2cb18a7",
   "metadata": {
    "tags": []
   },
   "outputs": [
    {
     "name": "stdout",
     "output_type": "stream",
     "text": [
      "0.32866599999999996\n",
      "0.19419662315741984\n",
      "0.13735486673830044\n",
      "0.11213417116149921\n",
      "0.10071320765401803\n",
      "0.0954279780083491\n",
      "0.09289640654232496\n",
      "0.09161231773035516\n",
      "0.09090161290078173\n",
      "0.09046108317920536\n",
      "0.09015332525175539\n",
      "0.0899152858415398\n",
      "0.08971740027967802\n",
      "0.08954529791376868\n",
      "0.08939158672839097\n",
      "0.08925214668620307\n",
      "0.0891244443435452\n",
      "0.08900675664433187\n",
      "0.08889780585155241\n",
      "0.08879658200938143\n",
      "0.08870225214724342\n",
      "0.08861411051307942\n",
      "0.08853154889646084\n",
      "0.0884540372982071\n",
      "0.08838111030063447\n",
      "0.08831235684044252\n",
      "0.08824741218725042\n",
      "0.08818595146130252\n",
      "0.08812768428974846\n",
      "0.08807235034146568\n",
      "0.08801971555978709\n",
      "0.08796956896072908\n",
      "0.08792171989578575\n",
      "0.08787599570018859\n",
      "0.08783223966344259\n",
      "0.08779030927096068\n",
      "0.08775007467493065\n",
      "0.08771141735989496\n",
      "0.08767422897440387\n",
      "0.08763841030485199\n",
      "0.08760387037147878\n",
      "0.08757052562968742\n",
      "0.08753829926245123\n",
      "0.08750712055174652\n",
      "0.0874769243187528\n",
      "0.08744765042406744\n",
      "0.08741924332044579\n",
      "0.08739165165163801\n",
      "0.0873648278917891\n",
      "0.08733872802062828\n",
      "0.08731331123031394\n",
      "0.08728853966034895\n",
      "0.08726437815744596\n",
      "0.08724079405762208\n",
      "0.0872177569881427\n",
      "0.08719523868722888\n",
      "0.08717321283969513\n",
      "0.08715165492690179\n",
      "0.08713054208959689\n",
      "0.08710985300238464\n",
      "0.08708956775870096\n",
      "0.08706966776530041\n",
      "0.08705013564536752\n",
      "0.08703095514946019\n",
      "0.08701211107357631\n",
      "0.08699358918370881\n",
      "0.08697537614631695\n",
      "0.08695745946420182\n",
      "0.0869398274173213\n",
      "0.08692246900812717\n",
      "0.08690537391104573\n",
      "0.08688853242575872\n",
      "0.08687193543397399\n",
      "0.08685557435940243\n",
      "0.08683944113068498\n",
      "0.086823528147034\n",
      "0.08680782824637621\n",
      "0.08679233467580097\n",
      "0.08677704106413604\n",
      "0.08676194139648666\n",
      "0.08674702999058855\n",
      "0.08673230147483724\n",
      "0.08671775076786697\n",
      "0.08670337305956469\n",
      "0.08668916379341107\n",
      "0.08667511865005091\n",
      "0.08666123353200329\n",
      "0.0866475045494269\n",
      "0.08663392800686508\n",
      "0.08662050039089875\n",
      "0.08660721835864253\n",
      "0.08659407872702295\n",
      "0.08658107846278364\n",
      "0.08656821467316514\n",
      "0.08655548459721235\n",
      "0.08654288559766443\n",
      "0.08653041515338736\n",
      "0.08651807085231004\n",
      "0.08650585038482969\n",
      "0.08649375153765375\n",
      "Execution time 1.446152 seconds\n"
     ]
    }
   ],
   "source": [
    "initial_w = np.zeros(tx.shape[1])\n",
    "max_iters = 100\n",
    "gamma = 0.332\n",
    "\n",
    "start_time = datetime.datetime.now()\n",
    "w_clean, loss_clean = mean_squared_error_gd(y_clean, tx_clean, initial_w, max_iters, gamma)\n",
    "end_time = datetime.datetime.now()\n",
    "print(f\"Execution time {(end_time - start_time).total_seconds()} seconds\")"
   ]
  },
  {
   "cell_type": "markdown",
   "id": "5f08eafc-b20a-4b41-a7c4-2ff10d2ea4aa",
   "metadata": {},
   "source": [
    "### Compute the accuracy"
   ]
  },
  {
   "cell_type": "code",
   "execution_count": 46,
   "id": "78f03ffb-f99c-49ce-8ea9-97664009706d",
   "metadata": {
    "tags": []
   },
   "outputs": [
    {
     "name": "stdout",
     "output_type": "stream",
     "text": [
      "Accuracy: 74.516%\n"
     ]
    }
   ],
   "source": [
    "actual_pred = np.dot(tx_clean, w_clean)\n",
    "actual_pred = (actual_pred > 0.5).astype(float)\n",
    "correctly_classified = np.sum(actual_pred == pred_clean)\n",
    "accuracy = correctly_classified / len(pred_clean)\n",
    "print(f\"Accuracy: {accuracy*100}%\")"
   ]
  },
  {
   "cell_type": "markdown",
   "id": "40501225-ec51-4793-ac61-53b0d0e42a06",
   "metadata": {},
   "source": [
    "### Feature analysis"
   ]
  },
  {
   "cell_type": "code",
   "execution_count": 47,
   "id": "779f3f19-3473-4ce4-a910-1e7f7bb4ac02",
   "metadata": {
    "tags": []
   },
   "outputs": [
    {
     "data": {
      "image/png": "[encoded data removed]",
      "text/plain": [
       "<Figure size 1000x600 with 1 Axes>"
      ]
     },
     "metadata": {},
     "output_type": "display_data"
    }
   ],
   "source": [
    "plt.figure(figsize=(10, 6))\n",
    "plt.bar(range(len(w_clean)), np.abs(w_clean))\n",
    "plt.xlabel('Feature Index')\n",
    "plt.ylabel('Weight Value')\n",
    "plt.title('Feature Weights for Analysis')\n",
    "plt.show()"
   ]
  },
  {
   "cell_type": "markdown",
   "id": "fc2c8d8e-e90b-4993-aa57-b8b28a49f6ff",
   "metadata": {},
   "source": [
    "### Results\n",
    "\n",
    "We can conclude that cleaning the data by remplacing the outliers by the mean value doesn't really change that much. Indeed, the accuracy remains approximately the same but the algorithm converges much faster."
   ]
  },
  {
   "cell_type": "markdown",
   "id": "52b44c9e-9fba-44d0-8baa-875485825816",
   "metadata": {},
   "source": [
    "# **Load and clean the training data**\n",
    "\n",
    "We clean the data by dropping the features with outlier values."
   ]
  },
  {
   "cell_type": "code",
   "execution_count": 48,
   "id": "d74423a0-cb84-4f96-bfb8-78785211cba3",
   "metadata": {
    "tags": []
   },
   "outputs": [
    {
     "name": "stdout",
     "output_type": "stream",
     "text": [
      "(250000, 30)\n",
      "(250000, 19)\n"
     ]
    }
   ],
   "source": [
    "data_drop, pred_drop, ids_drop = load_data(\"train.csv\")\n",
    "data_drop[data_drop == -999] = np.nan\n",
    "nan_counts = np.sum(np.isnan(data_drop), axis = 0)\n",
    "indices = np.where(nan_counts == 0)\n",
    "print(data_drop.shape)\n",
    "data_drop = np.squeeze(data_drop[:, indices], axis = 1)\n",
    "print(data_drop.shape)"
   ]
  },
  {
   "cell_type": "code",
   "execution_count": 49,
   "id": "67c91fb0-1f61-4213-b772-32d5e6378d43",
   "metadata": {
    "tags": []
   },
   "outputs": [],
   "source": [
    "for i in range(data_drop.shape[1]):\n",
    "    data_drop[:, i] = standardize(data_drop[:, i])[0]\n",
    "y_drop, tx_drop = build_model_data(data_drop, pred_drop)"
   ]
  },
  {
   "cell_type": "code",
   "execution_count": 61,
   "id": "3fd7f94a-bf9f-444d-b939-7c4507bc9e6e",
   "metadata": {
    "tags": []
   },
   "outputs": [
    {
     "name": "stdout",
     "output_type": "stream",
     "text": [
      "0.32866599999999996\n",
      "0.19629645542987662\n",
      "0.1394401232003806\n",
      "0.11383627961437198\n",
      "0.1020416721693915\n",
      "0.09646342704602001\n",
      "0.0937166404267357\n",
      "0.09227834320744775\n",
      "0.09145828977330027\n",
      "0.09094075629666878\n",
      "0.09057931759504795\n",
      "0.09030457245831726\n",
      "0.09008249849565289\n",
      "0.0898955669628375\n",
      "0.08973411848087032\n",
      "0.08959238167643785\n",
      "0.0894666039446125\n",
      "0.08935415095839255\n",
      "0.08925305620575363\n",
      "0.08916178372295101\n",
      "0.0890790948232072\n",
      "0.08900396769792203\n",
      "0.08893554540116738\n",
      "0.0888731000886851\n",
      "0.0888160072241854\n",
      "0.0887637263016545\n",
      "0.08871578606225236\n",
      "0.08867177294212762\n",
      "0.08863132191374051\n",
      "0.08859410913896851\n",
      "0.08855984601534483\n",
      "0.08852827430640697\n",
      "0.08849916212392599\n",
      "0.08847230058523121\n",
      "0.0884475010097373\n",
      "0.08842459254939634\n",
      "0.08840342017096649\n",
      "0.08838384292566158\n",
      "0.08836573245531087\n",
      "0.08834897169462778\n",
      "0.08833345373730457\n",
      "0.0883190808399715\n",
      "0.08830576354301094\n",
      "0.08829341989110369\n",
      "0.08828197473946184\n",
      "0.08827135913414036\n",
      "0.08826150975677033\n",
      "0.08825236842561955\n",
      "0.08824388164615048\n",
      "0.08823600020527256\n",
      "0.0882286788043251\n",
      "0.08822187572651971\n",
      "0.08821555253514365\n",
      "0.08820967379930511\n",
      "0.08820420684440303\n",
      "0.08819912152484438\n",
      "0.08819439001682289\n",
      "0.08818998662921941\n",
      "0.08818588763090096\n",
      "0.08818207109287839\n",
      "0.08817851674394701\n",
      "0.08817520583857441\n",
      "0.08817212103592507\n",
      "0.08816924628902162\n",
      "0.08816656674314033\n",
      "0.08816406864262433\n",
      "0.08816173924537715\n",
      "0.0881595667443671\n",
      "0.08815754019553541\n",
      "0.08815564945155763\n",
      "0.08815388510095755\n",
      "0.0881522384121177\n",
      "0.08815070128177203\n",
      "0.0881492661876039\n",
      "0.08814792614460412\n",
      "0.08814667466487655\n",
      "0.0881455057206038\n",
      "0.08814441370991292\n",
      "0.08814339342540142\n",
      "0.08814244002510628\n",
      "0.08814154900571651\n",
      "0.08814071617784666\n",
      "0.08813993764320538\n",
      "0.08813920977350564\n",
      "0.08813852919097716\n",
      "0.08813789275035366\n",
      "0.08813729752221691\n",
      "0.08813674077759054\n",
      "0.08813621997368543\n",
      "0.08813573274070524\n",
      "0.08813527686963075\n",
      "0.08813485030090529\n",
      "0.08813445111395235\n",
      "0.08813407751746119\n",
      "0.08813372784038057\n",
      "0.08813340052356751\n",
      "0.08813309411204027\n",
      "0.08813280724779028\n",
      "0.08813253866311037\n",
      "0.0881322871744008\n",
      "Execution time 0.654413 seconds\n"
     ]
    }
   ],
   "source": [
    "initial_w = np.zeros(tx_drop.shape[1])\n",
    "max_iters = 100\n",
    "gamma = 0.33\n",
    "\n",
    "start_time = datetime.datetime.now()\n",
    "w_drop, loss_drop = mean_squared_error_gd(y_drop, tx_drop, initial_w, max_iters, gamma)\n",
    "end_time = datetime.datetime.now()\n",
    "print(f\"Execution time {(end_time - start_time).total_seconds()} seconds\")"
   ]
  },
  {
   "cell_type": "code",
   "execution_count": 62,
   "id": "e775d71f-d91a-4e0a-8721-5e1ba49bfcbc",
   "metadata": {
    "tags": []
   },
   "outputs": [
    {
     "name": "stdout",
     "output_type": "stream",
     "text": [
      "Accuracy: 73.3508%\n"
     ]
    }
   ],
   "source": [
    "actual_pred = np.dot(tx_drop, w_drop)\n",
    "actual_pred = (actual_pred > 0.5).astype(float)\n",
    "correctly_classified = np.sum(actual_pred == pred_drop)\n",
    "accuracy = correctly_classified / len(pred_drop)\n",
    "print(f\"Accuracy: {accuracy*100}%\")"
   ]
  },
  {
   "cell_type": "code",
   "execution_count": 64,
   "id": "bbbb1912-5a74-4722-95c4-97c53ccee07b",
   "metadata": {
    "tags": []
   },
   "outputs": [
    {
     "data": {
      "image/png": "[encoded data removed]",
      "text/plain": [
       "<Figure size 1000x600 with 1 Axes>"
      ]
     },
     "metadata": {},
     "output_type": "display_data"
    }
   ],
   "source": [
    "plt.figure(figsize=(10, 6))\n",
    "plt.bar(range(len(w_drop)), np.abs(w_drop))\n",
    "plt.xlabel('Feature Index')\n",
    "plt.ylabel('Weight Value')\n",
    "plt.title('Feature Weights for Analysis')\n",
    "plt.show()"
   ]
  },
  {
   "cell_type": "markdown",
   "id": "f99b7995-644e-4c1c-84bd-f0a8b39cf767",
   "metadata": {},
   "source": [
    "# **Load the testing data**"
   ]
  },
  {
   "cell_type": "code",
   "execution_count": null,
   "id": "60c7ad4d-890b-44d6-aacd-9528c03894ce",
   "metadata": {},
   "outputs": [],
   "source": [
    "test_data, test_pred, test_ids = load_data(\"test.csv\")\n",
    "for i in range(test_data.shape[1]):\n",
    "    test_data[:, i] = standardize(test_data[:, i])[0]\n",
    "test_y, test_tx = build_model_data(test_data, test_pred)"
   ]
  },
  {
   "cell_type": "markdown",
   "id": "4df253f4-463a-43da-8623-3ed36f6419b8",
   "metadata": {},
   "source": [
    "### Predict the label with our trained model"
   ]
  },
  {
   "cell_type": "code",
   "execution_count": 112,
   "id": "937e58c4-30d1-4302-834f-0f2b2b051b89",
   "metadata": {
    "tags": []
   },
   "outputs": [],
   "source": [
    "test_y = np.dot(test_tx, w)\n",
    "test_y = (test_y > 0.5).astype(float)"
   ]
  }
 ],
 "metadata": {
  "kernelspec": {
   "display_name": "Python 3 (ipykernel)",
   "language": "python",
   "name": "python3"
  },
  "language_info": {
   "codemirror_mode": {
    "name": "ipython",
    "version": 3
   },
   "file_extension": ".py",
   "mimetype": "text/x-python",
   "name": "python",
   "nbconvert_exporter": "python",
   "pygments_lexer": "ipython3",
   "version": "3.11.4"
  }
 },
 "nbformat": 4,
 "nbformat_minor": 5
}
