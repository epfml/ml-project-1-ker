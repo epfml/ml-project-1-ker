{
 "cells": [
  {
   "cell_type": "code",
   "execution_count": 16,
   "id": "38cfce00-7596-4f51-aa1c-5750258f0d74",
   "metadata": {
    "tags": []
   },
   "outputs": [
    {
     "name": "stdout",
     "output_type": "stream",
     "text": [
      "The autoreload extension is already loaded. To reload it, use:\n",
      "  %reload_ext autoreload\n"
     ]
    }
   ],
   "source": [
    "# Useful starting lines\n",
    "%matplotlib inline\n",
    "import numpy as np\n",
    "import matplotlib.pyplot as plt\n",
    "\n",
    "%load_ext autoreload\n",
    "%autoreload 2"
   ]
  },
  {
   "cell_type": "markdown",
   "id": "d84cb632-ef6f-4cce-9276-2f95f9f1b903",
   "metadata": {},
   "source": [
    "## **Linear regression using gradient descent**\n",
    "\n",
    "Here we compute the gradient descent algorithm for linear regression using the mean-squared error as loss function\n",
    "\n",
    "### Loss function\n",
    "\n",
    "The MSE loss function"
   ]
  },
  {
   "cell_type": "code",
   "execution_count": 17,
   "id": "460334dc-6aa5-4d22-8a1a-0469913f7f1b",
   "metadata": {
    "tags": []
   },
   "outputs": [],
   "source": [
    "def compute_loss_mse(y, tx, w):\n",
    "    \"\"\"Calculate the loss using MSE.\n",
    "\n",
    "    Args:\n",
    "        y: numpy array of shape=(N, )\n",
    "        tx: numpy array of shape=(N,M)\n",
    "        w: numpy array of shape=(M,). The vector of model parameters.\n",
    "\n",
    "    Returns:\n",
    "        the value of the loss (a scalar), corresponding to the input parameters w.\n",
    "    \"\"\"\n",
    "    \n",
    "    prod = np.dot(tx, w)\n",
    "    e = y - prod\n",
    "    return np.dot(e.T, e)"
   ]
  },
  {
   "cell_type": "markdown",
   "id": "61af0851-4d6f-4532-ad7a-9cf34629e951",
   "metadata": {
    "tags": []
   },
   "source": [
    "### Gradient \n",
    "\n",
    "The gradient of the MSE "
   ]
  },
  {
   "cell_type": "code",
   "execution_count": 18,
   "id": "dc58eb42-e2cd-4427-9aea-a3a9c12e6e6d",
   "metadata": {
    "tags": []
   },
   "outputs": [],
   "source": [
    "def compute_gradient_mse(y, tx, w):\n",
    "    \"\"\"Computes the gradient at w.\n",
    "\n",
    "    Args:\n",
    "        y: numpy array of shape=(N, )\n",
    "        tx: numpy array of shape=(N,M)\n",
    "        w: numpy array of shape=(M, ). The vector of model parameters.\n",
    "\n",
    "    Returns:\n",
    "        An numpy array of shape (M, ) (same shape as w), containing the gradient of the loss at w.\n",
    "    \"\"\"\n",
    "   \n",
    "    N = len(y)\n",
    "    prod = np.dot(tx, w)\n",
    "    e = y - prod\n",
    "    gradient = -(1/N) * np.dot(tx.T, e)\n",
    "    \n",
    "    return gradient"
   ]
  },
  {
   "cell_type": "markdown",
   "id": "dbe2dafd-1686-41cb-a0df-16a8ae24e5bb",
   "metadata": {
    "tags": []
   },
   "source": [
    "### Gradient descent \n",
    "\n",
    "The gradient descent for the MSE "
   ]
  },
  {
   "cell_type": "code",
   "execution_count": 20,
   "id": "a1c92b20-17e5-4109-8737-32dcf5bb6bc2",
   "metadata": {
    "tags": []
   },
   "outputs": [],
   "source": [
    "def mean_squared_error_gd(y, tx, initial_w, max_iters, gamma):\n",
    "    \"\"\"The Gradient Descent (GD) algorithm.\n",
    "\n",
    "    Args:\n",
    "        y: numpy array of shape=(N, )\n",
    "        tx: numpy array of shape=(N,M)\n",
    "        initial_w: numpy array of shape=(M, ). The initial guess (or the initialization) for the model parameters\n",
    "        max_iters: a scalar denoting the total number of iterations of GD\n",
    "        gamma: a scalar denoting the stepsize\n",
    "\n",
    "    Returns:\n",
    "        losses: a list of length max_iters containing the loss value (scalar) for each iteration of GD\n",
    "        ws: a list of length max_iters containing the model parameters as numpy arrays of shape (M, ), for each iteration of GD\n",
    "    \"\"\"\n",
    "    # Define parameters to store w and loss\n",
    "    loss = 0\n",
    "    w = initial_w\n",
    "    # Gradient descent\n",
    "    for n_iter in range(max_iters):\n",
    "        loss = compute_loss_mse(y, tx, w)\n",
    "        grad = compute_gradient_mse(y, tx, w)\n",
    "        w = w - gamma * grad\n",
    "\n",
    "    return w, loss "
   ]
  }
 ],
 "metadata": {
  "kernelspec": {
   "display_name": "Python 3 (ipykernel)",
   "language": "python",
   "name": "python3"
  },
  "language_info": {
   "codemirror_mode": {
    "name": "ipython",
    "version": 3
   },
   "file_extension": ".py",
   "mimetype": "text/x-python",
   "name": "python",
   "nbconvert_exporter": "python",
   "pygments_lexer": "ipython3",
   "version": "3.11.4"
  }
 },
 "nbformat": 4,
 "nbformat_minor": 5
}
