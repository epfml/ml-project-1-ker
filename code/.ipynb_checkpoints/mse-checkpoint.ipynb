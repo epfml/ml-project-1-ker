{
 "cells": [
  {
   "cell_type": "code",
   "execution_count": 16,
   "id": "38cfce00-7596-4f51-aa1c-5750258f0d74",
   "metadata": {
    "tags": []
   },
   "outputs": [
    {
     "name": "stdout",
     "output_type": "stream",
     "text": [
      "The autoreload extension is already loaded. To reload it, use:\n",
      "  %reload_ext autoreload\n"
     ]
    }
   ],
   "source": [
    "# Useful starting lines\n",
    "%matplotlib inline\n",
    "import numpy as np\n",
    "import matplotlib.pyplot as plt\n",
    "\n",
    "%load_ext autoreload\n",
    "%autoreload 2"
   ]
  },
  {
   "cell_type": "markdown",
   "id": "927ddbc4-74dd-4b7e-bc8e-39c4775c6340",
   "metadata": {},
   "source": [
    "# **Load the training data**"
   ]
  },
  {
   "cell_type": "code",
   "execution_count": 65,
   "id": "274a0894-6252-4b01-9c74-9b10d37bf93b",
   "metadata": {
    "tags": []
   },
   "outputs": [
    {
     "name": "stdout",
     "output_type": "stream",
     "text": [
      "../data/train.csv\n"
     ]
    }
   ],
   "source": [
    "import datetime\n",
    "from implementations import *\n",
    "\n",
    "data, pred, ids = load_data(\"train.csv\")\n",
    "for i in range(data.shape[1]):\n",
    "    data[:][i] = standardize(data[:][i])[0]\n",
    "y, tx = build_model_data(data, pred)"
   ]
  },
  {
   "cell_type": "markdown",
   "id": "d84cb632-ef6f-4cce-9276-2f95f9f1b903",
   "metadata": {},
   "source": [
    "## Linear regression using gradient descent\n",
    "\n",
    "Here we train our model using GD with MSE"
   ]
  },
  {
   "cell_type": "code",
   "execution_count": 60,
   "id": "0ae0c7fd-20c1-403e-a175-9b348f5cc4a7",
   "metadata": {
    "tags": []
   },
   "outputs": [
    {
     "name": "stdout",
     "output_type": "stream",
     "text": [
      "GD iter. 0/49: loss=0.32866599999999996\n",
      "GD iter. 1/49: loss=0.2433735895506214\n",
      "GD iter. 2/49: loss=0.19789363921519368\n",
      "GD iter. 3/49: loss=0.1731656924092589\n",
      "GD iter. 4/49: loss=0.15929397021205846\n",
      "GD iter. 5/49: loss=0.15113717937696428\n",
      "GD iter. 6/49: loss=0.1460209922252019\n",
      "GD iter. 7/49: loss=0.14255146659168955\n",
      "GD iter. 8/49: loss=0.13999949150564783\n",
      "GD iter. 9/49: loss=0.13798141839070507\n",
      "GD iter. 10/49: loss=0.1362933290925604\n",
      "GD iter. 11/49: loss=0.13482500438766012\n",
      "GD iter. 12/49: loss=0.1335152426096536\n",
      "GD iter. 13/49: loss=0.13232863518527127\n",
      "GD iter. 14/49: loss=0.13124347920774684\n",
      "GD iter. 15/49: loss=0.13024547286936064\n",
      "GD iter. 16/49: loss=0.12932441543272513\n",
      "GD iter. 17/49: loss=0.12847246970801898\n",
      "GD iter. 18/49: loss=0.1276832383158168\n",
      "GD iter. 19/49: loss=0.12695126478992383\n",
      "GD iter. 20/49: loss=0.1262717573141095\n",
      "GD iter. 21/49: loss=0.12564042984615675\n",
      "GD iter. 22/49: loss=0.12505340575120263\n",
      "GD iter. 23/49: loss=0.12450715525059587\n",
      "GD iter. 24/49: loss=0.12399845161873747\n",
      "GD iter. 25/49: loss=0.12352433816239329\n",
      "GD iter. 26/49: loss=0.12308210172704052\n",
      "GD iter. 27/49: loss=0.12266925041957741\n",
      "GD iter. 28/49: loss=0.12228349426139891\n",
      "GD iter. 29/49: loss=0.12192272802993318\n",
      "GD iter. 30/49: loss=0.12158501583902592\n",
      "GD iter. 31/49: loss=0.12126857716834401\n",
      "GD iter. 32/49: loss=0.1209717741415577\n",
      "GD iter. 33/49: loss=0.12069309990511774\n",
      "GD iter. 34/49: loss=0.12043116799115887\n",
      "GD iter. 35/49: loss=0.12018470256853461\n",
      "GD iter. 36/49: loss=0.1199525295000835\n",
      "GD iter. 37/49: loss=0.1197335681345672\n",
      "GD iter. 38/49: loss=0.11952682376975518\n",
      "GD iter. 39/49: loss=0.1193313807296589\n",
      "GD iter. 40/49: loss=0.1191463960044204\n",
      "GD iter. 41/49: loss=0.11897109340610731\n",
      "GD iter. 42/49: loss=0.11880475819783705\n",
      "GD iter. 43/49: loss=0.11864673215736422\n",
      "GD iter. 44/49: loss=0.11849640903959222\n",
      "GD iter. 45/49: loss=0.11835323040547549\n",
      "GD iter. 46/49: loss=0.11821668178749953\n",
      "GD iter. 47/49: loss=0.11808628916440375\n",
      "GD iter. 48/49: loss=0.11796161572006807\n",
      "GD iter. 49/49: loss=0.11784225886354564\n"
     ]
    }
   ],
   "source": [
    "initial_w = np.zeros(tx.shape[1])\n",
    "max_iters = 50\n",
    "gamma = 3e-7\n",
    "\n",
    "w, loss = mean_squared_error_gd(y, tx, initial_w, max_iters, gamma)"
   ]
  },
  {
   "cell_type": "markdown",
   "id": "001a7712-d306-408c-b169-4bd06f587ee6",
   "metadata": {},
   "source": [
    "# **Load the testing data**"
   ]
  },
  {
   "cell_type": "code",
   "execution_count": 69,
   "id": "fde875d4-7d12-4128-8fad-cc18a7d41944",
   "metadata": {
    "tags": []
   },
   "outputs": [
    {
     "name": "stdout",
     "output_type": "stream",
     "text": [
      "[-9.9900e+02  7.9589e+01  2.3916e+01  3.0360e+00 -9.9900e+02 -9.9900e+02\n",
      " -9.9900e+02  9.0300e-01  3.0360e+00  5.6018e+01  1.5360e+00 -1.4040e+00\n",
      " -9.9900e+02  2.2088e+01 -5.4000e-01 -6.0900e-01  3.3930e+01 -5.0400e-01\n",
      " -1.5110e+00  4.8509e+01  2.0220e+00  9.8556e+01  0.0000e+00 -9.9900e+02\n",
      " -9.9900e+02 -9.9900e+02 -9.9900e+02 -9.9900e+02 -9.9900e+02  0.0000e+00]\n",
      "[1 1 1 ... 1 1 1]\n"
     ]
    }
   ],
   "source": [
    "test_data, test_pred, test_ids = load_data(\"test.csv\")\n",
    "print(test_data[0])\n",
    "for i in range(test_data.shape[1]):\n",
    "    test_data[:][i] = standardize(test_data[:][i])[0]\n",
    "test_y, test_tx = build_model_data(test_data, test_pred)\n",
    "print(test_y)"
   ]
  },
  {
   "cell_type": "code",
   "execution_count": null,
   "id": "937e58c4-30d1-4302-834f-0f2b2b051b89",
   "metadata": {},
   "outputs": [],
   "source": []
  }
 ],
 "metadata": {
  "kernelspec": {
   "display_name": "Python 3 (ipykernel)",
   "language": "python",
   "name": "python3"
  },
  "language_info": {
   "codemirror_mode": {
    "name": "ipython",
    "version": 3
   },
   "file_extension": ".py",
   "mimetype": "text/x-python",
   "name": "python",
   "nbconvert_exporter": "python",
   "pygments_lexer": "ipython3",
   "version": "3.11.4"
  }
 },
 "nbformat": 4,
 "nbformat_minor": 5
}
