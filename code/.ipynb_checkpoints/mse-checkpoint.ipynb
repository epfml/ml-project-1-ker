{
 "cells": [
  {
   "cell_type": "code",
   "execution_count": null,
   "id": "38cfce00-7596-4f51-aa1c-5750258f0d74",
   "metadata": {
    "tags": []
   },
   "outputs": [],
   "source": [
    "# Useful starting lines\n",
    "%matplotlib inline\n",
    "import numpy as np\n",
    "import matplotlib.pyplot as plt\n",
    "\n",
    "%load_ext autoreload\n",
    "%autoreload 2"
   ]
  },
  {
   "cell_type": "markdown",
   "id": "927ddbc4-74dd-4b7e-bc8e-39c4775c6340",
   "metadata": {},
   "source": [
    "# **Load the training data**"
   ]
  },
  {
   "cell_type": "code",
   "execution_count": null,
   "id": "274a0894-6252-4b01-9c74-9b10d37bf93b",
   "metadata": {
    "tags": []
   },
   "outputs": [],
   "source": [
    "import datetime\n",
    "from implementations import *\n",
    "\n",
    "data, pred, ids = load_data(\"train.csv\")\n",
    "for i in range(data.shape[1]):\n",
    "    data[:][i] = standardize(data[:][i])[0]\n",
    "y, tx = build_model_data(data, pred)"
   ]
  },
  {
   "cell_type": "markdown",
   "id": "d84cb632-ef6f-4cce-9276-2f95f9f1b903",
   "metadata": {},
   "source": [
    "## Linear regression using gradient descent\n",
    "\n",
    "Here we train our model using GD with MSE"
   ]
  },
  {
   "cell_type": "code",
   "execution_count": null,
   "id": "0ae0c7fd-20c1-403e-a175-9b348f5cc4a7",
   "metadata": {
    "tags": []
   },
   "outputs": [],
   "source": [
    "initial_w = np.zeros(tx.shape[1])\n",
    "max_iters = 100\n",
    "gamma = 3.33e-7\n",
    "\n",
    "start_time = datetime.datetime.now()\n",
    "w, loss = mean_squared_error_gd(y, tx, initial_w, max_iters, gamma)\n",
    "end_time = datetime.datetime.now()\n",
    "print(f\"Execution time {(end_time - start_time).total_seconds()} seconds\")"
   ]
  },
  {
   "cell_type": "code",
   "execution_count": null,
   "id": "e49f21d6-55c5-4fbf-ac2e-78a14ff9164b",
   "metadata": {
    "tags": []
   },
   "outputs": [],
   "source": [
    "actual_pred = np.dot(tx, w)\n",
    "actual_pred = (actual_pred > 0.5).astype(float)\n",
    "correctly_classified = np.sum(actual_pred == pred)\n",
    "accuracy = correctly_classified / len(pred)\n",
    "print(f\"Accuracy: {accuracy*100}%\")"
   ]
  },
  {
   "cell_type": "markdown",
   "id": "001a7712-d306-408c-b169-4bd06f587ee6",
   "metadata": {},
   "source": [
    "# **Load the testing data**"
   ]
  },
  {
   "cell_type": "code",
   "execution_count": 110,
   "id": "fde875d4-7d12-4128-8fad-cc18a7d41944",
   "metadata": {
    "tags": []
   },
   "outputs": [],
   "source": [
    "test_data, test_pred, test_ids = load_data(\"test.csv\")\n",
    "for i in range(test_data.shape[1]):\n",
    "    test_data[:][i] = standardize(test_data[:][i])[0]\n",
    "test_y, test_tx = build_model_data(test_data, test_pred)"
   ]
  },
  {
   "cell_type": "code",
   "execution_count": 112,
   "id": "937e58c4-30d1-4302-834f-0f2b2b051b89",
   "metadata": {
    "tags": []
   },
   "outputs": [],
   "source": [
    "test_y = np.dot(test_tx, w)\n",
    "test_y = (test_y > 0.5).astype(float)"
   ]
  }
 ],
 "metadata": {
  "kernelspec": {
   "display_name": "Python 3 (ipykernel)",
   "language": "python",
   "name": "python3"
  },
  "language_info": {
   "codemirror_mode": {
    "name": "ipython",
    "version": 3
   },
   "file_extension": ".py",
   "mimetype": "text/x-python",
   "name": "python",
   "nbconvert_exporter": "python",
   "pygments_lexer": "ipython3",
   "version": "3.11.4"
  }
 },
 "nbformat": 4,
 "nbformat_minor": 5
}
