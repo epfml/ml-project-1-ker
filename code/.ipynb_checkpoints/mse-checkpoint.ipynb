{
 "cells": [
  {
   "cell_type": "code",
   "execution_count": 6,
   "id": "38cfce00-7596-4f51-aa1c-5750258f0d74",
   "metadata": {
    "tags": []
   },
   "outputs": [
    {
     "name": "stdout",
     "output_type": "stream",
     "text": [
      "The autoreload extension is already loaded. To reload it, use:\n",
      "  %reload_ext autoreload\n"
     ]
    }
   ],
   "source": [
    "# Useful starting lines\n",
    "%matplotlib inline\n",
    "import numpy as np\n",
    "import matplotlib.pyplot as plt\n",
    "\n",
    "%load_ext autoreload\n",
    "%autoreload 2"
   ]
  },
  {
   "cell_type": "markdown",
   "id": "927ddbc4-74dd-4b7e-bc8e-39c4775c6340",
   "metadata": {},
   "source": [
    "# **Load the training data**"
   ]
  },
  {
   "cell_type": "markdown",
   "id": "8353bf06-3e88-45eb-888f-ba433ec696e0",
   "metadata": {
    "tags": []
   },
   "source": [
    "Here we load the training data without cleaning it"
   ]
  },
  {
   "cell_type": "code",
   "execution_count": 61,
   "id": "274a0894-6252-4b01-9c74-9b10d37bf93b",
   "metadata": {
    "tags": []
   },
   "outputs": [],
   "source": [
    "import datetime\n",
    "from implementations import *\n",
    "\n",
    "data, pred, ids = load_data(\"train.csv\")\n",
    "for i in range(data.shape[1]):\n",
    "    data[:, i] = standardize(data[:, i])[0]\n",
    "y, tx = build_model_data(data, pred)"
   ]
  },
  {
   "cell_type": "markdown",
   "id": "d84cb632-ef6f-4cce-9276-2f95f9f1b903",
   "metadata": {},
   "source": [
    "## Linear regression using gradient descent\n",
    "\n",
    "Here we train our model using GD with MSE"
   ]
  },
  {
   "cell_type": "code",
   "execution_count": 90,
   "id": "0ae0c7fd-20c1-403e-a175-9b348f5cc4a7",
   "metadata": {
    "tags": []
   },
   "outputs": [
    {
     "name": "stdout",
     "output_type": "stream",
     "text": [
      "Execution time 1.260239 seconds\n"
     ]
    }
   ],
   "source": [
    "initial_w = np.zeros(tx.shape[1])\n",
    "max_iters = 100\n",
    "gamma = 0.16\n",
    "\n",
    "start_time = datetime.datetime.now()\n",
    "w, loss = mean_squared_error_gd(y, tx, initial_w, max_iters, gamma)\n",
    "end_time = datetime.datetime.now()\n",
    "print(f\"Execution time {(end_time - start_time).total_seconds()} seconds\")"
   ]
  },
  {
   "cell_type": "markdown",
   "id": "c41fde6c-4da2-4e82-bbff-8f67e4f9fd0d",
   "metadata": {},
   "source": [
    "### Compute the accuracy"
   ]
  },
  {
   "cell_type": "code",
   "execution_count": 91,
   "id": "e49f21d6-55c5-4fbf-ac2e-78a14ff9164b",
   "metadata": {
    "tags": []
   },
   "outputs": [
    {
     "name": "stdout",
     "output_type": "stream",
     "text": [
      "Accuracy: 74.344%\n"
     ]
    }
   ],
   "source": [
    "actual_pred = np.dot(tx, w)\n",
    "actual_pred = (actual_pred > 0.5).astype(float)\n",
    "correctly_classified = np.sum(actual_pred == pred)\n",
    "accuracy = correctly_classified / len(pred)\n",
    "print(f\"Accuracy: {accuracy*100}%\")"
   ]
  },
  {
   "cell_type": "markdown",
   "id": "94441704-eea1-42f3-8439-3bdac8b04b43",
   "metadata": {
    "tags": []
   },
   "source": [
    "### Feature analysis"
   ]
  },
  {
   "cell_type": "code",
   "execution_count": 66,
   "id": "15dfe6db-247e-4671-a14d-6ded5d77eb67",
   "metadata": {},
   "outputs": [
    {
     "data": {
      "image/png": "[encoded data removed]",
      "text/plain": [
       "<Figure size 1000x600 with 1 Axes>"
      ]
     },
     "metadata": {},
     "output_type": "display_data"
    }
   ],
   "source": [
    "plt.figure(figsize=(10, 6))\n",
    "plt.bar(range(len(w)), np.abs(w))\n",
    "plt.xlabel('Feature Index')\n",
    "plt.ylabel('Weight Value')\n",
    "plt.title('Feature Weights for Analysis')\n",
    "plt.show()"
   ]
  },
  {
   "cell_type": "markdown",
   "id": "f2cdcd97-83df-4c8d-824c-b13264c9645f",
   "metadata": {},
   "source": [
    "**We select only the most influent features and train back our parameters to see if we get better accuracy**"
   ]
  },
  {
   "cell_type": "code",
   "execution_count": 67,
   "id": "a625d579-91c6-4991-b05b-fd4a66699871",
   "metadata": {
    "tags": []
   },
   "outputs": [
    {
     "name": "stdout",
     "output_type": "stream",
     "text": [
      "(250000, 20)\n"
     ]
    }
   ],
   "source": [
    "filter_data = tx[:, w > 0.0000005]\n",
    "y, tx_filtered = build_model_data(filter_data, pred)\n",
    "print(tx_filtered.shape)"
   ]
  },
  {
   "cell_type": "code",
   "execution_count": 68,
   "id": "33bc9307-3602-4ff4-a8e6-07dd58c4b687",
   "metadata": {
    "tags": []
   },
   "outputs": [
    {
     "name": "stdout",
     "output_type": "stream",
     "text": [
      "Execution time 0.604455 seconds with loss = 0.0941080308124632\n"
     ]
    }
   ],
   "source": [
    "initial_w = np.zeros(tx_filtered.shape[1])\n",
    "max_iters = 100\n",
    "gamma = 0.17\n",
    "\n",
    "start_time = datetime.datetime.now()\n",
    "w_filtered, loss_filtered = mean_squared_error_gd(y, tx_filtered, initial_w, max_iters, gamma)\n",
    "end_time = datetime.datetime.now()\n",
    "print(f\"Execution time {(end_time - start_time).total_seconds()} seconds with loss = {loss_filtered}\")"
   ]
  },
  {
   "cell_type": "code",
   "execution_count": 69,
   "id": "fa81e703-63d1-4a47-b742-3d2defae4fa3",
   "metadata": {
    "tags": []
   },
   "outputs": [
    {
     "name": "stdout",
     "output_type": "stream",
     "text": [
      "Accuracy: 71.4924%\n"
     ]
    }
   ],
   "source": [
    "actual_pred = np.dot(tx_filtered, w_filtered)\n",
    "actual_pred = (actual_pred > 0.5).astype(float)\n",
    "correctly_classified = np.sum(actual_pred == pred)\n",
    "accuracy = correctly_classified / len(pred)\n",
    "print(f\"Accuracy: {accuracy*100}%\")"
   ]
  },
  {
   "cell_type": "markdown",
   "id": "10e09890-38d6-4865-8f63-6a66c8c4acbd",
   "metadata": {},
   "source": [
    "### Results\n",
    "\n",
    "We see that the accuracy is less precise but the complexity is better by a factor of 10"
   ]
  },
  {
   "cell_type": "markdown",
   "id": "e4b4ee55-bf89-436d-bad5-27654e44fabd",
   "metadata": {},
   "source": [
    "# **Load and clean the training data**\n",
    "\n",
    "Here we also clean the data"
   ]
  },
  {
   "cell_type": "code",
   "execution_count": 70,
   "id": "a80b663d-984b-4a07-8bc5-2e534682acc9",
   "metadata": {
    "tags": []
   },
   "outputs": [],
   "source": [
    "data_clean, pred_clean, ids_clean = load_data(\"train.csv\")\n",
    "for i in range(data_clean.shape[1]):\n",
    "    data_clean[:, i] = standardize_clean(data_clean[:, i])\n",
    "y_clean, tx_clean = build_model_data(data_clean, pred_clean)"
   ]
  },
  {
   "cell_type": "markdown",
   "id": "2f42d12a-6f85-400d-bcf4-2814564e18f0",
   "metadata": {},
   "source": [
    "### Linear regression using gradient descent\n",
    "\n",
    "Here we train our model using GD with MSE"
   ]
  },
  {
   "cell_type": "code",
   "execution_count": 112,
   "id": "8c914458-3cd0-4377-b025-d332c2cb18a7",
   "metadata": {
    "tags": []
   },
   "outputs": [
    {
     "name": "stdout",
     "output_type": "stream",
     "text": [
      "Execution time 1.282886 seconds\n"
     ]
    }
   ],
   "source": [
    "initial_w = np.zeros(tx.shape[1])\n",
    "max_iters = 100\n",
    "gamma = 0.332\n",
    "\n",
    "start_time = datetime.datetime.now()\n",
    "w_clean, loss_clean = mean_squared_error_gd(y_clean, tx_clean, initial_w, max_iters, gamma)\n",
    "end_time = datetime.datetime.now()\n",
    "print(f\"Execution time {(end_time - start_time).total_seconds()} seconds\")"
   ]
  },
  {
   "cell_type": "markdown",
   "id": "5f08eafc-b20a-4b41-a7c4-2ff10d2ea4aa",
   "metadata": {},
   "source": [
    "### Compute the accuracy"
   ]
  },
  {
   "cell_type": "code",
   "execution_count": 113,
   "id": "78f03ffb-f99c-49ce-8ea9-97664009706d",
   "metadata": {
    "tags": []
   },
   "outputs": [
    {
     "name": "stdout",
     "output_type": "stream",
     "text": [
      "Accuracy: 74.516%\n"
     ]
    }
   ],
   "source": [
    "actual_pred = np.dot(tx_clean, w_clean)\n",
    "actual_pred = (actual_pred > 0.5).astype(float)\n",
    "correctly_classified = np.sum(actual_pred == pred_clean)\n",
    "accuracy = correctly_classified / len(pred_clean)\n",
    "print(f\"Accuracy: {accuracy*100}%\")"
   ]
  },
  {
   "cell_type": "markdown",
   "id": "40501225-ec51-4793-ac61-53b0d0e42a06",
   "metadata": {},
   "source": [
    "### Feature analysis"
   ]
  },
  {
   "cell_type": "code",
   "execution_count": 73,
   "id": "779f3f19-3473-4ce4-a910-1e7f7bb4ac02",
   "metadata": {
    "tags": []
   },
   "outputs": [
    {
     "data": {
      "image/png": "[encoded data removed]",
      "text/plain": [
       "<Figure size 1000x600 with 1 Axes>"
      ]
     },
     "metadata": {},
     "output_type": "display_data"
    }
   ],
   "source": [
    "plt.figure(figsize=(10, 6))\n",
    "plt.bar(range(len(w)), np.abs(w))\n",
    "plt.xlabel('Feature Index')\n",
    "plt.ylabel('Weight Value')\n",
    "plt.title('Feature Weights for Analysis')\n",
    "plt.show()"
   ]
  },
  {
   "cell_type": "markdown",
   "id": "fc2c8d8e-e90b-4993-aa57-b8b28a49f6ff",
   "metadata": {},
   "source": [
    "### Results\n",
    "\n",
    "We can conclude that cleaning the data by remplacing the outliers by the mean value doesn't really change that much"
   ]
  },
  {
   "cell_type": "markdown",
   "id": "f99b7995-644e-4c1c-84bd-f0a8b39cf767",
   "metadata": {},
   "source": [
    "# **Load the testing data**"
   ]
  },
  {
   "cell_type": "code",
   "execution_count": null,
   "id": "60c7ad4d-890b-44d6-aacd-9528c03894ce",
   "metadata": {},
   "outputs": [],
   "source": [
    "test_data, test_pred, test_ids = load_data(\"test.csv\")\n",
    "for i in range(test_data.shape[1]):\n",
    "    test_data[:][i] = standardize(test_data[:][i])[0]\n",
    "test_y, test_tx = build_model_data(test_data, test_pred)"
   ]
  },
  {
   "cell_type": "markdown",
   "id": "4df253f4-463a-43da-8623-3ed36f6419b8",
   "metadata": {},
   "source": [
    "### Predict the label with our trained model"
   ]
  },
  {
   "cell_type": "code",
   "execution_count": 112,
   "id": "937e58c4-30d1-4302-834f-0f2b2b051b89",
   "metadata": {
    "tags": []
   },
   "outputs": [],
   "source": [
    "test_y = np.dot(test_tx, w)\n",
    "test_y = (test_y > 0.5).astype(float)"
   ]
  }
 ],
 "metadata": {
  "kernelspec": {
   "display_name": "Python 3 (ipykernel)",
   "language": "python",
   "name": "python3"
  },
  "language_info": {
   "codemirror_mode": {
    "name": "ipython",
    "version": 3
   },
   "file_extension": ".py",
   "mimetype": "text/x-python",
   "name": "python",
   "nbconvert_exporter": "python",
   "pygments_lexer": "ipython3",
   "version": "3.11.4"
  }
 },
 "nbformat": 4,
 "nbformat_minor": 5
}
