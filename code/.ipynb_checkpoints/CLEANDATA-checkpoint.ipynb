{
 "cells": [
  {
   "cell_type": "code",
   "execution_count": 77,
   "id": "38cfce00-7596-4f51-aa1c-5750258f0d74",
   "metadata": {
    "tags": []
   },
   "outputs": [
    {
     "name": "stdout",
     "output_type": "stream",
     "text": [
      "The autoreload extension is already loaded. To reload it, use:\n",
      "  %reload_ext autoreload\n"
     ]
    }
   ],
   "source": [
    "# Useful starting lines\n",
    "%matplotlib inline\n",
    "import numpy as np\n",
    "import matplotlib.pyplot as plt\n",
    "\n",
    "%load_ext autoreload\n",
    "%autoreload 2"
   ]
  },
  {
   "cell_type": "markdown",
   "id": "927ddbc4-74dd-4b7e-bc8e-39c4775c6340",
   "metadata": {},
   "source": [
    "# **Load the training data**\n",
    "\n",
    "We load the training data."
   ]
  },
  {
   "cell_type": "code",
   "execution_count": 92,
   "id": "274a0894-6252-4b01-9c74-9b10d37bf93b",
   "metadata": {
    "tags": []
   },
   "outputs": [
    {
     "name": "stdout",
     "output_type": "stream",
     "text": [
      "The data has 328135 samples and 321 features !\n"
     ]
    }
   ],
   "source": [
    "import datetime\n",
    "from implementations import *\n",
    "\n",
    "data_load = load_data(\"x_train.csv\")\n",
    "pred = load_data(\"y_train.csv\")\n",
    "print(f\"The data has {data_load.shape[0]} samples and {data_load.shape[1]} features !\")"
   ]
  },
  {
   "cell_type": "markdown",
   "id": "4965fdf4-fe30-488c-8f3d-41e4821cd4b1",
   "metadata": {},
   "source": [
    "The first column is states and I create a new column to classify with the ranking of PIB between them, and replace each state number by their position in the ranking."
   ]
  },
  {
   "cell_type": "code",
   "execution_count": 89,
   "id": "d7ab9fa9-e262-4c71-868a-be6bcdcd45ee",
   "metadata": {
    "tags": []
   },
   "outputs": [],
   "source": [
    "def replace(arr, old_values, new_values):\n",
    "    result = arr.copy()\n",
    "\n",
    "    for old_val, new_val in zip(old_values, new_values):\n",
    "        result[result == old_val] = new_val\n",
    "\n",
    "    return result"
   ]
  },
  {
   "cell_type": "code",
   "execution_count": null,
   "id": "055f5972-455a-428a-8fd5-d5a0e54b6c91",
   "metadata": {
    "tags": []
   },
   "outputs": [],
   "source": []
  },
  {
   "cell_type": "code",
   "execution_count": 90,
   "id": "a352fc54-92fe-4156-bfe8-2d2c59b3d904",
   "metadata": {
    "tags": []
   },
   "outputs": [
    {
     "ename": "IndexError",
     "evalue": "too many indices for array: array is 1-dimensional, but 2 were indexed",
     "output_type": "error",
     "traceback": [
      "\u001b[1;31m---------------------------------------------------------------------------\u001b[0m",
      "\u001b[1;31mIndexError\u001b[0m                                Traceback (most recent call last)",
      "Cell \u001b[1;32mIn[90], line 12\u001b[0m\n\u001b[0;32m      3\u001b[0m new_rank_state \u001b[38;5;241m=\u001b[39m [\u001b[38;5;241m27\u001b[39m,\u001b[38;5;241m46\u001b[39m,\u001b[38;5;241m20\u001b[39m,\u001b[38;5;241m34\u001b[39m,\u001b[38;5;241m1\u001b[39m,\u001b[38;5;241m16\u001b[39m,\u001b[38;5;241m23\u001b[39m,\u001b[38;5;241m42\u001b[39m,\u001b[38;5;241m0\u001b[39m,\u001b[38;5;241m4\u001b[39m,\u001b[38;5;241m9\u001b[39m,\u001b[38;5;241m38\u001b[39m,\u001b[38;5;241m40\u001b[39m,\u001b[38;5;241m5\u001b[39m,\u001b[38;5;241m19\u001b[39m,\u001b[38;5;241m30\u001b[39m,\n\u001b[0;32m      4\u001b[0m                  \u001b[38;5;241m33\u001b[39m,\u001b[38;5;241m28\u001b[39m,\u001b[38;5;241m24\u001b[39m,\u001b[38;5;241m43\u001b[39m,\u001b[38;5;241m15\u001b[39m,\u001b[38;5;241m11\u001b[39m,\u001b[38;5;241m14\u001b[39m,\u001b[38;5;241m17\u001b[39m,\u001b[38;5;241m12\u001b[39m,\u001b[38;5;241m22\u001b[39m,\u001b[38;5;241m48\u001b[39m,\u001b[38;5;241m35\u001b[39m,\u001b[38;5;241m32\u001b[39m,\u001b[38;5;241m39\u001b[39m,\u001b[38;5;241m8\u001b[39m,\u001b[38;5;241m37\u001b[39m,\u001b[38;5;241m3\u001b[39m,\n\u001b[0;32m      5\u001b[0m                  \u001b[38;5;241m12\u001b[39m,\u001b[38;5;241m45\u001b[39m,\u001b[38;5;241m7\u001b[39m,\u001b[38;5;241m29\u001b[39m,\u001b[38;5;241m25\u001b[39m,\u001b[38;5;241m6\u001b[39m,\u001b[38;5;241m44\u001b[39m,\u001b[38;5;241m26\u001b[39m,\u001b[38;5;241m47\u001b[39m,\u001b[38;5;241m18\u001b[39m,\u001b[38;5;241m2\u001b[39m,\u001b[38;5;241m31\u001b[39m,\u001b[38;5;241m50\u001b[39m,\u001b[38;5;241m13\u001b[39m,\u001b[38;5;241m10\u001b[39m,\u001b[38;5;241m41\u001b[39m,\u001b[38;5;241m21\u001b[39m,\u001b[38;5;241m49\u001b[39m,\u001b[38;5;241m51\u001b[39m,\u001b[38;5;241m52\u001b[39m]\n\u001b[0;32m      7\u001b[0m old_states_name \u001b[38;5;241m=\u001b[39m  [\u001b[38;5;241m1\u001b[39m,\u001b[38;5;241m2\u001b[39m,\u001b[38;5;241m4\u001b[39m,\u001b[38;5;241m5\u001b[39m,\u001b[38;5;241m6\u001b[39m,\u001b[38;5;241m8\u001b[39m,\u001b[38;5;241m9\u001b[39m,\u001b[38;5;241m10\u001b[39m,\u001b[38;5;241m11\u001b[39m,\u001b[38;5;241m12\u001b[39m,\u001b[38;5;241m13\u001b[39m,\u001b[38;5;241m15\u001b[39m,\u001b[38;5;241m16\u001b[39m,\u001b[38;5;241m17\u001b[39m,\u001b[38;5;241m18\u001b[39m,\u001b[38;5;241m19\u001b[39m,\u001b[38;5;241m20\u001b[39m,\u001b[38;5;241m21\u001b[39m,\u001b[38;5;241m22\u001b[39m,\u001b[38;5;241m23\u001b[39m,\u001b[38;5;241m24\u001b[39m,\u001b[38;5;241m25\u001b[39m,\u001b[38;5;241m26\u001b[39m,\u001b[38;5;241m27\u001b[39m,\u001b[38;5;241m28\u001b[39m,\n\u001b[0;32m      8\u001b[0m                     \u001b[38;5;241m29\u001b[39m,\u001b[38;5;241m30\u001b[39m,\u001b[38;5;241m31\u001b[39m,\u001b[38;5;241m32\u001b[39m,\u001b[38;5;241m33\u001b[39m,\u001b[38;5;241m34\u001b[39m,\u001b[38;5;241m35\u001b[39m,\u001b[38;5;241m36\u001b[39m,\u001b[38;5;241m37\u001b[39m,\u001b[38;5;241m38\u001b[39m,\u001b[38;5;241m39\u001b[39m,\u001b[38;5;241m40\u001b[39m,\u001b[38;5;241m41\u001b[39m,\u001b[38;5;241m42\u001b[39m,\u001b[38;5;241m44\u001b[39m,\u001b[38;5;241m45\u001b[39m,\u001b[38;5;241m46\u001b[39m,\u001b[38;5;241m47\u001b[39m,\u001b[38;5;241m48\u001b[39m,\u001b[38;5;241m49\u001b[39m,\u001b[38;5;241m50\u001b[39m,\u001b[38;5;241m51\u001b[39m,\u001b[38;5;241m53\u001b[39m,\u001b[38;5;241m54\u001b[39m,\u001b[38;5;241m55\u001b[39m,\u001b[38;5;241m56\u001b[39m,\u001b[38;5;241m66\u001b[39m,\u001b[38;5;241m72\u001b[39m]\n\u001b[1;32m---> 12\u001b[0m ranking_column \u001b[38;5;241m=\u001b[39m replace(\u001b[43mdata_load\u001b[49m\u001b[43m[\u001b[49m\u001b[43m:\u001b[49m\u001b[43m,\u001b[49m\u001b[38;5;241;43m0\u001b[39;49m\u001b[43m]\u001b[49m, old_states_name, new_rank_state)\n",
      "\u001b[1;31mIndexError\u001b[0m: too many indices for array: array is 1-dimensional, but 2 were indexed"
     ]
    }
   ],
   "source": [
    "# Where put district of columbia ? super high PIB\n",
    "\n",
    "new_rank_state = [27,46,20,34,1,16,23,42,0,4,9,38,40,5,19,30,\n",
    "                 33,28,24,43,15,11,14,17,12,22,48,35,32,39,8,37,3,\n",
    "                 12,45,7,29,25,6,44,26,47,18,2,31,50,13,10,41,21,49,51,52]\n",
    "\n",
    "old_states_name =  [1,2,4,5,6,8,9,10,11,12,13,15,16,17,18,19,20,21,22,23,24,25,26,27,28,\n",
    "                    29,30,31,32,33,34,35,36,37,38,39,40,41,42,44,45,46,47,48,49,50,51,53,54,55,56,66,72]\n",
    "\n",
    "\n",
    "\n",
    "ranking_column = replace(data_load[:,0], old_states_name, new_rank_state)\n",
    "\n",
    "\n",
    "\n",
    "\n"
   ]
  },
  {
   "cell_type": "markdown",
   "id": "8cad0ca3-b06a-4eaa-8c61-ca269eca19c2",
   "metadata": {},
   "source": [
    "Next 5 columns are useless, they are about interview date and index of patient\n",
    "## REMOVE COLUMN 1 2 3 4 5"
   ]
  },
  {
   "cell_type": "markdown",
   "id": "dcb427d5-6f7e-4d24-bf33-93639a4f41a7",
   "metadata": {},
   "source": [
    "The 6th column is DISPCODE, so if interview was complete or not, I change value to 1 if complete 0 if not."
   ]
  },
  {
   "cell_type": "code",
   "execution_count": 91,
   "id": "0758cd4b-3aa9-486e-b0a0-fb2d9563c137",
   "metadata": {},
   "outputs": [
    {
     "ename": "IndexError",
     "evalue": "too many indices for array: array is 1-dimensional, but 2 were indexed",
     "output_type": "error",
     "traceback": [
      "\u001b[1;31m---------------------------------------------------------------------------\u001b[0m",
      "\u001b[1;31mIndexError\u001b[0m                                Traceback (most recent call last)",
      "Cell \u001b[1;32mIn[91], line 6\u001b[0m\n\u001b[0;32m      1\u001b[0m new_disp \u001b[38;5;241m=\u001b[39m [\u001b[38;5;241m1\u001b[39m,\u001b[38;5;241m0\u001b[39m]\n\u001b[0;32m      2\u001b[0m old_disp \u001b[38;5;241m=\u001b[39m  [\u001b[38;5;241m1100\u001b[39m,\u001b[38;5;241m1200\u001b[39m]\n\u001b[1;32m----> 6\u001b[0m data_load \u001b[38;5;241m=\u001b[39m replace(\u001b[43mdata_load\u001b[49m\u001b[43m[\u001b[49m\u001b[43m:\u001b[49m\u001b[43m,\u001b[49m\u001b[38;5;241;43m6\u001b[39;49m\u001b[43m]\u001b[49m, old_disp, new_disp)\n",
      "\u001b[1;31mIndexError\u001b[0m: too many indices for array: array is 1-dimensional, but 2 were indexed"
     ]
    }
   ],
   "source": [
    "new_disp = [1,0]\n",
    "old_disp =  [1100,1200]\n",
    "\n",
    "\n",
    "\n",
    "data_load = replace(data_load[:,6], old_disp, new_disp)"
   ]
  },
  {
   "cell_type": "markdown",
   "id": "2bd62f03-ca00-4a70-b222-b3ba936b9f99",
   "metadata": {},
   "source": [
    "7th column and 8th column are useless, just some more IDs numbers\n",
    "## REMOVE COLUMN 7 8 "
   ]
  },
  {
   "cell_type": "markdown",
   "id": "921196e3-f10f-4971-9035-9e7d8c14a5e0",
   "metadata": {},
   "source": [
    "9th to 13th column are bound together, they help getting the answer on the last column CELLFON3, so we can remove the 9th, 10th, 11th and 12th columns.\n",
    "I create a new column to know if the survey is done on a cellphone or fixed phone.\n"
   ]
  },
  {
   "cell_type": "markdown",
   "id": "257d3605-1189-410b-8b59-3fb13965e369",
   "metadata": {},
   "source": [
    "## REMOVE COLUMN 9 10 11 12 "
   ]
  },
  {
   "cell_type": "code",
   "execution_count": 85,
   "id": "4b598530-b243-4f49-8ff0-50948e048cd8",
   "metadata": {
    "tags": []
   },
   "outputs": [
    {
     "ename": "IndexError",
     "evalue": "too many indices for array: array is 1-dimensional, but 2 were indexed",
     "output_type": "error",
     "traceback": [
      "\u001b[1;31m---------------------------------------------------------------------------\u001b[0m",
      "\u001b[1;31mIndexError\u001b[0m                                Traceback (most recent call last)",
      "Cell \u001b[1;32mIn[85], line 5\u001b[0m\n\u001b[0;32m      1\u001b[0m new_phone \u001b[38;5;241m=\u001b[39m [\u001b[38;5;241m0\u001b[39m,\u001b[38;5;241m1\u001b[39m]\n\u001b[0;32m      2\u001b[0m old_phone \u001b[38;5;241m=\u001b[39m  [\u001b[38;5;241m1\u001b[39m,\u001b[38;5;241m2\u001b[39m]\n\u001b[1;32m----> 5\u001b[0m data_load[:,\u001b[38;5;241m13\u001b[39m] \u001b[38;5;241m=\u001b[39m replace(\u001b[43mdata_load\u001b[49m\u001b[43m[\u001b[49m\u001b[43m:\u001b[49m\u001b[43m,\u001b[49m\u001b[38;5;241;43m13\u001b[39;49m\u001b[43m]\u001b[49m, old_phone, new_phone)\n\u001b[0;32m      7\u001b[0m data_load[:,\u001b[38;5;241m13\u001b[39m]\n",
      "\u001b[1;31mIndexError\u001b[0m: too many indices for array: array is 1-dimensional, but 2 were indexed"
     ]
    }
   ],
   "source": [
    "new_phone = [0,1]\n",
    "old_phone =  [1,2]\n",
    "\n",
    "\n",
    "data_load[:,13] = replace(data_load[:,13], old_phone, new_phone)\n",
    "\n",
    "data_load[:,13]"
   ]
  },
  {
   "cell_type": "markdown",
   "id": "3d027113-b000-4274-a930-6c8d1bb9d63c",
   "metadata": {
    "tags": []
   },
   "source": [
    "Almost 99.99% of the data is missing for the 15th column so we can remove it \n",
    "## REMOVE COLUMN 14"
   ]
  },
  {
   "cell_type": "markdown",
   "id": "15c95905-ae29-42c0-a11c-5d9c92b167f0",
   "metadata": {
    "tags": []
   },
   "source": [
    "Column 15,16,17 is super useful and tells us about the number of adults in the household, but they are not logic. Number of household where 1 adult < Number of household where 1 adult men\n",
    "## CARE TODO 15 16 17"
   ]
  },
  {
   "cell_type": "markdown",
   "id": "6c5073c5-d763-4738-9af6-f0ae445cf73b",
   "metadata": {
    "tags": []
   },
   "source": [
    "19th column to 24th bound together so only last one useful (24th)\n",
    "## REMOVE COLUMN 19 20 21 22 23\n",
    "\n",
    "We denote the value in the 24th column 0 if the person is a woman and doesnt have a fixed number to receive calls, 1 if she has one.\n",
    "2 if the person is a man and doesnt have a fixed number to receive calls, 3 if he has one.\n"
   ]
  },
  {
   "cell_type": "code",
   "execution_count": 44,
   "id": "672c1c22-79a6-4ae8-8d15-ee2e2e4f27c1",
   "metadata": {
    "tags": []
   },
   "outputs": [
    {
     "data": {
      "text/plain": [
       "array([ 1., nan, nan, ..., nan, nan, nan])"
      ]
     },
     "execution_count": 44,
     "metadata": {},
     "output_type": "execute_result"
    }
   ],
   "source": [
    "cell_new_phone = [0,1,np.nan,np.nan]\n",
    "cell_old_phone = [1,2,7,9]\n",
    "\n",
    "\n",
    "data_load[:,24] = replace(data_load[:,24], cell_old_phone, cell_new_phone)\n",
    "data_load[:,24]"
   ]
  },
  {
   "cell_type": "markdown",
   "id": "5df594b1-a9b3-4f4d-9049-0945fe06fc50",
   "metadata": {
    "tags": []
   },
   "source": [
    "Column 25 is super interesting tells us the number of adults in the household and is similar to column 15 but seems more logic !\n",
    "But the values are extremes we have to change them !\n"
   ]
  },
  {
   "cell_type": "markdown",
   "id": "d8fde1cc-46f4-457c-b969-e653486eda07",
   "metadata": {},
   "source": [
    "## POSSIBLE MEAN HERE"
   ]
  },
  {
   "cell_type": "code",
   "execution_count": 53,
   "id": "3193c2ed-2054-4257-91da-74329cbfd814",
   "metadata": {
    "tags": []
   },
   "outputs": [
    {
     "data": {
      "text/plain": [
       "array([1.00000000e+00, 4.20201500e+06, 4.00000000e+00, 2.00000000e+01,\n",
       "       2.01500000e+03, 1.10000000e+03, 2.01500368e+09, 2.01500368e+09,\n",
       "                  nan,            nan,            nan,            nan,\n",
       "                  nan,            nan,            nan,            nan,\n",
       "                  nan, 1.00000000e+00, 1.00000000e+00, 1.00000000e+00,\n",
       "       1.00000000e+00,            nan, 1.00000000e+00, 1.00000000e+00,\n",
       "       1.00000000e+00])"
      ]
     },
     "execution_count": 53,
     "metadata": {},
     "output_type": "execute_result"
    }
   ],
   "source": [
    "new_ppppll = [np.nan,np.nan]\n",
    "old_ppppll = [77,99]\n",
    "\n",
    "\n",
    "data_load[:,25] = replace(data_load[:,25], old_ppppll, new_ppppll)\n",
    "data_load[168,1:26]"
   ]
  },
  {
   "cell_type": "markdown",
   "id": "c156284c-a7ce-4db5-81f7-37e2e77220e2",
   "metadata": {
    "tags": []
   },
   "source": [
    "## VERY IMPORTANT COLUMNS : COLUMN 26 27 28 29 "
   ]
  },
  {
   "cell_type": "code",
   "execution_count": 55,
   "id": "afbb9095-d433-47cb-81bd-1f480ae87f31",
   "metadata": {
    "tags": []
   },
   "outputs": [
    {
     "name": "stdout",
     "output_type": "stream",
     "text": [
      "[2. 4. 2. ... 3. 3. 2.]\n"
     ]
    }
   ],
   "source": [
    "print(data_load[:,26])"
   ]
  },
  {
   "cell_type": "code",
   "execution_count": 58,
   "id": "82a2d885-95b1-4aa4-9afb-165d0b362047",
   "metadata": {
    "tags": []
   },
   "outputs": [
    {
     "name": "stdout",
     "output_type": "stream",
     "text": [
      "[88. nan 88. ... 88. nan  2.]\n"
     ]
    }
   ],
   "source": [
    "healthh = [0.75,0.5,0.25,0,np.nan,np.nan]\n",
    "old_healthh = [2,3,4,5,7,9]\n",
    "\n",
    "data_load[:,26] = replace(data_load[:,26], old_healthh, healthh)\n",
    "\n",
    "days = [np.nan,np.nan,np.nan]\n",
    "old_days = [88,77,99]\n",
    "\n",
    "data_load[:,27] = replace(data_load[:,27], old_days, days)\n",
    "\n",
    "mental = [np.nan,np.nan,np.nan]\n",
    "old_mental = [88,77,99]\n",
    "\n",
    "data_load[:,28] = replace(data_load[:,28], old_mental, mental)\n",
    "\n",
    "\n",
    "stop = [np.nan,np.nan,np.nan]\n",
    "old_stop = [88,77,99]\n",
    "\n",
    "data_load[:,29] = replace(data_load[:,29], old_mental, mental)\n",
    "\n",
    "print(data_load[:,29])\n"
   ]
  },
  {
   "cell_type": "markdown",
   "id": "52414870-f49c-45cc-93b1-5ed7466e0fb7",
   "metadata": {
    "tags": []
   },
   "source": [
    "Column 30"
   ]
  },
  {
   "cell_type": "code",
   "execution_count": 60,
   "id": "44dae29a-7818-4ddf-9296-9f39f0d080af",
   "metadata": {
    "tags": []
   },
   "outputs": [],
   "source": [
    "ZZZ = [0,np.nan,np.nan]\n",
    "old_ZZDZD = [2,7,9]\n",
    "\n",
    "data_load[:,30] = replace(data_load[:,30], old_mental, mental)"
   ]
  },
  {
   "cell_type": "code",
   "execution_count": null,
   "id": "3d5cc0ea-0d6b-4b9b-9b0c-0f046f3b1e3f",
   "metadata": {},
   "outputs": [],
   "source": [
    "stop = [0,np.nan,np.nan]\n",
    "old_stop = [2,7,9]\n",
    "\n",
    "data_load[:,31] = replace(data_load[:,30], old_mental, mental)"
   ]
  },
  {
   "cell_type": "code",
   "execution_count": 62,
   "id": "9ad10987-437a-47a5-b536-eba0d7fa46ff",
   "metadata": {
    "tags": []
   },
   "outputs": [],
   "source": [
    "zaeeza = [0,np.nan,np.nan]\n",
    "old_zaezae= [3,7,9]\n",
    "\n",
    "#31"
   ]
  },
  {
   "cell_type": "code",
   "execution_count": null,
   "id": "ecaed7f8-517c-4830-8736-24e0d716afa5",
   "metadata": {},
   "outputs": [],
   "source": [
    "zzzzze = [0,np.nan,np.nan]\n",
    "old_ezezez = [2,7,9]\n",
    "#32 "
   ]
  },
  {
   "cell_type": "code",
   "execution_count": null,
   "id": "6cd733fe-d93c-43da-9eab-ed301a8f39bf",
   "metadata": {},
   "outputs": [],
   "source": [
    "zzzzze = [6,18,42,60,np.nan,120,np.nan]\n",
    "old_ezezez = [1,2,3,4,7,8,9]\n",
    "#33 DEMANDER AVIS"
   ]
  },
  {
   "cell_type": "code",
   "execution_count": null,
   "id": "f8d4e6d7-188e-44d6-9ea9-f09fe75d5207",
   "metadata": {},
   "outputs": [],
   "source": [
    "#60 DEMANDER AVIS\n",
    "[5,12.5,17.5,22.5,30,42.5,62.5,75,np.nan,np.nan]\n",
    "[1,2,3,4,5,6,7,8,77,99]"
   ]
  },
  {
   "cell_type": "code",
   "execution_count": 64,
   "id": "6d9b8c3c-9d5a-4e0b-9dc9-a6e83e51b775",
   "metadata": {
    "tags": []
   },
   "outputs": [
    {
     "name": "stdout",
     "output_type": "stream",
     "text": [
      "[ 110.  200. 9999. ...  320.  250.  150.]\n"
     ]
    }
   ],
   "source": [
    "print(data_load[:, 62])"
   ]
  },
  {
   "cell_type": "code",
   "execution_count": 67,
   "id": "a9918cee-123d-4811-aa2c-95e25b1da4e6",
   "metadata": {
    "tags": []
   },
   "outputs": [],
   "source": [
    "w = [np.nan,np.nan]\n",
    "old_w = [7777,9999]\n",
    "\n",
    "data_load[:,62] = replace(data_load[:,62], old_w, w)"
   ]
  },
  {
   "cell_type": "code",
   "execution_count": 68,
   "id": "6420005c-3769-455c-8384-42201b48af7c",
   "metadata": {
    "tags": []
   },
   "outputs": [
    {
     "name": "stdout",
     "output_type": "stream",
     "text": [
      "[110. 200.  nan ... 320. 250. 150.]\n"
     ]
    }
   ],
   "source": [
    "print(data_load[:, 62])"
   ]
  },
  {
   "cell_type": "code",
   "execution_count": null,
   "id": "69f2685a-2b23-48ee-a22d-72ad54ad7291",
   "metadata": {},
   "outputs": [],
   "source": [
    "indices = np.where(np.logical_and(data_load[:, 62] > 9000, data_load[:, 62] > 9000 < 9999))\n",
    "indices"
   ]
  },
  {
   "cell_type": "code",
   "execution_count": 71,
   "id": "c9755216-a47f-4a3a-99eb-17790b777ff5",
   "metadata": {
    "tags": []
   },
   "outputs": [],
   "source": [
    "#62 DEMANDER AVIS\n",
    "#D'abord le replace et après :\n",
    "data_load[:, 62] = np.vectorize(lambda x: ((x - 9000) * 2.20462).astype(int) if x >= 9000 else x)(data_load[:, 62])"
   ]
  },
  {
   "cell_type": "code",
   "execution_count": 72,
   "id": "58e62915-0f5b-46e1-b2fa-1e10bad69984",
   "metadata": {
    "tags": []
   },
   "outputs": [
    {
     "name": "stdout",
     "output_type": "stream",
     "text": [
      "[110. 200.  nan ... 320. 250. 150.]\n"
     ]
    }
   ],
   "source": [
    "print(data_load[:, 62])"
   ]
  },
  {
   "cell_type": "code",
   "execution_count": null,
   "id": "b4bdc589-c21d-45fb-936f-9d95d5e33124",
   "metadata": {},
   "outputs": [],
   "source": [
    "#63 LA MEME\n",
    "def func(x):\n",
    "    x_str = str(x)\n",
    "    if len(x) === 3:       \n",
    "        return (12 * int(x_str[0]) + int(x_str[-2:]).astype(int)\n",
    "    else:\n",
    "        return (39,3701 * int(x_str[0]) + int(x_str[-2:]) * 0,393701).astype(int)\n",
    "\n",
    "data_load[:, 63] = np.vectorize(func)(data_load[:, 63])"
   ]
  },
  {
   "cell_type": "code",
   "execution_count": null,
   "id": "53d13545-1d11-46c7-8dcd-dcfb154eac35",
   "metadata": {},
   "outputs": [],
   "source": [
    "###\n",
    "[15,60,135,270,1080,2070,3600,np.nan,np.nan,np.nan]\n",
    "[1,2,3,4,5,6,7,8,77,99]"
   ]
  },
  {
   "cell_type": "code",
   "execution_count": null,
   "id": "c99599bf-2ae8-4f5e-93b6-a065dc80c604",
   "metadata": {},
   "outputs": [],
   "source": [
    "### A MONTRER AUSSI\n",
    "def func3WEEKMONTH(x):\n",
    "    x_str = str(x)\n",
    "    if x_str[0] === \"1\":       \n",
    "        return 4*int(x_str[-2:])\n",
    "    else:\n",
    "        return int(x_str[-2:])\n",
    "\n",
    "data_load[:, 77] = np.vectorize(func3WEEKMONTH)(data_load[:, 77])"
   ]
  },
  {
   "cell_type": "code",
   "execution_count": null,
   "id": "d2f223a8-eee0-420b-88a5-760575ab1809",
   "metadata": {},
   "outputs": [],
   "source": [
    "### A MONTRER AUSSI\n",
    "def func3334(x):\n",
    "    x_str = str(x)\n",
    "    if x_str[0] === \"1\":       \n",
    "        return 30 *int(x_str[-2:])\n",
    "    elif x_str[0] === \"2\":\n",
    "        return (4.25*int(x_str[-2:])).astype(int)\n",
    "    else \n",
    "        return int(x_str[-2:])\n",
    "\n",
    "data_load[:, 81] = np.vectorize(func3334)(data_load[:, 81])\n",
    "data_load[:, 82] = np.vectorize(func3334)(data_load[:, 82])\n",
    "data_load[:, 83] = np.vectorize(func3334)(data_load[:, 83])\n",
    "data_load[:, 84] = np.vectorize(func3334)(data_load[:, 84])\n",
    "data_load[:, 85] = np.vectorize(func3334)(data_load[:, 85])\n",
    "data_load[:, 86] = np.vectorize(func3334)(data_load[:, 86])"
   ]
  },
  {
   "cell_type": "code",
   "execution_count": null,
   "id": "89ee5dfd-ebef-480f-87de-a6e64bbe8bed",
   "metadata": {},
   "outputs": [],
   "source": [
    "####\n",
    "data_load[:, 89] = np.vectorize(func3WEEKMONTH)(data_load[:, 89])"
   ]
  },
  {
   "cell_type": "code",
   "execution_count": null,
   "id": "fdf96070-b185-49d1-b35b-6c8b7aecef71",
   "metadata": {},
   "outputs": [],
   "source": [
    "#### \n",
    "def funcHEUREMIN(x):\n",
    "    x_str = str(x)\n",
    "    return int(x_str[0])*60 + int(x_str[-2:])\n",
    "    \n",
    "\n",
    "data_load[:, 90] = np.vectorize(funcHEUREMIN)(data_load[:, 90])"
   ]
  },
  {
   "cell_type": "code",
   "execution_count": null,
   "id": "83abfaeb-f85b-4a6b-a0b4-c12fb3667add",
   "metadata": {},
   "outputs": [],
   "source": [
    "####\"\n",
    "\n",
    "data_load[:, 92] = np.vectorize(func3WEEKMONTH)(data_load[:, 92])"
   ]
  },
  {
   "cell_type": "code",
   "execution_count": null,
   "id": "9d09c6ff-9020-47c1-b742-7ed7e46ed5eb",
   "metadata": {},
   "outputs": [],
   "source": [
    "data_load[:, 93] = np.vectorize(funcHEUREMIN)(data_load[:, 93])"
   ]
  },
  {
   "cell_type": "code",
   "execution_count": null,
   "id": "d0e7232a-8f4c-4091-8a96-67ea735107d7",
   "metadata": {},
   "outputs": [],
   "source": [
    "data_load[:, 94] = np.vectorize(func3WEEKMONTH)(data_load[:, 94])"
   ]
  },
  {
   "cell_type": "code",
   "execution_count": null,
   "id": "fe50dddd-c43f-4e01-a406-8f0948fcb4c8",
   "metadata": {},
   "outputs": [],
   "source": [
    "####  97 \n",
    "zzzzze = [0.5,0,np.nan,np.nan]\n",
    "old_ezezez = [2,3,7,9]"
   ]
  },
  {
   "cell_type": "code",
   "execution_count": null,
   "id": "bd767528-547a-458e-b22a-2de3e23d88bb",
   "metadata": {},
   "outputs": [],
   "source": [
    "###99 \n",
    "[2,3,4,5,7,8,9] => [0.75,0.5,0.25,0,np.nan,np.nan,np.nan]"
   ]
  },
  {
   "cell_type": "code",
   "execution_count": null,
   "id": "9510f3d9-d0ec-412b-a448-e6dc2474135a",
   "metadata": {},
   "outputs": [],
   "source": []
  },
  {
   "cell_type": "code",
   "execution_count": null,
   "id": "045e4bc0-c55c-49e1-b475-a83a985563b2",
   "metadata": {},
   "outputs": [],
   "source": []
  },
  {
   "cell_type": "code",
   "execution_count": null,
   "id": "5414ed1b-550b-4cd7-bed9-dbc8fa2ee782",
   "metadata": {},
   "outputs": [],
   "source": []
  },
  {
   "cell_type": "code",
   "execution_count": null,
   "id": "5404966c-a86a-411e-8587-adee8500cb33",
   "metadata": {},
   "outputs": [],
   "source": []
  },
  {
   "cell_type": "code",
   "execution_count": null,
   "id": "3b4d56f0-d520-490d-a9dd-02226bba7fd5",
   "metadata": {},
   "outputs": [],
   "source": []
  },
  {
   "cell_type": "code",
   "execution_count": null,
   "id": "28c8c52b-4b42-4ded-b359-e107b27be6ed",
   "metadata": {},
   "outputs": [],
   "source": []
  },
  {
   "cell_type": "code",
   "execution_count": null,
   "id": "f5442e01-74f7-42f0-8d77-2339e29be470",
   "metadata": {},
   "outputs": [],
   "source": []
  },
  {
   "cell_type": "code",
   "execution_count": null,
   "id": "e6adbc06-6144-4aec-a4b7-3354330e6ead",
   "metadata": {},
   "outputs": [],
   "source": []
  },
  {
   "cell_type": "code",
   "execution_count": null,
   "id": "8bb81b95-2467-49c7-b15e-b7fea9806068",
   "metadata": {},
   "outputs": [],
   "source": []
  },
  {
   "cell_type": "code",
   "execution_count": null,
   "id": "1cf92570-357d-4048-b36e-3289fa28e813",
   "metadata": {},
   "outputs": [],
   "source": []
  },
  {
   "cell_type": "markdown",
   "id": "878ab50a-2f67-4ebb-9851-fa7b7b380886",
   "metadata": {},
   "source": [
    "We clean the data by removing the nan values by the mean of the rest of the feature"
   ]
  },
  {
   "cell_type": "code",
   "execution_count": null,
   "id": "83dc8496-7e54-4639-97ec-b2895e7d84bc",
   "metadata": {
    "tags": []
   },
   "outputs": [],
   "source": [
    "data = np.ones(data_load.shape)\n",
    "stds = np.array([])\n",
    "for i in range(data.shape[1]):\n",
    "    d, std = standardize_clean(data_load[:, i])\n",
    "    data[:, i] = d\n",
    "    stds = np.append(stds, std)\n",
    "print(stds.shape)"
   ]
  },
  {
   "cell_type": "markdown",
   "id": "7a5f849c-709f-4fd0-8a54-a1f7b0d51a1c",
   "metadata": {
    "tags": []
   },
   "source": [
    "We further clean the data by removing the features where the variance is zero since they are constants for all samples"
   ]
  },
  {
   "cell_type": "code",
   "execution_count": null,
   "id": "207b1a97-b052-47c1-956c-d0fefeeefc9c",
   "metadata": {
    "tags": []
   },
   "outputs": [],
   "source": [
    "indices = np.where(stds != 0)\n",
    "data_var = data[:, indices]\n",
    "data_var = np.squeeze(data_var, axis = 1)\n",
    "print(data_var.shape)"
   ]
  },
  {
   "cell_type": "markdown",
   "id": "693df8b2-ed9b-4548-8468-54e6685eaa16",
   "metadata": {
    "tags": []
   },
   "source": [
    "We also remove the 8 first features as the appear weird in the task of predicting a heart attack"
   ]
  },
  {
   "cell_type": "code",
   "execution_count": null,
   "id": "1d49aa9a-539b-4ab5-9173-2d3b56ea8c9a",
   "metadata": {
    "tags": []
   },
   "outputs": [],
   "source": [
    "data_cleaned = data_var[:, 9:]\n",
    "print(data_cleaned.shape)"
   ]
  },
  {
   "cell_type": "markdown",
   "id": "0022b951-01ae-482a-9a91-bdc6878fa522",
   "metadata": {},
   "source": [
    "We then separe the data to train on 60% of the total and to test it on the remaining 40% "
   ]
  },
  {
   "cell_type": "code",
   "execution_count": null,
   "id": "b8786b70-cd4e-487e-8442-83b524d98912",
   "metadata": {
    "tags": []
   },
   "outputs": [],
   "source": [
    "train_size = np.floor(data_cleaned.shape[0] * 0.6).astype(int)\n",
    "data_cross = data_cleaned[:train_size, :]\n",
    "pred_cross = pred[:train_size]\n",
    "data_test = data_cleaned[train_size:, :]\n",
    "pred_test = pred[train_size:]\n",
    "print(f\"Cross shape : {data_cross.shape} ; Test shape : {data_test.shape}\")"
   ]
  },
  {
   "cell_type": "markdown",
   "id": "7efc066a-74cb-4e6b-9207-61906787dc92",
   "metadata": {},
   "source": [
    "Now we build our models for linear regression"
   ]
  },
  {
   "cell_type": "code",
   "execution_count": null,
   "id": "1c4519d9-76e2-4a60-97fe-9a1890f7cf25",
   "metadata": {
    "tags": []
   },
   "outputs": [],
   "source": [
    "y, tx = build_model_data(data_cross, pred_cross)\n",
    "y_test, tx_test = build_model_data(data_test, pred_test)\n",
    "print(f\"The data has now {tx.shape[1]} features !\")"
   ]
  },
  {
   "cell_type": "markdown",
   "id": "d84cb632-ef6f-4cce-9276-2f95f9f1b903",
   "metadata": {},
   "source": []
  },
  {
   "cell_type": "code",
   "execution_count": null,
   "id": "0ae0c7fd-20c1-403e-a175-9b348f5cc4a7",
   "metadata": {
    "tags": []
   },
   "outputs": [],
   "source": []
  },
  {
   "cell_type": "markdown",
   "id": "c41fde6c-4da2-4e82-bbff-8f67e4f9fd0d",
   "metadata": {},
   "source": []
  },
  {
   "cell_type": "code",
   "execution_count": null,
   "id": "e49f21d6-55c5-4fbf-ac2e-78a14ff9164b",
   "metadata": {
    "tags": []
   },
   "outputs": [],
   "source": []
  },
  {
   "cell_type": "markdown",
   "id": "d56d6c6f-feba-49c0-9223-ca63a8d2d8e5",
   "metadata": {},
   "source": []
  },
  {
   "cell_type": "code",
   "execution_count": null,
   "id": "56741a7a-76d9-48fc-8b0a-71dd68b24923",
   "metadata": {
    "tags": []
   },
   "outputs": [],
   "source": []
  },
  {
   "cell_type": "markdown",
   "id": "94441704-eea1-42f3-8439-3bdac8b04b43",
   "metadata": {
    "tags": []
   },
   "source": []
  },
  {
   "cell_type": "code",
   "execution_count": null,
   "id": "15dfe6db-247e-4671-a14d-6ded5d77eb67",
   "metadata": {
    "tags": []
   },
   "outputs": [],
   "source": []
  },
  {
   "cell_type": "code",
   "execution_count": null,
   "id": "ba0f4e66-4959-4f6f-bfa5-87e091c6f6bf",
   "metadata": {},
   "outputs": [],
   "source": []
  },
  {
   "cell_type": "code",
   "execution_count": null,
   "id": "05fddb54-26cc-4208-b93b-77f0f4413428",
   "metadata": {},
   "outputs": [],
   "source": []
  }
 ],
 "metadata": {
  "kernelspec": {
   "display_name": "Python 3 (ipykernel)",
   "language": "python",
   "name": "python3"
  },
  "language_info": {
   "codemirror_mode": {
    "name": "ipython",
    "version": 3
   },
   "file_extension": ".py",
   "mimetype": "text/x-python",
   "name": "python",
   "nbconvert_exporter": "python",
   "pygments_lexer": "ipython3",
   "version": "3.9.18"
  }
 },
 "nbformat": 4,
 "nbformat_minor": 5
}
