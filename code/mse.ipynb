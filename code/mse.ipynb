{
 "cells": [
  {
   "cell_type": "code",
   "execution_count": 53,
   "id": "38cfce00-7596-4f51-aa1c-5750258f0d74",
   "metadata": {
    "tags": []
   },
   "outputs": [
    {
     "name": "stdout",
     "output_type": "stream",
     "text": [
      "The autoreload extension is already loaded. To reload it, use:\n",
      "  %reload_ext autoreload\n"
     ]
    }
   ],
   "source": [
    "# Useful starting lines\n",
    "%matplotlib inline\n",
    "import numpy as np\n",
    "import matplotlib.pyplot as plt\n",
    "import datetime\n",
    "from implementations import *\n",
    "\n",
    "%load_ext autoreload\n",
    "%autoreload 2"
   ]
  },
  {
   "cell_type": "markdown",
   "id": "927ddbc4-74dd-4b7e-bc8e-39c4775c6340",
   "metadata": {},
   "source": [
    "# **Load and clean the training data**\n",
    "\n",
    "We load the training data."
   ]
  },
  {
   "cell_type": "code",
   "execution_count": 54,
   "id": "274a0894-6252-4b01-9c74-9b10d37bf93b",
   "metadata": {
    "tags": []
   },
   "outputs": [
    {
     "name": "stdout",
     "output_type": "stream",
     "text": [
      "The data has 328135 samples and 321 features !\n"
     ]
    }
   ],
   "source": [
    "x_train, x_test, y_train, train_ids, test_ids = load_csv_data(\"../data\")\n",
    "\n",
    "print(f\"The data has {x_train.shape[0]} samples and {x_train.shape[1]} features !\")"
   ]
  },
  {
   "cell_type": "code",
   "execution_count": null,
   "id": "a2087698-4d08-49ae-bab1-c8b005d353f9",
   "metadata": {},
   "outputs": [],
   "source": []
  },
  {
   "cell_type": "markdown",
   "id": "878ab50a-2f67-4ebb-9851-fa7b7b380886",
   "metadata": {},
   "source": [
    "We clean the data by : \n",
    "- removing the nan values by the mean of the rest of the feature\n",
    "- removing the features where the variance is zero since they are constants for all samples\n",
    "- remove the 8 first features as the appear weird in the task of predicting a heart attack"
   ]
  },
  {
   "cell_type": "code",
   "execution_count": 55,
   "id": "25233d7f-4aad-48dc-bd76-d57c1d5729ca",
   "metadata": {
    "tags": []
   },
   "outputs": [
    {
     "name": "stdout",
     "output_type": "stream",
     "text": [
      "The data has now 305 features !\n"
     ]
    }
   ],
   "source": [
    "x_train, zero_var_features = gen_clean(x_train)\n",
    "print(f\"The data has now {x_train.shape[1]} features !\")"
   ]
  },
  {
   "cell_type": "markdown",
   "id": "0022b951-01ae-482a-9a91-bdc6878fa522",
   "metadata": {},
   "source": [
    "We then separe the data to train on 60% of the total and to test it on the remaining 40% "
   ]
  },
  {
   "cell_type": "code",
   "execution_count": 56,
   "id": "b8786b70-cd4e-487e-8442-83b524d98912",
   "metadata": {
    "tags": []
   },
   "outputs": [
    {
     "name": "stdout",
     "output_type": "stream",
     "text": [
      "tx_tr shape : (196881, 305) ; tx_te shape : (131254, 305)\n",
      "       y_tr : (196881,)     ;        y_te : (131254,)\n"
     ]
    }
   ],
   "source": [
    "tx_tr, tx_te, y_tr, y_te = cross(x_train, y_train, 0.6)\n",
    "\n",
    "print(f\"tx_tr shape : {tx_tr.shape} ; tx_te shape : {tx_te.shape}\")\n",
    "print(f\"       y_tr : {y_tr.shape}     ;        y_te : {y_te.shape}\")"
   ]
  },
  {
   "cell_type": "markdown",
   "id": "7efc066a-74cb-4e6b-9207-61906787dc92",
   "metadata": {},
   "source": [
    "Now we build our models for linear regression"
   ]
  },
  {
   "cell_type": "code",
   "execution_count": 57,
   "id": "1c4519d9-76e2-4a60-97fe-9a1890f7cf25",
   "metadata": {
    "tags": []
   },
   "outputs": [
    {
     "name": "stdout",
     "output_type": "stream",
     "text": [
      "The data has now 306 features !\n"
     ]
    }
   ],
   "source": [
    "y, tx = build_model_data(tx_tr, y_tr)\n",
    "y_test, tx_test = build_model_data(tx_te, y_te)\n",
    "print(f\"The data has now {tx.shape[1]} features !\")"
   ]
  },
  {
   "cell_type": "markdown",
   "id": "d84cb632-ef6f-4cce-9276-2f95f9f1b903",
   "metadata": {},
   "source": [
    "## Linear regression using gradient descent\n",
    "\n",
    "Here we train our model using GD with MSE"
   ]
  },
  {
   "cell_type": "code",
   "execution_count": 58,
   "id": "0ae0c7fd-20c1-403e-a175-9b348f5cc4a7",
   "metadata": {
    "tags": []
   },
   "outputs": [
    {
     "name": "stdout",
     "output_type": "stream",
     "text": [
      "Execution time 9.249509 seconds\n"
     ]
    }
   ],
   "source": [
    "initial_w = np.zeros(tx.shape[1])\n",
    "max_iters = 100\n",
    "gamma = 0.09\n",
    "\n",
    "start_time = datetime.datetime.now()\n",
    "w, loss = mean_squared_error_gd(y, tx, initial_w, max_iters, gamma)\n",
    "end_time = datetime.datetime.now()\n",
    "print(f\"Execution time {(end_time - start_time).total_seconds()} seconds\")"
   ]
  },
  {
   "cell_type": "markdown",
   "id": "c41fde6c-4da2-4e82-bbff-8f67e4f9fd0d",
   "metadata": {},
   "source": [
    "### Computation of metrics\n",
    "\n",
    "We first compute some metrics on the training data (60% of the total data)"
   ]
  },
  {
   "cell_type": "code",
   "execution_count": 70,
   "id": "e49f21d6-55c5-4fbf-ac2e-78a14ff9164b",
   "metadata": {
    "tags": []
   },
   "outputs": [
    {
     "name": "stdout",
     "output_type": "stream",
     "text": [
      "Accuracy: 91.25766325851656%\n",
      "True positive rate: 61.53846153846154%\n",
      "True negative rate: 91.2674782538005%\n",
      "F1-score : 0.4626416840157298%\n"
     ]
    }
   ],
   "source": [
    "pred_data = np.dot(tx, w)\n",
    "\n",
    "pred_data[pred_data > 0] = 1\n",
    "pred_data[pred_data < 0] = -1\n",
    "\n",
    "correctly_classified_data = np.sum(pred_data == y)\n",
    "\n",
    "tp = np.sum((pred_data == 1) & (y == 1))\n",
    "fp = np.sum((pred_data == 1) & (y == -1))\n",
    "\n",
    "tn = np.sum((pred_data == -1) & (y == -1))\n",
    "fn = np.sum((pred_data == -1) & (y == 1))\n",
    "\n",
    "accuracy_data = (tp + tn)/(tp + fp + tn + fn)\n",
    "\n",
    "print(f\"Accuracy: {accuracy_data*100}%\")\n",
    "print(f\"True positive rate: {tp/(tp + fp)*100}%\")\n",
    "print(f\"True negative rate: {tn/(tn + fn)*100}%\")\n",
    "print(f\"F1-score : {tp/(tp + 0.5*(fn + fp))*100}%\")"
   ]
  },
  {
   "cell_type": "markdown",
   "id": "d56d6c6f-feba-49c0-9223-ca63a8d2d8e5",
   "metadata": {},
   "source": [
    "Now we compute some metrics for our test data (40% of the total data)"
   ]
  },
  {
   "cell_type": "code",
   "execution_count": 71,
   "id": "56741a7a-76d9-48fc-8b0a-71dd68b24923",
   "metadata": {
    "tags": []
   },
   "outputs": [
    {
     "name": "stdout",
     "output_type": "stream",
     "text": [
      "Accuracy: 91.05932009691134%\n",
      "Precision: 67.56756756756756%\n",
      "Recall : 0.21280217909431395%\n",
      "F1-score : 0.42426813746287656%\n"
     ]
    }
   ],
   "source": [
    "pred_test = np.dot(tx_test, w)\n",
    "\n",
    "pred_test[pred_test > 0] = 1\n",
    "pred_test[pred_test < 0] = -1\n",
    "\n",
    "correctly_classified_test = np.sum(pred_test == y_test)\n",
    "\n",
    "tp = np.sum((pred_test == 1) & (y_test == 1))\n",
    "fp = np.sum((pred_test == 1) & (y_test == -1))\n",
    "\n",
    "tn = np.sum((pred_test == -1) & (y_test == -1))\n",
    "fn = np.sum((pred_test == -1) & (y_test == 1))\n",
    "\n",
    "accuracy_test = (tp + tn)/(tp + fp + tn + fn)\n",
    "\n",
    "print(f\"Accuracy: {accuracy_test*100}%\")\n",
    "print(f\"Precision: {tp/(tp + fp)*100}%\")\n",
    "print(f\"Recall : {tp/(tp + fn)*100}%\")\n",
    "print(f\"F1-score : {tp/(tp + 0.5*(fn + fp))*100}%\")"
   ]
  },
  {
   "cell_type": "markdown",
   "id": "94441704-eea1-42f3-8439-3bdac8b04b43",
   "metadata": {
    "tags": []
   },
   "source": [
    "### Feature analysis"
   ]
  },
  {
   "cell_type": "code",
   "execution_count": 61,
   "id": "15dfe6db-247e-4671-a14d-6ded5d77eb67",
   "metadata": {
    "tags": []
   },
   "outputs": [
    {
     "data": {
      "image/png": "[encoded data removed]",
      "text/plain": [
       "<Figure size 1000x1000 with 1 Axes>"
      ]
     },
     "metadata": {},
     "output_type": "display_data"
    }
   ],
   "source": [
    "plt.figure(figsize=(10, 10))\n",
    "plt.bar(range(len(w)), np.abs(w))\n",
    "plt.yscale('log')\n",
    "plt.xlabel('Feature Index')\n",
    "plt.ylabel('Weight Value')\n",
    "plt.title('Feature Weights for Analysis')\n",
    "plt.show()"
   ]
  },
  {
   "cell_type": "markdown",
   "id": "41da9cb0-b695-4e90-88bb-ff6b638601a7",
   "metadata": {},
   "source": [
    "# Prediction on test data"
   ]
  },
  {
   "cell_type": "code",
   "execution_count": 62,
   "id": "05fddb54-26cc-4208-b93b-77f0f4413428",
   "metadata": {
    "tags": []
   },
   "outputs": [
    {
     "name": "stdout",
     "output_type": "stream",
     "text": [
      "Execution time 2.000904 seconds\n"
     ]
    }
   ],
   "source": [
    "start_time = datetime.datetime.now()\n",
    "\n",
    "data_te = np.ones(x_test.shape)\n",
    "\n",
    "for i in range(data_te.shape[1]):\n",
    "    d, _ = standardize_clean(x_test[:, i])\n",
    "    data_te[:, i] = d\n",
    "    \n",
    "data_var_te = data_te[:, zero_var_features]\n",
    "data_var_te = np.squeeze(data_var_te, axis = 1)\n",
    "data_cleaned_te = data_var_te[:, 10:]\n",
    "\n",
    "end_time = datetime.datetime.now()\n",
    "print(f\"Execution time {(end_time - start_time).total_seconds()} seconds\")"
   ]
  },
  {
   "cell_type": "code",
   "execution_count": 63,
   "id": "fa75846c-b7fe-4653-be48-c35cbbeb3182",
   "metadata": {
    "tags": []
   },
   "outputs": [
    {
     "name": "stdout",
     "output_type": "stream",
     "text": [
      "(109379, 306)\n"
     ]
    }
   ],
   "source": [
    "tx_te = np.c_[np.ones(data_cleaned_te.shape[0]), data_cleaned_te]\n",
    "print(tx_te.shape)"
   ]
  },
  {
   "cell_type": "code",
   "execution_count": 64,
   "id": "942c2d86-3ad3-480d-a273-a1f9d602d376",
   "metadata": {
    "tags": []
   },
   "outputs": [
    {
     "name": "stdout",
     "output_type": "stream",
     "text": [
      "(109379,)\n"
     ]
    }
   ],
   "source": [
    "y_te = np.dot(tx_te, w)\n",
    "print(y_te.shape)"
   ]
  },
  {
   "cell_type": "code",
   "execution_count": 65,
   "id": "6e9be53f-59f0-435a-a947-3220f591ed51",
   "metadata": {
    "tags": []
   },
   "outputs": [
    {
     "name": "stdout",
     "output_type": "stream",
     "text": [
      "(array([  3319,   3977,   4268,   5318,   6412,   7225,   7891,  12597,\n",
      "        14173,  14264,  15174,  16740,  18300,  22547,  26545,  27709,\n",
      "        30049,  37162,  37611,  38010,  43658,  44268,  49372,  52959,\n",
      "        58082,  60210,  62025,  62615,  63353,  76932,  77421,  85061,\n",
      "        87577,  88686,  89972,  95063,  95599, 103828, 104037, 104615,\n",
      "       105100, 105227]),)\n"
     ]
    }
   ],
   "source": [
    "pred_te = y_te\n",
    "\n",
    "pred_te[pred_te > 0] = 1\n",
    "pred_te[pred_te < 0] = -1\n",
    "\n",
    "indices_one = np.where(pred_te == 1)\n",
    "print(indices_one)"
   ]
  },
  {
   "cell_type": "code",
   "execution_count": 66,
   "id": "acdc5625-0f08-4c54-8bbf-543514ae44c4",
   "metadata": {
    "tags": []
   },
   "outputs": [],
   "source": [
    "create_csv_submission(test_ids, pred_te, \"../data/prediction.csv\")"
   ]
  }
 ],
 "metadata": {
  "kernelspec": {
   "display_name": "Python 3 (ipykernel)",
   "language": "python",
   "name": "python3"
  },
  "language_info": {
   "codemirror_mode": {
    "name": "ipython",
    "version": 3
   },
   "file_extension": ".py",
   "mimetype": "text/x-python",
   "name": "python",
   "nbconvert_exporter": "python",
   "pygments_lexer": "ipython3",
   "version": "3.11.4"
  }
 },
 "nbformat": 4,
 "nbformat_minor": 5
}
