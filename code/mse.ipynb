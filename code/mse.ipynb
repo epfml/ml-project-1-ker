{
 "cells": [
  {
   "cell_type": "code",
   "execution_count": 2,
   "id": "38cfce00-7596-4f51-aa1c-5750258f0d74",
   "metadata": {
    "tags": []
   },
   "outputs": [],
   "source": [
    "# Useful starting lines\n",
    "%matplotlib inline\n",
    "import numpy as np\n",
    "import matplotlib.pyplot as plt\n",
    "\n",
    "%load_ext autoreload\n",
    "%autoreload 2"
   ]
  },
  {
   "cell_type": "markdown",
   "id": "927ddbc4-74dd-4b7e-bc8e-39c4775c6340",
   "metadata": {},
   "source": [
    "# **Load the training data**\n",
    "\n",
    "We load the training data."
   ]
  },
  {
   "cell_type": "code",
   "execution_count": 3,
   "id": "274a0894-6252-4b01-9c74-9b10d37bf93b",
   "metadata": {
    "tags": []
   },
   "outputs": [
    {
     "name": "stdout",
     "output_type": "stream",
     "text": [
      "The data has 328135 samples and 321 features !\n"
     ]
    }
   ],
   "source": [
    "import datetime\n",
    "from implementations import *\n",
    "\n",
    "data_load = load_data(\"x_train.csv\")\n",
    "pred = load_data(\"y_train.csv\")\n",
    "print(f\"The data has {data_load.shape[0]} samples and {data_load.shape[1]} features !\")"
   ]
  },
  {
   "cell_type": "code",
   "execution_count": 4,
   "id": "b92e90e5",
   "metadata": {},
   "outputs": [
    {
     "name": "stdout",
     "output_type": "stream",
     "text": [
      "(328135, 321)\n",
      "(328135,)\n",
      "(328135,)\n",
      "(328135,)\n",
      "(328135,)\n",
      "(328135,)\n",
      "(328135,)\n",
      "(328135,)\n",
      "(328135,)\n",
      "(328135,)\n",
      "(328135,)\n",
      "(328135,)\n",
      "(328135,)\n",
      "(328135,)\n",
      "(328135,)\n",
      "(328135,)\n",
      "(328135,)\n",
      "(328135,)\n",
      "(328135,)\n",
      "(328135,)\n",
      "(328135,)\n",
      "(328135,)\n",
      "(328135,)\n",
      "(328135,)\n",
      "(328135,)\n",
      "(328135,)\n",
      "(328135,)\n",
      "(328135,)\n",
      "(328135,)\n",
      "(328135,)\n",
      "(328135,)\n",
      "(328135,)\n",
      "(328135,)\n",
      "(328135,)\n",
      "(328135,)\n",
      "(328135,)\n",
      "(328135,)\n",
      "(328135,)\n",
      "(328135,)\n",
      "(328135,)\n",
      "(328135,)\n",
      "(328135,)\n",
      "(328135,)\n",
      "(328135,)\n",
      "(328135,)\n",
      "(328135,)\n",
      "(328135,)\n",
      "(328135,)\n",
      "(328135,)\n",
      "(328135,)\n",
      "(328135,)\n",
      "(328135,)\n",
      "(328135,)\n",
      "(328135,)\n",
      "(328135,)\n",
      "(328135,)\n",
      "(328135,)\n",
      "(328135,)\n",
      "(328135,)\n",
      "(328135,)\n",
      "(328135,)\n",
      "(328135,)\n",
      "(328135,)\n",
      "(328135,)\n",
      "(328135,)\n",
      "(328135,)\n",
      "(328135,)\n",
      "(328135,)\n",
      "(328135,)\n",
      "(328135,)\n",
      "(328135,)\n",
      "(328135,)\n",
      "(328135,)\n",
      "(328135,)\n",
      "(328135,)\n",
      "(328135,)\n",
      "(328135,)\n",
      "(328135,)\n",
      "(328135,)\n",
      "(328135,)\n",
      "(328135,)\n",
      "(328135,)\n",
      "(328135,)\n",
      "(328135,)\n",
      "(328135,)\n",
      "(328135,)\n",
      "(328135,)\n",
      "(328135,)\n",
      "(328135,)\n",
      "(328135,)\n",
      "(328135,)\n",
      "(328135,)\n",
      "(328135,)\n",
      "(328135,)\n",
      "(328135,)\n",
      "(328135,)\n",
      "(328135,)\n",
      "(328135,)\n",
      "(328135,)\n",
      "(328135,)\n",
      "(328135,)\n",
      "(328135,)\n",
      "(328135,)\n",
      "(328135,)\n",
      "(328135,)\n",
      "(328135,)\n",
      "(328135,)\n",
      "(328135,)\n",
      "(328135,)\n",
      "(328135,)\n",
      "(328135,)\n",
      "(328135,)\n",
      "(328135,)\n",
      "(328135,)\n",
      "(328135,)\n",
      "(328135,)\n",
      "(328135,)\n",
      "(328135,)\n",
      "(328135,)\n",
      "(328135,)\n",
      "(328135,)\n",
      "(328135,)\n",
      "(328135,)\n",
      "(328135,)\n",
      "(328135,)\n",
      "(328135,)\n",
      "(328135,)\n",
      "(328135,)\n",
      "(328135,)\n",
      "(328135,)\n",
      "(328135,)\n",
      "(328135,)\n",
      "(328135,)\n",
      "(328135,)\n",
      "(328135,)\n",
      "(328135,)\n",
      "(328135,)\n",
      "(328135,)\n",
      "(328135,)\n",
      "(328135,)\n",
      "(328135,)\n",
      "(328135,)\n",
      "(328135,)\n",
      "(328135,)\n",
      "(328135,)\n",
      "(328135,)\n",
      "(328135,)\n",
      "(328135,)\n",
      "(328135,)\n",
      "(328135,)\n",
      "(328135,)\n",
      "(328135,)\n",
      "(328135,)\n",
      "(328135,)\n",
      "(328135,)\n",
      "(328135,)\n",
      "(328135,)\n",
      "(328135,)\n",
      "(328135,)\n",
      "(328135,)\n",
      "(328135,)\n",
      "(328135,)\n",
      "(328135,)\n",
      "(328135,)\n",
      "(328135,)\n",
      "(328135,)\n",
      "(328135,)\n",
      "(328135,)\n",
      "(328135,)\n",
      "(328135,)\n",
      "(328135,)\n",
      "(328135,)\n",
      "(328135,)\n",
      "(328135,)\n",
      "(328135,)\n",
      "(328135,)\n",
      "(328135,)\n",
      "(328135,)\n",
      "(328135,)\n",
      "(328135,)\n",
      "(328135,)\n",
      "(328135,)\n",
      "(328135,)\n",
      "(328135,)\n",
      "(328135,)\n",
      "(328135,)\n",
      "(328135,)\n",
      "(328135,)\n",
      "(328135,)\n",
      "(328135,)\n",
      "(328135,)\n",
      "(328135,)\n",
      "(328135,)\n",
      "(328135,)\n",
      "(328135,)\n",
      "(328135,)\n",
      "(328135,)\n",
      "(328135,)\n",
      "(328135,)\n",
      "(328135,)\n",
      "(328135,)\n",
      "(328135,)\n",
      "(328135,)\n",
      "(328135,)\n",
      "(328135,)\n",
      "(328135,)\n",
      "(328135,)\n",
      "(328135,)\n",
      "(328135,)\n",
      "(328135,)\n",
      "(328135,)\n",
      "(328135,)\n",
      "(328135,)\n",
      "(328135,)\n",
      "(328135,)\n",
      "(328135,)\n",
      "(328135,)\n",
      "(328135,)\n",
      "(328135,)\n",
      "(328135,)\n",
      "(328135,)\n",
      "(328135,)\n",
      "(328135,)\n",
      "(328135,)\n",
      "(328135,)\n",
      "(328135,)\n",
      "(328135,)\n",
      "(328135,)\n",
      "(328135,)\n",
      "(328135,)\n",
      "(328135,)\n",
      "(328135,)\n",
      "(328135,)\n",
      "(328135,)\n",
      "(328135,)\n",
      "(328135,)\n",
      "(328135,)\n",
      "(328135,)\n",
      "(328135,)\n",
      "(328135,)\n",
      "(328135,)\n",
      "(328135,)\n",
      "(328135,)\n",
      "(328135,)\n",
      "(328135,)\n",
      "(328135,)\n",
      "(328135,)\n",
      "(328135,)\n",
      "(328135,)\n",
      "(328135,)\n",
      "(328135,)\n",
      "(328135,)\n",
      "(328135,)\n",
      "(328135,)\n",
      "(328135,)\n",
      "(328135,)\n",
      "(328135,)\n",
      "(328135,)\n",
      "(328135,)\n",
      "(328135,)\n",
      "(328135,)\n",
      "(328135,)\n",
      "(328135,)\n",
      "(328135,)\n",
      "(328135,)\n",
      "(328135,)\n",
      "(328135,)\n",
      "(328135,)\n",
      "(328135,)\n",
      "(328135,)\n",
      "(328135,)\n",
      "(328135,)\n",
      "(328135,)\n",
      "(328135,)\n",
      "(328135,)\n",
      "(328135,)\n",
      "(328135,)\n",
      "(328135,)\n",
      "(328135,)\n",
      "(328135,)\n",
      "(328135,)\n",
      "(328135,)\n",
      "(328135,)\n",
      "(328135,)\n",
      "(328135,)\n",
      "(328135,)\n",
      "(328135,)\n",
      "(328135,)\n",
      "(328135,)\n",
      "(328135,)\n",
      "(328135,)\n",
      "(328135,)\n",
      "(328135,)\n",
      "(328135,)\n",
      "(328135,)\n",
      "(328135,)\n",
      "(328135,)\n",
      "(328135,)\n",
      "(328135,)\n",
      "(328135,)\n",
      "(328135,)\n",
      "(328135,)\n",
      "(328135,)\n",
      "(328135,)\n",
      "(328135,)\n",
      "(328135,)\n",
      "(328135,)\n",
      "(328135,)\n",
      "(328135,)\n",
      "(328135,)\n",
      "(328135,)\n",
      "(328135,)\n",
      "(328135,)\n",
      "(328135,)\n",
      "(328135,)\n",
      "(328135,)\n",
      "(328135,)\n",
      "(328135,)\n",
      "(328135,)\n",
      "(328135,)\n",
      "(328135,)\n",
      "(328135,)\n",
      "321\n"
     ]
    }
   ],
   "source": [
    "print(data_load.shape)\n",
    "i = 0\n",
    "for col in range(data_load.shape[1]):\n",
    "    i += 1\n",
    "    print(data_load[:,col].shape)\n",
    "print(i)\n"
   ]
  },
  {
   "cell_type": "code",
   "execution_count": 5,
   "id": "bf84b6a3",
   "metadata": {},
   "outputs": [
    {
     "name": "stdout",
     "output_type": "stream",
     "text": [
      "[53. 33. 20. ... 39. 33. 32.]\n",
      "[False False False ... False False False]\n",
      "HHHHHHh\n",
      "(328135, 205)\n",
      "[11, 14, 22, 41, 49, 55, 64, 74, 107, 108, 109, 110, 111, 112, 113, 114, 115, 116, 117, 119, 120, 121, 122, 123, 124, 125, 126, 127, 128, 129, 130, 131, 132, 133, 134, 135, 137, 138, 139, 140, 141, 142, 143, 144, 145, 146, 147, 148, 149, 150, 151, 152, 153, 154, 155, 156, 157, 158, 159, 160, 161, 162, 163, 164, 165, 166, 167, 168, 169, 170, 171, 172, 173, 174, 175, 176, 177, 178, 179, 180, 181, 182, 183, 184, 185, 186, 187, 188, 189, 190, 191, 192, 193, 194, 195, 196, 197, 200, 201, 202, 203, 204, 205, 206, 207, 208, 209, 210, 211, 212, 213, 214, 215, 224, 225, 226]\n"
     ]
    }
   ],
   "source": [
    "inx_remove = []\n",
    "print(data_load[:,0])\n",
    "print(np.isnan(data_load[:,0]))\n",
    "for col in range(data_load.shape[1]):\n",
    "    nan_values = np.isnan(data_load[:,col])\n",
    "    nan_number = np.count_nonzero(nan_values)\n",
    "\n",
    "    if nan_number>len(data_load[:,col])*0.8:\n",
    "        inx_remove.append(col)\n",
    "\n",
    "\n",
    "print(\"HHHHHHh\")\n",
    "keep_columns = np.ones(data_load.shape[1], dtype=bool)  # Initialize with True for all columns\n",
    "keep_columns[inx_remove] = False  # Set False for columns to be removed\n",
    "\n",
    "# Use the boolean mask to select the columns to keep\n",
    "data_load_rem = data_load[:, keep_columns]\n",
    "print(data_load_rem.shape)\n",
    "print(inx_remove)"
   ]
  },
  {
   "cell_type": "code",
   "execution_count": 60,
   "id": "8686a26b",
   "metadata": {},
   "outputs": [],
   "source": [
    "for col in range(319):\n",
    "    \n",
    "    data_load[:, col][(data_load[:, col] == 7) |(data_load[:, col] == 9) |(data_load[:, col] == 98)|(data_load[:, col] == 99)|(data_load[:, col] == 88)|(data_load[:, col] == 777)|(data_load[:, col] == 888)|(data_load[:, col] == 999) ] = np.nan\n",
    "    #data_load[:, col][(data_load[:, col] in [7,9,99,88,98]) ] = np.nan\n",
    "    \n"
   ]
  },
  {
   "cell_type": "markdown",
   "id": "6b535dd8",
   "metadata": {},
   "source": [
    "    data_load[:, col][(data_load[:, col] == 7) |(data_load[:, col] == 9) ] = np.nan"
   ]
  },
  {
   "cell_type": "markdown",
   "id": "878ab50a-2f67-4ebb-9851-fa7b7b380886",
   "metadata": {},
   "source": [
    "We clean the data by removing the nan values by the mean of the rest of the feature"
   ]
  },
  {
   "cell_type": "code",
   "execution_count": 6,
   "id": "83dc8496-7e54-4639-97ec-b2895e7d84bc",
   "metadata": {
    "tags": []
   },
   "outputs": [
    {
     "name": "stdout",
     "output_type": "stream",
     "text": [
      "(321,)\n"
     ]
    }
   ],
   "source": [
    "data = np.ones(data_load.shape)\n",
    "stds = np.array([])\n",
    "for i in range(data.shape[1]):\n",
    "    d, std = standardize_clean(data_load[:, i])\n",
    "    data[:, i] = d\n",
    "    stds = np.append(stds, std)\n",
    "print(stds.shape)"
   ]
  },
  {
   "cell_type": "code",
   "execution_count": 7,
   "id": "0af75cf9",
   "metadata": {},
   "outputs": [],
   "source": [
    "#COLUMNS TO KEEP FROM 120 TO 240\n",
    "list_to_keep = [122,]"
   ]
  },
  {
   "cell_type": "markdown",
   "id": "7a5f849c-709f-4fd0-8a54-a1f7b0d51a1c",
   "metadata": {
    "tags": []
   },
   "source": [
    "We further clean the data by removing the features where the variance is zero since they are constants for all samples"
   ]
  },
  {
   "cell_type": "code",
   "execution_count": 8,
   "id": "207b1a97-b052-47c1-956c-d0fefeeefc9c",
   "metadata": {
    "tags": []
   },
   "outputs": [
    {
     "name": "stdout",
     "output_type": "stream",
     "text": [
      "(328135, 315)\n"
     ]
    }
   ],
   "source": [
    "indices = np.where(stds != 0)\n",
    "data_var = data[:, indices]\n",
    "data_var = np.squeeze(data_var, axis = 1)\n",
    "print(data_var.shape)"
   ]
  },
  {
   "cell_type": "markdown",
   "id": "693df8b2-ed9b-4548-8468-54e6685eaa16",
   "metadata": {
    "tags": []
   },
   "source": [
    "We also remove the 8 first features as the appear weird in the task of predicting a heart attack"
   ]
  },
  {
   "cell_type": "code",
   "execution_count": 9,
   "id": "1d49aa9a-539b-4ab5-9173-2d3b56ea8c9a",
   "metadata": {
    "tags": []
   },
   "outputs": [
    {
     "name": "stdout",
     "output_type": "stream",
     "text": [
      "(328135, 306)\n"
     ]
    }
   ],
   "source": [
    "data_cleaned = data_var[:, 9:]\n",
    "print(data_cleaned.shape)"
   ]
  },
  {
   "cell_type": "markdown",
   "id": "0022b951-01ae-482a-9a91-bdc6878fa522",
   "metadata": {},
   "source": [
    "We then separe the data to train on 60% of the total and to test it on the remaining 40% "
   ]
  },
  {
   "cell_type": "code",
   "execution_count": 10,
   "id": "b8786b70-cd4e-487e-8442-83b524d98912",
   "metadata": {
    "tags": []
   },
   "outputs": [
    {
     "name": "stdout",
     "output_type": "stream",
     "text": [
      "Cross shape : (196881, 306) ; Test shape : (131254, 306)\n"
     ]
    }
   ],
   "source": [
    "train_size = np.floor(data_cleaned.shape[0] * 0.6).astype(int)\n",
    "data_cross = data_cleaned[:train_size, :]\n",
    "pred_cross = pred[:train_size]\n",
    "data_test = data_cleaned[train_size:, :]\n",
    "pred_test = pred[train_size:]\n",
    "print(f\"Cross shape : {data_cross.shape} ; Test shape : {data_test.shape}\")"
   ]
  },
  {
   "cell_type": "markdown",
   "id": "7efc066a-74cb-4e6b-9207-61906787dc92",
   "metadata": {},
   "source": [
    "Now we build our models for linear regression"
   ]
  },
  {
   "cell_type": "code",
   "execution_count": 11,
   "id": "1c4519d9-76e2-4a60-97fe-9a1890f7cf25",
   "metadata": {
    "tags": []
   },
   "outputs": [
    {
     "name": "stdout",
     "output_type": "stream",
     "text": [
      "The data has now 307 features !\n"
     ]
    }
   ],
   "source": [
    "y, tx = build_model_data(data_cross, pred_cross)\n",
    "y_test, tx_test = build_model_data(data_test, pred_test)\n",
    "print(f\"The data has now {tx.shape[1]} features !\")"
   ]
  },
  {
   "cell_type": "markdown",
   "id": "d84cb632-ef6f-4cce-9276-2f95f9f1b903",
   "metadata": {},
   "source": [
    "## Linear regression using gradient descent\n",
    "\n",
    "Here we train our model using GD with MSE"
   ]
  },
  {
   "cell_type": "code",
   "execution_count": 12,
   "id": "0ae0c7fd-20c1-403e-a175-9b348f5cc4a7",
   "metadata": {
    "tags": []
   },
   "outputs": [
    {
     "name": "stdout",
     "output_type": "stream",
     "text": [
      "Execution time 13.71139 seconds\n"
     ]
    }
   ],
   "source": [
    "initial_w = np.zeros(tx.shape[1])\n",
    "max_iters = 100\n",
    "gamma = 0.09\n",
    "\n",
    "start_time = datetime.datetime.now()\n",
    "w, loss = mean_squared_error_gd(y, tx, initial_w, max_iters, gamma)\n",
    "end_time = datetime.datetime.now()\n",
    "print(f\"Execution time {(end_time - start_time).total_seconds()} seconds\")"
   ]
  },
  {
   "cell_type": "markdown",
   "id": "d58cb209",
   "metadata": {},
   "source": [
    "# Logistic gradient descent"
   ]
  },
  {
   "cell_type": "code",
   "execution_count": 13,
   "id": "50ac8f84",
   "metadata": {},
   "outputs": [
    {
     "name": "stdout",
     "output_type": "stream",
     "text": [
      "Execution time 314.557426 seconds\n"
     ]
    }
   ],
   "source": [
    "start_time = datetime.datetime.now()\n",
    "w =[]\n",
    "loss = []\n",
    "for i in range(1,300,10) : \n",
    "\n",
    "    w_i, loss_i = logistic_gradient_descent(y, tx, initial_w, gamma=i*0.01,max_iters=max_iters)\n",
    "    w.append(w_i)\n",
    "    loss.append(loss_i)\n",
    "\n",
    "end_time = datetime.datetime.now()\n",
    "print(f\"Execution time {(end_time - start_time).total_seconds()} seconds\")\n"
   ]
  },
  {
   "cell_type": "code",
   "execution_count": 14,
   "id": "f37c1507",
   "metadata": {},
   "outputs": [
    {
     "name": "stdout",
     "output_type": "stream",
     "text": [
      "15\n",
      "1.5565517241379307\n",
      "0.22385843049294504\n",
      "[0.5393227375053765, 0.2651330349688938, 0.23970466774515647, 0.23218897621108142, 0.22891739059153665, 0.22718491527572243, 0.22614900477043723, 0.2254753049680671, 0.22501452897210197, 0.2246855371822881, 0.22444266722394618, 0.22425830787629442, 0.22411485630959488, 0.22400023777330139, 0.22390661517044602, 0.22385843049294504, 0.2246576447523296, 0.22562916767233474, 0.22659438087867192, 0.22767366265334496, 0.22902348049576796, 0.23086228858109206, 0.23346757463226078, 0.23684750720472822, 0.24244465269376517, 0.24985536924292015, 0.25863550932795554, 0.26831615429418787, 0.27823233052326535, 0.28626895663807456]\n"
     ]
    },
    {
     "data": {
      "image/png": "[encoded data removed]",
      "text/plain": [
       "<Figure size 640x480 with 1 Axes>"
      ]
     },
     "metadata": {},
     "output_type": "display_data"
    }
   ],
   "source": [
    "gamma = np.linspace(1, 300, 30)  # Example: gamma values ranging from 0 to 1\n",
    "gamma = gamma*0.01\n",
    "\n",
    "plt.plot(gamma, loss, label='Loss', marker='o', linestyle='-')\n",
    "min_ind = np.argmin(loss)\n",
    "\n",
    "print(min_ind)\n",
    "min_gamma = gamma[min_ind]\n",
    "print(min_gamma)\n",
    "\n",
    "\n",
    "print(min(loss))\n",
    "print(loss)\n",
    "# Add labels and title\n",
    "plt.xlabel('Gamma')\n",
    "plt.ylabel('Loss')\n",
    "plt.title('Loss vs. Gamma')\n",
    "\n",
    "# Add a legend\n",
    "plt.legend()\n",
    "\n",
    "# Show the plot (if you're using a Jupyter Notebook, this step may be optional)\n",
    "plt.show()"
   ]
  },
  {
   "cell_type": "code",
   "execution_count": 70,
   "id": "3dc58a3e",
   "metadata": {},
   "outputs": [
    {
     "name": "stdout",
     "output_type": "stream",
     "text": [
      "10\n"
     ]
    }
   ],
   "source": [
    "print(len(w))"
   ]
  },
  {
   "cell_type": "markdown",
   "id": "c41fde6c-4da2-4e82-bbff-8f67e4f9fd0d",
   "metadata": {},
   "source": [
    "### Computation of metrics\n",
    "\n",
    "We first compute some metrics on the training data (60% of the total data)"
   ]
  },
  {
   "cell_type": "code",
   "execution_count": 108,
   "id": "e49f21d6-55c5-4fbf-ac2e-78a14ff9164b",
   "metadata": {
    "tags": []
   },
   "outputs": [
    {
     "name": "stdout",
     "output_type": "stream",
     "text": [
      "Accuracy: 91.39480193619495%\n",
      "True positive rate: 64.76683937823834%\n",
      "True negative rate: 91.52596010535127%\n",
      "[-3.11371141e+00  4.71795946e-03 -1.27247436e-02  1.03528382e-04\n",
      "  2.59156684e-02  1.98935402e-02  1.87042232e-02 -1.65913184e-02\n",
      " -1.77390389e-02  1.50631698e-02  8.06958212e-03  5.55694233e-03\n",
      "  4.56046533e-01 -7.45809306e-02 -8.71161286e-03 -1.01731123e-02\n",
      " -2.37825476e-02  2.79677423e-02 -3.34968590e-02 -9.36073875e-03\n",
      " -1.82125607e-01 -7.78571215e-02 -6.68445230e-02 -1.01104798e-01\n",
      " -2.31637925e-01 -1.38079099e-01 -2.98209764e-02  3.12323887e-03\n",
      " -2.21179762e-02 -2.41276663e-04 -5.20550780e-02  1.64300770e-02\n",
      " -1.33293778e-02 -4.53091551e-02 -9.39733028e-02 -6.72943220e-02\n",
      " -3.28919132e-01 -4.12541568e-02 -1.55293445e-02  1.82542997e-02\n",
      "  9.63204951e-03  2.62259635e-03  9.63329571e-04 -4.82799100e-02\n",
      "  1.30691901e-01 -5.14186632e-03  2.48040211e-02  3.56841876e-02\n",
      " -3.18031822e-02  2.45015032e-02  1.30618403e-02 -3.39852302e-02\n",
      " -3.85933966e-02 -2.47108391e-02 -1.36636182e-03 -3.66726015e-02\n",
      "  1.79417675e-02 -2.05177724e-03 -9.38347120e-02  7.02197930e-02\n",
      " -7.06737538e-02 -1.28562459e-02  9.11687483e-03  7.76112557e-02\n",
      "  1.21957993e-02  4.99180121e-02  9.65340691e-03 -5.51741770e-03\n",
      "  5.90215663e-03  1.69841019e-02  3.38458218e-02 -1.45092467e-02\n",
      " -1.79241356e-02  2.58706056e-02  1.41530959e-02 -1.32084334e-02\n",
      " -1.40070494e-02  1.53534726e-02  1.06912222e-02  1.18367832e-03\n",
      "  4.01610081e-03 -2.06702409e-02 -9.52879824e-03 -1.67270664e-02\n",
      "  3.00476722e-02  5.08132982e-02 -2.64936881e-02 -1.14941455e-02\n",
      "  5.55980972e-03 -1.07733348e-01  8.74575738e-04 -3.92145716e-03\n",
      " -1.56750678e-03 -1.37286582e-02 -3.51685639e-02 -8.05853149e-02\n",
      " -2.92996226e-02 -8.49119707e-03  3.95843193e-02  1.72728258e-02\n",
      "  2.88514612e-03  1.18046391e-02 -1.66129869e-02 -2.21589662e-02\n",
      " -1.61962582e-02  7.00888896e-03  1.78668547e-02 -2.36527730e-03\n",
      "  1.19373367e-02  1.92216280e-02 -1.26992429e-02 -8.20019613e-03\n",
      "  1.56738761e-02 -3.55590070e-03  8.09800649e-04  2.16436059e-03\n",
      "  3.26026911e-03 -6.52198904e-03 -1.22870910e-03 -5.42368435e-03\n",
      "  3.40406953e-03 -3.55244972e-03 -2.22295154e-02 -4.70000904e-03\n",
      " -1.53249543e-02 -2.25938384e-03 -7.39678365e-03  1.43684830e-02\n",
      " -3.25894970e-02 -1.70086713e-02 -8.24641913e-02  8.56157385e-03\n",
      "  2.67667444e-03 -4.35717417e-03  7.05675141e-04  1.49149430e-03\n",
      "  1.92961005e-03 -5.95169368e-03  4.60942108e-03  1.63851784e-03\n",
      " -1.71414036e-03  1.24551819e-03  1.22546145e-03 -1.09162032e-01\n",
      " -1.66549734e-02  1.23442767e-02 -2.37505998e-02 -7.58556484e-03\n",
      " -4.99972069e-03  2.49967960e-02 -6.62517669e-04 -7.99691148e-03\n",
      " -1.92460779e-02  2.75625367e-03 -1.48607385e-03  1.84145308e-02\n",
      "  1.65709270e-02  1.48241090e-02  1.14546119e-02 -3.14408284e-03\n",
      " -7.51712466e-03  4.69383385e-03  1.11837955e-02  1.67004788e-04\n",
      "  1.34088242e-02  2.90426033e-02 -5.60389468e-03  2.56211338e-02\n",
      "  5.36721256e-03 -1.36372692e-02  9.32540786e-03  2.22458007e-03\n",
      "  3.00649735e-03 -1.69805269e-03  6.07426337e-03 -3.07731389e-04\n",
      "  5.51224423e-03  8.49628944e-04 -3.64641953e-02 -3.25675126e-02\n",
      "  1.07080455e-02 -1.35962993e-02  2.30611086e-02  4.02913294e-02\n",
      "  6.11516881e-03  1.51082032e-02 -6.92110199e-03  2.22490734e-02\n",
      "  1.68199660e-02 -1.35165953e-03 -1.09999233e-02 -1.54132458e-02\n",
      "  1.03335004e-02  1.25828259e-02 -1.64896757e-02 -1.79511288e-02\n",
      " -3.62027802e-03 -2.49149749e-03  3.83680847e-03 -4.45748009e-02\n",
      "  1.03913005e-02 -9.15429186e-03  1.49698609e-02 -2.17683976e-02\n",
      "  3.89372562e-02  5.37410940e-03 -8.50402694e-03 -4.12123308e-02\n",
      "  1.16685406e-02 -1.82063331e-02 -1.17671837e-04 -1.17671837e-04\n",
      " -7.62328869e-03 -1.76159810e-02  5.85935623e-03 -2.57337396e-03\n",
      " -5.26690576e-02  2.97793270e-02  1.11945450e-01  2.01610881e-02\n",
      "  2.20270803e-01  3.41706860e-02  1.56153065e-02 -1.97020103e-02\n",
      " -8.00306659e-02  3.09535048e-03  1.66268123e-02  1.10564926e-03\n",
      "  1.12469800e-02 -1.86594184e-02 -1.02110956e-02 -1.43700611e-02\n",
      "  2.52648776e-01  2.64282545e-02  2.56058512e-01  7.04327896e-02\n",
      " -7.02385238e-03 -7.49797874e-03 -2.29206410e-02 -2.30225577e-02\n",
      "  3.70548453e-02 -7.48113493e-03 -1.86746423e-02 -2.91407196e-03\n",
      " -5.47639376e-02 -9.82140681e-02  1.34571157e-01  2.25891659e-02\n",
      " -2.76324529e-02 -9.51303639e-03 -3.03273470e-03 -1.40780726e-02\n",
      "  2.20677735e-02 -2.03265732e-02  1.60363803e-02  7.48191477e-03\n",
      " -1.81079384e-02  1.53581322e-02  8.25721875e-03  1.09785326e-02\n",
      " -5.93583064e-04  2.17603226e-03 -2.36312672e-05  7.81890703e-04\n",
      "  3.50834479e-03 -1.16482541e-02 -3.91045965e-03  9.30244140e-03\n",
      "  9.73738604e-04 -2.80692659e-03 -4.43301447e-04 -4.37185925e-02\n",
      " -1.52960402e-02 -3.98717802e-02 -1.50065101e-02  6.81106669e-02\n",
      "  2.47817307e-02 -1.87153522e-02  1.08392371e-02  1.06382306e-02\n",
      "  9.75289008e-03  6.67633996e-03 -1.02598229e-02  2.82299669e-02\n",
      " -1.91666156e-04  3.09718464e-03 -5.78917709e-03 -3.21273940e-04\n",
      " -6.44403101e-03  1.06235584e-02  1.61435385e-03 -6.09824154e-03\n",
      " -9.01888941e-03 -8.22294775e-03 -3.80251615e-03 -4.57108015e-03\n",
      " -3.85392317e-04  7.53313822e-03  2.53790590e-02  2.16518931e-05\n",
      "  1.19101916e-02 -1.75405263e-03 -6.25962493e-04  9.84605913e-04\n",
      "  1.13860773e-02 -3.74439631e-03  1.32484327e-02]\n"
     ]
    }
   ],
   "source": [
    "pred_data = np.dot(tx, w[9])\n",
    "pred_data = (pred_data > 0.49).astype(float)\n",
    "correctly_classified_data = np.sum(pred_data == y)\n",
    "\n",
    "tp = np.sum((pred_data == 1) & (y == 1))\n",
    "fp = np.sum((pred_data == 1) & (y == 0))\n",
    "\n",
    "tn = np.sum((pred_data == 0) & (y == 0))\n",
    "fn = np.sum((pred_data == 0) & (y == 1))\n",
    "\n",
    "accuracy_data = (tp + tn)/(tp + fp + tn + fn)\n",
    "\n",
    "print(f\"Accuracy: {accuracy_data*100}%\")\n",
    "print(f\"True positive rate: {tp/(tp + fp)*100}%\")\n",
    "print(f\"True negative rate: {tn/(tn + fn)*100}%\")\n",
    "print(w)"
   ]
  },
  {
   "cell_type": "markdown",
   "id": "d56d6c6f-feba-49c0-9223-ca63a8d2d8e5",
   "metadata": {},
   "source": [
    "Now we compute some metrics for our test data (40% of the total data)"
   ]
  },
  {
   "cell_type": "code",
   "execution_count": 107,
   "id": "56741a7a-76d9-48fc-8b0a-71dd68b24923",
   "metadata": {
    "tags": []
   },
   "outputs": [
    {
     "name": "stdout",
     "output_type": "stream",
     "text": [
      "Accuracy: 91.20560135310161%\n",
      "True positive rate: 66.24405705229795%\n",
      "True negative rate: 91.32618298461986%\n"
     ]
    }
   ],
   "source": [
    "pred_test = np.dot(tx_test, w[9])\n",
    "pred_test = (pred_test > 0.49).astype(float)\n",
    "correctly_classified_test = np.sum(pred_test == y_test)\n",
    "\n",
    "tp = np.sum((pred_test == 1) & (y_test == 1))\n",
    "fp = np.sum((pred_test == 1) & (y_test == 0))\n",
    "\n",
    "tn = np.sum((pred_test == 0) & (y_test == 0))\n",
    "fn = np.sum((pred_test == 0) & (y_test == 1))\n",
    "\n",
    "accuracy_test = (tp + tn)/(tp + fp + tn + fn)\n",
    "\n",
    "print(f\"Accuracy: {accuracy_test*100}%\")\n",
    "print(f\"True positive rate: {tp/(tp + fp)*100}%\")\n",
    "print(f\"True negative rate: {tn/(tn + fn)*100}%\")"
   ]
  },
  {
   "cell_type": "markdown",
   "id": "34c099fb",
   "metadata": {},
   "source": []
  },
  {
   "cell_type": "markdown",
   "id": "d174a0b8",
   "metadata": {},
   "source": []
  },
  {
   "cell_type": "markdown",
   "id": "6f07e0d3",
   "metadata": {},
   "source": []
  },
  {
   "cell_type": "code",
   "execution_count": 75,
   "id": "d0293bde",
   "metadata": {},
   "outputs": [
    {
     "name": "stdout",
     "output_type": "stream",
     "text": [
      "The data has now 155 features !\n",
      "Execution time 5.903289 seconds\n",
      "Accuracy: 99.64877260883478%\n",
      "True positive rate: 84.32835820895522%\n",
      "True negative rate: 99.79084645669292%\n"
     ]
    }
   ],
   "source": [
    "#filter removing small weights\n",
    "#selecting the weights\n",
    "w = w[9]\n",
    "indices_to_keep = np.where(np.abs(w) > 0.01)[0]\n",
    "weights_filtered = w[indices_to_keep]\n",
    "\n",
    "#removing columns with small weights\n",
    "data_cross_2 = data_cross[:,indices_to_keep]\n",
    "\n",
    "#Build model again\n",
    "y, tx = build_model_data(data_cross_2, pred_cross)\n",
    "data_test_2 = data_test[:,indices_to_keep]\n",
    "y_test, tx_test = build_model_data(data_test_2, pred_test)\n",
    "print(f\"The data has now {tx.shape[1]} features !\")\n",
    "\n",
    "#retest log\n",
    "initial_w = np.zeros(tx.shape[1])\n",
    "start_time = datetime.datetime.now()\n",
    "w, loss = logistic_gradient_descent(y, tx, initial_w, gamma=0.9,max_iters=max_iters)\n",
    "end_time = datetime.datetime.now()\n",
    "print(f\"Execution time {(end_time - start_time).total_seconds()} seconds\")\n",
    "\n",
    "#Metrics\n",
    "pred_test = np.dot(tx_test, w)\n",
    "pred_test = (pred_test > 0.49).astype(float)\n",
    "correctly_classified_test = np.sum(pred_test == y_test)\n",
    "\n",
    "tp = np.sum((pred_test == 1) & (y_test == 1))\n",
    "fp = np.sum((pred_test == 1) & (y_test == 0))\n",
    "\n",
    "tn = np.sum((pred_test == 0) & (y_test == 0))\n",
    "fn = np.sum((pred_test == 0) & (y_test == 1))\n",
    "\n",
    "accuracy_test = (tp + tn)/(tp + fp + tn + fn)\n",
    "\n",
    "print(f\"Accuracy: {accuracy_test*100}%\")\n",
    "print(f\"True positive rate: {tp/(tp + fp)*100}%\")\n",
    "print(f\"True negative rate: {tn/(tn + fn)*100}%\")"
   ]
  },
  {
   "cell_type": "code",
   "execution_count": 105,
   "id": "815a97d1",
   "metadata": {},
   "outputs": [
    {
     "name": "stdout",
     "output_type": "stream",
     "text": [
      "Execution time 11.876921 seconds\n"
     ]
    }
   ],
   "source": [
    "from implementations import regd_logistic_regression\n",
    "start_time = datetime.datetime.now()\n",
    "w = regd_logistic_regression(tx, y,lr=1,max_iter=100,fit_intercept=False)\n",
    "end_time = datetime.datetime.now()\n",
    "print(f\"Execution time {(end_time - start_time).total_seconds()} seconds\")\n"
   ]
  },
  {
   "cell_type": "markdown",
   "id": "94441704-eea1-42f3-8439-3bdac8b04b43",
   "metadata": {
    "tags": []
   },
   "source": [
    "### Feature analysis"
   ]
  },
  {
   "cell_type": "code",
   "execution_count": 106,
   "id": "15dfe6db-247e-4671-a14d-6ded5d77eb67",
   "metadata": {},
   "outputs": [
    {
     "data": {
      "image/png": "[encoded data removed]",
      "text/plain": [
       "<Figure size 1000x600 with 1 Axes>"
      ]
     },
     "metadata": {},
     "output_type": "display_data"
    }
   ],
   "source": [
    "plt.figure(figsize=(10, 6))\n",
    "plt.bar(range(len(w)), np.abs(w[9]))\n",
    "plt.xlabel('Feature Index')\n",
    "plt.ylabel('Weight Value')\n",
    "plt.title('Feature Weights for Analysis')\n",
    "plt.show()"
   ]
  },
  {
   "cell_type": "code",
   "execution_count": 78,
   "id": "1adabf7b",
   "metadata": {},
   "outputs": [
    {
     "name": "stdout",
     "output_type": "stream",
     "text": [
      "0.06497531297318257\n",
      "[-3.09980706e+00  2.05106101e-04 -1.38024534e-03 -1.28033571e-02\n",
      "  1.37341845e-02  3.63259759e-03  3.09715253e-01 -1.42121724e-02\n",
      "  6.13988863e-03 -3.46628196e-02  5.65437098e-02 -5.85798682e-02\n",
      "  3.10908140e-03 -7.49976140e-02 -8.04153268e-02 -1.28557335e-01\n",
      " -1.33603748e-01 -1.79693958e-01 -1.09348516e-02 -2.42311961e-02\n",
      "  6.77829300e-03 -1.33432853e-01 -3.88550747e-02 -3.85608626e-02\n",
      " -7.38499757e-02 -7.83893520e-02 -3.40740573e-02 -3.17968639e-01\n",
      " -2.84704640e-02 -2.55780151e-02 -2.29428461e-02  1.30583738e-03\n",
      " -3.68137833e-02  8.33918315e-02 -6.08462771e-03 -3.59192991e-02\n",
      "  1.60529810e-02 -2.00636786e-03 -3.84919001e-02 -3.60657614e-02\n",
      " -1.19539824e-02  2.02547071e-02 -1.98687370e-02 -9.07958496e-02\n",
      "  3.29882636e-02 -3.21715614e-02 -1.76257404e-03  8.46985490e-03\n",
      "  4.44060679e-02 -2.21591791e-03  2.42573568e-02 -1.40226900e-02\n",
      " -1.93361310e-02 -1.82557168e-02  4.99305536e-04  6.81237858e-03\n",
      "  1.10782513e-02 -8.97458976e-03  2.97209694e-02  6.92731513e-03\n",
      " -1.69127614e-02  3.48863128e-03  1.07380041e-03 -7.43260160e-03\n",
      " -2.73463692e-02 -7.18523238e-03 -1.02448599e-02 -4.87739171e-03\n",
      " -6.46499389e-03  9.00509809e-03 -8.56508322e-03 -3.00671259e-03\n",
      "  4.52687815e-03 -8.95363406e-03  1.71731287e-02 -1.44194371e-02\n",
      " -2.40001864e-03 -1.60171751e-02  1.62898202e-02  1.09164948e-02\n",
      " -5.95550442e-04 -2.29980073e-03 -9.51906327e-03  1.02939324e-02\n",
      " -3.17028398e-02 -9.83300947e-03 -1.52029572e-04 -1.71125480e-03\n",
      " -1.30457574e-02  4.66230691e-03  5.64911842e-03  1.82485251e-02\n",
      "  1.65327083e-03  2.62253394e-03  4.50848308e-03  8.08774521e-03\n",
      " -4.70744675e-03 -1.66511654e-02  2.57572133e-02 -1.28485898e-02\n",
      "  1.17143269e-02  1.05666751e-02 -1.03351702e-02 -5.88733270e-03\n",
      " -1.83776995e-02  1.43542667e-02 -2.17487771e-02  2.83466801e-02\n",
      " -6.86902711e-03  9.27608774e-03  4.68091702e-03 -3.13853271e-03\n",
      "  9.11005813e-02  1.58227129e-02  2.32975805e-01 -7.74994064e-02\n",
      "  1.23768015e-01  1.09512841e-02  3.16367653e-03 -3.12006428e-02\n",
      "  5.10455086e-03  9.22135305e-02  4.50499135e-02  1.50040288e-01\n",
      "  1.09689006e-02 -6.03142008e-03 -3.49841503e-02  2.91283866e-02\n",
      "  1.95592226e-02  2.00112971e-03 -4.95161220e-02  1.32813935e-02\n",
      "  6.46055481e-02 -8.16126037e-03 -2.04431721e-04  2.85468097e-02\n",
      " -1.02442910e-02  3.74631078e-03  1.36216900e-02  9.77767089e-03\n",
      "  4.51640436e-03  6.51583525e-03 -1.61747455e-02 -1.99116963e-01\n",
      " -1.99480054e-01  1.75335289e-02  2.19596977e-02 -9.68620516e-03\n",
      "  6.95544194e-03 -1.87523757e-02  1.52880043e-02 -1.35893079e-03\n",
      " -2.76917676e-02  1.74710161e-02 -2.95688153e-02]\n"
     ]
    }
   ],
   "source": [
    "print(np.var(w))\n",
    "\n",
    "print(w)"
   ]
  },
  {
   "cell_type": "markdown",
   "id": "f99b7995-644e-4c1c-84bd-f0a8b39cf767",
   "metadata": {},
   "source": [
    "# **Load the testing data**"
   ]
  },
  {
   "cell_type": "code",
   "execution_count": 17,
   "id": "60c7ad4d-890b-44d6-aacd-9528c03894ce",
   "metadata": {},
   "outputs": [
    {
     "ename": "FileNotFoundError",
     "evalue": "../data/test.csv not found.",
     "output_type": "error",
     "traceback": [
      "\u001b[1;31m---------------------------------------------------------------------------\u001b[0m",
      "\u001b[1;31mFileNotFoundError\u001b[0m                         Traceback (most recent call last)",
      "\u001b[1;32mc:\\Users\\ricca\\OneDrive\\Documenti\\GitHub\\ml-project-1-ker\\code\\mse.ipynb Cell 25\u001b[0m line \u001b[0;36m1\n\u001b[1;32m----> <a href='vscode-notebook-cell:/c%3A/Users/ricca/OneDrive/Documenti/GitHub/ml-project-1-ker/code/mse.ipynb#X31sZmlsZQ%3D%3D?line=0'>1</a>\u001b[0m test_data, test_pred, test_ids \u001b[39m=\u001b[39m load_data(\u001b[39m\"\u001b[39m\u001b[39mtest.csv\u001b[39m\u001b[39m\"\u001b[39m)\n\u001b[0;32m      <a href='vscode-notebook-cell:/c%3A/Users/ricca/OneDrive/Documenti/GitHub/ml-project-1-ker/code/mse.ipynb#X31sZmlsZQ%3D%3D?line=1'>2</a>\u001b[0m \u001b[39mfor\u001b[39;00m i \u001b[39min\u001b[39;00m \u001b[39mrange\u001b[39m(test_data\u001b[39m.\u001b[39mshape[\u001b[39m1\u001b[39m]):\n\u001b[0;32m      <a href='vscode-notebook-cell:/c%3A/Users/ricca/OneDrive/Documenti/GitHub/ml-project-1-ker/code/mse.ipynb#X31sZmlsZQ%3D%3D?line=2'>3</a>\u001b[0m     test_data[:, i] \u001b[39m=\u001b[39m standardize(test_data[:, i])[\u001b[39m0\u001b[39m]\n",
      "File \u001b[1;32mc:\\Users\\ricca\\OneDrive\\Documenti\\GitHub\\ml-project-1-ker\\code\\implementations.py:11\u001b[0m, in \u001b[0;36mload_data\u001b[1;34m(datafile)\u001b[0m\n\u001b[0;32m      9\u001b[0m \u001b[39m\u001b[39m\u001b[39m\"\"\"Load data and convert it to the metric system.\"\"\"\u001b[39;00m\n\u001b[0;32m     10\u001b[0m path_dataset \u001b[39m=\u001b[39m \u001b[39mf\u001b[39m\u001b[39m\"\u001b[39m\u001b[39m../data/\u001b[39m\u001b[39m{\u001b[39;00mdatafile\u001b[39m}\u001b[39;00m\u001b[39m\"\u001b[39m\n\u001b[1;32m---> 11\u001b[0m dataset \u001b[39m=\u001b[39m np\u001b[39m.\u001b[39mgenfromtxt(path_dataset, delimiter\u001b[39m=\u001b[39m\u001b[39m\"\u001b[39m\u001b[39m,\u001b[39m\u001b[39m\"\u001b[39m, skip_header\u001b[39m=\u001b[39m\u001b[39m1\u001b[39m)\n\u001b[0;32m     12\u001b[0m \u001b[39mreturn\u001b[39;00m dataset\n",
      "File \u001b[1;32mc:\\Users\\ricca\\anaconda3\\Lib\\site-packages\\numpy\\lib\\npyio.py:1977\u001b[0m, in \u001b[0;36mgenfromtxt\u001b[1;34m(fname, dtype, comments, delimiter, skip_header, skip_footer, converters, missing_values, filling_values, usecols, names, excludelist, deletechars, replace_space, autostrip, case_sensitive, defaultfmt, unpack, usemask, loose, invalid_raise, max_rows, encoding, ndmin, like)\u001b[0m\n\u001b[0;32m   1975\u001b[0m     fname \u001b[39m=\u001b[39m os_fspath(fname)\n\u001b[0;32m   1976\u001b[0m \u001b[39mif\u001b[39;00m \u001b[39misinstance\u001b[39m(fname, \u001b[39mstr\u001b[39m):\n\u001b[1;32m-> 1977\u001b[0m     fid \u001b[39m=\u001b[39m np\u001b[39m.\u001b[39mlib\u001b[39m.\u001b[39m_datasource\u001b[39m.\u001b[39mopen(fname, \u001b[39m'\u001b[39m\u001b[39mrt\u001b[39m\u001b[39m'\u001b[39m, encoding\u001b[39m=\u001b[39mencoding)\n\u001b[0;32m   1978\u001b[0m     fid_ctx \u001b[39m=\u001b[39m contextlib\u001b[39m.\u001b[39mclosing(fid)\n\u001b[0;32m   1979\u001b[0m \u001b[39melse\u001b[39;00m:\n",
      "File \u001b[1;32mc:\\Users\\ricca\\anaconda3\\Lib\\site-packages\\numpy\\lib\\_datasource.py:193\u001b[0m, in \u001b[0;36mopen\u001b[1;34m(path, mode, destpath, encoding, newline)\u001b[0m\n\u001b[0;32m    156\u001b[0m \u001b[39m\u001b[39m\u001b[39m\"\"\"\u001b[39;00m\n\u001b[0;32m    157\u001b[0m \u001b[39mOpen `path` with `mode` and return the file object.\u001b[39;00m\n\u001b[0;32m    158\u001b[0m \n\u001b[1;32m   (...)\u001b[0m\n\u001b[0;32m    189\u001b[0m \n\u001b[0;32m    190\u001b[0m \u001b[39m\"\"\"\u001b[39;00m\n\u001b[0;32m    192\u001b[0m ds \u001b[39m=\u001b[39m DataSource(destpath)\n\u001b[1;32m--> 193\u001b[0m \u001b[39mreturn\u001b[39;00m ds\u001b[39m.\u001b[39mopen(path, mode, encoding\u001b[39m=\u001b[39mencoding, newline\u001b[39m=\u001b[39mnewline)\n",
      "File \u001b[1;32mc:\\Users\\ricca\\anaconda3\\Lib\\site-packages\\numpy\\lib\\_datasource.py:533\u001b[0m, in \u001b[0;36mDataSource.open\u001b[1;34m(self, path, mode, encoding, newline)\u001b[0m\n\u001b[0;32m    530\u001b[0m     \u001b[39mreturn\u001b[39;00m _file_openers[ext](found, mode\u001b[39m=\u001b[39mmode,\n\u001b[0;32m    531\u001b[0m                               encoding\u001b[39m=\u001b[39mencoding, newline\u001b[39m=\u001b[39mnewline)\n\u001b[0;32m    532\u001b[0m \u001b[39melse\u001b[39;00m:\n\u001b[1;32m--> 533\u001b[0m     \u001b[39mraise\u001b[39;00m \u001b[39mFileNotFoundError\u001b[39;00m(\u001b[39mf\u001b[39m\u001b[39m\"\u001b[39m\u001b[39m{\u001b[39;00mpath\u001b[39m}\u001b[39;00m\u001b[39m not found.\u001b[39m\u001b[39m\"\u001b[39m)\n",
      "\u001b[1;31mFileNotFoundError\u001b[0m: ../data/test.csv not found."
     ]
    }
   ],
   "source": [
    "test_data, test_pred, test_ids = load_data(\"test.csv\")\n",
    "for i in range(test_data.shape[1]):\n",
    "    test_data[:, i] = standardize(test_data[:, i])[0]\n",
    "test_y, test_tx = build_model_data(test_data, test_pred)"
   ]
  },
  {
   "cell_type": "markdown",
   "id": "4df253f4-463a-43da-8623-3ed36f6419b8",
   "metadata": {},
   "source": [
    "### Predict the label with our trained model"
   ]
  },
  {
   "cell_type": "code",
   "execution_count": 112,
   "id": "937e58c4-30d1-4302-834f-0f2b2b051b89",
   "metadata": {
    "tags": []
   },
   "outputs": [],
   "source": [
    "test_y = np.dot(test_tx, w)\n",
    "test_y = (test_y > 0.5).astype(float)"
   ]
  }
 ],
 "metadata": {
  "kernelspec": {
   "display_name": "Python 3 (ipykernel)",
   "language": "python",
   "name": "python3"
  },
  "language_info": {
   "codemirror_mode": {
    "name": "ipython",
    "version": 3
   },
   "file_extension": ".py",
   "mimetype": "text/x-python",
   "name": "python",
   "nbconvert_exporter": "python",
   "pygments_lexer": "ipython3",
   "version": "3.11.3"
  }
 },
 "nbformat": 4,
 "nbformat_minor": 5
}
