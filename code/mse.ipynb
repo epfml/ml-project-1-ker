{
 "cells": [
  {
   "cell_type": "code",
   "execution_count": 1,
   "id": "38cfce00-7596-4f51-aa1c-5750258f0d74",
   "metadata": {
    "tags": []
   },
   "outputs": [],
   "source": [
    "# Useful starting lines\n",
    "%matplotlib inline\n",
    "import numpy as np\n",
    "import matplotlib.pyplot as plt\n",
    "\n",
    "%load_ext autoreload\n",
    "%autoreload 2"
   ]
  },
  {
   "cell_type": "markdown",
   "id": "927ddbc4-74dd-4b7e-bc8e-39c4775c6340",
   "metadata": {},
   "source": [
    "# **Load the training data**\n",
    "\n",
    "We load the training data."
   ]
  },
  {
   "cell_type": "code",
   "execution_count": 2,
   "id": "274a0894-6252-4b01-9c74-9b10d37bf93b",
   "metadata": {
    "tags": []
   },
   "outputs": [
    {
     "name": "stdout",
     "output_type": "stream",
     "text": [
      "The data has 328135 samples and 321 features !\n"
     ]
    }
   ],
   "source": [
    "import datetime\n",
    "from implementations import *\n",
    "\n",
    "data_load = load_data(\"x_train.csv\")\n",
    "pred = load_data(\"y_train.csv\")\n",
    "print(f\"The data has {data_load.shape[0]} samples and {data_load.shape[1]} features !\")"
   ]
  },
  {
   "cell_type": "markdown",
   "id": "878ab50a-2f67-4ebb-9851-fa7b7b380886",
   "metadata": {},
   "source": [
    "We clean the data by removing the nan values by the mean of the rest of the feature"
   ]
  },
  {
   "cell_type": "code",
   "execution_count": 3,
   "id": "83dc8496-7e54-4639-97ec-b2895e7d84bc",
   "metadata": {
    "tags": []
   },
   "outputs": [
    {
     "name": "stdout",
     "output_type": "stream",
     "text": [
      "(321,)\n"
     ]
    }
   ],
   "source": [
    "data = np.ones(data_load.shape)\n",
    "stds = np.array([])\n",
    "for i in range(data.shape[1]):\n",
    "    d, std = standardize_clean(data_load[:, i])\n",
    "    data[:, i] = d\n",
    "    stds = np.append(stds, std)\n",
    "print(stds.shape)"
   ]
  },
  {
   "cell_type": "markdown",
   "id": "7a5f849c-709f-4fd0-8a54-a1f7b0d51a1c",
   "metadata": {
    "tags": []
   },
   "source": [
    "We further clean the data by removing the features where the variance is zero since they are constants for all samples"
   ]
  },
  {
   "cell_type": "code",
   "execution_count": 4,
   "id": "207b1a97-b052-47c1-956c-d0fefeeefc9c",
   "metadata": {
    "tags": []
   },
   "outputs": [
    {
     "name": "stdout",
     "output_type": "stream",
     "text": [
      "(328135, 315)\n"
     ]
    }
   ],
   "source": [
    "indices = np.where(stds != 0)\n",
    "data_var = data[:, indices]\n",
    "data_var = np.squeeze(data_var, axis = 1)\n",
    "print(data_var.shape)"
   ]
  },
  {
   "cell_type": "markdown",
   "id": "693df8b2-ed9b-4548-8468-54e6685eaa16",
   "metadata": {
    "tags": []
   },
   "source": [
    "We also remove the 8 first features as the appear weird in the task of predicting a heart attack"
   ]
  },
  {
   "cell_type": "code",
   "execution_count": 5,
   "id": "1d49aa9a-539b-4ab5-9173-2d3b56ea8c9a",
   "metadata": {
    "tags": []
   },
   "outputs": [
    {
     "name": "stdout",
     "output_type": "stream",
     "text": [
      "(328135, 306)\n"
     ]
    }
   ],
   "source": [
    "data_cleaned = data_var[:, 9:]\n",
    "print(data_cleaned.shape)"
   ]
  },
  {
   "cell_type": "markdown",
   "id": "0022b951-01ae-482a-9a91-bdc6878fa522",
   "metadata": {},
   "source": [
    "We then separe the data to train on 60% of the total and to test it on the remaining 40% "
   ]
  },
  {
   "cell_type": "code",
   "execution_count": 47,
   "id": "b8786b70-cd4e-487e-8442-83b524d98912",
   "metadata": {
    "tags": []
   },
   "outputs": [
    {
     "name": "stdout",
     "output_type": "stream",
     "text": [
      "Cross shape : (196881, 306) ; Test shape : (131254, 306)\n"
     ]
    }
   ],
   "source": [
    "train_size = np.floor(data_cleaned.shape[0] * 0.6).astype(int)\n",
    "data_cross = data_cleaned[:train_size, :]\n",
    "pred_cross = pred[:train_size]\n",
    "data_test = data_cleaned[train_size:, :]\n",
    "pred_test = pred[train_size:]\n",
    "print(f\"Cross shape : {data_cross.shape} ; Test shape : {data_test.shape}\")"
   ]
  },
  {
   "cell_type": "markdown",
   "id": "7efc066a-74cb-4e6b-9207-61906787dc92",
   "metadata": {},
   "source": [
    "Now we build our models for linear regression"
   ]
  },
  {
   "cell_type": "code",
   "execution_count": 48,
   "id": "1c4519d9-76e2-4a60-97fe-9a1890f7cf25",
   "metadata": {
    "tags": []
   },
   "outputs": [
    {
     "name": "stdout",
     "output_type": "stream",
     "text": [
      "The data has now 307 features !\n"
     ]
    }
   ],
   "source": [
    "y, tx = build_model_data(data_cross, pred_cross)\n",
    "y_test, tx_test = build_model_data(data_test, pred_test)\n",
    "print(f\"The data has now {tx.shape[1]} features !\")"
   ]
  },
  {
   "cell_type": "markdown",
   "id": "d84cb632-ef6f-4cce-9276-2f95f9f1b903",
   "metadata": {},
   "source": [
    "## Linear regression using gradient descent\n",
    "\n",
    "Here we train our model using GD with MSE"
   ]
  },
  {
   "cell_type": "code",
   "execution_count": 38,
   "id": "0ae0c7fd-20c1-403e-a175-9b348f5cc4a7",
   "metadata": {
    "tags": []
   },
   "outputs": [
    {
     "name": "stdout",
     "output_type": "stream",
     "text": [
      "Execution time 16.369152 seconds\n"
     ]
    }
   ],
   "source": [
    "initial_w = np.zeros(tx.shape[1])\n",
    "max_iters = 100\n",
    "gamma = 0.09\n",
    "\n",
    "start_time = datetime.datetime.now()\n",
    "w, loss = mean_squared_error_gd(y, tx, initial_w, max_iters, gamma)\n",
    "end_time = datetime.datetime.now()\n",
    "print(f\"Execution time {(end_time - start_time).total_seconds()} seconds\")"
   ]
  },
  {
   "cell_type": "markdown",
   "id": "d58cb209",
   "metadata": {},
   "source": [
    "# Logistic gradient descent"
   ]
  },
  {
   "cell_type": "code",
   "execution_count": 39,
   "id": "50ac8f84",
   "metadata": {},
   "outputs": [
    {
     "name": "stdout",
     "output_type": "stream",
     "text": [
      "Execution time 11.295517 seconds\n"
     ]
    }
   ],
   "source": [
    "start_time = datetime.datetime.now()\n",
    "w, loss = logistic_gradient_descent(y, tx, initial_w, gamma=gamma,max_iters=max_iters)\n",
    "end_time = datetime.datetime.now()\n",
    "print(f\"Execution time {(end_time - start_time).total_seconds()} seconds\")"
   ]
  },
  {
   "cell_type": "markdown",
   "id": "c41fde6c-4da2-4e82-bbff-8f67e4f9fd0d",
   "metadata": {},
   "source": [
    "### Computation of metrics\n",
    "\n",
    "We first compute some metrics on the training data (60% of the total data)"
   ]
  },
  {
   "cell_type": "code",
   "execution_count": 55,
   "id": "e49f21d6-55c5-4fbf-ac2e-78a14ff9164b",
   "metadata": {
    "tags": []
   },
   "outputs": [
    {
     "name": "stdout",
     "output_type": "stream",
     "text": [
      "Accuracy: 91.27188504731284%\n",
      "True positive rate: 54.06427221172023%\n",
      "True negative rate: 91.37212760756192%\n",
      "[-3.66218315e-01  6.72298472e-04  6.90413823e-04 -8.42881041e-06\n",
      " -3.71291650e-03  1.08350246e-03 -6.88026430e-03 -5.36582420e-03\n",
      " -9.70325242e-04 -8.08297675e-04 -6.60713404e-04 -3.63713197e-04\n",
      "  4.22154400e-02 -1.64325748e-02 -2.27808670e-03 -4.77903794e-03\n",
      " -3.38872435e-03 -2.15647336e-03 -2.62364995e-03 -5.97217036e-03\n",
      " -3.10990629e-02 -7.91702576e-03 -5.47454065e-03 -1.01307279e-02\n",
      " -1.97834564e-02 -2.09681555e-02 -4.69179538e-03 -7.08114501e-04\n",
      " -8.12309830e-03 -8.16833912e-03 -1.43809033e-02 -1.37126679e-02\n",
      " -4.91205122e-03 -9.89491429e-03 -2.73971311e-02  8.71937537e-04\n",
      " -1.86831734e-02 -3.91166169e-03 -1.04842414e-02  1.75637187e-04\n",
      "  8.54978650e-04  1.67994949e-04  3.79329030e-03 -1.59059424e-02\n",
      "  2.86210219e-02  1.04616696e-02 -7.12712497e-04  1.60460927e-02\n",
      " -4.44613186e-03 -6.03653872e-04  6.22288667e-04 -1.55312456e-02\n",
      " -1.95964126e-02 -6.18420727e-03 -4.54964911e-03 -1.87952942e-02\n",
      " -6.35761562e-03 -8.48354201e-03 -1.06958757e-02  3.65841458e-03\n",
      " -1.57872291e-03 -1.03093525e-04  7.48616862e-04  1.27690219e-02\n",
      "  1.05861245e-04  1.94096584e-03  1.33813596e-04 -1.25392723e-03\n",
      "  3.99867494e-03  2.08643431e-03  6.74031858e-03  1.96515939e-03\n",
      "  1.32183827e-03  6.83648079e-03  2.58345030e-03  1.40759591e-03\n",
      " -6.67576790e-04  3.66514765e-03  1.54203367e-03 -8.69589941e-05\n",
      "  5.00908952e-03 -4.36391862e-03 -5.00134788e-05 -6.38968913e-03\n",
      "  3.68768355e-03  5.24102484e-03 -5.72679455e-03  5.89602199e-05\n",
      " -2.19067852e-03 -1.13248154e-02  3.57584713e-03  3.86401201e-04\n",
      " -2.16292716e-04 -5.56463419e-04 -1.78231177e-03 -2.17256331e-03\n",
      " -1.25629077e-03 -3.80865666e-04  6.37247823e-04  5.00425616e-04\n",
      " -6.01227326e-05 -2.24278816e-04 -7.97824202e-04 -2.79449134e-04\n",
      "  4.17290884e-05  1.52196005e-04  3.80429496e-04  4.14875239e-05\n",
      "  7.39988884e-05  3.12926263e-04 -1.48632660e-04 -1.42296592e-04\n",
      "  8.29080336e-04  1.28766906e-04  1.74256108e-04 -2.77138525e-05\n",
      " -2.21132292e-05 -9.53749651e-05  9.56473919e-06 -1.86896351e-04\n",
      " -4.70467555e-05  3.22770959e-05 -2.44020463e-03 -5.69418510e-04\n",
      " -9.10023723e-04  4.99369976e-06 -5.95866732e-04  7.96987646e-06\n",
      " -1.24091188e-03  1.04293241e-05 -2.46028881e-03  6.66530724e-05\n",
      "  5.40422153e-05 -4.37216756e-05 -2.22015341e-05  3.07088801e-05\n",
      "  3.10008212e-06 -3.73946735e-05  2.91627551e-05  1.23227665e-05\n",
      " -1.87129057e-05  8.05953152e-06 -1.16013369e-05 -2.00108137e-03\n",
      " -5.50577380e-04  2.38053190e-04 -2.33527725e-04 -5.38181539e-05\n",
      "  1.37636401e-03  4.87104712e-05 -6.12482950e-05 -1.52375570e-04\n",
      "  4.58028475e-05  1.39933658e-04  1.46058959e-05  3.08539879e-04\n",
      " -8.50057336e-05  4.57620772e-04  1.01538418e-04  5.46481280e-04\n",
      "  1.10518703e-04  3.39522796e-05 -4.01548573e-04  9.85509586e-05\n",
      "  1.94219535e-04  4.18469919e-04 -1.37902039e-04  2.93240425e-04\n",
      "  5.66013854e-04 -4.80418873e-04  7.34441965e-05  1.73939520e-05\n",
      "  2.98778032e-06 -6.23140191e-05  1.65002505e-04  2.12769635e-05\n",
      "  6.09741715e-05 -2.60038478e-06 -1.39155749e-03 -2.02690659e-03\n",
      "  1.13172897e-04 -2.99677590e-04  5.41950931e-04  1.12198967e-03\n",
      "  1.33206928e-03  7.24806347e-04  1.18871059e-04  9.14011353e-04\n",
      "  4.71768233e-04  1.72026932e-05  1.07327885e-04  1.86527557e-04\n",
      " -2.87831488e-04 -2.45730978e-04 -6.58029172e-04 -7.32890631e-04\n",
      " -5.22446062e-04 -3.05629400e-04 -4.57130245e-04 -1.23927293e-03\n",
      " -7.09424962e-05 -3.85873540e-04 -5.82393547e-03 -4.15730310e-04\n",
      "  3.11359978e-03  3.61879352e-04 -1.61163953e-03 -1.81535631e-03\n",
      " -1.33322130e-03  5.53832259e-03  3.01343510e-04  3.01343510e-04\n",
      " -1.76863546e-04  9.79152157e-04 -4.44008844e-05 -2.82991818e-03\n",
      "  2.88446822e-02  2.46548724e-02  2.57260463e-02 -5.96244188e-03\n",
      "  1.73557705e-02  7.41512216e-03  6.16756847e-03 -5.08478248e-03\n",
      " -2.03163664e-02  4.05909453e-04  5.72974427e-04  7.45092708e-04\n",
      " -1.19956388e-03  4.04317314e-04 -8.48251301e-04 -1.14046093e-03\n",
      "  2.65572797e-02  2.27785908e-02  2.74528673e-02  2.30387455e-02\n",
      "  5.30007462e-03  5.27753965e-03  6.03666276e-03  4.19046679e-03\n",
      "  6.43990261e-03 -2.80645127e-03 -9.01542970e-03 -9.61210091e-03\n",
      " -8.52009372e-03 -7.12134574e-03  1.64152186e-03  3.78025383e-03\n",
      " -1.11788987e-03 -1.82382524e-03 -5.73678748e-04 -9.76885322e-04\n",
      "  3.86837461e-03 -4.44912415e-03  5.43993069e-04 -4.60148670e-03\n",
      " -1.38791188e-03 -1.03883904e-03  4.11113779e-04  3.29273194e-04\n",
      " -9.32838891e-04 -1.11287082e-03 -1.59644929e-03 -2.65499620e-03\n",
      "  1.31122730e-03  1.59550808e-03 -4.93494233e-04 -8.41676730e-04\n",
      "  9.77099110e-04  1.16805980e-03  1.70509038e-03 -1.89790311e-03\n",
      " -2.60119965e-03 -5.73883935e-03 -3.92592595e-03  9.48213368e-03\n",
      "  9.37043504e-04 -2.20267817e-03 -6.15378500e-04  1.98478111e-03\n",
      "  1.49531916e-03 -1.00448117e-03 -9.92948373e-04 -4.55452799e-04\n",
      " -3.02613743e-04  4.97674665e-04  2.40469582e-04  4.20921840e-04\n",
      "  2.57797715e-03  2.54762116e-03  3.39345502e-03  2.73607135e-03\n",
      "  4.10142355e-04  2.16748513e-03  1.50553617e-03 -2.76174803e-04\n",
      "  2.65028818e-04  2.53963081e-03  2.52087108e-04 -6.97149657e-03\n",
      " -1.72995934e-03 -1.05748939e-02  3.57476224e-04  3.71856936e-04\n",
      " -2.23545124e-03 -3.43607791e-03  3.65274311e-03]\n"
     ]
    }
   ],
   "source": [
    "pred_data = np.dot(tx, w)\n",
    "pred_data = (pred_data > 0.49).astype(float)\n",
    "correctly_classified_data = np.sum(pred_data == y)\n",
    "\n",
    "tp = np.sum((pred_data == 1) & (y == 1))\n",
    "fp = np.sum((pred_data == 1) & (y == 0))\n",
    "\n",
    "tn = np.sum((pred_data == 0) & (y == 0))\n",
    "fn = np.sum((pred_data == 0) & (y == 1))\n",
    "\n",
    "accuracy_data = (tp + tn)/(tp + fp + tn + fn)\n",
    "\n",
    "print(f\"Accuracy: {accuracy_data*100}%\")\n",
    "print(f\"True positive rate: {tp/(tp + fp)*100}%\")\n",
    "print(f\"True negative rate: {tn/(tn + fn)*100}%\")\n",
    "print(w)"
   ]
  },
  {
   "cell_type": "markdown",
   "id": "d56d6c6f-feba-49c0-9223-ca63a8d2d8e5",
   "metadata": {},
   "source": [
    "Now we compute some metrics for our test data (40% of the total data)"
   ]
  },
  {
   "cell_type": "code",
   "execution_count": 51,
   "id": "56741a7a-76d9-48fc-8b0a-71dd68b24923",
   "metadata": {
    "tags": []
   },
   "outputs": [
    {
     "ename": "ValueError",
     "evalue": "shapes (131254,307) and (308,) not aligned: 307 (dim 1) != 308 (dim 0)",
     "output_type": "error",
     "traceback": [
      "\u001b[1;31m---------------------------------------------------------------------------\u001b[0m",
      "\u001b[1;31mValueError\u001b[0m                                Traceback (most recent call last)",
      "\u001b[1;32mc:\\Users\\ricca\\OneDrive\\Documenti\\GitHub\\ml-project-1-ker\\code\\mse.ipynb Cell 21\u001b[0m line \u001b[0;36m1\n\u001b[1;32m----> <a href='vscode-notebook-cell:/c%3A/Users/ricca/OneDrive/Documenti/GitHub/ml-project-1-ker/code/mse.ipynb#X24sZmlsZQ%3D%3D?line=0'>1</a>\u001b[0m pred_test \u001b[39m=\u001b[39m np\u001b[39m.\u001b[39mdot(tx_test, w)\n\u001b[0;32m      <a href='vscode-notebook-cell:/c%3A/Users/ricca/OneDrive/Documenti/GitHub/ml-project-1-ker/code/mse.ipynb#X24sZmlsZQ%3D%3D?line=1'>2</a>\u001b[0m pred_test \u001b[39m=\u001b[39m (pred_test \u001b[39m>\u001b[39m \u001b[39m0.49\u001b[39m)\u001b[39m.\u001b[39mastype(\u001b[39mfloat\u001b[39m)\n\u001b[0;32m      <a href='vscode-notebook-cell:/c%3A/Users/ricca/OneDrive/Documenti/GitHub/ml-project-1-ker/code/mse.ipynb#X24sZmlsZQ%3D%3D?line=2'>3</a>\u001b[0m correctly_classified_test \u001b[39m=\u001b[39m np\u001b[39m.\u001b[39msum(pred_test \u001b[39m==\u001b[39m y_test)\n",
      "File \u001b[1;32m<__array_function__ internals>:200\u001b[0m, in \u001b[0;36mdot\u001b[1;34m(*args, **kwargs)\u001b[0m\n",
      "\u001b[1;31mValueError\u001b[0m: shapes (131254,307) and (308,) not aligned: 307 (dim 1) != 308 (dim 0)"
     ]
    }
   ],
   "source": [
    "pred_test = np.dot(tx_test, w)\n",
    "pred_test = (pred_test > 0.49).astype(float)\n",
    "correctly_classified_test = np.sum(pred_test == y_test)\n",
    "\n",
    "tp = np.sum((pred_test == 1) & (y_test == 1))\n",
    "fp = np.sum((pred_test == 1) & (y_test == 0))\n",
    "\n",
    "tn = np.sum((pred_test == 0) & (y_test == 0))\n",
    "fn = np.sum((pred_test == 0) & (y_test == 1))\n",
    "\n",
    "accuracy_test = (tp + tn)/(tp + fp + tn + fn)\n",
    "\n",
    "print(f\"Accuracy: {accuracy_test*100}%\")\n",
    "print(f\"True positive rate: {tp/(tp + fp)*100}%\")\n",
    "print(f\"True negative rate: {tn/(tn + fn)*100}%\")"
   ]
  },
  {
   "cell_type": "code",
   "execution_count": 42,
   "id": "d0293bde",
   "metadata": {},
   "outputs": [
    {
     "name": "stdout",
     "output_type": "stream",
     "text": [
      "The data has now 52 features !\n",
      "Execution time 2.712544 seconds\n",
      "Accuracy: 99.97409602754963%\n",
      "True positive rate: 0.0%\n",
      "True negative rate: 99.98095165530115%\n"
     ]
    }
   ],
   "source": [
    "#filter removing small weights\n",
    "#selecting the weights\n",
    "indices_to_keep = np.where(np.abs(w) > 0.01)[0]\n",
    "weights_filtered = w[indices_to_keep]\n",
    "\n",
    "#removing columns with small weights\n",
    "data_cross_2 = data_cross[:,indices_to_keep]\n",
    "\n",
    "#Build model again\n",
    "y, tx = build_model_data(data_cross_2, pred_cross)\n",
    "data_test_2 = data_test[:,indices_to_keep]\n",
    "y_test, tx_test = build_model_data(data_test_2, pred_test)\n",
    "print(f\"The data has now {tx.shape[1]} features !\")\n",
    "\n",
    "#retest log\n",
    "initial_w = np.zeros(tx.shape[1])\n",
    "start_time = datetime.datetime.now()\n",
    "w, loss = logistic_gradient_descent(y, tx, initial_w, gamma=gamma,max_iters=max_iters)\n",
    "end_time = datetime.datetime.now()\n",
    "print(f\"Execution time {(end_time - start_time).total_seconds()} seconds\")\n",
    "\n",
    "#Metrics\n",
    "pred_test = np.dot(tx_test, w)\n",
    "pred_test = (pred_test > 0.49).astype(float)\n",
    "correctly_classified_test = np.sum(pred_test == y_test)\n",
    "\n",
    "tp = np.sum((pred_test == 1) & (y_test == 1))\n",
    "fp = np.sum((pred_test == 1) & (y_test == 0))\n",
    "\n",
    "tn = np.sum((pred_test == 0) & (y_test == 0))\n",
    "fn = np.sum((pred_test == 0) & (y_test == 1))\n",
    "\n",
    "accuracy_test = (tp + tn)/(tp + fp + tn + fn)\n",
    "\n",
    "print(f\"Accuracy: {accuracy_test*100}%\")\n",
    "print(f\"True positive rate: {tp/(tp + fp)*100}%\")\n",
    "print(f\"True negative rate: {tn/(tn + fn)*100}%\")"
   ]
  },
  {
   "cell_type": "code",
   "execution_count": 53,
   "id": "815a97d1",
   "metadata": {},
   "outputs": [
    {
     "name": "stdout",
     "output_type": "stream",
     "text": [
      "Execution time 10.966218 seconds\n"
     ]
    }
   ],
   "source": [
    "from implementations import regd_logistic_regression\n",
    "start_time = datetime.datetime.now()\n",
    "w = regd_logistic_regression(tx, y,num_iter=100,fit_intercept=False)\n",
    "end_time = datetime.datetime.now()\n",
    "print(f\"Execution time {(end_time - start_time).total_seconds()} seconds\")\n"
   ]
  },
  {
   "cell_type": "markdown",
   "id": "94441704-eea1-42f3-8439-3bdac8b04b43",
   "metadata": {
    "tags": []
   },
   "source": [
    "### Feature analysis"
   ]
  },
  {
   "cell_type": "code",
   "execution_count": 54,
   "id": "15dfe6db-247e-4671-a14d-6ded5d77eb67",
   "metadata": {},
   "outputs": [
    {
     "data": {
      "image/png": "[encoded data removed]",
      "text/plain": [
       "<Figure size 1000x600 with 1 Axes>"
      ]
     },
     "metadata": {},
     "output_type": "display_data"
    }
   ],
   "source": [
    "plt.figure(figsize=(10, 6))\n",
    "plt.bar(range(len(w)), np.abs(w))\n",
    "plt.xlabel('Feature Index')\n",
    "plt.ylabel('Weight Value')\n",
    "plt.title('Feature Weights for Analysis')\n",
    "plt.show()"
   ]
  },
  {
   "cell_type": "markdown",
   "id": "f99b7995-644e-4c1c-84bd-f0a8b39cf767",
   "metadata": {},
   "source": [
    "# **Load the testing data**"
   ]
  },
  {
   "cell_type": "code",
   "execution_count": 17,
   "id": "60c7ad4d-890b-44d6-aacd-9528c03894ce",
   "metadata": {},
   "outputs": [
    {
     "ename": "FileNotFoundError",
     "evalue": "../data/test.csv not found.",
     "output_type": "error",
     "traceback": [
      "\u001b[1;31m---------------------------------------------------------------------------\u001b[0m",
      "\u001b[1;31mFileNotFoundError\u001b[0m                         Traceback (most recent call last)",
      "\u001b[1;32mc:\\Users\\ricca\\OneDrive\\Documenti\\GitHub\\ml-project-1-ker\\code\\mse.ipynb Cell 25\u001b[0m line \u001b[0;36m1\n\u001b[1;32m----> <a href='vscode-notebook-cell:/c%3A/Users/ricca/OneDrive/Documenti/GitHub/ml-project-1-ker/code/mse.ipynb#X31sZmlsZQ%3D%3D?line=0'>1</a>\u001b[0m test_data, test_pred, test_ids \u001b[39m=\u001b[39m load_data(\u001b[39m\"\u001b[39m\u001b[39mtest.csv\u001b[39m\u001b[39m\"\u001b[39m)\n\u001b[0;32m      <a href='vscode-notebook-cell:/c%3A/Users/ricca/OneDrive/Documenti/GitHub/ml-project-1-ker/code/mse.ipynb#X31sZmlsZQ%3D%3D?line=1'>2</a>\u001b[0m \u001b[39mfor\u001b[39;00m i \u001b[39min\u001b[39;00m \u001b[39mrange\u001b[39m(test_data\u001b[39m.\u001b[39mshape[\u001b[39m1\u001b[39m]):\n\u001b[0;32m      <a href='vscode-notebook-cell:/c%3A/Users/ricca/OneDrive/Documenti/GitHub/ml-project-1-ker/code/mse.ipynb#X31sZmlsZQ%3D%3D?line=2'>3</a>\u001b[0m     test_data[:, i] \u001b[39m=\u001b[39m standardize(test_data[:, i])[\u001b[39m0\u001b[39m]\n",
      "File \u001b[1;32mc:\\Users\\ricca\\OneDrive\\Documenti\\GitHub\\ml-project-1-ker\\code\\implementations.py:11\u001b[0m, in \u001b[0;36mload_data\u001b[1;34m(datafile)\u001b[0m\n\u001b[0;32m      9\u001b[0m \u001b[39m\u001b[39m\u001b[39m\"\"\"Load data and convert it to the metric system.\"\"\"\u001b[39;00m\n\u001b[0;32m     10\u001b[0m path_dataset \u001b[39m=\u001b[39m \u001b[39mf\u001b[39m\u001b[39m\"\u001b[39m\u001b[39m../data/\u001b[39m\u001b[39m{\u001b[39;00mdatafile\u001b[39m}\u001b[39;00m\u001b[39m\"\u001b[39m\n\u001b[1;32m---> 11\u001b[0m dataset \u001b[39m=\u001b[39m np\u001b[39m.\u001b[39mgenfromtxt(path_dataset, delimiter\u001b[39m=\u001b[39m\u001b[39m\"\u001b[39m\u001b[39m,\u001b[39m\u001b[39m\"\u001b[39m, skip_header\u001b[39m=\u001b[39m\u001b[39m1\u001b[39m)\n\u001b[0;32m     12\u001b[0m \u001b[39mreturn\u001b[39;00m dataset\n",
      "File \u001b[1;32mc:\\Users\\ricca\\anaconda3\\Lib\\site-packages\\numpy\\lib\\npyio.py:1977\u001b[0m, in \u001b[0;36mgenfromtxt\u001b[1;34m(fname, dtype, comments, delimiter, skip_header, skip_footer, converters, missing_values, filling_values, usecols, names, excludelist, deletechars, replace_space, autostrip, case_sensitive, defaultfmt, unpack, usemask, loose, invalid_raise, max_rows, encoding, ndmin, like)\u001b[0m\n\u001b[0;32m   1975\u001b[0m     fname \u001b[39m=\u001b[39m os_fspath(fname)\n\u001b[0;32m   1976\u001b[0m \u001b[39mif\u001b[39;00m \u001b[39misinstance\u001b[39m(fname, \u001b[39mstr\u001b[39m):\n\u001b[1;32m-> 1977\u001b[0m     fid \u001b[39m=\u001b[39m np\u001b[39m.\u001b[39mlib\u001b[39m.\u001b[39m_datasource\u001b[39m.\u001b[39mopen(fname, \u001b[39m'\u001b[39m\u001b[39mrt\u001b[39m\u001b[39m'\u001b[39m, encoding\u001b[39m=\u001b[39mencoding)\n\u001b[0;32m   1978\u001b[0m     fid_ctx \u001b[39m=\u001b[39m contextlib\u001b[39m.\u001b[39mclosing(fid)\n\u001b[0;32m   1979\u001b[0m \u001b[39melse\u001b[39;00m:\n",
      "File \u001b[1;32mc:\\Users\\ricca\\anaconda3\\Lib\\site-packages\\numpy\\lib\\_datasource.py:193\u001b[0m, in \u001b[0;36mopen\u001b[1;34m(path, mode, destpath, encoding, newline)\u001b[0m\n\u001b[0;32m    156\u001b[0m \u001b[39m\u001b[39m\u001b[39m\"\"\"\u001b[39;00m\n\u001b[0;32m    157\u001b[0m \u001b[39mOpen `path` with `mode` and return the file object.\u001b[39;00m\n\u001b[0;32m    158\u001b[0m \n\u001b[1;32m   (...)\u001b[0m\n\u001b[0;32m    189\u001b[0m \n\u001b[0;32m    190\u001b[0m \u001b[39m\"\"\"\u001b[39;00m\n\u001b[0;32m    192\u001b[0m ds \u001b[39m=\u001b[39m DataSource(destpath)\n\u001b[1;32m--> 193\u001b[0m \u001b[39mreturn\u001b[39;00m ds\u001b[39m.\u001b[39mopen(path, mode, encoding\u001b[39m=\u001b[39mencoding, newline\u001b[39m=\u001b[39mnewline)\n",
      "File \u001b[1;32mc:\\Users\\ricca\\anaconda3\\Lib\\site-packages\\numpy\\lib\\_datasource.py:533\u001b[0m, in \u001b[0;36mDataSource.open\u001b[1;34m(self, path, mode, encoding, newline)\u001b[0m\n\u001b[0;32m    530\u001b[0m     \u001b[39mreturn\u001b[39;00m _file_openers[ext](found, mode\u001b[39m=\u001b[39mmode,\n\u001b[0;32m    531\u001b[0m                               encoding\u001b[39m=\u001b[39mencoding, newline\u001b[39m=\u001b[39mnewline)\n\u001b[0;32m    532\u001b[0m \u001b[39melse\u001b[39;00m:\n\u001b[1;32m--> 533\u001b[0m     \u001b[39mraise\u001b[39;00m \u001b[39mFileNotFoundError\u001b[39;00m(\u001b[39mf\u001b[39m\u001b[39m\"\u001b[39m\u001b[39m{\u001b[39;00mpath\u001b[39m}\u001b[39;00m\u001b[39m not found.\u001b[39m\u001b[39m\"\u001b[39m)\n",
      "\u001b[1;31mFileNotFoundError\u001b[0m: ../data/test.csv not found."
     ]
    }
   ],
   "source": [
    "test_data, test_pred, test_ids = load_data(\"test.csv\")\n",
    "for i in range(test_data.shape[1]):\n",
    "    test_data[:, i] = standardize(test_data[:, i])[0]\n",
    "test_y, test_tx = build_model_data(test_data, test_pred)"
   ]
  },
  {
   "cell_type": "markdown",
   "id": "4df253f4-463a-43da-8623-3ed36f6419b8",
   "metadata": {},
   "source": [
    "### Predict the label with our trained model"
   ]
  },
  {
   "cell_type": "code",
   "execution_count": 112,
   "id": "937e58c4-30d1-4302-834f-0f2b2b051b89",
   "metadata": {
    "tags": []
   },
   "outputs": [],
   "source": [
    "test_y = np.dot(test_tx, w)\n",
    "test_y = (test_y > 0.5).astype(float)"
   ]
  }
 ],
 "metadata": {
  "kernelspec": {
   "display_name": "Python 3 (ipykernel)",
   "language": "python",
   "name": "python3"
  },
  "language_info": {
   "codemirror_mode": {
    "name": "ipython",
    "version": 3
   },
   "file_extension": ".py",
   "mimetype": "text/x-python",
   "name": "python",
   "nbconvert_exporter": "python",
   "pygments_lexer": "ipython3",
   "version": "3.11.3"
  }
 },
 "nbformat": 4,
 "nbformat_minor": 5
}
