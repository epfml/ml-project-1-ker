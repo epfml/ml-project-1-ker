{
 "cells": [
  {
   "cell_type": "code",
   "execution_count": 14,
   "id": "38cfce00-7596-4f51-aa1c-5750258f0d74",
   "metadata": {
    "tags": []
   },
   "outputs": [
    {
     "name": "stdout",
     "output_type": "stream",
     "text": [
      "The autoreload extension is already loaded. To reload it, use:\n",
      "  %reload_ext autoreload\n"
     ]
    }
   ],
   "source": [
    "# Useful starting lines\n",
    "%matplotlib inline\n",
    "import numpy as np\n",
    "import matplotlib.pyplot as plt\n",
    "import datetime\n",
    "\n",
    "import sys\n",
    "\n",
    "sys.path.append('../')\n",
    "\n",
    "from implementations import *\n",
    "\n",
    "%load_ext autoreload\n",
    "%autoreload 2"
   ]
  },
  {
   "cell_type": "markdown",
   "id": "927ddbc4-74dd-4b7e-bc8e-39c4775c6340",
   "metadata": {},
   "source": [
    "# **Load and clean the training data**\n",
    "\n",
    "We load the training data."
   ]
  },
  {
   "cell_type": "code",
   "execution_count": 15,
   "id": "274a0894-6252-4b01-9c74-9b10d37bf93b",
   "metadata": {
    "tags": []
   },
   "outputs": [
    {
     "name": "stdout",
     "output_type": "stream",
     "text": [
      "The data has 328135 samples and 321 features !\n"
     ]
    }
   ],
   "source": [
    "x_train, x_test, y_train, train_ids, test_ids = load_csv_data(\"../data\")\n",
    "\n",
    "print(f\"The data has {x_train.shape[0]} samples and {x_train.shape[1]} features !\")"
   ]
  },
  {
   "cell_type": "markdown",
   "id": "9bf050ed-948b-48e8-a9bb-f852192131ac",
   "metadata": {},
   "source": [
    "For each feature, we clean the data so the values make more sense"
   ]
  },
  {
   "cell_type": "code",
   "execution_count": 63,
   "id": "7b7ed008-fbcd-4534-a414-7db34f64a97c",
   "metadata": {
    "tags": []
   },
   "outputs": [],
   "source": [
    "x_train[:,6] = replace(x_train[:,6], [1100,1200], [1,0])\n",
    "x_train[:,13] = replace(x_train[:,13], [0,1], [1,2])\n",
    "x_train[:,24] = replace(x_train[:,24], [1,2,7,9], [0,1,np.nan,np.nan])\n",
    "x_train[:,25] = replace(x_train[:,25], [77,99], [np.nan,np.nan])\n",
    "x_train[:,26] = replace(x_train[:,26], [2,3,4,5,7,9], [0.75,0.5,0.25,0,np.nan,np.nan])\n",
    "\n",
    "array_1 = [27,28,29]\n",
    "\n",
    "for i in array_1 : \n",
    "    x_train[:,i] = replace(x_train[:,i], [88,77,99], [np.nan,np.nan,np.nan])\n",
    "\n",
    "x_train[:,31] = replace(x_train[:,31], [3,7,9], [0,np.nan,np.nan])\n",
    "\n",
    "array_2 = [30,32,34,35,36,38,39,40,41,42,43,44,45,46,47,48,53,54,55,56,57,61,64,65,66,67,68,69,70,71,72,73,74,87,95,96,100,103,104,107,108,116,117,118]\n",
    "           \n",
    "for i in array_2:\n",
    "    x_train[:,i] = replace(x_train[:,i], [7,9], [np.nan,np.nan])\n",
    "    \n",
    "\n",
    "x_train[:,33] = replace(x_train[:,33], [1,2,3,4,7,8,9], [6,18,42,60,np.nan,120,np.nan])\n",
    "x_train[:,37] = replace(x_train[:,37], [1,2,3,4,7,9], [6,18,42,60,np.nan,np.nan])\n",
    "x_train[:,49] = replace(x_train[:,49], [98,99], [np.nan,np.nan])\n",
    "\n",
    "array_3 = [51,52,58]\n",
    "\n",
    "for i in array_3 : \n",
    "    x_train[:,i] = replace(x_train[:,i], [9], [np.nan])\n",
    "    \n",
    "x_train[:,59] = replace(x_train[:,59], [88,99], [0,np.nan])\n",
    "x_train[:,60] = replace(x_train[:,60], [1,2,3,4,5,6,7,8,77,99] , [5,12.5,17.5,22.5,30,42.5,62.5,75,np.nan,np.nan])\n",
    "\n",
    "x_train[:,62] = replace(x_train[:,62], [7777,9999], [np.nan,np.nan])    \n",
    "x_train[:,62] = list(map(IntoPounds,(x_train[:, 62])))\n",
    "\n",
    "x_train[:,63] = replace(x_train[:,63], [7777,9999], [np.nan,np.nan])    \n",
    "x_train[:,63] = list(map(IntoInches,(x_train[:, 63])))\n",
    "\n",
    "x_train[:,75] = replace(x_train[:,75],[1,2,3,4,5,6,7,8,77,99] , [15,60,135,270,1080,2070,3600,np.nan,np.nan,np.nan])\n",
    "x_train[:,76] = replace(x_train[:,76],[3,7,9] ,[0,np.nan,np.nan])\n",
    "x_train[:,77] = replace(x_train[:,77],[777,888,999] ,[np.nan,0,np.nan])\n",
    "x_train[:,77] = list(map(WeekToMonth,(x_train[:, 77])))\n",
    "\n",
    "\n",
    "array_5 = [78,80,88,91,98,119]\n",
    "\n",
    "for i in array_5 :\n",
    "    x_train[:,i] = replace(x_train[:,i], [77,99], [np.nan,np.nan])\n",
    "    \n",
    "x_train[:,79] = replace(x_train[:,79],[77,88,99] ,[np.nan,0,np.nan])\n",
    "\n",
    "array_6 = [81,82,83,84,85,86]\n",
    "\n",
    "for i in array_6 :\n",
    "    x_train[:,i] = replace(x_train[:,i], [300,555,777,999], [0,0,np.nan,np.nan])\n",
    "    x_train[:,i] = list(map(DayToMonth,(x_train[:, i])))\n",
    "    \n",
    "array_7 = [89,90,92,93] \n",
    "\n",
    "for i in array_7 :\n",
    "    x_train[:,i] = replace(x_train[:,i], [777,999],  [0,0,np.nan,np.nan])\n",
    "\n",
    "x_train[:,89] = list(map(WeekToMonth,(x_train[:, 89])))\n",
    "x_train[:,90] = list(map(HourToMinutes,(x_train[:, 90])))\n",
    "x_train[:,92] = list(map(HourToMinutes,(x_train[:, 92])))\n",
    "\n",
    "array_8 = [94,110,111] \n",
    "\n",
    "for i in array_8 :\n",
    "    x_train[:,i] = replace(x_train[:,i], [777,888,999], [np.nan,0,np.nan])\n",
    "\n",
    "x_train[:,94] = replace(x_train[:,94], [777,888,999], [np.nan,0,np.nan])\n",
    "x_train[:,94] = list(map(WeekToMonth,(x_train[:, 94])))\n",
    "x_train[:,97] = replace(x_train[:,97], [2,3,7,9], [0.5,0,np.nan,np.nan])\n",
    "x_train[:,99] = replace(x_train[:,99], [2,3,4,5,7,8,9], [0.75,0.5,0.25,0,np.nan,np.nan,np.nan])\n",
    "x_train[:,101] = replace(x_train[:,101], [777777, 999999],  [np.nan,np.nan])\n",
    "\n",
    "#x_train[:,101] = list(map(DateType,(x_train[:, 101])))\n",
    "\n",
    "x_train[:,105] = replace(x_train[:,105], [777777, 999999],  [np.nan,np.nan])\n",
    "#x_train[:,105] = list(map(DateType,(x_train[:, 105])))\n",
    "\n",
    "x_train[:,110] = list(map(DayToYear,(x_train[:, 110])))\n",
    "x_train[:,111] = list(map(DayToYear,(x_train[:, 111])))\n",
    "\n",
    "x_train[:,113] = replace(x_train[:,113],[77,88,98,99] ,[np.nan,0,np.nan,np.nan])\n",
    "x_train[:,114] = replace(x_train[:,114],[77,88,99] ,[np.nan,0,np.nan])\n",
    "x_train[:,115] = replace(x_train[:,114],[1,2,3,4,7,8,9] ,[15,180,540,720,np.nan,0,np.nan])"
   ]
  },
  {
   "cell_type": "code",
   "execution_count": 64,
   "id": "a2087698-4d08-49ae-bab1-c8b005d353f9",
   "metadata": {
    "tags": []
   },
   "outputs": [],
   "source": [
    "x_train[:, 240] = replace(x_train[:, 240], [np.nan, 77, 99], [-1, -1, -1])\n",
    "x_train[:, 246] = replace(x_train[:, 246], [np.nan, 14, 1, 2, 3, 4, 5, 6, 7, 8, 9, 10, 11, 12, 13], \n",
    "                          [-1, -1, 21, 27, 32, 37, 42, 47, 52, 57, 62, 67, 72, 77, 90])\n",
    "x_train[:, 247] = replace(x_train[:, 247], [np.nan, 3], [-1, -1])\n",
    "x_train[:, 249] = replace(x_train[:, 249], [np.nan, 1, 2, 3, 4, 5, 6], [-1, 21, 30, 40, 50, 60, 80])\n",
    "\n",
    "\n",
    "x_train[:, 252] = replace(x_train[:, 252], [np.nan, 99999], [np.nan, np.nan])\n",
    "x_train[:, 261] = replace(x_train[:, 261], [np.nan, 7, 9], [-1, -1, -1])\n",
    "x_train[:, 262] = replace(x_train[:, 262], [np.nan, 900], [-1, -1])\n",
    "x_train[:, 298] = replace(x_train[:, 298], [np.nan, 9], [1, 1])\n",
    "\n",
    "rep_one = [241, 242, 243, 244, 255, 256, 257, 258, 259, 260, 263, 265, 278, 279, 284, \n",
    "          305, 306, 307, 308, 309, 310, 311, 312, 313, 314, 315, 316, 317, 318, 319, 320]\n",
    "\n",
    "for i in rep_one : \n",
    "    x_train[:, i] = replace(x_train[:, i], [np.nan, 9], [-1, -1])\n",
    "    \n",
    "rep_two = [245, 254, 289, 290, 291, 292]\n",
    "\n",
    "for i in rep_two : \n",
    "    x_train[:, i] = replace(x_train[:, i], [np.nan], [-1])\n",
    "    \n",
    "\n",
    "x_train[:, 264] = replace(x_train[:, 264], [np.nan, 99900], [-1, -1])\n",
    "x_train[:, 287] = replace(x_train[:, 287], [np.nan, 99900], [-1, -1])\n",
    "x_train[:, 288] = replace(x_train[:, 288], [np.nan, 99900], [-1, -1])\n",
    "\n",
    "x_train[:, 272] = replace(x_train[:, 272], [np.nan], [0])\n",
    "x_train[:, 273] = replace(x_train[:, 273], [np.nan], [0])\n",
    "\n",
    "x_train[:, 274] = replace(x_train[:, 274], [np.nan], [1])\n",
    "x_train[:, 275] = replace(x_train[:, 275], [np.nan], [1])\n",
    "x_train[:, 280] = replace(x_train[:, 280], [np.nan], [1])\n",
    "x_train[:, 281] = replace(x_train[:, 281], [np.nan], [1])\n",
    "\n",
    "x_train[:, 282] = replace(x_train[:, 282], [np.nan], [2])\n",
    "x_train[:, 283] = replace(x_train[:, 283], [np.nan], [2])\n",
    "\n",
    "x_train[:, 293] = replace(x_train[:, 293], [np.nan, 99000], [np.nan, np.nan])\n",
    "x_train[:, 294] = replace(x_train[:, 294], [np.nan, 99000], [np.nan, np.nan])\n",
    "x_train[:, 297] = replace(x_train[:, 297], [np.nan, 99000], [np.nan, np.nan])"
   ]
  },
  {
   "cell_type": "markdown",
   "id": "878ab50a-2f67-4ebb-9851-fa7b7b380886",
   "metadata": {},
   "source": [
    "We then clean the data by : \n",
    "- removing the nan values by the mean of the rest of the feature\n",
    "- removing the features where the variance is zero since they are constants for all samples\n",
    "- remove the 8 first features as the appear weird in the task of predicting a heart attack"
   ]
  },
  {
   "cell_type": "code",
   "execution_count": 18,
   "id": "25233d7f-4aad-48dc-bd76-d57c1d5729ca",
   "metadata": {
    "tags": []
   },
   "outputs": [
    {
     "name": "stdout",
     "output_type": "stream",
     "text": [
      "The data has now 30 features !\n"
     ]
    }
   ],
   "source": [
    "x_train, zero_var_features = gen_clean(x_train)\n",
    "print(f\"The data has now {x_train.shape[1]} features !\")"
   ]
  },
  {
   "cell_type": "markdown",
   "id": "ee7f994c-a3c9-4724-9ba1-bbf2983b59bd",
   "metadata": {},
   "source": [
    "# PCA algorithm"
   ]
  },
  {
   "cell_type": "code",
   "execution_count": 66,
   "id": "927ca9cb-c2f3-46f6-86e2-6a5fa69921e4",
   "metadata": {
    "tags": []
   },
   "outputs": [
    {
     "name": "stdout",
     "output_type": "stream",
     "text": [
      "We can keep the 124 first most influent features given by pca_indices\n"
     ]
    }
   ],
   "source": [
    "pca_indices, idx = pca(x_train)\n",
    "print(f\"We can keep the {idx} first most influent features given by pca_indices\")"
   ]
  },
  {
   "cell_type": "code",
   "execution_count": 67,
   "id": "74cb4289-08fe-4c75-8875-5548ce811eba",
   "metadata": {
    "tags": []
   },
   "outputs": [
    {
     "name": "stdout",
     "output_type": "stream",
     "text": [
      "The data has now 125 features\n"
     ]
    }
   ],
   "source": [
    "x_train_pca = x_train[:, pca_indices]\n",
    "x_train_pca = x_train_pca[:, :(idx + 1)]\n",
    "print(f\"The data has now {x_train_pca.shape[1]} features\")"
   ]
  },
  {
   "cell_type": "markdown",
   "id": "b987fd32-f92b-4f37-a937-e86403b5e587",
   "metadata": {},
   "source": [
    "# Linear regression \n",
    "\n",
    "We train our model using linear regression with mean-square error.\n",
    "\n",
    "First, we separate our data in a training set(70%) and testing set(30%)."
   ]
  },
  {
   "cell_type": "code",
   "execution_count": 19,
   "id": "b8786b70-cd4e-487e-8442-83b524d98912",
   "metadata": {
    "tags": []
   },
   "outputs": [
    {
     "name": "stdout",
     "output_type": "stream",
     "text": [
      "tx_tr shape : (229694, 30) ; tx_te shape : (98441, 30)\n",
      "       y_tr : (229694,)     ;        y_te : (98441,)\n"
     ]
    }
   ],
   "source": [
    "tx_tr, tx_te, y_tr, y_te = cross(x_train_pca, y_train, 0.7)\n",
    "\n",
    "print(f\"tx_tr shape : {tx_tr.shape} ; tx_te shape : {tx_te.shape}\")\n",
    "print(f\"       y_tr : {y_tr.shape}     ;        y_te : {y_te.shape}\")"
   ]
  },
  {
   "cell_type": "markdown",
   "id": "7efc066a-74cb-4e6b-9207-61906787dc92",
   "metadata": {},
   "source": [
    "Now we build our models for linear regression"
   ]
  },
  {
   "cell_type": "code",
   "execution_count": 20,
   "id": "1c4519d9-76e2-4a60-97fe-9a1890f7cf25",
   "metadata": {
    "tags": []
   },
   "outputs": [
    {
     "name": "stdout",
     "output_type": "stream",
     "text": [
      "The data has now 31 features !\n"
     ]
    }
   ],
   "source": [
    "y, tx = build_model_data(tx_tr, y_tr)\n",
    "y_test, tx_test = build_model_data(tx_te, y_te)\n",
    "print(f\"The data has now {tx.shape[1]} features !\")"
   ]
  },
  {
   "cell_type": "markdown",
   "id": "d84cb632-ef6f-4cce-9276-2f95f9f1b903",
   "metadata": {},
   "source": [
    "## Training\n",
    "\n",
    "Here we train our model using GD with MSE"
   ]
  },
  {
   "cell_type": "code",
   "execution_count": 21,
   "id": "0ae0c7fd-20c1-403e-a175-9b348f5cc4a7",
   "metadata": {
    "tags": []
   },
   "outputs": [
    {
     "name": "stdout",
     "output_type": "stream",
     "text": [
      "Execution time 1.146954 seconds\n"
     ]
    }
   ],
   "source": [
    "initial_w = np.zeros(tx.shape[1])\n",
    "max_iters = 100\n",
    "gamma = 0.09\n",
    "\n",
    "start_time = datetime.datetime.now()\n",
    "w, loss = mean_squared_error_gd(y, tx, initial_w, max_iters, gamma)\n",
    "end_time = datetime.datetime.now()\n",
    "print(f\"Execution time {(end_time - start_time).total_seconds()} seconds\")"
   ]
  },
  {
   "cell_type": "markdown",
   "id": "c41fde6c-4da2-4e82-bbff-8f67e4f9fd0d",
   "metadata": {},
   "source": [
    "### Computation of metrics\n",
    "\n",
    "We first compute some metrics on the training data (60% of the total data)"
   ]
  },
  {
   "cell_type": "code",
   "execution_count": 22,
   "id": "e49f21d6-55c5-4fbf-ac2e-78a14ff9164b",
   "metadata": {
    "tags": []
   },
   "outputs": [
    {
     "name": "stdout",
     "output_type": "stream",
     "text": [
      "Accuracy: 91.20090206971014%\n",
      "Precision: 43.333333333333336%\n",
      "Recall : 0.0643341416340872%\n",
      "F1-score : 0.12847754113752038%\n"
     ]
    }
   ],
   "source": [
    "pred_data = np.dot(tx, w)\n",
    "\n",
    "pred_data[pred_data > 0] = 1\n",
    "pred_data[pred_data < 0] = -1\n",
    "\n",
    "correctly_classified_data = np.sum(pred_data == y)\n",
    "\n",
    "tp = np.sum((pred_data == 1) & (y == 1))\n",
    "fp = np.sum((pred_data == 1) & (y == -1))\n",
    "\n",
    "tn = np.sum((pred_data == -1) & (y == -1))\n",
    "fn = np.sum((pred_data == -1) & (y == 1))\n",
    "\n",
    "accuracy_data = (tp + tn)/(tp + fp + tn + fn)\n",
    "\n",
    "print(f\"Accuracy: {accuracy_data*100}%\")\n",
    "print(f\"Precision: {tp/(tp + fp)*100}%\")\n",
    "print(f\"Recall : {tp/(tp + fn)*100}%\")\n",
    "print(f\"F1-score : {tp/(tp + 0.5*(fn + fp))*100}%\")"
   ]
  },
  {
   "cell_type": "markdown",
   "id": "d56d6c6f-feba-49c0-9223-ca63a8d2d8e5",
   "metadata": {},
   "source": [
    "Now we compute some metrics for our test data (40% of the total data)"
   ]
  },
  {
   "cell_type": "code",
   "execution_count": 23,
   "id": "56741a7a-76d9-48fc-8b0a-71dd68b24923",
   "metadata": {
    "tags": []
   },
   "outputs": [
    {
     "name": "stdout",
     "output_type": "stream",
     "text": [
      "Accuracy: 91.09009457441513%\n",
      "Precision: 40.0%\n",
      "Recall : 0.06843065693430657%\n",
      "F1-score : 0.13662757599908915%\n"
     ]
    }
   ],
   "source": [
    "pred_test = np.dot(tx_test, w)\n",
    "\n",
    "pred_test[pred_test > 0] = 1\n",
    "pred_test[pred_test < 0] = -1\n",
    "\n",
    "correctly_classified_test = np.sum(pred_test == y_test)\n",
    "\n",
    "tp = np.sum((pred_test == 1) & (y_test == 1))\n",
    "fp = np.sum((pred_test == 1) & (y_test == -1))\n",
    "\n",
    "tn = np.sum((pred_test == -1) & (y_test == -1))\n",
    "fn = np.sum((pred_test == -1) & (y_test == 1))\n",
    "\n",
    "accuracy_test = (tp + tn)/(tp + fp + tn + fn)\n",
    "\n",
    "print(f\"Accuracy: {accuracy_test*100}%\")\n",
    "print(f\"Precision: {tp/(tp + fp)*100}%\")\n",
    "print(f\"Recall : {tp/(tp + fn)*100}%\")\n",
    "print(f\"F1-score : {tp/(tp + 0.5*(fn + fp))*100}%\")"
   ]
  },
  {
   "cell_type": "markdown",
   "id": "94441704-eea1-42f3-8439-3bdac8b04b43",
   "metadata": {
    "tags": []
   },
   "source": [
    "### Feature analysis"
   ]
  },
  {
   "cell_type": "code",
   "execution_count": 24,
   "id": "15dfe6db-247e-4671-a14d-6ded5d77eb67",
   "metadata": {
    "tags": []
   },
   "outputs": [
    {
     "data": {
      "image/png": "[encoded data removed]",
      "text/plain": [
       "<Figure size 1000x1000 with 1 Axes>"
      ]
     },
     "metadata": {},
     "output_type": "display_data"
    }
   ],
   "source": [
    "plt.figure(figsize=(10, 10))\n",
    "plt.bar(range(len(w)), np.abs(w))\n",
    "plt.yscale('log')\n",
    "plt.xlabel('Feature Index')\n",
    "plt.ylabel('Weight Value')\n",
    "plt.title('Feature Weights for Analysis')\n",
    "plt.show()"
   ]
  },
  {
   "cell_type": "markdown",
   "id": "41da9cb0-b695-4e90-88bb-ff6b638601a7",
   "metadata": {},
   "source": [
    "# **Prediction on test data**"
   ]
  },
  {
   "cell_type": "code",
   "execution_count": 137,
   "id": "05fddb54-26cc-4208-b93b-77f0f4413428",
   "metadata": {
    "tags": []
   },
   "outputs": [
    {
     "name": "stdout",
     "output_type": "stream",
     "text": [
      "Execution time 2.531962 seconds\n"
     ]
    }
   ],
   "source": [
    "start_time = datetime.datetime.now()\n",
    "\n",
    "data_te = np.ones(x_test.shape)\n",
    "\n",
    "for i in range(data_te.shape[1]):\n",
    "    d, _ = standardize_clean(x_test[:, i])\n",
    "    data_te[:, i] = d\n",
    "    \n",
    "data_var_te = data_te[:, zero_var_features]\n",
    "data_var_te = np.squeeze(data_var_te, axis = 1)\n",
    "data_cleaned_te = data_var_te[:, 9:]\n",
    "\n",
    "data_test = data_cleaned_te[:, pca_indices]\n",
    "data_test = data_test[:, :(idx + 1)]\n",
    "\n",
    "end_time = datetime.datetime.now()\n",
    "print(f\"Execution time {(end_time - start_time).total_seconds()} seconds\")"
   ]
  },
  {
   "cell_type": "code",
   "execution_count": 131,
   "id": "fa75846c-b7fe-4653-be48-c35cbbeb3182",
   "metadata": {
    "tags": []
   },
   "outputs": [
    {
     "name": "stdout",
     "output_type": "stream",
     "text": [
      "(109379, 140)\n"
     ]
    }
   ],
   "source": [
    "tx_te = np.c_[np.ones(data_test.shape[0]), data_test]\n",
    "print(tx_te.shape)"
   ]
  },
  {
   "cell_type": "code",
   "execution_count": 132,
   "id": "942c2d86-3ad3-480d-a273-a1f9d602d376",
   "metadata": {
    "tags": []
   },
   "outputs": [
    {
     "name": "stdout",
     "output_type": "stream",
     "text": [
      "(109379,)\n"
     ]
    }
   ],
   "source": [
    "y_te = np.dot(tx_te, w)\n",
    "print(y_te.shape)"
   ]
  },
  {
   "cell_type": "code",
   "execution_count": 138,
   "id": "6e9be53f-59f0-435a-a947-3220f591ed51",
   "metadata": {
    "tags": []
   },
   "outputs": [],
   "source": [
    "pred_te = y_te\n",
    "\n",
    "pred_te[pred_te > 0] = 1\n",
    "pred_te[pred_te < 0] = -1\n",
    "\n",
    "indices_one = np.where(pred_te == 1)"
   ]
  },
  {
   "cell_type": "code",
   "execution_count": 139,
   "id": "acdc5625-0f08-4c54-8bbf-543514ae44c4",
   "metadata": {
    "tags": []
   },
   "outputs": [],
   "source": [
    "create_csv_submission(test_ids, pred_te, \"../data/lin_reg.csv\")"
   ]
  }
 ],
 "metadata": {
  "kernelspec": {
   "display_name": "Python 3 (ipykernel)",
   "language": "python",
   "name": "python3"
  },
  "language_info": {
   "codemirror_mode": {
    "name": "ipython",
    "version": 3
   },
   "file_extension": ".py",
   "mimetype": "text/x-python",
   "name": "python",
   "nbconvert_exporter": "python",
   "pygments_lexer": "ipython3",
   "version": "3.11.4"
  }
 },
 "nbformat": 4,
 "nbformat_minor": 5
}
